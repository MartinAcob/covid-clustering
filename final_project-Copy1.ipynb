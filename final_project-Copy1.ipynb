{
 "cells": [
  {
   "cell_type": "markdown",
   "metadata": {},
   "source": [
    "Martin Acob\n",
    "<br/>\n",
    "Professor Fitzgerald\n",
    "<br/>\n",
    "Stat 196K\n",
    "<br/>\n",
    "14 May 2021"
   ]
  },
  {
   "cell_type": "markdown",
   "metadata": {},
   "source": [
    "<h1/><center/> Final Project: Clustering Covid Data"
   ]
  },
  {
   "cell_type": "markdown",
   "metadata": {},
   "source": [
    "<h3/> Introduction"
   ]
  },
  {
   "cell_type": "markdown",
   "metadata": {},
   "source": [
    "<font size=\"3\"/> In the year 2020, both the COVID-19 and president election was happening. Between the Republican candidate ( President Trump), Democratic candidate (President Biden), and their followers had differing opinions on wearing masks and the covid vaccine. Those who were generally against wearing masks and the vaccine were supporters of President Trump. During this pandemic plenty of data is collected and can do many interesting analysis on all of this data. For this final project I want to answer the question, \"Are counties that are more democratic or more republican more likely to wear a mask and receive the vaccine?\" This idea was first presented by Professor Fitzgerald and I wanted to follow up on it."
   ]
  },
  {
   "cell_type": "markdown",
   "metadata": {},
   "source": [
    "<h3> Method"
   ]
  },
  {
   "cell_type": "markdown",
   "metadata": {},
   "source": [
    "<font size=\"3\"/>To answer this question, I decided to use the concepts learned from class on the database (AWS Athena), Julia programming, dimension reduction(PCA), and clustering(Kmeans). Through AWS Athena, I wanted to add on to the existing covid database created created by Facebook surveys with number of votes per candidate, income, and population in a county level. AWS Glue will also be used for its crawling features to make faster queries. To help determine whether counties accept the covid vaccine and wearing masks, two signals from the Facebook survey will be used. The 'smoothed_waccept_covid_vaccine' and 'smoothed_wwearing_mask'. Then PCA will be applied the the numerical data and will be applied to KMeans with 2 clusters. "
   ]
  },
  {
   "cell_type": "markdown",
   "metadata": {},
   "source": [
    "<h3> Data"
   ]
  },
  {
   "cell_type": "markdown",
   "metadata": {},
   "source": [
    "County level election Result: https://github.com/tonmcg/US_County_Level_Election_Results_08-20/blob/master/2020_US_County_Level_Presidential_Results.csv"
   ]
  },
  {
   "cell_type": "markdown",
   "metadata": {},
   "source": [
    "Income and Population: https://www.ers.usda.gov/data-products/county-level-data-sets/download-data/"
   ]
  },
  {
   "cell_type": "code",
   "execution_count": 2,
   "metadata": {},
   "outputs": [],
   "source": [
    "import Clustering\n",
    "\n",
    "using MultivariateStats\n",
    "using Plots\n",
    "using CSV\n",
    "using DataFrames"
   ]
  },
  {
   "cell_type": "markdown",
   "metadata": {},
   "source": [
    "<h3> SQL Query"
   ]
  },
  {
   "cell_type": "code",
   "execution_count": null,
   "metadata": {},
   "outputs": [],
   "source": [
    "SELECT state_name, county_fips, county_name, val_acc_vacc, val_wearing_mask, votes_gop, votes_dem, total_votes, per_gop, \n",
    "    per_dem, population, income\n",
    "FROM \n",
    "(SELECT state_name, county_fips, county_name, value AS val_acc_vacc, votes_gop, votes_dem, total_votes, per_gop, per_dem, \n",
    "    pop_estimate_2019 AS population, median_household_income_2019 AS income\n",
    "FROM covid, final_data, income_data, pop_data\n",
    "WHERE covid.geo_type= 'county'\n",
    "AND signal = 'smoothed_waccept_covid_vaccine'\n",
    "AND CAST(covid.geo_value AS int) = CAST(final_data.county_fips AS int)\n",
    "AND CAST(covid.geo_value AS int) = CAST(income_data.fips_txt AS int)\n",
    "AND CAST(covid.geo_value AS int) = CAST(pop_data.FIPStxt AS int)\n",
    "AND time_value = 20210101) AS acc_vacc(state_name, county_fips, county_name, val_acc_vacc, votes_gop, votes_dem, \n",
    "    total_votes, per_gop, per_dem, population, income)\n",
    "JOIN\n",
    "(SELECT geo_value, value AS val_wearing_mask\n",
    "FROM covid\n",
    "WHERE geo_type = 'county' \n",
    "AND signal = 'smoothed_wwearing_mask'\n",
    "AND time_value = 20210101) AS wear_mask(geo_value, val_wearing_mask)\n",
    "ON CAST(acc_vacc.county_fips AS int) = CAST(wear_mask.geo_value AS int)"
   ]
  },
  {
   "cell_type": "markdown",
   "metadata": {},
   "source": [
    "<font size=\"3\"/> Csv file created from the query."
   ]
  },
  {
   "cell_type": "code",
   "execution_count": 3,
   "metadata": {
    "scrolled": true
   },
   "outputs": [
    {
     "data": {
      "text/plain": [
       "(594, 12)"
      ]
     },
     "execution_count": 3,
     "metadata": {},
     "output_type": "execute_result"
    }
   ],
   "source": [
    "df = DataFrame(CSV.File(\"final_data.csv\"))\n",
    "size(df)"
   ]
  },
  {
   "cell_type": "code",
   "execution_count": 242,
   "metadata": {
    "scrolled": true
   },
   "outputs": [
    {
     "data": {
      "text/plain": [
       "(50,)"
      ]
     },
     "execution_count": 242,
     "metadata": {},
     "output_type": "execute_result"
    }
   ],
   "source": [
    "size(unique(df.state_name))"
   ]
  },
  {
   "cell_type": "markdown",
   "metadata": {},
   "source": [
    "<font size=\"3\"/> Biggest percentage of Republican candidate vote by county."
   ]
  },
  {
   "cell_type": "code",
   "execution_count": 249,
   "metadata": {
    "scrolled": true
   },
   "outputs": [
    {
     "data": {
      "text/html": [
       "<p>DataFrameRow (6 columns)</p><table class=\"data-frame\"><thead><tr><th></th><th>state_name</th><th>county_fips</th><th>county_name</th><th>val_acc_vacc</th><th>val_wearing_mask</th><th>votes_gop</th></tr><tr><th></th><th>String</th><th>Int64</th><th>String</th><th>Float64</th><th>Float64</th><th>Int64</th></tr></thead><tbody><tr><th>382</th><td>Louisiana</td><td>22063</td><td>Livingston Parish</td><td>51.3556</td><td>73.0268</td><td>54877</td></tr></tbody></table>"
      ],
      "text/latex": [
       "\\begin{tabular}{r|cccccc}\n",
       "\t& state\\_name & county\\_fips & county\\_name & val\\_acc\\_vacc & val\\_wearing\\_mask & votes\\_gop\\\\\n",
       "\t\\hline\n",
       "\t& String & Int64 & String & Float64 & Float64 & Int64\\\\\n",
       "\t\\hline\n",
       "\t382 & Louisiana & 22063 & Livingston Parish & 51.3556 & 73.0268 & 54877 \\\\\n",
       "\\end{tabular}\n"
      ],
      "text/plain": [
       "\u001b[1mDataFrameRow\u001b[0m\n",
       "\u001b[1m Row \u001b[0m│\u001b[1m state_name \u001b[0m\u001b[1m county_fips \u001b[0m\u001b[1m county_name       \u001b[0m\u001b[1m val_acc_vacc \u001b[0m\u001b[1m val_wearing_m\u001b[0m ⋯\n",
       "\u001b[1m     \u001b[0m│\u001b[90m String     \u001b[0m\u001b[90m Int64       \u001b[0m\u001b[90m String            \u001b[0m\u001b[90m Float64      \u001b[0m\u001b[90m Float64      \u001b[0m ⋯\n",
       "─────┼──────────────────────────────────────────────────────────────────────────\n",
       " 382 │ Louisiana         22063  Livingston Parish       51.3556           73.0 ⋯\n",
       "\u001b[36m                                                               2 columns omitted\u001b[0m"
      ]
     },
     "execution_count": 249,
     "metadata": {},
     "output_type": "execute_result"
    }
   ],
   "source": [
    "df[findmax(df.per_gop)[2],1:6]"
   ]
  },
  {
   "cell_type": "code",
   "execution_count": 250,
   "metadata": {
    "scrolled": false
   },
   "outputs": [
    {
     "data": {
      "text/html": [
       "<p>DataFrameRow (6 columns)</p><table class=\"data-frame\"><thead><tr><th></th><th>votes_dem</th><th>total_votes</th><th>per_gop</th><th>per_dem</th><th>population</th><th>income</th></tr><tr><th></th><th>Int64</th><th>Int64</th><th>Float64</th><th>Float64</th><th>Int64</th><th>Int64</th></tr></thead><tbody><tr><th>382</th><td>9249</td><td>65230</td><td>0.841285</td><td>0.141791</td><td>140789</td><td>63852</td></tr></tbody></table>"
      ],
      "text/latex": [
       "\\begin{tabular}{r|cccccc}\n",
       "\t& votes\\_dem & total\\_votes & per\\_gop & per\\_dem & population & income\\\\\n",
       "\t\\hline\n",
       "\t& Int64 & Int64 & Float64 & Float64 & Int64 & Int64\\\\\n",
       "\t\\hline\n",
       "\t382 & 9249 & 65230 & 0.841285 & 0.141791 & 140789 & 63852 \\\\\n",
       "\\end{tabular}\n"
      ],
      "text/plain": [
       "\u001b[1mDataFrameRow\u001b[0m\n",
       "\u001b[1m Row \u001b[0m│\u001b[1m votes_dem \u001b[0m\u001b[1m total_votes \u001b[0m\u001b[1m per_gop  \u001b[0m\u001b[1m per_dem  \u001b[0m\u001b[1m population \u001b[0m\u001b[1m income \u001b[0m\n",
       "\u001b[1m     \u001b[0m│\u001b[90m Int64     \u001b[0m\u001b[90m Int64       \u001b[0m\u001b[90m Float64  \u001b[0m\u001b[90m Float64  \u001b[0m\u001b[90m Int64      \u001b[0m\u001b[90m Int64  \u001b[0m\n",
       "─────┼────────────────────────────────────────────────────────────────\n",
       " 382 │      9249        65230  0.841285  0.141791      140789   63852"
      ]
     },
     "execution_count": 250,
     "metadata": {},
     "output_type": "execute_result"
    }
   ],
   "source": [
    "df[findmax(df.per_gop)[2],7:end]"
   ]
  },
  {
   "cell_type": "markdown",
   "metadata": {},
   "source": [
    "<font size=\"3\"/> Biggest percentage of Democratic candidate vote by county."
   ]
  },
  {
   "cell_type": "code",
   "execution_count": 251,
   "metadata": {
    "scrolled": false
   },
   "outputs": [
    {
     "data": {
      "text/html": [
       "<p>DataFrameRow (6 columns)</p><table class=\"data-frame\"><thead><tr><th></th><th>state_name</th><th>county_fips</th><th>county_name</th><th>val_acc_vacc</th><th>val_wearing_mask</th></tr><tr><th></th><th>String</th><th>Int64</th><th>String</th><th>Float64</th><th>Float64</th></tr></thead><tbody><tr><th>228</th><td>District of Columbia</td><td>11001</td><td>District of Columbia</td><td>82.9401</td><td>97.0779</td></tr></tbody></table>"
      ],
      "text/latex": [
       "\\begin{tabular}{r|cccccc}\n",
       "\t& state\\_name & county\\_fips & county\\_name & val\\_acc\\_vacc & val\\_wearing\\_mask & \\\\\n",
       "\t\\hline\n",
       "\t& String & Int64 & String & Float64 & Float64 & \\\\\n",
       "\t\\hline\n",
       "\t228 & District of Columbia & 11001 & District of Columbia & 82.9401 & 97.0779 & $\\dots$ \\\\\n",
       "\\end{tabular}\n"
      ],
      "text/plain": [
       "\u001b[1mDataFrameRow\u001b[0m\n",
       "\u001b[1m Row \u001b[0m│\u001b[1m state_name           \u001b[0m\u001b[1m county_fips \u001b[0m\u001b[1m county_name          \u001b[0m\u001b[1m val_acc_vacc \u001b[0m\u001b[1m \u001b[0m ⋯\n",
       "\u001b[1m     \u001b[0m│\u001b[90m String               \u001b[0m\u001b[90m Int64       \u001b[0m\u001b[90m String               \u001b[0m\u001b[90m Float64      \u001b[0m\u001b[90m \u001b[0m ⋯\n",
       "─────┼──────────────────────────────────────────────────────────────────────────\n",
       " 228 │ District of Columbia        11001  District of Columbia       82.9401   ⋯\n",
       "\u001b[36m                                                               2 columns omitted\u001b[0m"
      ]
     },
     "execution_count": 251,
     "metadata": {},
     "output_type": "execute_result"
    }
   ],
   "source": [
    "df[findmax(df.per_dem)[2],1:6]"
   ]
  },
  {
   "cell_type": "code",
   "execution_count": 236,
   "metadata": {
    "scrolled": false
   },
   "outputs": [
    {
     "data": {
      "text/html": [
       "<p>DataFrameRow (6 columns)</p><table class=\"data-frame\"><thead><tr><th></th><th>votes_dem</th><th>total_votes</th><th>per_gop</th><th>per_dem</th><th>population</th><th>income</th></tr><tr><th></th><th>Int64</th><th>Int64</th><th>Float64</th><th>Float64</th><th>Int64</th><th>Int64</th></tr></thead><tbody><tr><th>228</th><td>317323</td><td>344356</td><td>0.0539732</td><td>0.921497</td><td>705749</td><td>90395</td></tr></tbody></table>"
      ],
      "text/latex": [
       "\\begin{tabular}{r|cccccc}\n",
       "\t& votes\\_dem & total\\_votes & per\\_gop & per\\_dem & population & income\\\\\n",
       "\t\\hline\n",
       "\t& Int64 & Int64 & Float64 & Float64 & Int64 & Int64\\\\\n",
       "\t\\hline\n",
       "\t228 & 317323 & 344356 & 0.0539732 & 0.921497 & 705749 & 90395 \\\\\n",
       "\\end{tabular}\n"
      ],
      "text/plain": [
       "\u001b[1mDataFrameRow\u001b[0m\n",
       "\u001b[1m Row \u001b[0m│\u001b[1m votes_dem \u001b[0m\u001b[1m total_votes \u001b[0m\u001b[1m per_gop   \u001b[0m\u001b[1m per_dem  \u001b[0m\u001b[1m population \u001b[0m\u001b[1m income \u001b[0m\n",
       "\u001b[1m     \u001b[0m│\u001b[90m Int64     \u001b[0m\u001b[90m Int64       \u001b[0m\u001b[90m Float64   \u001b[0m\u001b[90m Float64  \u001b[0m\u001b[90m Int64      \u001b[0m\u001b[90m Int64  \u001b[0m\n",
       "─────┼─────────────────────────────────────────────────────────────────\n",
       " 228 │    317323       344356  0.0539732  0.921497      705749   90395"
      ]
     },
     "execution_count": 236,
     "metadata": {},
     "output_type": "execute_result"
    }
   ],
   "source": [
    "df[findmax(df.per_dem)[2],7:end]"
   ]
  },
  {
   "cell_type": "markdown",
   "metadata": {},
   "source": [
    "<font size=\"3\"> Creating new dataframe with only numerical data for PCA."
   ]
  },
  {
   "cell_type": "code",
   "execution_count": 17,
   "metadata": {
    "scrolled": false
   },
   "outputs": [
    {
     "data": {
      "image/svg+xml": [
       "<?xml version=\"1.0\" encoding=\"utf-8\"?>\n",
       "<svg xmlns=\"http://www.w3.org/2000/svg\" xmlns:xlink=\"http://www.w3.org/1999/xlink\" width=\"600\" height=\"400\" viewBox=\"0 0 2400 1600\">\n",
       "<defs>\n",
       "  <clipPath id=\"clip880\">\n",
       "    <rect x=\"0\" y=\"0\" width=\"2400\" height=\"1600\"/>\n",
       "  </clipPath>\n",
       "</defs>\n",
       "<path clip-path=\"url(#clip880)\" d=\"\n",
       "M0 1600 L2400 1600 L2400 0 L0 0  Z\n",
       "  \" fill=\"#ffffff\" fill-rule=\"evenodd\" fill-opacity=\"1\"/>\n",
       "<defs>\n",
       "  <clipPath id=\"clip881\">\n",
       "    <rect x=\"480\" y=\"0\" width=\"1681\" height=\"1600\"/>\n",
       "  </clipPath>\n",
       "</defs>\n",
       "<path clip-path=\"url(#clip880)\" d=\"\n",
       "M219.542 1423.18 L2352.76 1423.18 L2352.76 123.472 L219.542 123.472  Z\n",
       "  \" fill=\"#ffffff\" fill-rule=\"evenodd\" fill-opacity=\"1\"/>\n",
       "<defs>\n",
       "  <clipPath id=\"clip882\">\n",
       "    <rect x=\"219\" y=\"123\" width=\"2134\" height=\"1301\"/>\n",
       "  </clipPath>\n",
       "</defs>\n",
       "<polyline clip-path=\"url(#clip882)\" style=\"stroke:#000000; stroke-width:2; stroke-opacity:0.1; fill:none\" points=\"\n",
       "  578.943,1423.18 578.943,123.472 \n",
       "  \"/>\n",
       "<polyline clip-path=\"url(#clip882)\" style=\"stroke:#000000; stroke-width:2; stroke-opacity:0.1; fill:none\" points=\"\n",
       "  1120.66,1423.18 1120.66,123.472 \n",
       "  \"/>\n",
       "<polyline clip-path=\"url(#clip882)\" style=\"stroke:#000000; stroke-width:2; stroke-opacity:0.1; fill:none\" points=\"\n",
       "  1662.39,1423.18 1662.39,123.472 \n",
       "  \"/>\n",
       "<polyline clip-path=\"url(#clip882)\" style=\"stroke:#000000; stroke-width:2; stroke-opacity:0.1; fill:none\" points=\"\n",
       "  2204.11,1423.18 2204.11,123.472 \n",
       "  \"/>\n",
       "<polyline clip-path=\"url(#clip880)\" style=\"stroke:#000000; stroke-width:4; stroke-opacity:1; fill:none\" points=\"\n",
       "  219.542,1423.18 2352.76,1423.18 \n",
       "  \"/>\n",
       "<polyline clip-path=\"url(#clip880)\" style=\"stroke:#000000; stroke-width:4; stroke-opacity:1; fill:none\" points=\"\n",
       "  578.943,1423.18 578.943,1407.58 \n",
       "  \"/>\n",
       "<polyline clip-path=\"url(#clip880)\" style=\"stroke:#000000; stroke-width:4; stroke-opacity:1; fill:none\" points=\"\n",
       "  1120.66,1423.18 1120.66,1407.58 \n",
       "  \"/>\n",
       "<polyline clip-path=\"url(#clip880)\" style=\"stroke:#000000; stroke-width:4; stroke-opacity:1; fill:none\" points=\"\n",
       "  1662.39,1423.18 1662.39,1407.58 \n",
       "  \"/>\n",
       "<polyline clip-path=\"url(#clip880)\" style=\"stroke:#000000; stroke-width:4; stroke-opacity:1; fill:none\" points=\"\n",
       "  2204.11,1423.18 2204.11,1407.58 \n",
       "  \"/>\n",
       "<path clip-path=\"url(#clip880)\" d=\"M 0 0 M564.349 1464.71 Q561.2 1464.71 559.349 1466.86 Q557.52 1469.01 557.52 1472.76 Q557.52 1476.49 559.349 1478.67 Q561.2 1480.82 564.349 1480.82 Q567.497 1480.82 569.325 1478.67 Q571.177 1476.49 571.177 1472.76 Q571.177 1469.01 569.325 1466.86 Q567.497 1464.71 564.349 1464.71 M573.631 1450.06 L573.631 1454.31 Q571.872 1453.48 570.066 1453.04 Q568.284 1452.6 566.524 1452.6 Q561.895 1452.6 559.441 1455.73 Q557.011 1458.85 556.663 1465.17 Q558.029 1463.16 560.089 1462.09 Q562.149 1461 564.626 1461 Q569.835 1461 572.844 1464.18 Q575.876 1467.32 575.876 1472.76 Q575.876 1478.09 572.728 1481.31 Q569.58 1484.52 564.349 1484.52 Q558.353 1484.52 555.182 1479.94 Q552.011 1475.33 552.011 1466.61 Q552.011 1458.41 555.899 1453.55 Q559.788 1448.67 566.339 1448.67 Q568.098 1448.67 569.881 1449.01 Q571.686 1449.36 573.631 1450.06 Z\" fill=\"#000000\" fill-rule=\"evenodd\" fill-opacity=\"1\" /><path clip-path=\"url(#clip880)\" d=\"M 0 0 M593.932 1452.37 Q590.321 1452.37 588.492 1455.94 Q586.686 1459.48 586.686 1466.61 Q586.686 1473.71 588.492 1477.28 Q590.321 1480.82 593.932 1480.82 Q597.566 1480.82 599.371 1477.28 Q601.2 1473.71 601.2 1466.61 Q601.2 1459.48 599.371 1455.94 Q597.566 1452.37 593.932 1452.37 M593.932 1448.67 Q599.742 1448.67 602.797 1453.27 Q605.876 1457.86 605.876 1466.61 Q605.876 1475.33 602.797 1479.94 Q599.742 1484.52 593.932 1484.52 Q588.122 1484.52 585.043 1479.94 Q581.987 1475.33 581.987 1466.61 Q581.987 1457.86 585.043 1453.27 Q588.122 1448.67 593.932 1448.67 Z\" fill=\"#000000\" fill-rule=\"evenodd\" fill-opacity=\"1\" /><path clip-path=\"url(#clip880)\" d=\"M 0 0 M1094.02 1449.29 L1116.24 1449.29 L1116.24 1451.28 L1103.7 1483.85 L1098.81 1483.85 L1110.62 1453.23 L1094.02 1453.23 L1094.02 1449.29 Z\" fill=\"#000000\" fill-rule=\"evenodd\" fill-opacity=\"1\" /><path clip-path=\"url(#clip880)\" d=\"M 0 0 M1135.36 1452.37 Q1131.75 1452.37 1129.92 1455.94 Q1128.12 1459.48 1128.12 1466.61 Q1128.12 1473.71 1129.92 1477.28 Q1131.75 1480.82 1135.36 1480.82 Q1139 1480.82 1140.8 1477.28 Q1142.63 1473.71 1142.63 1466.61 Q1142.63 1459.48 1140.8 1455.94 Q1139 1452.37 1135.36 1452.37 M1135.36 1448.67 Q1141.17 1448.67 1144.23 1453.27 Q1147.31 1457.86 1147.31 1466.61 Q1147.31 1475.33 1144.23 1479.94 Q1141.17 1484.52 1135.36 1484.52 Q1129.55 1484.52 1126.47 1479.94 Q1123.42 1475.33 1123.42 1466.61 Q1123.42 1457.86 1126.47 1453.27 Q1129.55 1448.67 1135.36 1448.67 Z\" fill=\"#000000\" fill-rule=\"evenodd\" fill-opacity=\"1\" /><path clip-path=\"url(#clip880)\" d=\"M 0 0 M1647.26 1467.44 Q1643.92 1467.44 1642 1469.22 Q1640.11 1471 1640.11 1474.13 Q1640.11 1477.25 1642 1479.04 Q1643.92 1480.82 1647.26 1480.82 Q1650.59 1480.82 1652.51 1479.04 Q1654.43 1477.23 1654.43 1474.13 Q1654.43 1471 1652.51 1469.22 Q1650.61 1467.44 1647.26 1467.44 M1642.58 1465.45 Q1639.57 1464.71 1637.88 1462.65 Q1636.22 1460.59 1636.22 1457.63 Q1636.22 1453.48 1639.16 1451.07 Q1642.12 1448.67 1647.26 1448.67 Q1652.42 1448.67 1655.36 1451.07 Q1658.3 1453.48 1658.3 1457.63 Q1658.3 1460.59 1656.61 1462.65 Q1654.94 1464.71 1651.96 1465.45 Q1655.34 1466.24 1657.21 1468.53 Q1659.11 1470.82 1659.11 1474.13 Q1659.11 1479.15 1656.03 1481.84 Q1652.98 1484.52 1647.26 1484.52 Q1641.54 1484.52 1638.46 1481.84 Q1635.41 1479.15 1635.41 1474.13 Q1635.41 1470.82 1637.3 1468.53 Q1639.2 1466.24 1642.58 1465.45 M1640.87 1458.06 Q1640.87 1460.75 1642.54 1462.25 Q1644.23 1463.76 1647.26 1463.76 Q1650.27 1463.76 1651.96 1462.25 Q1653.67 1460.75 1653.67 1458.06 Q1653.67 1455.38 1651.96 1453.88 Q1650.27 1452.37 1647.26 1452.37 Q1644.23 1452.37 1642.54 1453.88 Q1640.87 1455.38 1640.87 1458.06 Z\" fill=\"#000000\" fill-rule=\"evenodd\" fill-opacity=\"1\" /><path clip-path=\"url(#clip880)\" d=\"M 0 0 M1677.42 1452.37 Q1673.81 1452.37 1671.98 1455.94 Q1670.17 1459.48 1670.17 1466.61 Q1670.17 1473.71 1671.98 1477.28 Q1673.81 1480.82 1677.42 1480.82 Q1681.05 1480.82 1682.86 1477.28 Q1684.69 1473.71 1684.69 1466.61 Q1684.69 1459.48 1682.86 1455.94 Q1681.05 1452.37 1677.42 1452.37 M1677.42 1448.67 Q1683.23 1448.67 1686.29 1453.27 Q1689.36 1457.86 1689.36 1466.61 Q1689.36 1475.33 1686.29 1479.94 Q1683.23 1484.52 1677.42 1484.52 Q1671.61 1484.52 1668.53 1479.94 Q1665.48 1475.33 1665.48 1466.61 Q1665.48 1457.86 1668.53 1453.27 Q1671.61 1448.67 1677.42 1448.67 Z\" fill=\"#000000\" fill-rule=\"evenodd\" fill-opacity=\"1\" /><path clip-path=\"url(#clip880)\" d=\"M 0 0 M2179.23 1483.13 L2179.23 1478.88 Q2180.99 1479.71 2182.8 1480.15 Q2184.6 1480.59 2186.34 1480.59 Q2190.97 1480.59 2193.4 1477.49 Q2195.85 1474.36 2196.2 1468.02 Q2194.86 1470.01 2192.8 1471.07 Q2190.74 1472.14 2188.24 1472.14 Q2183.05 1472.14 2180.02 1469.01 Q2177.01 1465.87 2177.01 1460.43 Q2177.01 1455.1 2180.16 1451.88 Q2183.31 1448.67 2188.54 1448.67 Q2194.53 1448.67 2197.68 1453.27 Q2200.85 1457.86 2200.85 1466.61 Q2200.85 1474.78 2196.97 1479.66 Q2193.1 1484.52 2186.55 1484.52 Q2184.79 1484.52 2182.98 1484.18 Q2181.18 1483.83 2179.23 1483.13 M2188.54 1468.48 Q2191.69 1468.48 2193.52 1466.33 Q2195.37 1464.18 2195.37 1460.43 Q2195.37 1456.7 2193.52 1454.55 Q2191.69 1452.37 2188.54 1452.37 Q2185.39 1452.37 2183.54 1454.55 Q2181.71 1456.7 2181.71 1460.43 Q2181.71 1464.18 2183.54 1466.33 Q2185.39 1468.48 2188.54 1468.48 Z\" fill=\"#000000\" fill-rule=\"evenodd\" fill-opacity=\"1\" /><path clip-path=\"url(#clip880)\" d=\"M 0 0 M2219.26 1452.37 Q2215.65 1452.37 2213.82 1455.94 Q2212.01 1459.48 2212.01 1466.61 Q2212.01 1473.71 2213.82 1477.28 Q2215.65 1480.82 2219.26 1480.82 Q2222.89 1480.82 2224.7 1477.28 Q2226.53 1473.71 2226.53 1466.61 Q2226.53 1459.48 2224.7 1455.94 Q2222.89 1452.37 2219.26 1452.37 M2219.26 1448.67 Q2225.07 1448.67 2228.12 1453.27 Q2231.2 1457.86 2231.2 1466.61 Q2231.2 1475.33 2228.12 1479.94 Q2225.07 1484.52 2219.26 1484.52 Q2213.45 1484.52 2210.37 1479.94 Q2207.31 1475.33 2207.31 1466.61 Q2207.31 1457.86 2210.37 1453.27 Q2213.45 1448.67 2219.26 1448.67 Z\" fill=\"#000000\" fill-rule=\"evenodd\" fill-opacity=\"1\" /><path clip-path=\"url(#clip880)\" d=\"M 0 0 M980.898 1568.04 L962.755 1520.52 L969.471 1520.52 L984.526 1560.53 L999.613 1520.52 L1006.3 1520.52 L988.186 1568.04 L980.898 1568.04 Z\" fill=\"#000000\" fill-rule=\"evenodd\" fill-opacity=\"1\" /><path clip-path=\"url(#clip880)\" d=\"M 0 0 M1024.12 1550.12 Q1017.02 1550.12 1014.29 1551.75 Q1011.55 1553.37 1011.55 1557.29 Q1011.55 1560.4 1013.59 1562.25 Q1015.65 1564.07 1019.19 1564.07 Q1024.06 1564.07 1026.99 1560.63 Q1029.95 1557.16 1029.95 1551.43 L1029.95 1550.12 L1024.12 1550.12 M1035.8 1547.71 L1035.8 1568.04 L1029.95 1568.04 L1029.95 1562.63 Q1027.94 1565.88 1024.95 1567.44 Q1021.96 1568.97 1017.63 1568.97 Q1012.15 1568.97 1008.91 1565.91 Q1005.69 1562.82 1005.69 1557.67 Q1005.69 1551.65 1009.7 1548.6 Q1013.74 1545.54 1021.73 1545.54 L1029.95 1545.54 L1029.95 1544.97 Q1029.95 1540.93 1027.27 1538.73 Q1024.63 1536.5 1019.82 1536.5 Q1016.77 1536.5 1013.87 1537.23 Q1010.98 1537.97 1008.3 1539.43 L1008.3 1534.02 Q1011.52 1532.78 1014.54 1532.17 Q1017.56 1531.54 1020.43 1531.54 Q1028.16 1531.54 1031.98 1535.55 Q1035.8 1539.56 1035.8 1547.71 Z\" fill=\"#000000\" fill-rule=\"evenodd\" fill-opacity=\"1\" /><path clip-path=\"url(#clip880)\" d=\"M 0 0 M1073.52 1533.76 L1073.52 1539.24 Q1071.04 1537.87 1068.52 1537.2 Q1066.04 1536.5 1063.49 1536.5 Q1057.8 1536.5 1054.64 1540.13 Q1051.49 1543.73 1051.49 1550.25 Q1051.49 1556.78 1054.64 1560.4 Q1057.8 1564 1063.49 1564 Q1066.04 1564 1068.52 1563.33 Q1071.04 1562.63 1073.52 1561.26 L1073.52 1566.68 Q1071.07 1567.82 1068.43 1568.39 Q1065.82 1568.97 1062.86 1568.97 Q1054.8 1568.97 1050.06 1563.91 Q1045.32 1558.85 1045.32 1550.25 Q1045.32 1541.53 1050.09 1536.53 Q1054.9 1531.54 1063.24 1531.54 Q1065.94 1531.54 1068.52 1532.11 Q1071.1 1532.65 1073.52 1533.76 Z\" fill=\"#000000\" fill-rule=\"evenodd\" fill-opacity=\"1\" /><path clip-path=\"url(#clip880)\" d=\"M 0 0 M1109.36 1533.76 L1109.36 1539.24 Q1106.87 1537.87 1104.36 1537.2 Q1101.88 1536.5 1099.33 1536.5 Q1093.63 1536.5 1090.48 1540.13 Q1087.33 1543.73 1087.33 1550.25 Q1087.33 1556.78 1090.48 1560.4 Q1093.63 1564 1099.33 1564 Q1101.88 1564 1104.36 1563.33 Q1106.87 1562.63 1109.36 1561.26 L1109.36 1566.68 Q1106.91 1567.82 1104.26 1568.39 Q1101.65 1568.97 1098.69 1568.97 Q1090.64 1568.97 1085.9 1563.91 Q1081.16 1558.85 1081.16 1550.25 Q1081.16 1541.53 1085.93 1536.53 Q1090.74 1531.54 1099.08 1531.54 Q1101.78 1531.54 1104.36 1532.11 Q1106.94 1532.65 1109.36 1533.76 Z\" fill=\"#000000\" fill-rule=\"evenodd\" fill-opacity=\"1\" /><path clip-path=\"url(#clip880)\" d=\"M 0 0 M1119.54 1532.4 L1125.4 1532.4 L1125.4 1568.04 L1119.54 1568.04 L1119.54 1532.4 M1119.54 1518.52 L1125.4 1518.52 L1125.4 1525.93 L1119.54 1525.93 L1119.54 1518.52 Z\" fill=\"#000000\" fill-rule=\"evenodd\" fill-opacity=\"1\" /><path clip-path=\"url(#clip880)\" d=\"M 0 0 M1167.29 1546.53 L1167.29 1568.04 L1161.43 1568.04 L1161.43 1546.72 Q1161.43 1541.66 1159.46 1539.14 Q1157.48 1536.63 1153.54 1536.63 Q1148.79 1536.63 1146.06 1539.65 Q1143.32 1542.68 1143.32 1547.9 L1143.32 1568.04 L1137.43 1568.04 L1137.43 1532.4 L1143.32 1532.4 L1143.32 1537.93 Q1145.42 1534.72 1148.25 1533.13 Q1151.12 1531.54 1154.84 1531.54 Q1160.98 1531.54 1164.13 1535.36 Q1167.29 1539.14 1167.29 1546.53 Z\" fill=\"#000000\" fill-rule=\"evenodd\" fill-opacity=\"1\" /><path clip-path=\"url(#clip880)\" d=\"M 0 0 M1209.46 1548.76 L1209.46 1551.62 L1182.53 1551.62 Q1182.91 1557.67 1186.16 1560.85 Q1189.44 1564 1195.26 1564 Q1198.64 1564 1201.79 1563.17 Q1204.97 1562.35 1208.09 1560.69 L1208.09 1566.23 Q1204.94 1567.57 1201.63 1568.27 Q1198.32 1568.97 1194.91 1568.97 Q1186.38 1568.97 1181.39 1564 Q1176.42 1559.04 1176.42 1550.57 Q1176.42 1541.82 1181.13 1536.69 Q1185.87 1531.54 1193.89 1531.54 Q1201.09 1531.54 1205.26 1536.18 Q1209.46 1540.8 1209.46 1548.76 M1203.6 1547.04 Q1203.54 1542.23 1200.9 1539.37 Q1198.29 1536.5 1193.96 1536.5 Q1189.06 1536.5 1186.1 1539.27 Q1183.17 1542.04 1182.72 1547.07 L1203.6 1547.04 Z\" fill=\"#000000\" fill-rule=\"evenodd\" fill-opacity=\"1\" /><path clip-path=\"url(#clip880)\" d=\"M 0 0 M1255.93 1526.86 L1247.21 1550.51 L1264.68 1550.51 L1255.93 1526.86 M1252.3 1520.52 L1259.59 1520.52 L1277.7 1568.04 L1271.01 1568.04 L1266.69 1555.85 L1245.27 1555.85 L1240.94 1568.04 L1234.16 1568.04 L1252.3 1520.52 Z\" fill=\"#000000\" fill-rule=\"evenodd\" fill-opacity=\"1\" /><path clip-path=\"url(#clip880)\" d=\"M 0 0 M1308.89 1533.76 L1308.89 1539.24 Q1306.41 1537.87 1303.89 1537.2 Q1301.41 1536.5 1298.86 1536.5 Q1293.17 1536.5 1290.02 1540.13 Q1286.87 1543.73 1286.87 1550.25 Q1286.87 1556.78 1290.02 1560.4 Q1293.17 1564 1298.86 1564 Q1301.41 1564 1303.89 1563.33 Q1306.41 1562.63 1308.89 1561.26 L1308.89 1566.68 Q1306.44 1567.82 1303.8 1568.39 Q1301.19 1568.97 1298.23 1568.97 Q1290.18 1568.97 1285.43 1563.91 Q1280.69 1558.85 1280.69 1550.25 Q1280.69 1541.53 1285.46 1536.53 Q1290.27 1531.54 1298.61 1531.54 Q1301.32 1531.54 1303.89 1532.11 Q1306.47 1532.65 1308.89 1533.76 Z\" fill=\"#000000\" fill-rule=\"evenodd\" fill-opacity=\"1\" /><path clip-path=\"url(#clip880)\" d=\"M 0 0 M1344.73 1533.76 L1344.73 1539.24 Q1342.25 1537.87 1339.73 1537.2 Q1337.25 1536.5 1334.7 1536.5 Q1329.01 1536.5 1325.86 1540.13 Q1322.7 1543.73 1322.7 1550.25 Q1322.7 1556.78 1325.86 1560.4 Q1329.01 1564 1334.7 1564 Q1337.25 1564 1339.73 1563.33 Q1342.25 1562.63 1344.73 1561.26 L1344.73 1566.68 Q1342.28 1567.82 1339.64 1568.39 Q1337.03 1568.97 1334.07 1568.97 Q1326.01 1568.97 1321.27 1563.91 Q1316.53 1558.85 1316.53 1550.25 Q1316.53 1541.53 1321.3 1536.53 Q1326.11 1531.54 1334.45 1531.54 Q1337.15 1531.54 1339.73 1532.11 Q1342.31 1532.65 1344.73 1533.76 Z\" fill=\"#000000\" fill-rule=\"evenodd\" fill-opacity=\"1\" /><path clip-path=\"url(#clip880)\" d=\"M 0 0 M1385.41 1548.76 L1385.41 1551.62 L1358.48 1551.62 Q1358.86 1557.67 1362.11 1560.85 Q1365.39 1564 1371.21 1564 Q1374.58 1564 1377.74 1563.17 Q1380.92 1562.35 1384.04 1560.69 L1384.04 1566.23 Q1380.89 1567.57 1377.58 1568.27 Q1374.27 1568.97 1370.86 1568.97 Q1362.33 1568.97 1357.33 1564 Q1352.37 1559.04 1352.37 1550.57 Q1352.37 1541.82 1357.08 1536.69 Q1361.82 1531.54 1369.84 1531.54 Q1377.04 1531.54 1381.2 1536.18 Q1385.41 1540.8 1385.41 1548.76 M1379.55 1547.04 Q1379.49 1542.23 1376.84 1539.37 Q1374.23 1536.5 1369.91 1536.5 Q1365 1536.5 1362.04 1539.27 Q1359.12 1542.04 1358.67 1547.07 L1379.55 1547.04 Z\" fill=\"#000000\" fill-rule=\"evenodd\" fill-opacity=\"1\" /><path clip-path=\"url(#clip880)\" d=\"M 0 0 M1400.68 1562.7 L1400.68 1581.6 L1394.8 1581.6 L1394.8 1532.4 L1400.68 1532.4 L1400.68 1537.81 Q1402.53 1534.62 1405.33 1533.1 Q1408.16 1531.54 1412.08 1531.54 Q1418.57 1531.54 1422.61 1536.69 Q1426.69 1541.85 1426.69 1550.25 Q1426.69 1558.65 1422.61 1563.81 Q1418.57 1568.97 1412.08 1568.97 Q1408.16 1568.97 1405.33 1567.44 Q1402.53 1565.88 1400.68 1562.7 M1420.61 1550.25 Q1420.61 1543.79 1417.94 1540.13 Q1415.29 1536.44 1410.65 1536.44 Q1406 1536.44 1403.33 1540.13 Q1400.68 1543.79 1400.68 1550.25 Q1400.68 1556.71 1403.33 1560.4 Q1406 1564.07 1410.65 1564.07 Q1415.29 1564.07 1417.94 1560.4 Q1420.61 1556.71 1420.61 1550.25 Z\" fill=\"#000000\" fill-rule=\"evenodd\" fill-opacity=\"1\" /><path clip-path=\"url(#clip880)\" d=\"M 0 0 M1442.19 1522.27 L1442.19 1532.4 L1454.25 1532.4 L1454.25 1536.95 L1442.19 1536.95 L1442.19 1556.3 Q1442.19 1560.66 1443.37 1561.9 Q1444.58 1563.14 1448.24 1563.14 L1454.25 1563.14 L1454.25 1568.04 L1448.24 1568.04 Q1441.46 1568.04 1438.88 1565.53 Q1436.3 1562.98 1436.3 1556.3 L1436.3 1536.95 L1432 1536.95 L1432 1532.4 L1436.3 1532.4 L1436.3 1522.27 L1442.19 1522.27 Z\" fill=\"#000000\" fill-rule=\"evenodd\" fill-opacity=\"1\" /><path clip-path=\"url(#clip880)\" d=\"M 0 0 M1478.15 1550.12 Q1471.06 1550.12 1468.32 1551.75 Q1465.58 1553.37 1465.58 1557.29 Q1465.58 1560.4 1467.62 1562.25 Q1469.69 1564.07 1473.22 1564.07 Q1478.09 1564.07 1481.02 1560.63 Q1483.98 1557.16 1483.98 1551.43 L1483.98 1550.12 L1478.15 1550.12 M1489.84 1547.71 L1489.84 1568.04 L1483.98 1568.04 L1483.98 1562.63 Q1481.97 1565.88 1478.98 1567.44 Q1475.99 1568.97 1471.66 1568.97 Q1466.19 1568.97 1462.94 1565.91 Q1459.73 1562.82 1459.73 1557.67 Q1459.73 1551.65 1463.74 1548.6 Q1467.78 1545.54 1475.77 1545.54 L1483.98 1545.54 L1483.98 1544.97 Q1483.98 1540.93 1481.31 1538.73 Q1478.66 1536.5 1473.86 1536.5 Q1470.8 1536.5 1467.91 1537.23 Q1465.01 1537.97 1462.34 1539.43 L1462.34 1534.02 Q1465.55 1532.78 1468.57 1532.17 Q1471.6 1531.54 1474.46 1531.54 Q1482.2 1531.54 1486.02 1535.55 Q1489.84 1539.56 1489.84 1547.71 Z\" fill=\"#000000\" fill-rule=\"evenodd\" fill-opacity=\"1\" /><path clip-path=\"url(#clip880)\" d=\"M 0 0 M1531.53 1546.53 L1531.53 1568.04 L1525.67 1568.04 L1525.67 1546.72 Q1525.67 1541.66 1523.7 1539.14 Q1521.73 1536.63 1517.78 1536.63 Q1513.04 1536.63 1510.3 1539.65 Q1507.56 1542.68 1507.56 1547.9 L1507.56 1568.04 L1501.68 1568.04 L1501.68 1532.4 L1507.56 1532.4 L1507.56 1537.93 Q1509.66 1534.72 1512.5 1533.13 Q1515.36 1531.54 1519.09 1531.54 Q1525.23 1531.54 1528.38 1535.36 Q1531.53 1539.14 1531.53 1546.53 Z\" fill=\"#000000\" fill-rule=\"evenodd\" fill-opacity=\"1\" /><path clip-path=\"url(#clip880)\" d=\"M 0 0 M1568.87 1533.76 L1568.87 1539.24 Q1566.38 1537.87 1563.87 1537.2 Q1561.39 1536.5 1558.84 1536.5 Q1553.14 1536.5 1549.99 1540.13 Q1546.84 1543.73 1546.84 1550.25 Q1546.84 1556.78 1549.99 1560.4 Q1553.14 1564 1558.84 1564 Q1561.39 1564 1563.87 1563.33 Q1566.38 1562.63 1568.87 1561.26 L1568.87 1566.68 Q1566.42 1567.82 1563.77 1568.39 Q1561.16 1568.97 1558.2 1568.97 Q1550.15 1568.97 1545.41 1563.91 Q1540.67 1558.85 1540.67 1550.25 Q1540.67 1541.53 1545.44 1536.53 Q1550.25 1531.54 1558.59 1531.54 Q1561.29 1531.54 1563.87 1532.11 Q1566.45 1532.65 1568.87 1533.76 Z\" fill=\"#000000\" fill-rule=\"evenodd\" fill-opacity=\"1\" /><path clip-path=\"url(#clip880)\" d=\"M 0 0 M1609.54 1548.76 L1609.54 1551.62 L1582.62 1551.62 Q1583 1557.67 1586.24 1560.85 Q1589.52 1564 1595.35 1564 Q1598.72 1564 1601.87 1563.17 Q1605.06 1562.35 1608.17 1560.69 L1608.17 1566.23 Q1605.02 1567.57 1601.71 1568.27 Q1598.4 1568.97 1595 1568.97 Q1586.47 1568.97 1581.47 1564 Q1576.5 1559.04 1576.5 1550.57 Q1576.5 1541.82 1581.22 1536.69 Q1585.96 1531.54 1593.98 1531.54 Q1601.17 1531.54 1605.34 1536.18 Q1609.54 1540.8 1609.54 1548.76 M1603.69 1547.04 Q1603.62 1542.23 1600.98 1539.37 Q1598.37 1536.5 1594.04 1536.5 Q1589.14 1536.5 1586.18 1539.27 Q1583.25 1542.04 1582.81 1547.07 L1603.69 1547.04 Z\" fill=\"#000000\" fill-rule=\"evenodd\" fill-opacity=\"1\" /><polyline clip-path=\"url(#clip882)\" style=\"stroke:#000000; stroke-width:2; stroke-opacity:0.1; fill:none\" points=\"\n",
       "  219.542,1346.18 2352.76,1346.18 \n",
       "  \"/>\n",
       "<polyline clip-path=\"url(#clip882)\" style=\"stroke:#000000; stroke-width:2; stroke-opacity:0.1; fill:none\" points=\"\n",
       "  219.542,1064.82 2352.76,1064.82 \n",
       "  \"/>\n",
       "<polyline clip-path=\"url(#clip882)\" style=\"stroke:#000000; stroke-width:2; stroke-opacity:0.1; fill:none\" points=\"\n",
       "  219.542,783.462 2352.76,783.462 \n",
       "  \"/>\n",
       "<polyline clip-path=\"url(#clip882)\" style=\"stroke:#000000; stroke-width:2; stroke-opacity:0.1; fill:none\" points=\"\n",
       "  219.542,502.101 2352.76,502.101 \n",
       "  \"/>\n",
       "<polyline clip-path=\"url(#clip882)\" style=\"stroke:#000000; stroke-width:2; stroke-opacity:0.1; fill:none\" points=\"\n",
       "  219.542,220.74 2352.76,220.74 \n",
       "  \"/>\n",
       "<polyline clip-path=\"url(#clip880)\" style=\"stroke:#000000; stroke-width:4; stroke-opacity:1; fill:none\" points=\"\n",
       "  219.542,1423.18 219.542,123.472 \n",
       "  \"/>\n",
       "<polyline clip-path=\"url(#clip880)\" style=\"stroke:#000000; stroke-width:4; stroke-opacity:1; fill:none\" points=\"\n",
       "  219.542,1346.18 245.141,1346.18 \n",
       "  \"/>\n",
       "<polyline clip-path=\"url(#clip880)\" style=\"stroke:#000000; stroke-width:4; stroke-opacity:1; fill:none\" points=\"\n",
       "  219.542,1064.82 245.141,1064.82 \n",
       "  \"/>\n",
       "<polyline clip-path=\"url(#clip880)\" style=\"stroke:#000000; stroke-width:4; stroke-opacity:1; fill:none\" points=\"\n",
       "  219.542,783.462 245.141,783.462 \n",
       "  \"/>\n",
       "<polyline clip-path=\"url(#clip880)\" style=\"stroke:#000000; stroke-width:4; stroke-opacity:1; fill:none\" points=\"\n",
       "  219.542,502.101 245.141,502.101 \n",
       "  \"/>\n",
       "<polyline clip-path=\"url(#clip880)\" style=\"stroke:#000000; stroke-width:4; stroke-opacity:1; fill:none\" points=\"\n",
       "  219.542,220.74 245.141,220.74 \n",
       "  \"/>\n",
       "<path clip-path=\"url(#clip880)\" d=\"M 0 0 M127.362 1331.98 Q123.751 1331.98 121.922 1335.55 Q120.117 1339.09 120.117 1346.22 Q120.117 1353.32 121.922 1356.89 Q123.751 1360.43 127.362 1360.43 Q130.996 1360.43 132.802 1356.89 Q134.63 1353.32 134.63 1346.22 Q134.63 1339.09 132.802 1335.55 Q130.996 1331.98 127.362 1331.98 M127.362 1328.28 Q133.172 1328.28 136.228 1332.88 Q139.306 1337.47 139.306 1346.22 Q139.306 1354.94 136.228 1359.55 Q133.172 1364.13 127.362 1364.13 Q121.552 1364.13 118.473 1359.55 Q115.418 1354.94 115.418 1346.22 Q115.418 1337.47 118.473 1332.88 Q121.552 1328.28 127.362 1328.28 Z\" fill=\"#000000\" fill-rule=\"evenodd\" fill-opacity=\"1\" /><path clip-path=\"url(#clip880)\" d=\"M 0 0 M147.524 1357.58 L152.408 1357.58 L152.408 1363.46 L147.524 1363.46 L147.524 1357.58 Z\" fill=\"#000000\" fill-rule=\"evenodd\" fill-opacity=\"1\" /><path clip-path=\"url(#clip880)\" d=\"M 0 0 M162.64 1328.9 L180.996 1328.9 L180.996 1332.84 L166.922 1332.84 L166.922 1341.31 Q167.94 1340.96 168.959 1340.8 Q169.977 1340.62 170.996 1340.62 Q176.783 1340.62 180.163 1343.79 Q183.542 1346.96 183.542 1352.38 Q183.542 1357.95 180.07 1361.06 Q176.598 1364.13 170.278 1364.13 Q168.102 1364.13 165.834 1363.76 Q163.589 1363.39 161.181 1362.65 L161.181 1357.95 Q163.265 1359.09 165.487 1359.64 Q167.709 1360.2 170.186 1360.2 Q174.19 1360.2 176.528 1358.09 Q178.866 1355.99 178.866 1352.38 Q178.866 1348.76 176.528 1346.66 Q174.19 1344.55 170.186 1344.55 Q168.311 1344.55 166.436 1344.97 Q164.584 1345.38 162.64 1346.26 L162.64 1328.9 Z\" fill=\"#000000\" fill-rule=\"evenodd\" fill-opacity=\"1\" /><path clip-path=\"url(#clip880)\" d=\"M 0 0 M126.205 1050.62 Q122.593 1050.62 120.765 1054.19 Q118.959 1057.73 118.959 1064.86 Q118.959 1071.96 120.765 1075.53 Q122.593 1079.07 126.205 1079.07 Q129.839 1079.07 131.644 1075.53 Q133.473 1071.96 133.473 1064.86 Q133.473 1057.73 131.644 1054.19 Q129.839 1050.62 126.205 1050.62 M126.205 1046.92 Q132.015 1046.92 135.07 1051.52 Q138.149 1056.11 138.149 1064.86 Q138.149 1073.58 135.07 1078.19 Q132.015 1082.77 126.205 1082.77 Q120.394 1082.77 117.316 1078.19 Q114.26 1073.58 114.26 1064.86 Q114.26 1056.11 117.316 1051.52 Q120.394 1046.92 126.205 1046.92 Z\" fill=\"#000000\" fill-rule=\"evenodd\" fill-opacity=\"1\" /><path clip-path=\"url(#clip880)\" d=\"M 0 0 M146.366 1076.22 L151.251 1076.22 L151.251 1082.1 L146.366 1082.1 L146.366 1076.22 Z\" fill=\"#000000\" fill-rule=\"evenodd\" fill-opacity=\"1\" /><path clip-path=\"url(#clip880)\" d=\"M 0 0 M172.014 1062.96 Q168.866 1062.96 167.015 1065.11 Q165.186 1067.26 165.186 1071.01 Q165.186 1074.74 167.015 1076.92 Q168.866 1079.07 172.014 1079.07 Q175.163 1079.07 176.991 1076.92 Q178.843 1074.74 178.843 1071.01 Q178.843 1067.26 176.991 1065.11 Q175.163 1062.96 172.014 1062.96 M181.297 1048.31 L181.297 1052.57 Q179.538 1051.73 177.732 1051.29 Q175.95 1050.85 174.19 1050.85 Q169.561 1050.85 167.107 1053.98 Q164.677 1057.1 164.329 1063.42 Q165.695 1061.41 167.755 1060.34 Q169.815 1059.26 172.292 1059.26 Q177.501 1059.26 180.51 1062.43 Q183.542 1065.57 183.542 1071.01 Q183.542 1076.34 180.394 1079.56 Q177.246 1082.77 172.014 1082.77 Q166.019 1082.77 162.848 1078.19 Q159.677 1073.58 159.677 1064.86 Q159.677 1056.66 163.565 1051.8 Q167.454 1046.92 174.005 1046.92 Q175.764 1046.92 177.547 1047.26 Q179.352 1047.61 181.297 1048.31 Z\" fill=\"#000000\" fill-rule=\"evenodd\" fill-opacity=\"1\" /><path clip-path=\"url(#clip880)\" d=\"M 0 0 M127.269 769.261 Q123.658 769.261 121.83 772.825 Q120.024 776.367 120.024 783.497 Q120.024 790.603 121.83 794.168 Q123.658 797.709 127.269 797.709 Q130.904 797.709 132.709 794.168 Q134.538 790.603 134.538 783.497 Q134.538 776.367 132.709 772.825 Q130.904 769.261 127.269 769.261 M127.269 765.557 Q133.08 765.557 136.135 770.163 Q139.214 774.747 139.214 783.497 Q139.214 792.223 136.135 796.83 Q133.08 801.413 127.269 801.413 Q121.459 801.413 118.381 796.83 Q115.325 792.223 115.325 783.497 Q115.325 774.747 118.381 770.163 Q121.459 765.557 127.269 765.557 Z\" fill=\"#000000\" fill-rule=\"evenodd\" fill-opacity=\"1\" /><path clip-path=\"url(#clip880)\" d=\"M 0 0 M147.431 794.862 L152.316 794.862 L152.316 800.742 L147.431 800.742 L147.431 794.862 Z\" fill=\"#000000\" fill-rule=\"evenodd\" fill-opacity=\"1\" /><path clip-path=\"url(#clip880)\" d=\"M 0 0 M161.32 766.182 L183.542 766.182 L183.542 768.173 L170.996 800.742 L166.112 800.742 L177.917 770.117 L161.32 770.117 L161.32 766.182 Z\" fill=\"#000000\" fill-rule=\"evenodd\" fill-opacity=\"1\" /><path clip-path=\"url(#clip880)\" d=\"M 0 0 M126.459 487.9 Q122.848 487.9 121.019 491.465 Q119.214 495.006 119.214 502.136 Q119.214 509.242 121.019 512.807 Q122.848 516.349 126.459 516.349 Q130.093 516.349 131.899 512.807 Q133.728 509.242 133.728 502.136 Q133.728 495.006 131.899 491.465 Q130.093 487.9 126.459 487.9 M126.459 484.196 Q132.269 484.196 135.325 488.802 Q138.404 493.386 138.404 502.136 Q138.404 510.863 135.325 515.469 Q132.269 520.052 126.459 520.052 Q120.649 520.052 117.57 515.469 Q114.515 510.863 114.515 502.136 Q114.515 493.386 117.57 488.802 Q120.649 484.196 126.459 484.196 Z\" fill=\"#000000\" fill-rule=\"evenodd\" fill-opacity=\"1\" /><path clip-path=\"url(#clip880)\" d=\"M 0 0 M146.621 513.501 L151.505 513.501 L151.505 519.381 L146.621 519.381 L146.621 513.501 Z\" fill=\"#000000\" fill-rule=\"evenodd\" fill-opacity=\"1\" /><path clip-path=\"url(#clip880)\" d=\"M 0 0 M171.69 502.969 Q168.357 502.969 166.436 504.751 Q164.538 506.534 164.538 509.659 Q164.538 512.784 166.436 514.566 Q168.357 516.349 171.69 516.349 Q175.024 516.349 176.945 514.566 Q178.866 512.761 178.866 509.659 Q178.866 506.534 176.945 504.751 Q175.047 502.969 171.69 502.969 M167.015 500.978 Q164.005 500.238 162.315 498.177 Q160.649 496.117 160.649 493.154 Q160.649 489.011 163.589 486.603 Q166.552 484.196 171.69 484.196 Q176.852 484.196 179.792 486.603 Q182.732 489.011 182.732 493.154 Q182.732 496.117 181.042 498.177 Q179.376 500.238 176.389 500.978 Q179.769 501.765 181.644 504.057 Q183.542 506.349 183.542 509.659 Q183.542 514.682 180.464 517.367 Q177.408 520.052 171.69 520.052 Q165.973 520.052 162.894 517.367 Q159.839 514.682 159.839 509.659 Q159.839 506.349 161.737 504.057 Q163.635 501.765 167.015 500.978 M165.302 493.594 Q165.302 496.279 166.968 497.784 Q168.658 499.289 171.69 499.289 Q174.7 499.289 176.389 497.784 Q178.102 496.279 178.102 493.594 Q178.102 490.909 176.389 489.404 Q174.7 487.9 171.69 487.9 Q168.658 487.9 166.968 489.404 Q165.302 490.909 165.302 493.594 Z\" fill=\"#000000\" fill-rule=\"evenodd\" fill-opacity=\"1\" /><path clip-path=\"url(#clip880)\" d=\"M 0 0 M126.552 206.539 Q122.941 206.539 121.112 210.104 Q119.306 213.645 119.306 220.775 Q119.306 227.881 121.112 231.446 Q122.941 234.988 126.552 234.988 Q130.186 234.988 131.992 231.446 Q133.82 227.881 133.82 220.775 Q133.82 213.645 131.992 210.104 Q130.186 206.539 126.552 206.539 M126.552 202.835 Q132.362 202.835 135.417 207.442 Q138.496 212.025 138.496 220.775 Q138.496 229.502 135.417 234.108 Q132.362 238.692 126.552 238.692 Q120.742 238.692 117.663 234.108 Q114.607 229.502 114.607 220.775 Q114.607 212.025 117.663 207.442 Q120.742 202.835 126.552 202.835 Z\" fill=\"#000000\" fill-rule=\"evenodd\" fill-opacity=\"1\" /><path clip-path=\"url(#clip880)\" d=\"M 0 0 M146.714 232.141 L151.598 232.141 L151.598 238.02 L146.714 238.02 L146.714 232.141 Z\" fill=\"#000000\" fill-rule=\"evenodd\" fill-opacity=\"1\" /><path clip-path=\"url(#clip880)\" d=\"M 0 0 M161.922 237.303 L161.922 233.043 Q163.681 233.877 165.487 234.317 Q167.292 234.756 169.028 234.756 Q173.658 234.756 176.089 231.655 Q178.542 228.53 178.889 222.187 Q177.547 224.178 175.487 225.243 Q173.427 226.307 170.927 226.307 Q165.741 226.307 162.709 223.182 Q159.7 220.034 159.7 214.594 Q159.7 209.27 162.848 206.053 Q165.996 202.835 171.227 202.835 Q177.223 202.835 180.371 207.442 Q183.542 212.025 183.542 220.775 Q183.542 228.946 179.653 233.83 Q175.788 238.692 169.237 238.692 Q167.477 238.692 165.672 238.344 Q163.866 237.997 161.922 237.303 M171.227 222.65 Q174.376 222.65 176.204 220.497 Q178.056 218.344 178.056 214.594 Q178.056 210.868 176.204 208.715 Q174.376 206.539 171.227 206.539 Q168.079 206.539 166.227 208.715 Q164.399 210.868 164.399 214.594 Q164.399 218.344 166.227 220.497 Q168.079 222.65 171.227 222.65 Z\" fill=\"#000000\" fill-rule=\"evenodd\" fill-opacity=\"1\" /><path clip-path=\"url(#clip880)\" d=\"M 0 0 M64.0042 1049.79 L16.4842 1067.93 L16.4842 1061.22 L56.4926 1046.16 L16.4842 1031.07 L16.4842 1024.39 L64.0042 1042.5 L64.0042 1049.79 Z\" fill=\"#000000\" fill-rule=\"evenodd\" fill-opacity=\"1\" /><path clip-path=\"url(#clip880)\" d=\"M 0 0 M32.4621 1008.95 Q32.4621 1013.66 36.1542 1016.4 Q39.8145 1019.14 46.212 1019.14 Q52.6095 1019.14 56.3017 1016.43 Q59.9619 1013.7 59.9619 1008.95 Q59.9619 1004.27 56.2698 1001.54 Q52.5777 998.799 46.212 998.799 Q39.8781 998.799 36.186 1001.54 Q32.4621 1004.27 32.4621 1008.95 M27.4968 1008.95 Q27.4968 1001.31 32.4621 996.953 Q37.4273 992.593 46.212 992.593 Q54.9649 992.593 59.9619 996.953 Q64.9272 1001.31 64.9272 1008.95 Q64.9272 1016.62 59.9619 1020.98 Q54.9649 1025.31 46.212 1025.31 Q37.4273 1025.31 32.4621 1020.98 Q27.4968 1016.62 27.4968 1008.95 Z\" fill=\"#000000\" fill-rule=\"evenodd\" fill-opacity=\"1\" /><path clip-path=\"url(#clip880)\" d=\"M 0 0 M18.2347 977.092 L28.3562 977.092 L28.3562 965.029 L32.9077 965.029 L32.9077 977.092 L52.2594 977.092 Q56.6199 977.092 57.8613 975.915 Q59.1026 974.705 59.1026 971.045 L59.1026 965.029 L64.0042 965.029 L64.0042 971.045 Q64.0042 977.824 61.4897 980.402 Q58.9434 982.981 52.2594 982.981 L32.9077 982.981 L32.9077 987.277 L28.3562 987.277 L28.3562 982.981 L18.2347 982.981 L18.2347 977.092 Z\" fill=\"#000000\" fill-rule=\"evenodd\" fill-opacity=\"1\" /><path clip-path=\"url(#clip880)\" d=\"M 0 0 M28.3562 957.327 L28.3562 951.47 L64.0042 951.47 L64.0042 957.327 L28.3562 957.327 M14.479 957.327 L14.479 951.47 L21.895 951.47 L21.895 957.327 L14.479 957.327 Z\" fill=\"#000000\" fill-rule=\"evenodd\" fill-opacity=\"1\" /><path clip-path=\"url(#clip880)\" d=\"M 0 0 M42.4881 909.584 L64.0042 909.584 L64.0042 915.44 L42.679 915.44 Q37.6183 915.44 35.1038 917.414 Q32.5894 919.387 32.5894 923.334 Q32.5894 928.076 35.6131 930.814 Q38.6368 933.551 43.8567 933.551 L64.0042 933.551 L64.0042 939.439 L28.3562 939.439 L28.3562 933.551 L33.8944 933.551 Q30.6797 931.45 29.0883 928.617 Q27.4968 925.753 27.4968 922.029 Q27.4968 915.886 31.3163 912.735 Q35.1038 909.584 42.4881 909.584 Z\" fill=\"#000000\" fill-rule=\"evenodd\" fill-opacity=\"1\" /><path clip-path=\"url(#clip880)\" d=\"M 0 0 M45.7664 874.445 Q39.4007 874.445 35.8996 877.087 Q32.3984 879.697 32.3984 884.439 Q32.3984 889.15 35.8996 891.792 Q39.4007 894.402 45.7664 894.402 Q52.1003 894.402 55.6014 891.792 Q59.1026 889.15 59.1026 884.439 Q59.1026 879.697 55.6014 877.087 Q52.1003 874.445 45.7664 874.445 M59.58 868.589 Q68.683 868.589 73.1071 872.631 Q77.5631 876.673 77.5631 885.012 Q77.5631 888.1 77.0857 890.837 Q76.6401 893.574 75.6852 896.152 L69.9879 896.152 Q71.3884 893.574 72.0568 891.06 Q72.7252 888.545 72.7252 885.935 Q72.7252 880.174 69.7015 877.31 Q66.7096 874.445 60.6303 874.445 L57.7339 874.445 Q60.885 876.259 62.4446 879.092 Q64.0042 881.925 64.0042 885.872 Q64.0042 892.428 59.0071 896.439 Q54.01 900.449 45.7664 900.449 Q37.491 900.449 32.4939 896.439 Q27.4968 892.428 27.4968 885.872 Q27.4968 881.925 29.0564 879.092 Q30.616 876.259 33.7671 874.445 L28.3562 874.445 L28.3562 868.589 L59.58 868.589 Z\" fill=\"#000000\" fill-rule=\"evenodd\" fill-opacity=\"1\" /><path clip-path=\"url(#clip880)\" d=\"M 0 0 M21.7677 829.121 L39.6235 829.121 L39.6235 821.037 Q39.6235 816.549 37.3 814.098 Q34.9765 811.648 30.6797 811.648 Q26.4147 811.648 24.0912 814.098 Q21.7677 816.549 21.7677 821.037 L21.7677 829.121 M16.4842 835.551 L16.4842 821.037 Q16.4842 813.048 20.1126 808.974 Q23.7092 804.868 30.6797 804.868 Q37.7138 804.868 41.3104 808.974 Q44.907 813.048 44.907 821.037 L44.907 829.121 L64.0042 829.121 L64.0042 835.551 L16.4842 835.551 Z\" fill=\"#000000\" fill-rule=\"evenodd\" fill-opacity=\"1\" /><path clip-path=\"url(#clip880)\" d=\"M 0 0 M44.7161 768.329 L47.5806 768.329 L47.5806 795.256 Q53.6281 794.874 56.8109 791.627 Q59.9619 788.349 59.9619 782.524 Q59.9619 779.151 59.1344 776 Q58.3069 772.817 56.6518 769.698 L62.1899 769.698 Q63.5267 772.849 64.227 776.159 Q64.9272 779.469 64.9272 782.875 Q64.9272 791.405 59.9619 796.402 Q54.9967 801.367 46.5303 801.367 Q37.7774 801.367 32.6531 796.656 Q27.4968 791.914 27.4968 783.893 Q27.4968 776.7 32.1438 772.53 Q36.7589 768.329 44.7161 768.329 M42.9973 774.185 Q38.1912 774.249 35.3266 776.891 Q32.4621 779.501 32.4621 783.829 Q32.4621 788.731 35.2312 791.691 Q38.0002 794.619 43.0292 795.065 L42.9973 774.185 Z\" fill=\"#000000\" fill-rule=\"evenodd\" fill-opacity=\"1\" /><path clip-path=\"url(#clip880)\" d=\"M 0 0 M33.8307 738.06 Q33.2578 739.047 33.0032 740.224 Q32.7167 741.37 32.7167 742.771 Q32.7167 747.736 35.9632 750.409 Q39.1779 753.051 45.2253 753.051 L64.0042 753.051 L64.0042 758.939 L28.3562 758.939 L28.3562 753.051 L33.8944 753.051 Q30.6479 751.205 29.0883 748.245 Q27.4968 745.285 27.4968 741.052 Q27.4968 740.447 27.5923 739.715 Q27.656 738.983 27.8151 738.092 L33.8307 738.06 Z\" fill=\"#000000\" fill-rule=\"evenodd\" fill-opacity=\"1\" /><path clip-path=\"url(#clip880)\" d=\"M 0 0 M29.7248 707.696 L35.1993 707.696 Q33.8307 710.178 33.1623 712.693 Q32.4621 715.175 32.4621 717.722 Q32.4621 723.419 36.0905 726.57 Q39.6872 729.721 46.212 729.721 Q52.7369 729.721 56.3653 726.57 Q59.9619 723.419 59.9619 717.722 Q59.9619 715.175 59.2935 712.693 Q58.5933 710.178 57.2247 707.696 L62.6355 707.696 Q63.7814 710.146 64.3543 712.788 Q64.9272 715.398 64.9272 718.358 Q64.9272 726.411 59.8664 731.153 Q54.8057 735.896 46.212 735.896 Q37.491 735.896 32.4939 731.121 Q27.4968 726.315 27.4968 717.976 Q27.4968 715.271 28.0697 712.693 Q28.6108 710.115 29.7248 707.696 Z\" fill=\"#000000\" fill-rule=\"evenodd\" fill-opacity=\"1\" /><path clip-path=\"url(#clip880)\" d=\"M 0 0 M44.7161 667.019 L47.5806 667.019 L47.5806 693.946 Q53.6281 693.564 56.8109 690.317 Q59.9619 687.039 59.9619 681.214 Q59.9619 677.84 59.1344 674.689 Q58.3069 671.507 56.6518 668.387 L62.1899 668.387 Q63.5267 671.538 64.227 674.849 Q64.9272 678.159 64.9272 681.564 Q64.9272 690.094 59.9619 695.091 Q54.9967 700.057 46.5303 700.057 Q37.7774 700.057 32.6531 695.346 Q27.4968 690.604 27.4968 682.583 Q27.4968 675.39 32.1438 671.22 Q36.7589 667.019 44.7161 667.019 M42.9973 672.875 Q38.1912 672.939 35.3266 675.581 Q32.4621 678.19 32.4621 682.519 Q32.4621 687.421 35.2312 690.381 Q38.0002 693.309 43.0292 693.755 L42.9973 672.875 Z\" fill=\"#000000\" fill-rule=\"evenodd\" fill-opacity=\"1\" /><path clip-path=\"url(#clip880)\" d=\"M 0 0 M42.4881 627.774 L64.0042 627.774 L64.0042 633.631 L42.679 633.631 Q37.6183 633.631 35.1038 635.604 Q32.5894 637.577 32.5894 641.524 Q32.5894 646.266 35.6131 649.004 Q38.6368 651.741 43.8567 651.741 L64.0042 651.741 L64.0042 657.629 L28.3562 657.629 L28.3562 651.741 L33.8944 651.741 Q30.6797 649.64 29.0883 646.808 Q27.4968 643.943 27.4968 640.219 Q27.4968 634.076 31.3163 630.925 Q35.1038 627.774 42.4881 627.774 Z\" fill=\"#000000\" fill-rule=\"evenodd\" fill-opacity=\"1\" /><path clip-path=\"url(#clip880)\" d=\"M 0 0 M18.2347 610.3 L28.3562 610.3 L28.3562 598.237 L32.9077 598.237 L32.9077 610.3 L52.2594 610.3 Q56.6199 610.3 57.8613 609.123 Q59.1026 607.913 59.1026 604.253 L59.1026 598.237 L64.0042 598.237 L64.0042 604.253 Q64.0042 611.032 61.4897 613.61 Q58.9434 616.189 52.2594 616.189 L32.9077 616.189 L32.9077 620.485 L28.3562 620.485 L28.3562 616.189 L18.2347 616.189 L18.2347 610.3 Z\" fill=\"#000000\" fill-rule=\"evenodd\" fill-opacity=\"1\" /><path clip-path=\"url(#clip880)\" d=\"M 0 0 M46.0847 574.334 Q46.0847 581.432 47.7079 584.169 Q49.3312 586.906 53.2461 586.906 Q56.3653 586.906 58.2114 584.869 Q60.0256 582.8 60.0256 579.267 Q60.0256 574.398 56.5881 571.469 Q53.1188 568.509 47.3897 568.509 L46.0847 568.509 L46.0847 574.334 M43.6657 562.653 L64.0042 562.653 L64.0042 568.509 L58.5933 568.509 Q61.8398 570.515 63.3994 573.506 Q64.9272 576.498 64.9272 580.827 Q64.9272 586.302 61.8716 589.548 Q58.7843 592.763 53.6281 592.763 Q47.6125 592.763 44.5569 588.752 Q41.5014 584.71 41.5014 576.721 L41.5014 568.509 L40.9285 568.509 Q36.8862 568.509 34.6901 571.183 Q32.4621 573.825 32.4621 578.631 Q32.4621 581.686 33.1941 584.583 Q33.9262 587.479 35.3903 590.153 L29.9795 590.153 Q28.7381 586.938 28.1334 583.914 Q27.4968 580.891 27.4968 578.026 Q27.4968 570.292 31.5072 566.472 Q35.5176 562.653 43.6657 562.653 Z\" fill=\"#000000\" fill-rule=\"evenodd\" fill-opacity=\"1\" /><path clip-path=\"url(#clip880)\" d=\"M 0 0 M45.7664 527.132 Q39.4007 527.132 35.8996 529.774 Q32.3984 532.384 32.3984 537.126 Q32.3984 541.837 35.8996 544.479 Q39.4007 547.089 45.7664 547.089 Q52.1003 547.089 55.6014 544.479 Q59.1026 541.837 59.1026 537.126 Q59.1026 532.384 55.6014 529.774 Q52.1003 527.132 45.7664 527.132 M59.58 521.276 Q68.683 521.276 73.1071 525.318 Q77.5631 529.36 77.5631 537.699 Q77.5631 540.787 77.0857 543.524 Q76.6401 546.261 75.6852 548.839 L69.9879 548.839 Q71.3884 546.261 72.0568 543.747 Q72.7252 541.232 72.7252 538.622 Q72.7252 532.861 69.7015 529.997 Q66.7096 527.132 60.6303 527.132 L57.7339 527.132 Q60.885 528.947 62.4446 531.779 Q64.0042 534.612 64.0042 538.559 Q64.0042 545.115 59.0071 549.126 Q54.01 553.136 45.7664 553.136 Q37.491 553.136 32.4939 549.126 Q27.4968 545.115 27.4968 538.559 Q27.4968 534.612 29.0564 531.779 Q30.616 528.947 33.7671 527.132 L28.3562 527.132 L28.3562 521.276 L59.58 521.276 Z\" fill=\"#000000\" fill-rule=\"evenodd\" fill-opacity=\"1\" /><path clip-path=\"url(#clip880)\" d=\"M 0 0 M44.7161 478.721 L47.5806 478.721 L47.5806 505.648 Q53.6281 505.266 56.8109 502.02 Q59.9619 498.741 59.9619 492.917 Q59.9619 489.543 59.1344 486.392 Q58.3069 483.209 56.6518 480.09 L62.1899 480.09 Q63.5267 483.241 64.227 486.551 Q64.9272 489.861 64.9272 493.267 Q64.9272 501.797 59.9619 506.794 Q54.9967 511.759 46.5303 511.759 Q37.7774 511.759 32.6531 507.048 Q27.4968 502.306 27.4968 494.285 Q27.4968 487.092 32.1438 482.922 Q36.7589 478.721 44.7161 478.721 M42.9973 484.578 Q38.1912 484.641 35.3266 487.283 Q32.4621 489.893 32.4621 494.222 Q32.4621 499.123 35.2312 502.083 Q38.0002 505.011 43.0292 505.457 L42.9973 484.578 Z\" fill=\"#000000\" fill-rule=\"evenodd\" fill-opacity=\"1\" /><path clip-path=\"url(#clip880)\" d=\"M 0 0 M668.508 18.8205 L668.508 65.8515 L678.392 65.8515 Q690.909 65.8515 696.702 60.1802 Q702.535 54.509 702.535 42.2752 Q702.535 30.1225 696.702 24.4918 Q690.909 18.8205 678.392 18.8205 L668.508 18.8205 M660.325 12.096 L677.136 12.096 Q694.717 12.096 702.94 19.4281 Q711.164 26.7198 711.164 42.2752 Q711.164 57.9117 702.9 65.2439 Q694.636 72.576 677.136 72.576 L660.325 72.576 L660.325 12.096 Z\" fill=\"#000000\" fill-rule=\"evenodd\" fill-opacity=\"1\" /><path clip-path=\"url(#clip880)\" d=\"M 0 0 M762.691 48.0275 L762.691 51.6733 L728.421 51.6733 Q728.907 59.3701 733.039 63.421 Q737.211 67.4314 744.624 67.4314 Q748.918 67.4314 752.929 66.3781 Q756.979 65.3249 760.949 63.2184 L760.949 70.267 Q756.939 71.9684 752.726 72.8596 Q748.513 73.7508 744.179 73.7508 Q733.322 73.7508 726.962 67.4314 Q720.643 61.1119 720.643 50.3365 Q720.643 39.1965 726.638 32.6746 Q732.674 26.1121 742.882 26.1121 Q752.037 26.1121 757.344 32.0264 Q762.691 37.9003 762.691 48.0275 M755.238 45.84 Q755.157 39.7232 751.794 36.0774 Q748.473 32.4315 742.963 32.4315 Q736.725 32.4315 732.958 35.9558 Q729.231 39.4801 728.664 45.8805 L755.238 45.84 Z\" fill=\"#000000\" fill-rule=\"evenodd\" fill-opacity=\"1\" /><path clip-path=\"url(#clip880)\" d=\"M 0 0 M810.249 35.9153 Q813.044 30.8922 816.933 28.5022 Q820.822 26.1121 826.088 26.1121 Q833.177 26.1121 837.025 31.0947 Q840.874 36.0368 840.874 45.1919 L840.874 72.576 L833.379 72.576 L833.379 45.4349 Q833.379 38.913 831.07 35.7533 Q828.761 32.5936 824.022 32.5936 Q818.229 32.5936 814.867 36.4419 Q811.505 40.2903 811.505 46.9338 L811.505 72.576 L804.01 72.576 L804.01 45.4349 Q804.01 38.8725 801.701 35.7533 Q799.392 32.5936 794.572 32.5936 Q788.86 32.5936 785.498 36.4824 Q782.136 40.3308 782.136 46.9338 L782.136 72.576 L774.641 72.576 L774.641 27.2059 L782.136 27.2059 L782.136 34.2544 Q784.688 30.082 788.252 28.0971 Q791.817 26.1121 796.719 26.1121 Q801.661 26.1121 805.104 28.6237 Q808.588 31.1352 810.249 35.9153 Z\" fill=\"#000000\" fill-rule=\"evenodd\" fill-opacity=\"1\" /><path clip-path=\"url(#clip880)\" d=\"M 0 0 M873.321 32.4315 Q867.326 32.4315 863.842 37.1306 Q860.359 41.7891 860.359 49.9314 Q860.359 58.0738 863.802 62.7728 Q867.286 67.4314 873.321 67.4314 Q879.276 67.4314 882.76 62.7323 Q886.244 58.0333 886.244 49.9314 Q886.244 41.8701 882.76 37.1711 Q879.276 32.4315 873.321 32.4315 M873.321 26.1121 Q883.044 26.1121 888.593 32.4315 Q894.143 38.7509 894.143 49.9314 Q894.143 61.0714 888.593 67.4314 Q883.044 73.7508 873.321 73.7508 Q863.559 73.7508 858.009 67.4314 Q852.5 61.0714 852.5 49.9314 Q852.5 38.7509 858.009 32.4315 Q863.559 26.1121 873.321 26.1121 Z\" fill=\"#000000\" fill-rule=\"evenodd\" fill-opacity=\"1\" /><path clip-path=\"url(#clip880)\" d=\"M 0 0 M939.149 28.9478 L939.149 35.9153 Q935.989 34.1734 932.789 33.3227 Q929.629 32.4315 926.388 32.4315 Q919.137 32.4315 915.127 37.0496 Q911.116 41.6271 911.116 49.9314 Q911.116 58.2358 915.127 62.8538 Q919.137 67.4314 926.388 67.4314 Q929.629 67.4314 932.789 66.5807 Q935.989 65.6895 939.149 63.9476 L939.149 70.8341 Q936.029 72.2924 932.667 73.0216 Q929.345 73.7508 925.578 73.7508 Q915.329 73.7508 909.293 67.3098 Q903.258 60.8689 903.258 49.9314 Q903.258 38.832 909.334 32.472 Q915.451 26.1121 926.064 26.1121 Q929.507 26.1121 932.789 26.8413 Q936.07 27.5299 939.149 28.9478 Z\" fill=\"#000000\" fill-rule=\"evenodd\" fill-opacity=\"1\" /><path clip-path=\"url(#clip880)\" d=\"M 0 0 M978.402 34.1734 Q977.146 33.4443 975.647 33.1202 Q974.189 32.7556 972.407 32.7556 Q966.087 32.7556 962.684 36.8875 Q959.322 40.9789 959.322 48.6757 L959.322 72.576 L951.828 72.576 L951.828 27.2059 L959.322 27.2059 L959.322 34.2544 Q961.672 30.1225 965.439 28.1376 Q969.206 26.1121 974.594 26.1121 Q975.364 26.1121 976.295 26.2337 Q977.227 26.3147 978.361 26.5172 L978.402 34.1734 Z\" fill=\"#000000\" fill-rule=\"evenodd\" fill-opacity=\"1\" /><path clip-path=\"url(#clip880)\" d=\"M 0 0 M1006.84 49.7694 Q997.806 49.7694 994.322 51.8354 Q990.838 53.9013 990.838 58.8839 Q990.838 62.8538 993.431 65.2034 Q996.064 67.5124 1000.56 67.5124 Q1006.76 67.5124 1010.49 63.1374 Q1014.25 58.7219 1014.25 51.4303 L1014.25 49.7694 L1006.84 49.7694 M1021.71 46.6907 L1021.71 72.576 L1014.25 72.576 L1014.25 65.6895 Q1011.7 69.8214 1007.89 71.8063 Q1004.08 73.7508 998.575 73.7508 Q991.608 73.7508 987.476 69.8619 Q983.384 65.9325 983.384 59.3701 Q983.384 51.7138 988.489 47.825 Q993.633 43.9361 1003.8 43.9361 L1014.25 43.9361 L1014.25 43.2069 Q1014.25 38.0623 1010.85 35.2672 Q1007.49 32.4315 1001.37 32.4315 Q997.482 32.4315 993.795 33.3632 Q990.109 34.295 986.706 36.1584 L986.706 29.2718 Q990.798 27.692 994.646 26.9223 Q998.494 26.1121 1002.14 26.1121 Q1011.98 26.1121 1016.84 31.2163 Q1021.71 36.3204 1021.71 46.6907 Z\" fill=\"#000000\" fill-rule=\"evenodd\" fill-opacity=\"1\" /><path clip-path=\"url(#clip880)\" d=\"M 0 0 M1044.43 14.324 L1044.43 27.2059 L1059.78 27.2059 L1059.78 32.9987 L1044.43 32.9987 L1044.43 57.6282 Q1044.43 63.1779 1045.93 64.7578 Q1047.47 66.3376 1052.13 66.3376 L1059.78 66.3376 L1059.78 72.576 L1052.13 72.576 Q1043.5 72.576 1040.22 69.3758 Q1036.94 66.1351 1036.94 57.6282 L1036.94 32.9987 L1031.47 32.9987 L1031.47 27.2059 L1036.94 27.2059 L1036.94 14.324 L1044.43 14.324 Z\" fill=\"#000000\" fill-rule=\"evenodd\" fill-opacity=\"1\" /><path clip-path=\"url(#clip880)\" d=\"M 0 0 M1111.88 72.576 L1088.79 12.096 L1097.34 12.096 L1116.5 63.0159 L1135.7 12.096 L1144.21 12.096 L1121.16 72.576 L1111.88 72.576 Z\" fill=\"#000000\" fill-rule=\"evenodd\" fill-opacity=\"1\" /><path clip-path=\"url(#clip880)\" d=\"M 0 0 M1166.89 49.7694 Q1157.86 49.7694 1154.37 51.8354 Q1150.89 53.9013 1150.89 58.8839 Q1150.89 62.8538 1153.48 65.2034 Q1156.12 67.5124 1160.61 67.5124 Q1166.81 67.5124 1170.54 63.1374 Q1174.3 58.7219 1174.3 51.4303 L1174.3 49.7694 L1166.89 49.7694 M1181.76 46.6907 L1181.76 72.576 L1174.3 72.576 L1174.3 65.6895 Q1171.75 69.8214 1167.94 71.8063 Q1164.14 73.7508 1158.63 73.7508 Q1151.66 73.7508 1147.53 69.8619 Q1143.44 65.9325 1143.44 59.3701 Q1143.44 51.7138 1148.54 47.825 Q1153.68 43.9361 1163.85 43.9361 L1174.3 43.9361 L1174.3 43.2069 Q1174.3 38.0623 1170.9 35.2672 Q1167.54 32.4315 1161.42 32.4315 Q1157.53 32.4315 1153.85 33.3632 Q1150.16 34.295 1146.76 36.1584 L1146.76 29.2718 Q1150.85 27.692 1154.7 26.9223 Q1158.55 26.1121 1162.19 26.1121 Q1172.04 26.1121 1176.9 31.2163 Q1181.76 36.3204 1181.76 46.6907 Z\" fill=\"#000000\" fill-rule=\"evenodd\" fill-opacity=\"1\" /><path clip-path=\"url(#clip880)\" d=\"M 0 0 M1229.76 28.9478 L1229.76 35.9153 Q1226.6 34.1734 1223.4 33.3227 Q1220.24 32.4315 1217 32.4315 Q1209.75 32.4315 1205.74 37.0496 Q1201.73 41.6271 1201.73 49.9314 Q1201.73 58.2358 1205.74 62.8538 Q1209.75 67.4314 1217 67.4314 Q1220.24 67.4314 1223.4 66.5807 Q1226.6 65.6895 1229.76 63.9476 L1229.76 70.8341 Q1226.64 72.2924 1223.28 73.0216 Q1219.96 73.7508 1216.19 73.7508 Q1205.94 73.7508 1199.91 67.3098 Q1193.87 60.8689 1193.87 49.9314 Q1193.87 38.832 1199.95 32.472 Q1206.06 26.1121 1216.68 26.1121 Q1220.12 26.1121 1223.4 26.8413 Q1226.68 27.5299 1229.76 28.9478 Z\" fill=\"#000000\" fill-rule=\"evenodd\" fill-opacity=\"1\" /><path clip-path=\"url(#clip880)\" d=\"M 0 0 M1275.37 28.9478 L1275.37 35.9153 Q1272.21 34.1734 1269.01 33.3227 Q1265.85 32.4315 1262.61 32.4315 Q1255.36 32.4315 1251.35 37.0496 Q1247.34 41.6271 1247.34 49.9314 Q1247.34 58.2358 1251.35 62.8538 Q1255.36 67.4314 1262.61 67.4314 Q1265.85 67.4314 1269.01 66.5807 Q1272.21 65.6895 1275.37 63.9476 L1275.37 70.8341 Q1272.25 72.2924 1268.89 73.0216 Q1265.57 73.7508 1261.8 73.7508 Q1251.55 73.7508 1245.52 67.3098 Q1239.48 60.8689 1239.48 49.9314 Q1239.48 38.832 1245.56 32.472 Q1251.68 26.1121 1262.29 26.1121 Q1265.73 26.1121 1269.01 26.8413 Q1272.29 27.5299 1275.37 28.9478 Z\" fill=\"#000000\" fill-rule=\"evenodd\" fill-opacity=\"1\" /><path clip-path=\"url(#clip880)\" d=\"M 0 0 M1288.34 27.2059 L1295.79 27.2059 L1295.79 72.576 L1288.34 72.576 L1288.34 27.2059 M1288.34 9.54393 L1295.79 9.54393 L1295.79 18.9825 L1288.34 18.9825 L1288.34 9.54393 Z\" fill=\"#000000\" fill-rule=\"evenodd\" fill-opacity=\"1\" /><path clip-path=\"url(#clip880)\" d=\"M 0 0 M1349.1 45.1919 L1349.1 72.576 L1341.65 72.576 L1341.65 45.4349 Q1341.65 38.994 1339.13 35.7938 Q1336.62 32.5936 1331.6 32.5936 Q1325.56 32.5936 1322.08 36.4419 Q1318.6 40.2903 1318.6 46.9338 L1318.6 72.576 L1311.1 72.576 L1311.1 27.2059 L1318.6 27.2059 L1318.6 34.2544 Q1321.27 30.163 1324.88 28.1376 Q1328.52 26.1121 1333.26 26.1121 Q1341.08 26.1121 1345.09 30.9732 Q1349.1 35.7938 1349.1 45.1919 Z\" fill=\"#000000\" fill-rule=\"evenodd\" fill-opacity=\"1\" /><path clip-path=\"url(#clip880)\" d=\"M 0 0 M1402.77 48.0275 L1402.77 51.6733 L1368.5 51.6733 Q1368.99 59.3701 1373.12 63.421 Q1377.29 67.4314 1384.71 67.4314 Q1389 67.4314 1393.01 66.3781 Q1397.06 65.3249 1401.03 63.2184 L1401.03 70.267 Q1397.02 71.9684 1392.81 72.8596 Q1388.6 73.7508 1384.26 73.7508 Q1373.41 73.7508 1367.05 67.4314 Q1360.73 61.1119 1360.73 50.3365 Q1360.73 39.1965 1366.72 32.6746 Q1372.76 26.1121 1382.97 26.1121 Q1392.12 26.1121 1397.43 32.0264 Q1402.77 37.9003 1402.77 48.0275 M1395.32 45.84 Q1395.24 39.7232 1391.88 36.0774 Q1388.56 32.4315 1383.05 32.4315 Q1376.81 32.4315 1373.04 35.9558 Q1369.31 39.4801 1368.75 45.8805 L1395.32 45.84 Z\" fill=\"#000000\" fill-rule=\"evenodd\" fill-opacity=\"1\" /><path clip-path=\"url(#clip880)\" d=\"M 0 0 M1461.92 20.1573 L1450.82 50.2555 L1473.06 50.2555 L1461.92 20.1573 M1457.3 12.096 L1466.58 12.096 L1489.63 72.576 L1481.12 72.576 L1475.61 57.061 L1448.35 57.061 L1442.84 72.576 L1434.21 72.576 L1457.3 12.096 Z\" fill=\"#000000\" fill-rule=\"evenodd\" fill-opacity=\"1\" /><path clip-path=\"url(#clip880)\" d=\"M 0 0 M1529.32 28.9478 L1529.32 35.9153 Q1526.17 34.1734 1522.96 33.3227 Q1519.81 32.4315 1516.56 32.4315 Q1509.31 32.4315 1505.3 37.0496 Q1501.29 41.6271 1501.29 49.9314 Q1501.29 58.2358 1505.3 62.8538 Q1509.31 67.4314 1516.56 67.4314 Q1519.81 67.4314 1522.96 66.5807 Q1526.17 65.6895 1529.32 63.9476 L1529.32 70.8341 Q1526.21 72.2924 1522.84 73.0216 Q1519.52 73.7508 1515.75 73.7508 Q1505.51 73.7508 1499.47 67.3098 Q1493.43 60.8689 1493.43 49.9314 Q1493.43 38.832 1499.51 32.472 Q1505.63 26.1121 1516.24 26.1121 Q1519.68 26.1121 1522.96 26.8413 Q1526.25 27.5299 1529.32 28.9478 Z\" fill=\"#000000\" fill-rule=\"evenodd\" fill-opacity=\"1\" /><path clip-path=\"url(#clip880)\" d=\"M 0 0 M1574.94 28.9478 L1574.94 35.9153 Q1571.78 34.1734 1568.58 33.3227 Q1565.42 32.4315 1562.18 32.4315 Q1554.93 32.4315 1550.92 37.0496 Q1546.91 41.6271 1546.91 49.9314 Q1546.91 58.2358 1550.92 62.8538 Q1554.93 67.4314 1562.18 67.4314 Q1565.42 67.4314 1568.58 66.5807 Q1571.78 65.6895 1574.94 63.9476 L1574.94 70.8341 Q1571.82 72.2924 1568.46 73.0216 Q1565.13 73.7508 1561.37 73.7508 Q1551.12 73.7508 1545.08 67.3098 Q1539.05 60.8689 1539.05 49.9314 Q1539.05 38.832 1545.12 32.472 Q1551.24 26.1121 1561.85 26.1121 Q1565.3 26.1121 1568.58 26.8413 Q1571.86 27.5299 1574.94 28.9478 Z\" fill=\"#000000\" fill-rule=\"evenodd\" fill-opacity=\"1\" /><path clip-path=\"url(#clip880)\" d=\"M 0 0 M1626.71 48.0275 L1626.71 51.6733 L1592.44 51.6733 Q1592.92 59.3701 1597.06 63.421 Q1601.23 67.4314 1608.64 67.4314 Q1612.94 67.4314 1616.95 66.3781 Q1621 65.3249 1624.97 63.2184 L1624.97 70.267 Q1620.96 71.9684 1616.74 72.8596 Q1612.53 73.7508 1608.2 73.7508 Q1597.34 73.7508 1590.98 67.4314 Q1584.66 61.1119 1584.66 50.3365 Q1584.66 39.1965 1590.66 32.6746 Q1596.69 26.1121 1606.9 26.1121 Q1616.05 26.1121 1621.36 32.0264 Q1626.71 37.9003 1626.71 48.0275 M1619.25 45.84 Q1619.17 39.7232 1615.81 36.0774 Q1612.49 32.4315 1606.98 32.4315 Q1600.74 32.4315 1596.97 35.9558 Q1593.25 39.4801 1592.68 45.8805 L1619.25 45.84 Z\" fill=\"#000000\" fill-rule=\"evenodd\" fill-opacity=\"1\" /><path clip-path=\"url(#clip880)\" d=\"M 0 0 M1646.15 65.7705 L1646.15 89.8329 L1638.66 89.8329 L1638.66 27.2059 L1646.15 27.2059 L1646.15 34.0924 Q1648.5 30.0415 1652.07 28.0971 Q1655.67 26.1121 1660.66 26.1121 Q1668.92 26.1121 1674.06 32.6746 Q1679.25 39.2371 1679.25 49.9314 Q1679.25 60.6258 1674.06 67.1883 Q1668.92 73.7508 1660.66 73.7508 Q1655.67 73.7508 1652.07 71.8063 Q1648.5 69.8214 1646.15 65.7705 M1671.51 49.9314 Q1671.51 41.7081 1668.11 37.0496 Q1664.75 32.3505 1658.83 32.3505 Q1652.92 32.3505 1649.52 37.0496 Q1646.15 41.7081 1646.15 49.9314 Q1646.15 58.1548 1649.52 62.8538 Q1652.92 67.5124 1658.83 67.5124 Q1664.75 67.5124 1668.11 62.8538 Q1671.51 58.1548 1671.51 49.9314 Z\" fill=\"#000000\" fill-rule=\"evenodd\" fill-opacity=\"1\" /><path clip-path=\"url(#clip880)\" d=\"M 0 0 M1698.98 14.324 L1698.98 27.2059 L1714.33 27.2059 L1714.33 32.9987 L1698.98 32.9987 L1698.98 57.6282 Q1698.98 63.1779 1700.48 64.7578 Q1702.01 66.3376 1706.67 66.3376 L1714.33 66.3376 L1714.33 72.576 L1706.67 72.576 Q1698.04 72.576 1694.76 69.3758 Q1691.48 66.1351 1691.48 57.6282 L1691.48 32.9987 L1686.01 32.9987 L1686.01 27.2059 L1691.48 27.2059 L1691.48 14.324 L1698.98 14.324 Z\" fill=\"#000000\" fill-rule=\"evenodd\" fill-opacity=\"1\" /><path clip-path=\"url(#clip880)\" d=\"M 0 0 M1744.75 49.7694 Q1735.72 49.7694 1732.23 51.8354 Q1728.75 53.9013 1728.75 58.8839 Q1728.75 62.8538 1731.34 65.2034 Q1733.98 67.5124 1738.47 67.5124 Q1744.67 67.5124 1748.4 63.1374 Q1752.17 58.7219 1752.17 51.4303 L1752.17 49.7694 L1744.75 49.7694 M1759.62 46.6907 L1759.62 72.576 L1752.17 72.576 L1752.17 65.6895 Q1749.61 69.8214 1745.81 71.8063 Q1742 73.7508 1736.49 73.7508 Q1729.52 73.7508 1725.39 69.8619 Q1721.3 65.9325 1721.3 59.3701 Q1721.3 51.7138 1726.4 47.825 Q1731.55 43.9361 1741.71 43.9361 L1752.17 43.9361 L1752.17 43.2069 Q1752.17 38.0623 1748.76 35.2672 Q1745.4 32.4315 1739.28 32.4315 Q1735.39 32.4315 1731.71 33.3632 Q1728.02 34.295 1724.62 36.1584 L1724.62 29.2718 Q1728.71 27.692 1732.56 26.9223 Q1736.41 26.1121 1740.05 26.1121 Q1749.9 26.1121 1754.76 31.2163 Q1759.62 36.3204 1759.62 46.6907 Z\" fill=\"#000000\" fill-rule=\"evenodd\" fill-opacity=\"1\" /><path clip-path=\"url(#clip880)\" d=\"M 0 0 M1812.69 45.1919 L1812.69 72.576 L1805.23 72.576 L1805.23 45.4349 Q1805.23 38.994 1802.72 35.7938 Q1800.21 32.5936 1795.19 32.5936 Q1789.15 32.5936 1785.67 36.4419 Q1782.18 40.2903 1782.18 46.9338 L1782.18 72.576 L1774.69 72.576 L1774.69 27.2059 L1782.18 27.2059 L1782.18 34.2544 Q1784.86 30.163 1788.46 28.1376 Q1792.11 26.1121 1796.85 26.1121 Q1804.66 26.1121 1808.68 30.9732 Q1812.69 35.7938 1812.69 45.1919 Z\" fill=\"#000000\" fill-rule=\"evenodd\" fill-opacity=\"1\" /><path clip-path=\"url(#clip880)\" d=\"M 0 0 M1860.2 28.9478 L1860.2 35.9153 Q1857.04 34.1734 1853.84 33.3227 Q1850.68 32.4315 1847.44 32.4315 Q1840.19 32.4315 1836.18 37.0496 Q1832.17 41.6271 1832.17 49.9314 Q1832.17 58.2358 1836.18 62.8538 Q1840.19 67.4314 1847.44 67.4314 Q1850.68 67.4314 1853.84 66.5807 Q1857.04 65.6895 1860.2 63.9476 L1860.2 70.8341 Q1857.08 72.2924 1853.72 73.0216 Q1850.4 73.7508 1846.63 73.7508 Q1836.38 73.7508 1830.35 67.3098 Q1824.31 60.8689 1824.31 49.9314 Q1824.31 38.832 1830.39 32.472 Q1836.5 26.1121 1847.12 26.1121 Q1850.56 26.1121 1853.84 26.8413 Q1857.12 27.5299 1860.2 28.9478 Z\" fill=\"#000000\" fill-rule=\"evenodd\" fill-opacity=\"1\" /><path clip-path=\"url(#clip880)\" d=\"M 0 0 M1911.97 48.0275 L1911.97 51.6733 L1877.7 51.6733 Q1878.19 59.3701 1882.32 63.421 Q1886.49 67.4314 1893.91 67.4314 Q1898.2 67.4314 1902.21 66.3781 Q1906.26 65.3249 1910.23 63.2184 L1910.23 70.267 Q1906.22 71.9684 1902.01 72.8596 Q1897.8 73.7508 1893.46 73.7508 Q1882.6 73.7508 1876.24 67.4314 Q1869.92 61.1119 1869.92 50.3365 Q1869.92 39.1965 1875.92 32.6746 Q1881.96 26.1121 1892.16 26.1121 Q1901.32 26.1121 1906.63 32.0264 Q1911.97 37.9003 1911.97 48.0275 M1904.52 45.84 Q1904.44 39.7232 1901.08 36.0774 Q1897.75 32.4315 1892.25 32.4315 Q1886.01 32.4315 1882.24 35.9558 Q1878.51 39.4801 1877.95 45.8805 L1904.52 45.84 Z\" fill=\"#000000\" fill-rule=\"evenodd\" fill-opacity=\"1\" /><circle clip-path=\"url(#clip882)\" cx=\"1137.6\" cy=\"1337.98\" r=\"14\" fill=\"#0000ff\" fill-rule=\"evenodd\" fill-opacity=\"1\" stroke=\"#000000\" stroke-opacity=\"1\" stroke-width=\"3.2\"/>\n",
       "<circle clip-path=\"url(#clip882)\" cx=\"1901.35\" cy=\"436.236\" r=\"14\" fill=\"#0000ff\" fill-rule=\"evenodd\" fill-opacity=\"1\" stroke=\"#000000\" stroke-opacity=\"1\" stroke-width=\"3.2\"/>\n",
       "<circle clip-path=\"url(#clip882)\" cx=\"1384.8\" cy=\"1261.83\" r=\"14\" fill=\"#0000ff\" fill-rule=\"evenodd\" fill-opacity=\"1\" stroke=\"#000000\" stroke-opacity=\"1\" stroke-width=\"3.2\"/>\n",
       "<circle clip-path=\"url(#clip882)\" cx=\"1693.57\" cy=\"1171.21\" r=\"14\" fill=\"#0000ff\" fill-rule=\"evenodd\" fill-opacity=\"1\" stroke=\"#000000\" stroke-opacity=\"1\" stroke-width=\"3.2\"/>\n",
       "<circle clip-path=\"url(#clip882)\" cx=\"883.508\" cy=\"1312.58\" r=\"14\" fill=\"#0000ff\" fill-rule=\"evenodd\" fill-opacity=\"1\" stroke=\"#000000\" stroke-opacity=\"1\" stroke-width=\"3.2\"/>\n",
       "<circle clip-path=\"url(#clip882)\" cx=\"1189.82\" cy=\"1323.31\" r=\"14\" fill=\"#0000ff\" fill-rule=\"evenodd\" fill-opacity=\"1\" stroke=\"#000000\" stroke-opacity=\"1\" stroke-width=\"3.2\"/>\n",
       "<circle clip-path=\"url(#clip882)\" cx=\"667.575\" cy=\"1292.86\" r=\"14\" fill=\"#0000ff\" fill-rule=\"evenodd\" fill-opacity=\"1\" stroke=\"#000000\" stroke-opacity=\"1\" stroke-width=\"3.2\"/>\n",
       "<circle clip-path=\"url(#clip882)\" cx=\"2005.19\" cy=\"977.034\" r=\"14\" fill=\"#0000ff\" fill-rule=\"evenodd\" fill-opacity=\"1\" stroke=\"#000000\" stroke-opacity=\"1\" stroke-width=\"3.2\"/>\n",
       "<circle clip-path=\"url(#clip882)\" cx=\"1996.75\" cy=\"867.05\" r=\"14\" fill=\"#0000ff\" fill-rule=\"evenodd\" fill-opacity=\"1\" stroke=\"#000000\" stroke-opacity=\"1\" stroke-width=\"3.2\"/>\n",
       "<circle clip-path=\"url(#clip882)\" cx=\"834.936\" cy=\"1235.47\" r=\"14\" fill=\"#0000ff\" fill-rule=\"evenodd\" fill-opacity=\"1\" stroke=\"#000000\" stroke-opacity=\"1\" stroke-width=\"3.2\"/>\n",
       "<circle clip-path=\"url(#clip882)\" cx=\"1672.26\" cy=\"1079.3\" r=\"14\" fill=\"#0000ff\" fill-rule=\"evenodd\" fill-opacity=\"1\" stroke=\"#000000\" stroke-opacity=\"1\" stroke-width=\"3.2\"/>\n",
       "<circle clip-path=\"url(#clip882)\" cx=\"1632.96\" cy=\"1085.82\" r=\"14\" fill=\"#0000ff\" fill-rule=\"evenodd\" fill-opacity=\"1\" stroke=\"#000000\" stroke-opacity=\"1\" stroke-width=\"3.2\"/>\n",
       "<circle clip-path=\"url(#clip882)\" cx=\"1397.8\" cy=\"720.837\" r=\"14\" fill=\"#0000ff\" fill-rule=\"evenodd\" fill-opacity=\"1\" stroke=\"#000000\" stroke-opacity=\"1\" stroke-width=\"3.2\"/>\n",
       "<circle clip-path=\"url(#clip882)\" cx=\"1234.55\" cy=\"881.464\" r=\"14\" fill=\"#0000ff\" fill-rule=\"evenodd\" fill-opacity=\"1\" stroke=\"#000000\" stroke-opacity=\"1\" stroke-width=\"3.2\"/>\n",
       "<circle clip-path=\"url(#clip882)\" cx=\"1157.36\" cy=\"1255.83\" r=\"14\" fill=\"#0000ff\" fill-rule=\"evenodd\" fill-opacity=\"1\" stroke=\"#000000\" stroke-opacity=\"1\" stroke-width=\"3.2\"/>\n",
       "<circle clip-path=\"url(#clip882)\" cx=\"1256.79\" cy=\"1065.26\" r=\"14\" fill=\"#0000ff\" fill-rule=\"evenodd\" fill-opacity=\"1\" stroke=\"#000000\" stroke-opacity=\"1\" stroke-width=\"3.2\"/>\n",
       "<circle clip-path=\"url(#clip882)\" cx=\"1497.83\" cy=\"754.111\" r=\"14\" fill=\"#0000ff\" fill-rule=\"evenodd\" fill-opacity=\"1\" stroke=\"#000000\" stroke-opacity=\"1\" stroke-width=\"3.2\"/>\n",
       "<circle clip-path=\"url(#clip882)\" cx=\"1743.57\" cy=\"1036.72\" r=\"14\" fill=\"#0000ff\" fill-rule=\"evenodd\" fill-opacity=\"1\" stroke=\"#000000\" stroke-opacity=\"1\" stroke-width=\"3.2\"/>\n",
       "<circle clip-path=\"url(#clip882)\" cx=\"1376.15\" cy=\"978.622\" r=\"14\" fill=\"#0000ff\" fill-rule=\"evenodd\" fill-opacity=\"1\" stroke=\"#000000\" stroke-opacity=\"1\" stroke-width=\"3.2\"/>\n",
       "<circle clip-path=\"url(#clip882)\" cx=\"1110.6\" cy=\"1258.57\" r=\"14\" fill=\"#0000ff\" fill-rule=\"evenodd\" fill-opacity=\"1\" stroke=\"#000000\" stroke-opacity=\"1\" stroke-width=\"3.2\"/>\n",
       "<circle clip-path=\"url(#clip882)\" cx=\"1808.23\" cy=\"741.291\" r=\"14\" fill=\"#0000ff\" fill-rule=\"evenodd\" fill-opacity=\"1\" stroke=\"#000000\" stroke-opacity=\"1\" stroke-width=\"3.2\"/>\n",
       "<circle clip-path=\"url(#clip882)\" cx=\"1218.19\" cy=\"1096.91\" r=\"14\" fill=\"#0000ff\" fill-rule=\"evenodd\" fill-opacity=\"1\" stroke=\"#000000\" stroke-opacity=\"1\" stroke-width=\"3.2\"/>\n",
       "<circle clip-path=\"url(#clip882)\" cx=\"1721.48\" cy=\"867.454\" r=\"14\" fill=\"#0000ff\" fill-rule=\"evenodd\" fill-opacity=\"1\" stroke=\"#000000\" stroke-opacity=\"1\" stroke-width=\"3.2\"/>\n",
       "<circle clip-path=\"url(#clip882)\" cx=\"1277.51\" cy=\"1327.6\" r=\"14\" fill=\"#0000ff\" fill-rule=\"evenodd\" fill-opacity=\"1\" stroke=\"#000000\" stroke-opacity=\"1\" stroke-width=\"3.2\"/>\n",
       "<circle clip-path=\"url(#clip882)\" cx=\"1371.1\" cy=\"1230.51\" r=\"14\" fill=\"#0000ff\" fill-rule=\"evenodd\" fill-opacity=\"1\" stroke=\"#000000\" stroke-opacity=\"1\" stroke-width=\"3.2\"/>\n",
       "<circle clip-path=\"url(#clip882)\" cx=\"1918.2\" cy=\"1080.82\" r=\"14\" fill=\"#0000ff\" fill-rule=\"evenodd\" fill-opacity=\"1\" stroke=\"#000000\" stroke-opacity=\"1\" stroke-width=\"3.2\"/>\n",
       "<circle clip-path=\"url(#clip882)\" cx=\"1663.68\" cy=\"1127.91\" r=\"14\" fill=\"#0000ff\" fill-rule=\"evenodd\" fill-opacity=\"1\" stroke=\"#000000\" stroke-opacity=\"1\" stroke-width=\"3.2\"/>\n",
       "<circle clip-path=\"url(#clip882)\" cx=\"828.683\" cy=\"828.541\" r=\"14\" fill=\"#0000ff\" fill-rule=\"evenodd\" fill-opacity=\"1\" stroke=\"#000000\" stroke-opacity=\"1\" stroke-width=\"3.2\"/>\n",
       "<circle clip-path=\"url(#clip882)\" cx=\"1355.46\" cy=\"1214.01\" r=\"14\" fill=\"#0000ff\" fill-rule=\"evenodd\" fill-opacity=\"1\" stroke=\"#000000\" stroke-opacity=\"1\" stroke-width=\"3.2\"/>\n",
       "<circle clip-path=\"url(#clip882)\" cx=\"1171.58\" cy=\"1120\" r=\"14\" fill=\"#0000ff\" fill-rule=\"evenodd\" fill-opacity=\"1\" stroke=\"#000000\" stroke-opacity=\"1\" stroke-width=\"3.2\"/>\n",
       "<circle clip-path=\"url(#clip882)\" cx=\"1591.13\" cy=\"1243.06\" r=\"14\" fill=\"#0000ff\" fill-rule=\"evenodd\" fill-opacity=\"1\" stroke=\"#000000\" stroke-opacity=\"1\" stroke-width=\"3.2\"/>\n",
       "<circle clip-path=\"url(#clip882)\" cx=\"1790.63\" cy=\"1124.61\" r=\"14\" fill=\"#0000ff\" fill-rule=\"evenodd\" fill-opacity=\"1\" stroke=\"#000000\" stroke-opacity=\"1\" stroke-width=\"3.2\"/>\n",
       "<circle clip-path=\"url(#clip882)\" cx=\"1868.99\" cy=\"1140.66\" r=\"14\" fill=\"#0000ff\" fill-rule=\"evenodd\" fill-opacity=\"1\" stroke=\"#000000\" stroke-opacity=\"1\" stroke-width=\"3.2\"/>\n",
       "<circle clip-path=\"url(#clip882)\" cx=\"1477.3\" cy=\"1119.74\" r=\"14\" fill=\"#0000ff\" fill-rule=\"evenodd\" fill-opacity=\"1\" stroke=\"#000000\" stroke-opacity=\"1\" stroke-width=\"3.2\"/>\n",
       "<circle clip-path=\"url(#clip882)\" cx=\"1749.99\" cy=\"983.108\" r=\"14\" fill=\"#0000ff\" fill-rule=\"evenodd\" fill-opacity=\"1\" stroke=\"#000000\" stroke-opacity=\"1\" stroke-width=\"3.2\"/>\n",
       "<circle clip-path=\"url(#clip882)\" cx=\"1114.27\" cy=\"871.214\" r=\"14\" fill=\"#0000ff\" fill-rule=\"evenodd\" fill-opacity=\"1\" stroke=\"#000000\" stroke-opacity=\"1\" stroke-width=\"3.2\"/>\n",
       "<circle clip-path=\"url(#clip882)\" cx=\"1241.32\" cy=\"1327.15\" r=\"14\" fill=\"#0000ff\" fill-rule=\"evenodd\" fill-opacity=\"1\" stroke=\"#000000\" stroke-opacity=\"1\" stroke-width=\"3.2\"/>\n",
       "<circle clip-path=\"url(#clip882)\" cx=\"1657.86\" cy=\"1252.13\" r=\"14\" fill=\"#0000ff\" fill-rule=\"evenodd\" fill-opacity=\"1\" stroke=\"#000000\" stroke-opacity=\"1\" stroke-width=\"3.2\"/>\n",
       "<circle clip-path=\"url(#clip882)\" cx=\"1730.08\" cy=\"1134.36\" r=\"14\" fill=\"#0000ff\" fill-rule=\"evenodd\" fill-opacity=\"1\" stroke=\"#000000\" stroke-opacity=\"1\" stroke-width=\"3.2\"/>\n",
       "<circle clip-path=\"url(#clip882)\" cx=\"1692.01\" cy=\"1167.32\" r=\"14\" fill=\"#0000ff\" fill-rule=\"evenodd\" fill-opacity=\"1\" stroke=\"#000000\" stroke-opacity=\"1\" stroke-width=\"3.2\"/>\n",
       "<circle clip-path=\"url(#clip882)\" cx=\"979.556\" cy=\"404.273\" r=\"14\" fill=\"#0000ff\" fill-rule=\"evenodd\" fill-opacity=\"1\" stroke=\"#000000\" stroke-opacity=\"1\" stroke-width=\"3.2\"/>\n",
       "<circle clip-path=\"url(#clip882)\" cx=\"1489.56\" cy=\"1334.63\" r=\"14\" fill=\"#0000ff\" fill-rule=\"evenodd\" fill-opacity=\"1\" stroke=\"#000000\" stroke-opacity=\"1\" stroke-width=\"3.2\"/>\n",
       "<circle clip-path=\"url(#clip882)\" cx=\"1548.24\" cy=\"1300.72\" r=\"14\" fill=\"#0000ff\" fill-rule=\"evenodd\" fill-opacity=\"1\" stroke=\"#000000\" stroke-opacity=\"1\" stroke-width=\"3.2\"/>\n",
       "<circle clip-path=\"url(#clip882)\" cx=\"1569.27\" cy=\"851.131\" r=\"14\" fill=\"#0000ff\" fill-rule=\"evenodd\" fill-opacity=\"1\" stroke=\"#000000\" stroke-opacity=\"1\" stroke-width=\"3.2\"/>\n",
       "<circle clip-path=\"url(#clip882)\" cx=\"1491.9\" cy=\"1298.67\" r=\"14\" fill=\"#0000ff\" fill-rule=\"evenodd\" fill-opacity=\"1\" stroke=\"#000000\" stroke-opacity=\"1\" stroke-width=\"3.2\"/>\n",
       "<circle clip-path=\"url(#clip882)\" cx=\"620.141\" cy=\"913.157\" r=\"14\" fill=\"#0000ff\" fill-rule=\"evenodd\" fill-opacity=\"1\" stroke=\"#000000\" stroke-opacity=\"1\" stroke-width=\"3.2\"/>\n",
       "<circle clip-path=\"url(#clip882)\" cx=\"1056.77\" cy=\"1301.52\" r=\"14\" fill=\"#0000ff\" fill-rule=\"evenodd\" fill-opacity=\"1\" stroke=\"#000000\" stroke-opacity=\"1\" stroke-width=\"3.2\"/>\n",
       "<circle clip-path=\"url(#clip882)\" cx=\"1375.46\" cy=\"922.924\" r=\"14\" fill=\"#0000ff\" fill-rule=\"evenodd\" fill-opacity=\"1\" stroke=\"#000000\" stroke-opacity=\"1\" stroke-width=\"3.2\"/>\n",
       "<circle clip-path=\"url(#clip882)\" cx=\"586.36\" cy=\"1311.09\" r=\"14\" fill=\"#0000ff\" fill-rule=\"evenodd\" fill-opacity=\"1\" stroke=\"#000000\" stroke-opacity=\"1\" stroke-width=\"3.2\"/>\n",
       "<circle clip-path=\"url(#clip882)\" cx=\"946.806\" cy=\"414.332\" r=\"14\" fill=\"#0000ff\" fill-rule=\"evenodd\" fill-opacity=\"1\" stroke=\"#000000\" stroke-opacity=\"1\" stroke-width=\"3.2\"/>\n",
       "<circle clip-path=\"url(#clip882)\" cx=\"963.074\" cy=\"1207.96\" r=\"14\" fill=\"#0000ff\" fill-rule=\"evenodd\" fill-opacity=\"1\" stroke=\"#000000\" stroke-opacity=\"1\" stroke-width=\"3.2\"/>\n",
       "<circle clip-path=\"url(#clip882)\" cx=\"1152.65\" cy=\"963.718\" r=\"14\" fill=\"#0000ff\" fill-rule=\"evenodd\" fill-opacity=\"1\" stroke=\"#000000\" stroke-opacity=\"1\" stroke-width=\"3.2\"/>\n",
       "<circle clip-path=\"url(#clip882)\" cx=\"1424.65\" cy=\"1386.4\" r=\"14\" fill=\"#0000ff\" fill-rule=\"evenodd\" fill-opacity=\"1\" stroke=\"#000000\" stroke-opacity=\"1\" stroke-width=\"3.2\"/>\n",
       "<circle clip-path=\"url(#clip882)\" cx=\"1283.77\" cy=\"1128.76\" r=\"14\" fill=\"#0000ff\" fill-rule=\"evenodd\" fill-opacity=\"1\" stroke=\"#000000\" stroke-opacity=\"1\" stroke-width=\"3.2\"/>\n",
       "<circle clip-path=\"url(#clip882)\" cx=\"702.1\" cy=\"1363.81\" r=\"14\" fill=\"#0000ff\" fill-rule=\"evenodd\" fill-opacity=\"1\" stroke=\"#000000\" stroke-opacity=\"1\" stroke-width=\"3.2\"/>\n",
       "<circle clip-path=\"url(#clip882)\" cx=\"1683.59\" cy=\"1229.23\" r=\"14\" fill=\"#0000ff\" fill-rule=\"evenodd\" fill-opacity=\"1\" stroke=\"#000000\" stroke-opacity=\"1\" stroke-width=\"3.2\"/>\n",
       "<circle clip-path=\"url(#clip882)\" cx=\"1809.2\" cy=\"1120.24\" r=\"14\" fill=\"#0000ff\" fill-rule=\"evenodd\" fill-opacity=\"1\" stroke=\"#000000\" stroke-opacity=\"1\" stroke-width=\"3.2\"/>\n",
       "<circle clip-path=\"url(#clip882)\" cx=\"1250.8\" cy=\"936.77\" r=\"14\" fill=\"#0000ff\" fill-rule=\"evenodd\" fill-opacity=\"1\" stroke=\"#000000\" stroke-opacity=\"1\" stroke-width=\"3.2\"/>\n",
       "<circle clip-path=\"url(#clip882)\" cx=\"1055.51\" cy=\"1236.67\" r=\"14\" fill=\"#0000ff\" fill-rule=\"evenodd\" fill-opacity=\"1\" stroke=\"#000000\" stroke-opacity=\"1\" stroke-width=\"3.2\"/>\n",
       "<circle clip-path=\"url(#clip882)\" cx=\"1743.82\" cy=\"743.745\" r=\"14\" fill=\"#0000ff\" fill-rule=\"evenodd\" fill-opacity=\"1\" stroke=\"#000000\" stroke-opacity=\"1\" stroke-width=\"3.2\"/>\n",
       "<circle clip-path=\"url(#clip882)\" cx=\"1311.81\" cy=\"1032.66\" r=\"14\" fill=\"#0000ff\" fill-rule=\"evenodd\" fill-opacity=\"1\" stroke=\"#000000\" stroke-opacity=\"1\" stroke-width=\"3.2\"/>\n",
       "<circle clip-path=\"url(#clip882)\" cx=\"1599.35\" cy=\"1136.32\" r=\"14\" fill=\"#0000ff\" fill-rule=\"evenodd\" fill-opacity=\"1\" stroke=\"#000000\" stroke-opacity=\"1\" stroke-width=\"3.2\"/>\n",
       "<circle clip-path=\"url(#clip882)\" cx=\"1229.92\" cy=\"1264.27\" r=\"14\" fill=\"#0000ff\" fill-rule=\"evenodd\" fill-opacity=\"1\" stroke=\"#000000\" stroke-opacity=\"1\" stroke-width=\"3.2\"/>\n",
       "<circle clip-path=\"url(#clip882)\" cx=\"1347.26\" cy=\"935.115\" r=\"14\" fill=\"#0000ff\" fill-rule=\"evenodd\" fill-opacity=\"1\" stroke=\"#000000\" stroke-opacity=\"1\" stroke-width=\"3.2\"/>\n",
       "<circle clip-path=\"url(#clip882)\" cx=\"1716.94\" cy=\"879.533\" r=\"14\" fill=\"#0000ff\" fill-rule=\"evenodd\" fill-opacity=\"1\" stroke=\"#000000\" stroke-opacity=\"1\" stroke-width=\"3.2\"/>\n",
       "<circle clip-path=\"url(#clip882)\" cx=\"1587.23\" cy=\"1299.49\" r=\"14\" fill=\"#0000ff\" fill-rule=\"evenodd\" fill-opacity=\"1\" stroke=\"#000000\" stroke-opacity=\"1\" stroke-width=\"3.2\"/>\n",
       "<circle clip-path=\"url(#clip882)\" cx=\"2124.62\" cy=\"767.312\" r=\"14\" fill=\"#0000ff\" fill-rule=\"evenodd\" fill-opacity=\"1\" stroke=\"#000000\" stroke-opacity=\"1\" stroke-width=\"3.2\"/>\n",
       "<circle clip-path=\"url(#clip882)\" cx=\"1001.36\" cy=\"687.524\" r=\"14\" fill=\"#0000ff\" fill-rule=\"evenodd\" fill-opacity=\"1\" stroke=\"#000000\" stroke-opacity=\"1\" stroke-width=\"3.2\"/>\n",
       "<circle clip-path=\"url(#clip882)\" cx=\"1491.81\" cy=\"1301.38\" r=\"14\" fill=\"#0000ff\" fill-rule=\"evenodd\" fill-opacity=\"1\" stroke=\"#000000\" stroke-opacity=\"1\" stroke-width=\"3.2\"/>\n",
       "<circle clip-path=\"url(#clip882)\" cx=\"1205.4\" cy=\"1112.09\" r=\"14\" fill=\"#0000ff\" fill-rule=\"evenodd\" fill-opacity=\"1\" stroke=\"#000000\" stroke-opacity=\"1\" stroke-width=\"3.2\"/>\n",
       "<circle clip-path=\"url(#clip882)\" cx=\"1825.68\" cy=\"1304.11\" r=\"14\" fill=\"#0000ff\" fill-rule=\"evenodd\" fill-opacity=\"1\" stroke=\"#000000\" stroke-opacity=\"1\" stroke-width=\"3.2\"/>\n",
       "<circle clip-path=\"url(#clip882)\" cx=\"1742.97\" cy=\"1319.39\" r=\"14\" fill=\"#0000ff\" fill-rule=\"evenodd\" fill-opacity=\"1\" stroke=\"#000000\" stroke-opacity=\"1\" stroke-width=\"3.2\"/>\n",
       "<circle clip-path=\"url(#clip882)\" cx=\"1071.24\" cy=\"1184.16\" r=\"14\" fill=\"#0000ff\" fill-rule=\"evenodd\" fill-opacity=\"1\" stroke=\"#000000\" stroke-opacity=\"1\" stroke-width=\"3.2\"/>\n",
       "<circle clip-path=\"url(#clip882)\" cx=\"1938.58\" cy=\"533.013\" r=\"14\" fill=\"#0000ff\" fill-rule=\"evenodd\" fill-opacity=\"1\" stroke=\"#000000\" stroke-opacity=\"1\" stroke-width=\"3.2\"/>\n",
       "<circle clip-path=\"url(#clip882)\" cx=\"1005.66\" cy=\"1367.09\" r=\"14\" fill=\"#0000ff\" fill-rule=\"evenodd\" fill-opacity=\"1\" stroke=\"#000000\" stroke-opacity=\"1\" stroke-width=\"3.2\"/>\n",
       "<circle clip-path=\"url(#clip882)\" cx=\"1849.9\" cy=\"797.544\" r=\"14\" fill=\"#0000ff\" fill-rule=\"evenodd\" fill-opacity=\"1\" stroke=\"#000000\" stroke-opacity=\"1\" stroke-width=\"3.2\"/>\n",
       "<circle clip-path=\"url(#clip882)\" cx=\"1130.34\" cy=\"1338.5\" r=\"14\" fill=\"#0000ff\" fill-rule=\"evenodd\" fill-opacity=\"1\" stroke=\"#000000\" stroke-opacity=\"1\" stroke-width=\"3.2\"/>\n",
       "<circle clip-path=\"url(#clip882)\" cx=\"1895.11\" cy=\"484.048\" r=\"14\" fill=\"#0000ff\" fill-rule=\"evenodd\" fill-opacity=\"1\" stroke=\"#000000\" stroke-opacity=\"1\" stroke-width=\"3.2\"/>\n",
       "<circle clip-path=\"url(#clip882)\" cx=\"1403.71\" cy=\"919.188\" r=\"14\" fill=\"#0000ff\" fill-rule=\"evenodd\" fill-opacity=\"1\" stroke=\"#000000\" stroke-opacity=\"1\" stroke-width=\"3.2\"/>\n",
       "<circle clip-path=\"url(#clip882)\" cx=\"1861.09\" cy=\"1184.98\" r=\"14\" fill=\"#0000ff\" fill-rule=\"evenodd\" fill-opacity=\"1\" stroke=\"#000000\" stroke-opacity=\"1\" stroke-width=\"3.2\"/>\n",
       "<circle clip-path=\"url(#clip882)\" cx=\"2004.86\" cy=\"770.641\" r=\"14\" fill=\"#0000ff\" fill-rule=\"evenodd\" fill-opacity=\"1\" stroke=\"#000000\" stroke-opacity=\"1\" stroke-width=\"3.2\"/>\n",
       "<circle clip-path=\"url(#clip882)\" cx=\"1717.35\" cy=\"1036.45\" r=\"14\" fill=\"#0000ff\" fill-rule=\"evenodd\" fill-opacity=\"1\" stroke=\"#000000\" stroke-opacity=\"1\" stroke-width=\"3.2\"/>\n",
       "<circle clip-path=\"url(#clip882)\" cx=\"1681.4\" cy=\"1051.98\" r=\"14\" fill=\"#0000ff\" fill-rule=\"evenodd\" fill-opacity=\"1\" stroke=\"#000000\" stroke-opacity=\"1\" stroke-width=\"3.2\"/>\n",
       "<circle clip-path=\"url(#clip882)\" cx=\"665.933\" cy=\"940.57\" r=\"14\" fill=\"#0000ff\" fill-rule=\"evenodd\" fill-opacity=\"1\" stroke=\"#000000\" stroke-opacity=\"1\" stroke-width=\"3.2\"/>\n",
       "<circle clip-path=\"url(#clip882)\" cx=\"1535.33\" cy=\"1221.52\" r=\"14\" fill=\"#0000ff\" fill-rule=\"evenodd\" fill-opacity=\"1\" stroke=\"#000000\" stroke-opacity=\"1\" stroke-width=\"3.2\"/>\n",
       "<circle clip-path=\"url(#clip882)\" cx=\"2070.69\" cy=\"494.135\" r=\"14\" fill=\"#0000ff\" fill-rule=\"evenodd\" fill-opacity=\"1\" stroke=\"#000000\" stroke-opacity=\"1\" stroke-width=\"3.2\"/>\n",
       "<circle clip-path=\"url(#clip882)\" cx=\"1671.35\" cy=\"1247.92\" r=\"14\" fill=\"#0000ff\" fill-rule=\"evenodd\" fill-opacity=\"1\" stroke=\"#000000\" stroke-opacity=\"1\" stroke-width=\"3.2\"/>\n",
       "<circle clip-path=\"url(#clip882)\" cx=\"1460.92\" cy=\"953.547\" r=\"14\" fill=\"#0000ff\" fill-rule=\"evenodd\" fill-opacity=\"1\" stroke=\"#000000\" stroke-opacity=\"1\" stroke-width=\"3.2\"/>\n",
       "<circle clip-path=\"url(#clip882)\" cx=\"1015.82\" cy=\"1252.33\" r=\"14\" fill=\"#0000ff\" fill-rule=\"evenodd\" fill-opacity=\"1\" stroke=\"#000000\" stroke-opacity=\"1\" stroke-width=\"3.2\"/>\n",
       "<circle clip-path=\"url(#clip882)\" cx=\"613.552\" cy=\"1290.59\" r=\"14\" fill=\"#0000ff\" fill-rule=\"evenodd\" fill-opacity=\"1\" stroke=\"#000000\" stroke-opacity=\"1\" stroke-width=\"3.2\"/>\n",
       "<circle clip-path=\"url(#clip882)\" cx=\"1633.45\" cy=\"1234.77\" r=\"14\" fill=\"#0000ff\" fill-rule=\"evenodd\" fill-opacity=\"1\" stroke=\"#000000\" stroke-opacity=\"1\" stroke-width=\"3.2\"/>\n",
       "<circle clip-path=\"url(#clip882)\" cx=\"1545.84\" cy=\"1268.61\" r=\"14\" fill=\"#0000ff\" fill-rule=\"evenodd\" fill-opacity=\"1\" stroke=\"#000000\" stroke-opacity=\"1\" stroke-width=\"3.2\"/>\n",
       "<circle clip-path=\"url(#clip882)\" cx=\"1156.85\" cy=\"1365.67\" r=\"14\" fill=\"#0000ff\" fill-rule=\"evenodd\" fill-opacity=\"1\" stroke=\"#000000\" stroke-opacity=\"1\" stroke-width=\"3.2\"/>\n",
       "<circle clip-path=\"url(#clip882)\" cx=\"1394.45\" cy=\"1354.56\" r=\"14\" fill=\"#0000ff\" fill-rule=\"evenodd\" fill-opacity=\"1\" stroke=\"#000000\" stroke-opacity=\"1\" stroke-width=\"3.2\"/>\n",
       "<circle clip-path=\"url(#clip882)\" cx=\"1199.24\" cy=\"1358.29\" r=\"14\" fill=\"#0000ff\" fill-rule=\"evenodd\" fill-opacity=\"1\" stroke=\"#000000\" stroke-opacity=\"1\" stroke-width=\"3.2\"/>\n",
       "<circle clip-path=\"url(#clip882)\" cx=\"707.744\" cy=\"1025.85\" r=\"14\" fill=\"#0000ff\" fill-rule=\"evenodd\" fill-opacity=\"1\" stroke=\"#000000\" stroke-opacity=\"1\" stroke-width=\"3.2\"/>\n",
       "<circle clip-path=\"url(#clip882)\" cx=\"1627.17\" cy=\"714.772\" r=\"14\" fill=\"#0000ff\" fill-rule=\"evenodd\" fill-opacity=\"1\" stroke=\"#000000\" stroke-opacity=\"1\" stroke-width=\"3.2\"/>\n",
       "<circle clip-path=\"url(#clip882)\" cx=\"1511.54\" cy=\"1132.79\" r=\"14\" fill=\"#0000ff\" fill-rule=\"evenodd\" fill-opacity=\"1\" stroke=\"#000000\" stroke-opacity=\"1\" stroke-width=\"3.2\"/>\n",
       "<circle clip-path=\"url(#clip882)\" cx=\"1719.4\" cy=\"1223.28\" r=\"14\" fill=\"#0000ff\" fill-rule=\"evenodd\" fill-opacity=\"1\" stroke=\"#000000\" stroke-opacity=\"1\" stroke-width=\"3.2\"/>\n",
       "<circle clip-path=\"url(#clip882)\" cx=\"1262.08\" cy=\"586.169\" r=\"14\" fill=\"#0000ff\" fill-rule=\"evenodd\" fill-opacity=\"1\" stroke=\"#000000\" stroke-opacity=\"1\" stroke-width=\"3.2\"/>\n",
       "<circle clip-path=\"url(#clip882)\" cx=\"923.307\" cy=\"1245.01\" r=\"14\" fill=\"#0000ff\" fill-rule=\"evenodd\" fill-opacity=\"1\" stroke=\"#000000\" stroke-opacity=\"1\" stroke-width=\"3.2\"/>\n",
       "<circle clip-path=\"url(#clip882)\" cx=\"1155.76\" cy=\"1178.51\" r=\"14\" fill=\"#0000ff\" fill-rule=\"evenodd\" fill-opacity=\"1\" stroke=\"#000000\" stroke-opacity=\"1\" stroke-width=\"3.2\"/>\n",
       "<circle clip-path=\"url(#clip882)\" cx=\"2059.68\" cy=\"786.427\" r=\"14\" fill=\"#0000ff\" fill-rule=\"evenodd\" fill-opacity=\"1\" stroke=\"#000000\" stroke-opacity=\"1\" stroke-width=\"3.2\"/>\n",
       "<circle clip-path=\"url(#clip882)\" cx=\"1737.43\" cy=\"962.191\" r=\"14\" fill=\"#0000ff\" fill-rule=\"evenodd\" fill-opacity=\"1\" stroke=\"#000000\" stroke-opacity=\"1\" stroke-width=\"3.2\"/>\n",
       "<circle clip-path=\"url(#clip882)\" cx=\"1565.01\" cy=\"737.353\" r=\"14\" fill=\"#0000ff\" fill-rule=\"evenodd\" fill-opacity=\"1\" stroke=\"#000000\" stroke-opacity=\"1\" stroke-width=\"3.2\"/>\n",
       "<circle clip-path=\"url(#clip882)\" cx=\"1595.33\" cy=\"927.292\" r=\"14\" fill=\"#0000ff\" fill-rule=\"evenodd\" fill-opacity=\"1\" stroke=\"#000000\" stroke-opacity=\"1\" stroke-width=\"3.2\"/>\n",
       "<circle clip-path=\"url(#clip882)\" cx=\"1593.69\" cy=\"1151.55\" r=\"14\" fill=\"#0000ff\" fill-rule=\"evenodd\" fill-opacity=\"1\" stroke=\"#000000\" stroke-opacity=\"1\" stroke-width=\"3.2\"/>\n",
       "<circle clip-path=\"url(#clip882)\" cx=\"1894.03\" cy=\"1215.78\" r=\"14\" fill=\"#0000ff\" fill-rule=\"evenodd\" fill-opacity=\"1\" stroke=\"#000000\" stroke-opacity=\"1\" stroke-width=\"3.2\"/>\n",
       "<circle clip-path=\"url(#clip882)\" cx=\"1821.66\" cy=\"160.256\" r=\"14\" fill=\"#0000ff\" fill-rule=\"evenodd\" fill-opacity=\"1\" stroke=\"#000000\" stroke-opacity=\"1\" stroke-width=\"3.2\"/>\n",
       "<circle clip-path=\"url(#clip882)\" cx=\"1163.74\" cy=\"1190.95\" r=\"14\" fill=\"#0000ff\" fill-rule=\"evenodd\" fill-opacity=\"1\" stroke=\"#000000\" stroke-opacity=\"1\" stroke-width=\"3.2\"/>\n",
       "<circle clip-path=\"url(#clip882)\" cx=\"1872.49\" cy=\"968.152\" r=\"14\" fill=\"#0000ff\" fill-rule=\"evenodd\" fill-opacity=\"1\" stroke=\"#000000\" stroke-opacity=\"1\" stroke-width=\"3.2\"/>\n",
       "<circle clip-path=\"url(#clip882)\" cx=\"1716.69\" cy=\"1135.57\" r=\"14\" fill=\"#0000ff\" fill-rule=\"evenodd\" fill-opacity=\"1\" stroke=\"#000000\" stroke-opacity=\"1\" stroke-width=\"3.2\"/>\n",
       "<circle clip-path=\"url(#clip882)\" cx=\"1125.77\" cy=\"1271.03\" r=\"14\" fill=\"#0000ff\" fill-rule=\"evenodd\" fill-opacity=\"1\" stroke=\"#000000\" stroke-opacity=\"1\" stroke-width=\"3.2\"/>\n",
       "<circle clip-path=\"url(#clip882)\" cx=\"2292.38\" cy=\"485.206\" r=\"14\" fill=\"#0000ff\" fill-rule=\"evenodd\" fill-opacity=\"1\" stroke=\"#000000\" stroke-opacity=\"1\" stroke-width=\"3.2\"/>\n",
       "<circle clip-path=\"url(#clip882)\" cx=\"1335.2\" cy=\"845.177\" r=\"14\" fill=\"#0000ff\" fill-rule=\"evenodd\" fill-opacity=\"1\" stroke=\"#000000\" stroke-opacity=\"1\" stroke-width=\"3.2\"/>\n",
       "<circle clip-path=\"url(#clip882)\" cx=\"1317.61\" cy=\"994.131\" r=\"14\" fill=\"#0000ff\" fill-rule=\"evenodd\" fill-opacity=\"1\" stroke=\"#000000\" stroke-opacity=\"1\" stroke-width=\"3.2\"/>\n",
       "<circle clip-path=\"url(#clip882)\" cx=\"1384.93\" cy=\"661.054\" r=\"14\" fill=\"#0000ff\" fill-rule=\"evenodd\" fill-opacity=\"1\" stroke=\"#000000\" stroke-opacity=\"1\" stroke-width=\"3.2\"/>\n",
       "<circle clip-path=\"url(#clip882)\" cx=\"1382.01\" cy=\"1111.17\" r=\"14\" fill=\"#0000ff\" fill-rule=\"evenodd\" fill-opacity=\"1\" stroke=\"#000000\" stroke-opacity=\"1\" stroke-width=\"3.2\"/>\n",
       "<circle clip-path=\"url(#clip882)\" cx=\"787.276\" cy=\"1064.79\" r=\"14\" fill=\"#0000ff\" fill-rule=\"evenodd\" fill-opacity=\"1\" stroke=\"#000000\" stroke-opacity=\"1\" stroke-width=\"3.2\"/>\n",
       "<circle clip-path=\"url(#clip882)\" cx=\"1140.16\" cy=\"876.893\" r=\"14\" fill=\"#0000ff\" fill-rule=\"evenodd\" fill-opacity=\"1\" stroke=\"#000000\" stroke-opacity=\"1\" stroke-width=\"3.2\"/>\n",
       "<circle clip-path=\"url(#clip882)\" cx=\"1826.26\" cy=\"990.827\" r=\"14\" fill=\"#0000ff\" fill-rule=\"evenodd\" fill-opacity=\"1\" stroke=\"#000000\" stroke-opacity=\"1\" stroke-width=\"3.2\"/>\n",
       "<circle clip-path=\"url(#clip882)\" cx=\"279.916\" cy=\"1178.3\" r=\"14\" fill=\"#0000ff\" fill-rule=\"evenodd\" fill-opacity=\"1\" stroke=\"#000000\" stroke-opacity=\"1\" stroke-width=\"3.2\"/>\n",
       "<circle clip-path=\"url(#clip882)\" cx=\"1986.27\" cy=\"1021.59\" r=\"14\" fill=\"#0000ff\" fill-rule=\"evenodd\" fill-opacity=\"1\" stroke=\"#000000\" stroke-opacity=\"1\" stroke-width=\"3.2\"/>\n",
       "<circle clip-path=\"url(#clip882)\" cx=\"1322.48\" cy=\"1250.22\" r=\"14\" fill=\"#0000ff\" fill-rule=\"evenodd\" fill-opacity=\"1\" stroke=\"#000000\" stroke-opacity=\"1\" stroke-width=\"3.2\"/>\n",
       "<circle clip-path=\"url(#clip882)\" cx=\"1368.35\" cy=\"241.677\" r=\"14\" fill=\"#0000ff\" fill-rule=\"evenodd\" fill-opacity=\"1\" stroke=\"#000000\" stroke-opacity=\"1\" stroke-width=\"3.2\"/>\n",
       "<circle clip-path=\"url(#clip882)\" cx=\"1566.52\" cy=\"1263.08\" r=\"14\" fill=\"#0000ff\" fill-rule=\"evenodd\" fill-opacity=\"1\" stroke=\"#000000\" stroke-opacity=\"1\" stroke-width=\"3.2\"/>\n",
       "<circle clip-path=\"url(#clip882)\" cx=\"1669\" cy=\"1337.8\" r=\"14\" fill=\"#0000ff\" fill-rule=\"evenodd\" fill-opacity=\"1\" stroke=\"#000000\" stroke-opacity=\"1\" stroke-width=\"3.2\"/>\n",
       "<circle clip-path=\"url(#clip882)\" cx=\"1468.36\" cy=\"1261.4\" r=\"14\" fill=\"#0000ff\" fill-rule=\"evenodd\" fill-opacity=\"1\" stroke=\"#000000\" stroke-opacity=\"1\" stroke-width=\"3.2\"/>\n",
       "<circle clip-path=\"url(#clip882)\" cx=\"2035.54\" cy=\"311.329\" r=\"14\" fill=\"#0000ff\" fill-rule=\"evenodd\" fill-opacity=\"1\" stroke=\"#000000\" stroke-opacity=\"1\" stroke-width=\"3.2\"/>\n",
       "<circle clip-path=\"url(#clip882)\" cx=\"997.266\" cy=\"1172.87\" r=\"14\" fill=\"#0000ff\" fill-rule=\"evenodd\" fill-opacity=\"1\" stroke=\"#000000\" stroke-opacity=\"1\" stroke-width=\"3.2\"/>\n",
       "<circle clip-path=\"url(#clip882)\" cx=\"1368.45\" cy=\"1351.43\" r=\"14\" fill=\"#0000ff\" fill-rule=\"evenodd\" fill-opacity=\"1\" stroke=\"#000000\" stroke-opacity=\"1\" stroke-width=\"3.2\"/>\n",
       "<circle clip-path=\"url(#clip882)\" cx=\"1506.56\" cy=\"1050.25\" r=\"14\" fill=\"#0000ff\" fill-rule=\"evenodd\" fill-opacity=\"1\" stroke=\"#000000\" stroke-opacity=\"1\" stroke-width=\"3.2\"/>\n",
       "<circle clip-path=\"url(#clip882)\" cx=\"2194.3\" cy=\"353.701\" r=\"14\" fill=\"#0000ff\" fill-rule=\"evenodd\" fill-opacity=\"1\" stroke=\"#000000\" stroke-opacity=\"1\" stroke-width=\"3.2\"/>\n",
       "<circle clip-path=\"url(#clip882)\" cx=\"709.179\" cy=\"1155.69\" r=\"14\" fill=\"#0000ff\" fill-rule=\"evenodd\" fill-opacity=\"1\" stroke=\"#000000\" stroke-opacity=\"1\" stroke-width=\"3.2\"/>\n",
       "<circle clip-path=\"url(#clip882)\" cx=\"1325.04\" cy=\"1162.72\" r=\"14\" fill=\"#0000ff\" fill-rule=\"evenodd\" fill-opacity=\"1\" stroke=\"#000000\" stroke-opacity=\"1\" stroke-width=\"3.2\"/>\n",
       "<circle clip-path=\"url(#clip882)\" cx=\"1182.34\" cy=\"1000.74\" r=\"14\" fill=\"#0000ff\" fill-rule=\"evenodd\" fill-opacity=\"1\" stroke=\"#000000\" stroke-opacity=\"1\" stroke-width=\"3.2\"/>\n",
       "<circle clip-path=\"url(#clip882)\" cx=\"2165.83\" cy=\"541.244\" r=\"14\" fill=\"#0000ff\" fill-rule=\"evenodd\" fill-opacity=\"1\" stroke=\"#000000\" stroke-opacity=\"1\" stroke-width=\"3.2\"/>\n",
       "<circle clip-path=\"url(#clip882)\" cx=\"1523.05\" cy=\"1207.78\" r=\"14\" fill=\"#0000ff\" fill-rule=\"evenodd\" fill-opacity=\"1\" stroke=\"#000000\" stroke-opacity=\"1\" stroke-width=\"3.2\"/>\n",
       "<circle clip-path=\"url(#clip882)\" cx=\"1428.51\" cy=\"1323.23\" r=\"14\" fill=\"#0000ff\" fill-rule=\"evenodd\" fill-opacity=\"1\" stroke=\"#000000\" stroke-opacity=\"1\" stroke-width=\"3.2\"/>\n",
       "<circle clip-path=\"url(#clip882)\" cx=\"840.258\" cy=\"1294.93\" r=\"14\" fill=\"#0000ff\" fill-rule=\"evenodd\" fill-opacity=\"1\" stroke=\"#000000\" stroke-opacity=\"1\" stroke-width=\"3.2\"/>\n",
       "<circle clip-path=\"url(#clip882)\" cx=\"1446.37\" cy=\"1341.42\" r=\"14\" fill=\"#0000ff\" fill-rule=\"evenodd\" fill-opacity=\"1\" stroke=\"#000000\" stroke-opacity=\"1\" stroke-width=\"3.2\"/>\n",
       "<circle clip-path=\"url(#clip882)\" cx=\"768.409\" cy=\"1378.39\" r=\"14\" fill=\"#0000ff\" fill-rule=\"evenodd\" fill-opacity=\"1\" stroke=\"#000000\" stroke-opacity=\"1\" stroke-width=\"3.2\"/>\n",
       "<circle clip-path=\"url(#clip882)\" cx=\"1927.09\" cy=\"1105.03\" r=\"14\" fill=\"#0000ff\" fill-rule=\"evenodd\" fill-opacity=\"1\" stroke=\"#000000\" stroke-opacity=\"1\" stroke-width=\"3.2\"/>\n",
       "<circle clip-path=\"url(#clip882)\" cx=\"2134.78\" cy=\"620.744\" r=\"14\" fill=\"#0000ff\" fill-rule=\"evenodd\" fill-opacity=\"1\" stroke=\"#000000\" stroke-opacity=\"1\" stroke-width=\"3.2\"/>\n",
       "<circle clip-path=\"url(#clip882)\" cx=\"2179.23\" cy=\"629.792\" r=\"14\" fill=\"#0000ff\" fill-rule=\"evenodd\" fill-opacity=\"1\" stroke=\"#000000\" stroke-opacity=\"1\" stroke-width=\"3.2\"/>\n",
       "<circle clip-path=\"url(#clip882)\" cx=\"1291.37\" cy=\"1362.59\" r=\"14\" fill=\"#0000ff\" fill-rule=\"evenodd\" fill-opacity=\"1\" stroke=\"#000000\" stroke-opacity=\"1\" stroke-width=\"3.2\"/>\n",
       "<circle clip-path=\"url(#clip882)\" cx=\"1456.39\" cy=\"965.361\" r=\"14\" fill=\"#0000ff\" fill-rule=\"evenodd\" fill-opacity=\"1\" stroke=\"#000000\" stroke-opacity=\"1\" stroke-width=\"3.2\"/>\n",
       "<circle clip-path=\"url(#clip882)\" cx=\"1247.2\" cy=\"1145.08\" r=\"14\" fill=\"#0000ff\" fill-rule=\"evenodd\" fill-opacity=\"1\" stroke=\"#000000\" stroke-opacity=\"1\" stroke-width=\"3.2\"/>\n",
       "<circle clip-path=\"url(#clip882)\" cx=\"1879.65\" cy=\"843.801\" r=\"14\" fill=\"#0000ff\" fill-rule=\"evenodd\" fill-opacity=\"1\" stroke=\"#000000\" stroke-opacity=\"1\" stroke-width=\"3.2\"/>\n",
       "<circle clip-path=\"url(#clip882)\" cx=\"1522.38\" cy=\"1245.75\" r=\"14\" fill=\"#0000ff\" fill-rule=\"evenodd\" fill-opacity=\"1\" stroke=\"#000000\" stroke-opacity=\"1\" stroke-width=\"3.2\"/>\n",
       "<circle clip-path=\"url(#clip882)\" cx=\"2188.75\" cy=\"905.041\" r=\"14\" fill=\"#0000ff\" fill-rule=\"evenodd\" fill-opacity=\"1\" stroke=\"#000000\" stroke-opacity=\"1\" stroke-width=\"3.2\"/>\n",
       "<circle clip-path=\"url(#clip882)\" cx=\"694.978\" cy=\"779.649\" r=\"14\" fill=\"#0000ff\" fill-rule=\"evenodd\" fill-opacity=\"1\" stroke=\"#000000\" stroke-opacity=\"1\" stroke-width=\"3.2\"/>\n",
       "<circle clip-path=\"url(#clip882)\" cx=\"1393.61\" cy=\"1054.92\" r=\"14\" fill=\"#0000ff\" fill-rule=\"evenodd\" fill-opacity=\"1\" stroke=\"#000000\" stroke-opacity=\"1\" stroke-width=\"3.2\"/>\n",
       "<circle clip-path=\"url(#clip882)\" cx=\"756.846\" cy=\"1308.16\" r=\"14\" fill=\"#0000ff\" fill-rule=\"evenodd\" fill-opacity=\"1\" stroke=\"#000000\" stroke-opacity=\"1\" stroke-width=\"3.2\"/>\n",
       "<circle clip-path=\"url(#clip882)\" cx=\"1374.77\" cy=\"1035.03\" r=\"14\" fill=\"#0000ff\" fill-rule=\"evenodd\" fill-opacity=\"1\" stroke=\"#000000\" stroke-opacity=\"1\" stroke-width=\"3.2\"/>\n",
       "<circle clip-path=\"url(#clip882)\" cx=\"1406.71\" cy=\"1347.69\" r=\"14\" fill=\"#0000ff\" fill-rule=\"evenodd\" fill-opacity=\"1\" stroke=\"#000000\" stroke-opacity=\"1\" stroke-width=\"3.2\"/>\n",
       "<circle clip-path=\"url(#clip882)\" cx=\"1247.09\" cy=\"1231.51\" r=\"14\" fill=\"#0000ff\" fill-rule=\"evenodd\" fill-opacity=\"1\" stroke=\"#000000\" stroke-opacity=\"1\" stroke-width=\"3.2\"/>\n",
       "<circle clip-path=\"url(#clip882)\" cx=\"1496.19\" cy=\"1174.27\" r=\"14\" fill=\"#0000ff\" fill-rule=\"evenodd\" fill-opacity=\"1\" stroke=\"#000000\" stroke-opacity=\"1\" stroke-width=\"3.2\"/>\n",
       "<circle clip-path=\"url(#clip882)\" cx=\"1638.17\" cy=\"877.431\" r=\"14\" fill=\"#0000ff\" fill-rule=\"evenodd\" fill-opacity=\"1\" stroke=\"#000000\" stroke-opacity=\"1\" stroke-width=\"3.2\"/>\n",
       "<circle clip-path=\"url(#clip882)\" cx=\"1027.9\" cy=\"735.777\" r=\"14\" fill=\"#0000ff\" fill-rule=\"evenodd\" fill-opacity=\"1\" stroke=\"#000000\" stroke-opacity=\"1\" stroke-width=\"3.2\"/>\n",
       "<circle clip-path=\"url(#clip882)\" cx=\"2154.56\" cy=\"644.107\" r=\"14\" fill=\"#0000ff\" fill-rule=\"evenodd\" fill-opacity=\"1\" stroke=\"#000000\" stroke-opacity=\"1\" stroke-width=\"3.2\"/>\n",
       "<circle clip-path=\"url(#clip882)\" cx=\"819.63\" cy=\"1165.41\" r=\"14\" fill=\"#0000ff\" fill-rule=\"evenodd\" fill-opacity=\"1\" stroke=\"#000000\" stroke-opacity=\"1\" stroke-width=\"3.2\"/>\n",
       "<circle clip-path=\"url(#clip882)\" cx=\"909.577\" cy=\"1102.74\" r=\"14\" fill=\"#0000ff\" fill-rule=\"evenodd\" fill-opacity=\"1\" stroke=\"#000000\" stroke-opacity=\"1\" stroke-width=\"3.2\"/>\n",
       "<circle clip-path=\"url(#clip882)\" cx=\"1629.51\" cy=\"1031.87\" r=\"14\" fill=\"#0000ff\" fill-rule=\"evenodd\" fill-opacity=\"1\" stroke=\"#000000\" stroke-opacity=\"1\" stroke-width=\"3.2\"/>\n",
       "<circle clip-path=\"url(#clip882)\" cx=\"937.944\" cy=\"1295.41\" r=\"14\" fill=\"#0000ff\" fill-rule=\"evenodd\" fill-opacity=\"1\" stroke=\"#000000\" stroke-opacity=\"1\" stroke-width=\"3.2\"/>\n",
       "<circle clip-path=\"url(#clip882)\" cx=\"1403.65\" cy=\"461.537\" r=\"14\" fill=\"#0000ff\" fill-rule=\"evenodd\" fill-opacity=\"1\" stroke=\"#000000\" stroke-opacity=\"1\" stroke-width=\"3.2\"/>\n",
       "<circle clip-path=\"url(#clip882)\" cx=\"1739.77\" cy=\"938.45\" r=\"14\" fill=\"#0000ff\" fill-rule=\"evenodd\" fill-opacity=\"1\" stroke=\"#000000\" stroke-opacity=\"1\" stroke-width=\"3.2\"/>\n",
       "<circle clip-path=\"url(#clip882)\" cx=\"1361.87\" cy=\"1283.69\" r=\"14\" fill=\"#0000ff\" fill-rule=\"evenodd\" fill-opacity=\"1\" stroke=\"#000000\" stroke-opacity=\"1\" stroke-width=\"3.2\"/>\n",
       "<circle clip-path=\"url(#clip882)\" cx=\"824.751\" cy=\"1014.22\" r=\"14\" fill=\"#0000ff\" fill-rule=\"evenodd\" fill-opacity=\"1\" stroke=\"#000000\" stroke-opacity=\"1\" stroke-width=\"3.2\"/>\n",
       "<circle clip-path=\"url(#clip882)\" cx=\"1435.73\" cy=\"884.304\" r=\"14\" fill=\"#0000ff\" fill-rule=\"evenodd\" fill-opacity=\"1\" stroke=\"#000000\" stroke-opacity=\"1\" stroke-width=\"3.2\"/>\n",
       "<circle clip-path=\"url(#clip882)\" cx=\"930.47\" cy=\"1108.45\" r=\"14\" fill=\"#0000ff\" fill-rule=\"evenodd\" fill-opacity=\"1\" stroke=\"#000000\" stroke-opacity=\"1\" stroke-width=\"3.2\"/>\n",
       "<circle clip-path=\"url(#clip882)\" cx=\"986.56\" cy=\"1243.2\" r=\"14\" fill=\"#0000ff\" fill-rule=\"evenodd\" fill-opacity=\"1\" stroke=\"#000000\" stroke-opacity=\"1\" stroke-width=\"3.2\"/>\n",
       "<circle clip-path=\"url(#clip882)\" cx=\"1200.2\" cy=\"714.583\" r=\"14\" fill=\"#0000ff\" fill-rule=\"evenodd\" fill-opacity=\"1\" stroke=\"#000000\" stroke-opacity=\"1\" stroke-width=\"3.2\"/>\n",
       "<circle clip-path=\"url(#clip882)\" cx=\"1180.93\" cy=\"1241.69\" r=\"14\" fill=\"#0000ff\" fill-rule=\"evenodd\" fill-opacity=\"1\" stroke=\"#000000\" stroke-opacity=\"1\" stroke-width=\"3.2\"/>\n",
       "<circle clip-path=\"url(#clip882)\" cx=\"1667.68\" cy=\"1228.76\" r=\"14\" fill=\"#0000ff\" fill-rule=\"evenodd\" fill-opacity=\"1\" stroke=\"#000000\" stroke-opacity=\"1\" stroke-width=\"3.2\"/>\n",
       "<circle clip-path=\"url(#clip882)\" cx=\"1317.93\" cy=\"1240.29\" r=\"14\" fill=\"#0000ff\" fill-rule=\"evenodd\" fill-opacity=\"1\" stroke=\"#000000\" stroke-opacity=\"1\" stroke-width=\"3.2\"/>\n",
       "<circle clip-path=\"url(#clip882)\" cx=\"1109.38\" cy=\"1358.21\" r=\"14\" fill=\"#0000ff\" fill-rule=\"evenodd\" fill-opacity=\"1\" stroke=\"#000000\" stroke-opacity=\"1\" stroke-width=\"3.2\"/>\n",
       "<circle clip-path=\"url(#clip882)\" cx=\"1570.88\" cy=\"1072.88\" r=\"14\" fill=\"#0000ff\" fill-rule=\"evenodd\" fill-opacity=\"1\" stroke=\"#000000\" stroke-opacity=\"1\" stroke-width=\"3.2\"/>\n",
       "<circle clip-path=\"url(#clip882)\" cx=\"1424.04\" cy=\"1374.02\" r=\"14\" fill=\"#0000ff\" fill-rule=\"evenodd\" fill-opacity=\"1\" stroke=\"#000000\" stroke-opacity=\"1\" stroke-width=\"3.2\"/>\n",
       "<circle clip-path=\"url(#clip882)\" cx=\"1997.6\" cy=\"1269.15\" r=\"14\" fill=\"#0000ff\" fill-rule=\"evenodd\" fill-opacity=\"1\" stroke=\"#000000\" stroke-opacity=\"1\" stroke-width=\"3.2\"/>\n",
       "<circle clip-path=\"url(#clip882)\" cx=\"1312.37\" cy=\"413.512\" r=\"14\" fill=\"#0000ff\" fill-rule=\"evenodd\" fill-opacity=\"1\" stroke=\"#000000\" stroke-opacity=\"1\" stroke-width=\"3.2\"/>\n",
       "<circle clip-path=\"url(#clip882)\" cx=\"1552.05\" cy=\"1182.48\" r=\"14\" fill=\"#0000ff\" fill-rule=\"evenodd\" fill-opacity=\"1\" stroke=\"#000000\" stroke-opacity=\"1\" stroke-width=\"3.2\"/>\n",
       "<circle clip-path=\"url(#clip882)\" cx=\"2131.17\" cy=\"742.11\" r=\"14\" fill=\"#0000ff\" fill-rule=\"evenodd\" fill-opacity=\"1\" stroke=\"#000000\" stroke-opacity=\"1\" stroke-width=\"3.2\"/>\n",
       "<circle clip-path=\"url(#clip882)\" cx=\"1864.76\" cy=\"647.871\" r=\"14\" fill=\"#0000ff\" fill-rule=\"evenodd\" fill-opacity=\"1\" stroke=\"#000000\" stroke-opacity=\"1\" stroke-width=\"3.2\"/>\n",
       "<circle clip-path=\"url(#clip882)\" cx=\"1529.51\" cy=\"987.69\" r=\"14\" fill=\"#0000ff\" fill-rule=\"evenodd\" fill-opacity=\"1\" stroke=\"#000000\" stroke-opacity=\"1\" stroke-width=\"3.2\"/>\n",
       "<circle clip-path=\"url(#clip882)\" cx=\"1587.02\" cy=\"1302.48\" r=\"14\" fill=\"#0000ff\" fill-rule=\"evenodd\" fill-opacity=\"1\" stroke=\"#000000\" stroke-opacity=\"1\" stroke-width=\"3.2\"/>\n",
       "<circle clip-path=\"url(#clip882)\" cx=\"1054.37\" cy=\"921.626\" r=\"14\" fill=\"#0000ff\" fill-rule=\"evenodd\" fill-opacity=\"1\" stroke=\"#000000\" stroke-opacity=\"1\" stroke-width=\"3.2\"/>\n",
       "<circle clip-path=\"url(#clip882)\" cx=\"1654.46\" cy=\"1157.99\" r=\"14\" fill=\"#0000ff\" fill-rule=\"evenodd\" fill-opacity=\"1\" stroke=\"#000000\" stroke-opacity=\"1\" stroke-width=\"3.2\"/>\n",
       "<circle clip-path=\"url(#clip882)\" cx=\"954.474\" cy=\"1265.83\" r=\"14\" fill=\"#0000ff\" fill-rule=\"evenodd\" fill-opacity=\"1\" stroke=\"#000000\" stroke-opacity=\"1\" stroke-width=\"3.2\"/>\n",
       "<circle clip-path=\"url(#clip882)\" cx=\"1424.63\" cy=\"1167.65\" r=\"14\" fill=\"#0000ff\" fill-rule=\"evenodd\" fill-opacity=\"1\" stroke=\"#000000\" stroke-opacity=\"1\" stroke-width=\"3.2\"/>\n",
       "<circle clip-path=\"url(#clip882)\" cx=\"1387.93\" cy=\"1173.54\" r=\"14\" fill=\"#0000ff\" fill-rule=\"evenodd\" fill-opacity=\"1\" stroke=\"#000000\" stroke-opacity=\"1\" stroke-width=\"3.2\"/>\n",
       "<circle clip-path=\"url(#clip882)\" cx=\"1210.59\" cy=\"1058.36\" r=\"14\" fill=\"#0000ff\" fill-rule=\"evenodd\" fill-opacity=\"1\" stroke=\"#000000\" stroke-opacity=\"1\" stroke-width=\"3.2\"/>\n",
       "<circle clip-path=\"url(#clip882)\" cx=\"1539.88\" cy=\"1160.85\" r=\"14\" fill=\"#0000ff\" fill-rule=\"evenodd\" fill-opacity=\"1\" stroke=\"#000000\" stroke-opacity=\"1\" stroke-width=\"3.2\"/>\n",
       "<circle clip-path=\"url(#clip882)\" cx=\"1284.31\" cy=\"898.446\" r=\"14\" fill=\"#0000ff\" fill-rule=\"evenodd\" fill-opacity=\"1\" stroke=\"#000000\" stroke-opacity=\"1\" stroke-width=\"3.2\"/>\n",
       "<circle clip-path=\"url(#clip882)\" cx=\"1991.73\" cy=\"684.753\" r=\"14\" fill=\"#0000ff\" fill-rule=\"evenodd\" fill-opacity=\"1\" stroke=\"#000000\" stroke-opacity=\"1\" stroke-width=\"3.2\"/>\n",
       "<circle clip-path=\"url(#clip882)\" cx=\"1643.53\" cy=\"490.266\" r=\"14\" fill=\"#0000ff\" fill-rule=\"evenodd\" fill-opacity=\"1\" stroke=\"#000000\" stroke-opacity=\"1\" stroke-width=\"3.2\"/>\n",
       "<circle clip-path=\"url(#clip882)\" cx=\"907.74\" cy=\"1234.84\" r=\"14\" fill=\"#0000ff\" fill-rule=\"evenodd\" fill-opacity=\"1\" stroke=\"#000000\" stroke-opacity=\"1\" stroke-width=\"3.2\"/>\n",
       "<circle clip-path=\"url(#clip882)\" cx=\"1879.65\" cy=\"495.64\" r=\"14\" fill=\"#0000ff\" fill-rule=\"evenodd\" fill-opacity=\"1\" stroke=\"#000000\" stroke-opacity=\"1\" stroke-width=\"3.2\"/>\n",
       "<circle clip-path=\"url(#clip882)\" cx=\"1557.87\" cy=\"796.597\" r=\"14\" fill=\"#0000ff\" fill-rule=\"evenodd\" fill-opacity=\"1\" stroke=\"#000000\" stroke-opacity=\"1\" stroke-width=\"3.2\"/>\n",
       "<circle clip-path=\"url(#clip882)\" cx=\"1671.1\" cy=\"1196.95\" r=\"14\" fill=\"#0000ff\" fill-rule=\"evenodd\" fill-opacity=\"1\" stroke=\"#000000\" stroke-opacity=\"1\" stroke-width=\"3.2\"/>\n",
       "<circle clip-path=\"url(#clip882)\" cx=\"2034.16\" cy=\"561.514\" r=\"14\" fill=\"#0000ff\" fill-rule=\"evenodd\" fill-opacity=\"1\" stroke=\"#000000\" stroke-opacity=\"1\" stroke-width=\"3.2\"/>\n",
       "<circle clip-path=\"url(#clip882)\" cx=\"1741.81\" cy=\"1121.76\" r=\"14\" fill=\"#0000ff\" fill-rule=\"evenodd\" fill-opacity=\"1\" stroke=\"#000000\" stroke-opacity=\"1\" stroke-width=\"3.2\"/>\n",
       "<circle clip-path=\"url(#clip882)\" cx=\"2077.19\" cy=\"883.314\" r=\"14\" fill=\"#0000ff\" fill-rule=\"evenodd\" fill-opacity=\"1\" stroke=\"#000000\" stroke-opacity=\"1\" stroke-width=\"3.2\"/>\n",
       "<circle clip-path=\"url(#clip882)\" cx=\"2057.47\" cy=\"1031.15\" r=\"14\" fill=\"#0000ff\" fill-rule=\"evenodd\" fill-opacity=\"1\" stroke=\"#000000\" stroke-opacity=\"1\" stroke-width=\"3.2\"/>\n",
       "<circle clip-path=\"url(#clip882)\" cx=\"1543.07\" cy=\"1280.23\" r=\"14\" fill=\"#0000ff\" fill-rule=\"evenodd\" fill-opacity=\"1\" stroke=\"#000000\" stroke-opacity=\"1\" stroke-width=\"3.2\"/>\n",
       "<circle clip-path=\"url(#clip882)\" cx=\"1306.6\" cy=\"807.659\" r=\"14\" fill=\"#0000ff\" fill-rule=\"evenodd\" fill-opacity=\"1\" stroke=\"#000000\" stroke-opacity=\"1\" stroke-width=\"3.2\"/>\n",
       "<circle clip-path=\"url(#clip882)\" cx=\"1397.8\" cy=\"1072.25\" r=\"14\" fill=\"#0000ff\" fill-rule=\"evenodd\" fill-opacity=\"1\" stroke=\"#000000\" stroke-opacity=\"1\" stroke-width=\"3.2\"/>\n",
       "<circle clip-path=\"url(#clip882)\" cx=\"1378.17\" cy=\"1001.42\" r=\"14\" fill=\"#0000ff\" fill-rule=\"evenodd\" fill-opacity=\"1\" stroke=\"#000000\" stroke-opacity=\"1\" stroke-width=\"3.2\"/>\n",
       "<circle clip-path=\"url(#clip882)\" cx=\"2051.75\" cy=\"908.963\" r=\"14\" fill=\"#0000ff\" fill-rule=\"evenodd\" fill-opacity=\"1\" stroke=\"#000000\" stroke-opacity=\"1\" stroke-width=\"3.2\"/>\n",
       "<circle clip-path=\"url(#clip882)\" cx=\"1820.11\" cy=\"1106.82\" r=\"14\" fill=\"#0000ff\" fill-rule=\"evenodd\" fill-opacity=\"1\" stroke=\"#000000\" stroke-opacity=\"1\" stroke-width=\"3.2\"/>\n",
       "<circle clip-path=\"url(#clip882)\" cx=\"1421.58\" cy=\"1026.3\" r=\"14\" fill=\"#0000ff\" fill-rule=\"evenodd\" fill-opacity=\"1\" stroke=\"#000000\" stroke-opacity=\"1\" stroke-width=\"3.2\"/>\n",
       "<circle clip-path=\"url(#clip882)\" cx=\"878.151\" cy=\"1181.18\" r=\"14\" fill=\"#0000ff\" fill-rule=\"evenodd\" fill-opacity=\"1\" stroke=\"#000000\" stroke-opacity=\"1\" stroke-width=\"3.2\"/>\n",
       "<circle clip-path=\"url(#clip882)\" cx=\"2000.71\" cy=\"581.274\" r=\"14\" fill=\"#0000ff\" fill-rule=\"evenodd\" fill-opacity=\"1\" stroke=\"#000000\" stroke-opacity=\"1\" stroke-width=\"3.2\"/>\n",
       "<circle clip-path=\"url(#clip882)\" cx=\"1221.87\" cy=\"1175.17\" r=\"14\" fill=\"#0000ff\" fill-rule=\"evenodd\" fill-opacity=\"1\" stroke=\"#000000\" stroke-opacity=\"1\" stroke-width=\"3.2\"/>\n",
       "<circle clip-path=\"url(#clip882)\" cx=\"640.029\" cy=\"1025.07\" r=\"14\" fill=\"#0000ff\" fill-rule=\"evenodd\" fill-opacity=\"1\" stroke=\"#000000\" stroke-opacity=\"1\" stroke-width=\"3.2\"/>\n",
       "<circle clip-path=\"url(#clip882)\" cx=\"1204.26\" cy=\"1341.76\" r=\"14\" fill=\"#0000ff\" fill-rule=\"evenodd\" fill-opacity=\"1\" stroke=\"#000000\" stroke-opacity=\"1\" stroke-width=\"3.2\"/>\n",
       "<circle clip-path=\"url(#clip882)\" cx=\"1628.75\" cy=\"1085.93\" r=\"14\" fill=\"#0000ff\" fill-rule=\"evenodd\" fill-opacity=\"1\" stroke=\"#000000\" stroke-opacity=\"1\" stroke-width=\"3.2\"/>\n",
       "<circle clip-path=\"url(#clip882)\" cx=\"1572.54\" cy=\"1210.26\" r=\"14\" fill=\"#0000ff\" fill-rule=\"evenodd\" fill-opacity=\"1\" stroke=\"#000000\" stroke-opacity=\"1\" stroke-width=\"3.2\"/>\n",
       "<circle clip-path=\"url(#clip882)\" cx=\"1480.61\" cy=\"762.958\" r=\"14\" fill=\"#0000ff\" fill-rule=\"evenodd\" fill-opacity=\"1\" stroke=\"#000000\" stroke-opacity=\"1\" stroke-width=\"3.2\"/>\n",
       "<circle clip-path=\"url(#clip882)\" cx=\"1874.27\" cy=\"1159.32\" r=\"14\" fill=\"#0000ff\" fill-rule=\"evenodd\" fill-opacity=\"1\" stroke=\"#000000\" stroke-opacity=\"1\" stroke-width=\"3.2\"/>\n",
       "<circle clip-path=\"url(#clip882)\" cx=\"1814.56\" cy=\"1248.81\" r=\"14\" fill=\"#0000ff\" fill-rule=\"evenodd\" fill-opacity=\"1\" stroke=\"#000000\" stroke-opacity=\"1\" stroke-width=\"3.2\"/>\n",
       "<circle clip-path=\"url(#clip882)\" cx=\"1364.34\" cy=\"439.144\" r=\"14\" fill=\"#0000ff\" fill-rule=\"evenodd\" fill-opacity=\"1\" stroke=\"#000000\" stroke-opacity=\"1\" stroke-width=\"3.2\"/>\n",
       "<circle clip-path=\"url(#clip882)\" cx=\"1868.76\" cy=\"1023.83\" r=\"14\" fill=\"#0000ff\" fill-rule=\"evenodd\" fill-opacity=\"1\" stroke=\"#000000\" stroke-opacity=\"1\" stroke-width=\"3.2\"/>\n",
       "<circle clip-path=\"url(#clip882)\" cx=\"2006.63\" cy=\"1233.83\" r=\"14\" fill=\"#0000ff\" fill-rule=\"evenodd\" fill-opacity=\"1\" stroke=\"#000000\" stroke-opacity=\"1\" stroke-width=\"3.2\"/>\n",
       "<circle clip-path=\"url(#clip882)\" cx=\"1156.68\" cy=\"1274.31\" r=\"14\" fill=\"#0000ff\" fill-rule=\"evenodd\" fill-opacity=\"1\" stroke=\"#000000\" stroke-opacity=\"1\" stroke-width=\"3.2\"/>\n",
       "<circle clip-path=\"url(#clip882)\" cx=\"1352.76\" cy=\"1058.57\" r=\"14\" fill=\"#0000ff\" fill-rule=\"evenodd\" fill-opacity=\"1\" stroke=\"#000000\" stroke-opacity=\"1\" stroke-width=\"3.2\"/>\n",
       "<circle clip-path=\"url(#clip882)\" cx=\"1716.2\" cy=\"1314.18\" r=\"14\" fill=\"#0000ff\" fill-rule=\"evenodd\" fill-opacity=\"1\" stroke=\"#000000\" stroke-opacity=\"1\" stroke-width=\"3.2\"/>\n",
       "<circle clip-path=\"url(#clip882)\" cx=\"1421.6\" cy=\"1163.79\" r=\"14\" fill=\"#0000ff\" fill-rule=\"evenodd\" fill-opacity=\"1\" stroke=\"#000000\" stroke-opacity=\"1\" stroke-width=\"3.2\"/>\n",
       "<circle clip-path=\"url(#clip882)\" cx=\"948.868\" cy=\"1134.42\" r=\"14\" fill=\"#0000ff\" fill-rule=\"evenodd\" fill-opacity=\"1\" stroke=\"#000000\" stroke-opacity=\"1\" stroke-width=\"3.2\"/>\n",
       "<circle clip-path=\"url(#clip882)\" cx=\"2158.62\" cy=\"524.421\" r=\"14\" fill=\"#0000ff\" fill-rule=\"evenodd\" fill-opacity=\"1\" stroke=\"#000000\" stroke-opacity=\"1\" stroke-width=\"3.2\"/>\n",
       "<circle clip-path=\"url(#clip882)\" cx=\"1448.6\" cy=\"1299.35\" r=\"14\" fill=\"#0000ff\" fill-rule=\"evenodd\" fill-opacity=\"1\" stroke=\"#000000\" stroke-opacity=\"1\" stroke-width=\"3.2\"/>\n",
       "<circle clip-path=\"url(#clip882)\" cx=\"1556.79\" cy=\"1287.15\" r=\"14\" fill=\"#0000ff\" fill-rule=\"evenodd\" fill-opacity=\"1\" stroke=\"#000000\" stroke-opacity=\"1\" stroke-width=\"3.2\"/>\n",
       "<circle clip-path=\"url(#clip882)\" cx=\"589.836\" cy=\"1230.57\" r=\"14\" fill=\"#0000ff\" fill-rule=\"evenodd\" fill-opacity=\"1\" stroke=\"#000000\" stroke-opacity=\"1\" stroke-width=\"3.2\"/>\n",
       "<circle clip-path=\"url(#clip882)\" cx=\"1868.51\" cy=\"809.537\" r=\"14\" fill=\"#0000ff\" fill-rule=\"evenodd\" fill-opacity=\"1\" stroke=\"#000000\" stroke-opacity=\"1\" stroke-width=\"3.2\"/>\n",
       "<circle clip-path=\"url(#clip882)\" cx=\"1455.54\" cy=\"1058.47\" r=\"14\" fill=\"#0000ff\" fill-rule=\"evenodd\" fill-opacity=\"1\" stroke=\"#000000\" stroke-opacity=\"1\" stroke-width=\"3.2\"/>\n",
       "<circle clip-path=\"url(#clip882)\" cx=\"1043.38\" cy=\"1246.87\" r=\"14\" fill=\"#0000ff\" fill-rule=\"evenodd\" fill-opacity=\"1\" stroke=\"#000000\" stroke-opacity=\"1\" stroke-width=\"3.2\"/>\n",
       "<circle clip-path=\"url(#clip882)\" cx=\"1637.86\" cy=\"1188.46\" r=\"14\" fill=\"#0000ff\" fill-rule=\"evenodd\" fill-opacity=\"1\" stroke=\"#000000\" stroke-opacity=\"1\" stroke-width=\"3.2\"/>\n",
       "<circle clip-path=\"url(#clip882)\" cx=\"1373.55\" cy=\"578.927\" r=\"14\" fill=\"#0000ff\" fill-rule=\"evenodd\" fill-opacity=\"1\" stroke=\"#000000\" stroke-opacity=\"1\" stroke-width=\"3.2\"/>\n",
       "<circle clip-path=\"url(#clip882)\" cx=\"1192.38\" cy=\"1133.82\" r=\"14\" fill=\"#0000ff\" fill-rule=\"evenodd\" fill-opacity=\"1\" stroke=\"#000000\" stroke-opacity=\"1\" stroke-width=\"3.2\"/>\n",
       "<circle clip-path=\"url(#clip882)\" cx=\"1580.31\" cy=\"1088.16\" r=\"14\" fill=\"#0000ff\" fill-rule=\"evenodd\" fill-opacity=\"1\" stroke=\"#000000\" stroke-opacity=\"1\" stroke-width=\"3.2\"/>\n",
       "<circle clip-path=\"url(#clip882)\" cx=\"1002.59\" cy=\"1191.19\" r=\"14\" fill=\"#0000ff\" fill-rule=\"evenodd\" fill-opacity=\"1\" stroke=\"#000000\" stroke-opacity=\"1\" stroke-width=\"3.2\"/>\n",
       "<circle clip-path=\"url(#clip882)\" cx=\"1235.98\" cy=\"925.634\" r=\"14\" fill=\"#0000ff\" fill-rule=\"evenodd\" fill-opacity=\"1\" stroke=\"#000000\" stroke-opacity=\"1\" stroke-width=\"3.2\"/>\n",
       "<circle clip-path=\"url(#clip882)\" cx=\"1164.95\" cy=\"990.436\" r=\"14\" fill=\"#0000ff\" fill-rule=\"evenodd\" fill-opacity=\"1\" stroke=\"#000000\" stroke-opacity=\"1\" stroke-width=\"3.2\"/>\n",
       "<circle clip-path=\"url(#clip882)\" cx=\"1001.32\" cy=\"1330.9\" r=\"14\" fill=\"#0000ff\" fill-rule=\"evenodd\" fill-opacity=\"1\" stroke=\"#000000\" stroke-opacity=\"1\" stroke-width=\"3.2\"/>\n",
       "<circle clip-path=\"url(#clip882)\" cx=\"2121.59\" cy=\"1152.18\" r=\"14\" fill=\"#0000ff\" fill-rule=\"evenodd\" fill-opacity=\"1\" stroke=\"#000000\" stroke-opacity=\"1\" stroke-width=\"3.2\"/>\n",
       "<circle clip-path=\"url(#clip882)\" cx=\"2015.6\" cy=\"1184.37\" r=\"14\" fill=\"#0000ff\" fill-rule=\"evenodd\" fill-opacity=\"1\" stroke=\"#000000\" stroke-opacity=\"1\" stroke-width=\"3.2\"/>\n",
       "<circle clip-path=\"url(#clip882)\" cx=\"1001.65\" cy=\"1227.76\" r=\"14\" fill=\"#0000ff\" fill-rule=\"evenodd\" fill-opacity=\"1\" stroke=\"#000000\" stroke-opacity=\"1\" stroke-width=\"3.2\"/>\n",
       "<circle clip-path=\"url(#clip882)\" cx=\"1938.95\" cy=\"514.736\" r=\"14\" fill=\"#0000ff\" fill-rule=\"evenodd\" fill-opacity=\"1\" stroke=\"#000000\" stroke-opacity=\"1\" stroke-width=\"3.2\"/>\n",
       "<circle clip-path=\"url(#clip882)\" cx=\"1336.07\" cy=\"1091.16\" r=\"14\" fill=\"#0000ff\" fill-rule=\"evenodd\" fill-opacity=\"1\" stroke=\"#000000\" stroke-opacity=\"1\" stroke-width=\"3.2\"/>\n",
       "<circle clip-path=\"url(#clip882)\" cx=\"657.973\" cy=\"1275.01\" r=\"14\" fill=\"#0000ff\" fill-rule=\"evenodd\" fill-opacity=\"1\" stroke=\"#000000\" stroke-opacity=\"1\" stroke-width=\"3.2\"/>\n",
       "<circle clip-path=\"url(#clip882)\" cx=\"1595.33\" cy=\"1208.18\" r=\"14\" fill=\"#0000ff\" fill-rule=\"evenodd\" fill-opacity=\"1\" stroke=\"#000000\" stroke-opacity=\"1\" stroke-width=\"3.2\"/>\n",
       "<circle clip-path=\"url(#clip882)\" cx=\"2242.33\" cy=\"723.759\" r=\"14\" fill=\"#0000ff\" fill-rule=\"evenodd\" fill-opacity=\"1\" stroke=\"#000000\" stroke-opacity=\"1\" stroke-width=\"3.2\"/>\n",
       "<circle clip-path=\"url(#clip882)\" cx=\"2261.26\" cy=\"710.093\" r=\"14\" fill=\"#0000ff\" fill-rule=\"evenodd\" fill-opacity=\"1\" stroke=\"#000000\" stroke-opacity=\"1\" stroke-width=\"3.2\"/>\n",
       "<circle clip-path=\"url(#clip882)\" cx=\"1153.27\" cy=\"827.186\" r=\"14\" fill=\"#0000ff\" fill-rule=\"evenodd\" fill-opacity=\"1\" stroke=\"#000000\" stroke-opacity=\"1\" stroke-width=\"3.2\"/>\n",
       "<circle clip-path=\"url(#clip882)\" cx=\"1679.61\" cy=\"1207.92\" r=\"14\" fill=\"#0000ff\" fill-rule=\"evenodd\" fill-opacity=\"1\" stroke=\"#000000\" stroke-opacity=\"1\" stroke-width=\"3.2\"/>\n",
       "<circle clip-path=\"url(#clip882)\" cx=\"1257.52\" cy=\"1346.58\" r=\"14\" fill=\"#0000ff\" fill-rule=\"evenodd\" fill-opacity=\"1\" stroke=\"#000000\" stroke-opacity=\"1\" stroke-width=\"3.2\"/>\n",
       "<circle clip-path=\"url(#clip882)\" cx=\"1447.16\" cy=\"1156.22\" r=\"14\" fill=\"#0000ff\" fill-rule=\"evenodd\" fill-opacity=\"1\" stroke=\"#000000\" stroke-opacity=\"1\" stroke-width=\"3.2\"/>\n",
       "<circle clip-path=\"url(#clip882)\" cx=\"1029.05\" cy=\"1041.14\" r=\"14\" fill=\"#0000ff\" fill-rule=\"evenodd\" fill-opacity=\"1\" stroke=\"#000000\" stroke-opacity=\"1\" stroke-width=\"3.2\"/>\n",
       "<circle clip-path=\"url(#clip882)\" cx=\"818.62\" cy=\"1274.17\" r=\"14\" fill=\"#0000ff\" fill-rule=\"evenodd\" fill-opacity=\"1\" stroke=\"#000000\" stroke-opacity=\"1\" stroke-width=\"3.2\"/>\n",
       "<circle clip-path=\"url(#clip882)\" cx=\"1505.37\" cy=\"1356.24\" r=\"14\" fill=\"#0000ff\" fill-rule=\"evenodd\" fill-opacity=\"1\" stroke=\"#000000\" stroke-opacity=\"1\" stroke-width=\"3.2\"/>\n",
       "<circle clip-path=\"url(#clip882)\" cx=\"1467.61\" cy=\"1277.28\" r=\"14\" fill=\"#0000ff\" fill-rule=\"evenodd\" fill-opacity=\"1\" stroke=\"#000000\" stroke-opacity=\"1\" stroke-width=\"3.2\"/>\n",
       "<circle clip-path=\"url(#clip882)\" cx=\"1464.26\" cy=\"419.894\" r=\"14\" fill=\"#0000ff\" fill-rule=\"evenodd\" fill-opacity=\"1\" stroke=\"#000000\" stroke-opacity=\"1\" stroke-width=\"3.2\"/>\n",
       "<circle clip-path=\"url(#clip882)\" cx=\"1541.31\" cy=\"1079.67\" r=\"14\" fill=\"#0000ff\" fill-rule=\"evenodd\" fill-opacity=\"1\" stroke=\"#000000\" stroke-opacity=\"1\" stroke-width=\"3.2\"/>\n",
       "<circle clip-path=\"url(#clip882)\" cx=\"1758.76\" cy=\"983.262\" r=\"14\" fill=\"#0000ff\" fill-rule=\"evenodd\" fill-opacity=\"1\" stroke=\"#000000\" stroke-opacity=\"1\" stroke-width=\"3.2\"/>\n",
       "<circle clip-path=\"url(#clip882)\" cx=\"925.188\" cy=\"1036.26\" r=\"14\" fill=\"#0000ff\" fill-rule=\"evenodd\" fill-opacity=\"1\" stroke=\"#000000\" stroke-opacity=\"1\" stroke-width=\"3.2\"/>\n",
       "<circle clip-path=\"url(#clip882)\" cx=\"1346.93\" cy=\"710.585\" r=\"14\" fill=\"#0000ff\" fill-rule=\"evenodd\" fill-opacity=\"1\" stroke=\"#000000\" stroke-opacity=\"1\" stroke-width=\"3.2\"/>\n",
       "<circle clip-path=\"url(#clip882)\" cx=\"644.966\" cy=\"937.088\" r=\"14\" fill=\"#0000ff\" fill-rule=\"evenodd\" fill-opacity=\"1\" stroke=\"#000000\" stroke-opacity=\"1\" stroke-width=\"3.2\"/>\n",
       "<circle clip-path=\"url(#clip882)\" cx=\"1186.21\" cy=\"297.223\" r=\"14\" fill=\"#0000ff\" fill-rule=\"evenodd\" fill-opacity=\"1\" stroke=\"#000000\" stroke-opacity=\"1\" stroke-width=\"3.2\"/>\n",
       "<circle clip-path=\"url(#clip882)\" cx=\"1461.72\" cy=\"1288.59\" r=\"14\" fill=\"#0000ff\" fill-rule=\"evenodd\" fill-opacity=\"1\" stroke=\"#000000\" stroke-opacity=\"1\" stroke-width=\"3.2\"/>\n",
       "<circle clip-path=\"url(#clip882)\" cx=\"1034.94\" cy=\"1362.15\" r=\"14\" fill=\"#0000ff\" fill-rule=\"evenodd\" fill-opacity=\"1\" stroke=\"#000000\" stroke-opacity=\"1\" stroke-width=\"3.2\"/>\n",
       "<circle clip-path=\"url(#clip882)\" cx=\"1436.9\" cy=\"1078.74\" r=\"14\" fill=\"#0000ff\" fill-rule=\"evenodd\" fill-opacity=\"1\" stroke=\"#000000\" stroke-opacity=\"1\" stroke-width=\"3.2\"/>\n",
       "<circle clip-path=\"url(#clip882)\" cx=\"1324.93\" cy=\"927.404\" r=\"14\" fill=\"#0000ff\" fill-rule=\"evenodd\" fill-opacity=\"1\" stroke=\"#000000\" stroke-opacity=\"1\" stroke-width=\"3.2\"/>\n",
       "<circle clip-path=\"url(#clip882)\" cx=\"1282.8\" cy=\"1337.68\" r=\"14\" fill=\"#0000ff\" fill-rule=\"evenodd\" fill-opacity=\"1\" stroke=\"#000000\" stroke-opacity=\"1\" stroke-width=\"3.2\"/>\n",
       "<circle clip-path=\"url(#clip882)\" cx=\"1367.83\" cy=\"808.042\" r=\"14\" fill=\"#0000ff\" fill-rule=\"evenodd\" fill-opacity=\"1\" stroke=\"#000000\" stroke-opacity=\"1\" stroke-width=\"3.2\"/>\n",
       "<circle clip-path=\"url(#clip882)\" cx=\"1497.44\" cy=\"1105.13\" r=\"14\" fill=\"#0000ff\" fill-rule=\"evenodd\" fill-opacity=\"1\" stroke=\"#000000\" stroke-opacity=\"1\" stroke-width=\"3.2\"/>\n",
       "<circle clip-path=\"url(#clip882)\" cx=\"1855.21\" cy=\"708.694\" r=\"14\" fill=\"#0000ff\" fill-rule=\"evenodd\" fill-opacity=\"1\" stroke=\"#000000\" stroke-opacity=\"1\" stroke-width=\"3.2\"/>\n",
       "<circle clip-path=\"url(#clip882)\" cx=\"1837.72\" cy=\"655.903\" r=\"14\" fill=\"#0000ff\" fill-rule=\"evenodd\" fill-opacity=\"1\" stroke=\"#000000\" stroke-opacity=\"1\" stroke-width=\"3.2\"/>\n",
       "<circle clip-path=\"url(#clip882)\" cx=\"816.659\" cy=\"841.258\" r=\"14\" fill=\"#0000ff\" fill-rule=\"evenodd\" fill-opacity=\"1\" stroke=\"#000000\" stroke-opacity=\"1\" stroke-width=\"3.2\"/>\n",
       "<circle clip-path=\"url(#clip882)\" cx=\"1813.18\" cy=\"763.641\" r=\"14\" fill=\"#0000ff\" fill-rule=\"evenodd\" fill-opacity=\"1\" stroke=\"#000000\" stroke-opacity=\"1\" stroke-width=\"3.2\"/>\n",
       "<circle clip-path=\"url(#clip882)\" cx=\"1592.45\" cy=\"613.363\" r=\"14\" fill=\"#0000ff\" fill-rule=\"evenodd\" fill-opacity=\"1\" stroke=\"#000000\" stroke-opacity=\"1\" stroke-width=\"3.2\"/>\n",
       "<circle clip-path=\"url(#clip882)\" cx=\"527.058\" cy=\"1137.88\" r=\"14\" fill=\"#0000ff\" fill-rule=\"evenodd\" fill-opacity=\"1\" stroke=\"#000000\" stroke-opacity=\"1\" stroke-width=\"3.2\"/>\n",
       "<circle clip-path=\"url(#clip882)\" cx=\"1112.74\" cy=\"1215.06\" r=\"14\" fill=\"#0000ff\" fill-rule=\"evenodd\" fill-opacity=\"1\" stroke=\"#000000\" stroke-opacity=\"1\" stroke-width=\"3.2\"/>\n",
       "</svg>\n"
      ]
     },
     "execution_count": 17,
     "metadata": {},
     "output_type": "execute_result"
    }
   ],
   "source": [
    "dem = df[df.per_dem.>df.per_gop,:]\n",
    "scatter(dem.val_acc_vacc,dem.per_dem, color = \"blue\", title= \"Democrat Vaccine Acceptance\", xlabel= \"Vaccine Acceptance\", ylabel=\"Voting Percentage\", legend=false)"
   ]
  },
  {
   "cell_type": "code",
   "execution_count": 15,
   "metadata": {},
   "outputs": [
    {
     "data": {
      "image/svg+xml": [
       "<?xml version=\"1.0\" encoding=\"utf-8\"?>\n",
       "<svg xmlns=\"http://www.w3.org/2000/svg\" xmlns:xlink=\"http://www.w3.org/1999/xlink\" width=\"600\" height=\"400\" viewBox=\"0 0 2400 1600\">\n",
       "<defs>\n",
       "  <clipPath id=\"clip840\">\n",
       "    <rect x=\"0\" y=\"0\" width=\"2400\" height=\"1600\"/>\n",
       "  </clipPath>\n",
       "</defs>\n",
       "<path clip-path=\"url(#clip840)\" d=\"\n",
       "M0 1600 L2400 1600 L2400 0 L0 0  Z\n",
       "  \" fill=\"#ffffff\" fill-rule=\"evenodd\" fill-opacity=\"1\"/>\n",
       "<defs>\n",
       "  <clipPath id=\"clip841\">\n",
       "    <rect x=\"480\" y=\"0\" width=\"1681\" height=\"1600\"/>\n",
       "  </clipPath>\n",
       "</defs>\n",
       "<path clip-path=\"url(#clip840)\" d=\"\n",
       "M219.542 1423.18 L2352.76 1423.18 L2352.76 123.472 L219.542 123.472  Z\n",
       "  \" fill=\"#ffffff\" fill-rule=\"evenodd\" fill-opacity=\"1\"/>\n",
       "<defs>\n",
       "  <clipPath id=\"clip842\">\n",
       "    <rect x=\"219\" y=\"123\" width=\"2134\" height=\"1301\"/>\n",
       "  </clipPath>\n",
       "</defs>\n",
       "<polyline clip-path=\"url(#clip842)\" style=\"stroke:#000000; stroke-width:2; stroke-opacity:0.1; fill:none\" points=\"\n",
       "  603.631,1423.18 603.631,123.472 \n",
       "  \"/>\n",
       "<polyline clip-path=\"url(#clip842)\" style=\"stroke:#000000; stroke-width:2; stroke-opacity:0.1; fill:none\" points=\"\n",
       "  1157.07,1423.18 1157.07,123.472 \n",
       "  \"/>\n",
       "<polyline clip-path=\"url(#clip842)\" style=\"stroke:#000000; stroke-width:2; stroke-opacity:0.1; fill:none\" points=\"\n",
       "  1710.51,1423.18 1710.51,123.472 \n",
       "  \"/>\n",
       "<polyline clip-path=\"url(#clip842)\" style=\"stroke:#000000; stroke-width:2; stroke-opacity:0.1; fill:none\" points=\"\n",
       "  2263.94,1423.18 2263.94,123.472 \n",
       "  \"/>\n",
       "<polyline clip-path=\"url(#clip840)\" style=\"stroke:#000000; stroke-width:4; stroke-opacity:1; fill:none\" points=\"\n",
       "  219.542,1423.18 2352.76,1423.18 \n",
       "  \"/>\n",
       "<polyline clip-path=\"url(#clip840)\" style=\"stroke:#000000; stroke-width:4; stroke-opacity:1; fill:none\" points=\"\n",
       "  603.631,1423.18 603.631,1407.58 \n",
       "  \"/>\n",
       "<polyline clip-path=\"url(#clip840)\" style=\"stroke:#000000; stroke-width:4; stroke-opacity:1; fill:none\" points=\"\n",
       "  1157.07,1423.18 1157.07,1407.58 \n",
       "  \"/>\n",
       "<polyline clip-path=\"url(#clip840)\" style=\"stroke:#000000; stroke-width:4; stroke-opacity:1; fill:none\" points=\"\n",
       "  1710.51,1423.18 1710.51,1407.58 \n",
       "  \"/>\n",
       "<polyline clip-path=\"url(#clip840)\" style=\"stroke:#000000; stroke-width:4; stroke-opacity:1; fill:none\" points=\"\n",
       "  2263.94,1423.18 2263.94,1407.58 \n",
       "  \"/>\n",
       "<path clip-path=\"url(#clip840)\" d=\"M 0 0 M578.33 1449.29 L596.687 1449.29 L596.687 1453.23 L582.613 1453.23 L582.613 1461.7 Q583.631 1461.35 584.65 1461.19 Q585.668 1461 586.687 1461 Q592.474 1461 595.853 1464.18 Q599.233 1467.35 599.233 1472.76 Q599.233 1478.34 595.761 1481.44 Q592.289 1484.52 585.969 1484.52 Q583.793 1484.52 581.525 1484.15 Q579.279 1483.78 576.872 1483.04 L576.872 1478.34 Q578.955 1479.48 581.178 1480.03 Q583.4 1480.59 585.877 1480.59 Q589.881 1480.59 592.219 1478.48 Q594.557 1476.38 594.557 1472.76 Q594.557 1469.15 592.219 1467.05 Q589.881 1464.94 585.877 1464.94 Q584.002 1464.94 582.127 1465.36 Q580.275 1465.77 578.33 1466.65 L578.33 1449.29 Z\" fill=\"#000000\" fill-rule=\"evenodd\" fill-opacity=\"1\" /><path clip-path=\"url(#clip840)\" d=\"M 0 0 M618.446 1452.37 Q614.835 1452.37 613.006 1455.94 Q611.201 1459.48 611.201 1466.61 Q611.201 1473.71 613.006 1477.28 Q614.835 1480.82 618.446 1480.82 Q622.08 1480.82 623.886 1477.28 Q625.714 1473.71 625.714 1466.61 Q625.714 1459.48 623.886 1455.94 Q622.08 1452.37 618.446 1452.37 M618.446 1448.67 Q624.256 1448.67 627.312 1453.27 Q630.39 1457.86 630.39 1466.61 Q630.39 1475.33 627.312 1479.94 Q624.256 1484.52 618.446 1484.52 Q612.636 1484.52 609.557 1479.94 Q606.502 1475.33 606.502 1466.61 Q606.502 1457.86 609.557 1453.27 Q612.636 1448.67 618.446 1448.67 Z\" fill=\"#000000\" fill-rule=\"evenodd\" fill-opacity=\"1\" /><path clip-path=\"url(#clip840)\" d=\"M 0 0 M1142.47 1464.71 Q1139.33 1464.71 1137.47 1466.86 Q1135.65 1469.01 1135.65 1472.76 Q1135.65 1476.49 1137.47 1478.67 Q1139.33 1480.82 1142.47 1480.82 Q1145.62 1480.82 1147.45 1478.67 Q1149.3 1476.49 1149.3 1472.76 Q1149.3 1469.01 1147.45 1466.86 Q1145.62 1464.71 1142.47 1464.71 M1151.76 1450.06 L1151.76 1454.31 Q1150 1453.48 1148.19 1453.04 Q1146.41 1452.6 1144.65 1452.6 Q1140.02 1452.6 1137.57 1455.73 Q1135.14 1458.85 1134.79 1465.17 Q1136.15 1463.16 1138.22 1462.09 Q1140.28 1461 1142.75 1461 Q1147.96 1461 1150.97 1464.18 Q1154 1467.32 1154 1472.76 Q1154 1478.09 1150.85 1481.31 Q1147.71 1484.52 1142.47 1484.52 Q1136.48 1484.52 1133.31 1479.94 Q1130.14 1475.33 1130.14 1466.61 Q1130.14 1458.41 1134.03 1453.55 Q1137.91 1448.67 1144.47 1448.67 Q1146.22 1448.67 1148.01 1449.01 Q1149.81 1449.36 1151.76 1450.06 Z\" fill=\"#000000\" fill-rule=\"evenodd\" fill-opacity=\"1\" /><path clip-path=\"url(#clip840)\" d=\"M 0 0 M1172.06 1452.37 Q1168.45 1452.37 1166.62 1455.94 Q1164.81 1459.48 1164.81 1466.61 Q1164.81 1473.71 1166.62 1477.28 Q1168.45 1480.82 1172.06 1480.82 Q1175.69 1480.82 1177.5 1477.28 Q1179.33 1473.71 1179.33 1466.61 Q1179.33 1459.48 1177.5 1455.94 Q1175.69 1452.37 1172.06 1452.37 M1172.06 1448.67 Q1177.87 1448.67 1180.92 1453.27 Q1184 1457.86 1184 1466.61 Q1184 1475.33 1180.92 1479.94 Q1177.87 1484.52 1172.06 1484.52 Q1166.25 1484.52 1163.17 1479.94 Q1160.11 1475.33 1160.11 1466.61 Q1160.11 1457.86 1163.17 1453.27 Q1166.25 1448.67 1172.06 1448.67 Z\" fill=\"#000000\" fill-rule=\"evenodd\" fill-opacity=\"1\" /><path clip-path=\"url(#clip840)\" d=\"M 0 0 M1683.86 1449.29 L1706.09 1449.29 L1706.09 1451.28 L1693.54 1483.85 L1688.66 1483.85 L1700.46 1453.23 L1683.86 1453.23 L1683.86 1449.29 Z\" fill=\"#000000\" fill-rule=\"evenodd\" fill-opacity=\"1\" /><path clip-path=\"url(#clip840)\" d=\"M 0 0 M1725.21 1452.37 Q1721.59 1452.37 1719.77 1455.94 Q1717.96 1459.48 1717.96 1466.61 Q1717.96 1473.71 1719.77 1477.28 Q1721.59 1480.82 1725.21 1480.82 Q1728.84 1480.82 1730.65 1477.28 Q1732.47 1473.71 1732.47 1466.61 Q1732.47 1459.48 1730.65 1455.94 Q1728.84 1452.37 1725.21 1452.37 M1725.21 1448.67 Q1731.02 1448.67 1734.07 1453.27 Q1737.15 1457.86 1737.15 1466.61 Q1737.15 1475.33 1734.07 1479.94 Q1731.02 1484.52 1725.21 1484.52 Q1719.4 1484.52 1716.32 1479.94 Q1713.26 1475.33 1713.26 1466.61 Q1713.26 1457.86 1716.32 1453.27 Q1719.4 1448.67 1725.21 1448.67 Z\" fill=\"#000000\" fill-rule=\"evenodd\" fill-opacity=\"1\" /><path clip-path=\"url(#clip840)\" d=\"M 0 0 M2248.82 1467.44 Q2245.48 1467.44 2243.56 1469.22 Q2241.67 1471 2241.67 1474.13 Q2241.67 1477.25 2243.56 1479.04 Q2245.48 1480.82 2248.82 1480.82 Q2252.15 1480.82 2254.07 1479.04 Q2255.99 1477.23 2255.99 1474.13 Q2255.99 1471 2254.07 1469.22 Q2252.17 1467.44 2248.82 1467.44 M2244.14 1465.45 Q2241.13 1464.71 2239.44 1462.65 Q2237.78 1460.59 2237.78 1457.63 Q2237.78 1453.48 2240.72 1451.07 Q2243.68 1448.67 2248.82 1448.67 Q2253.98 1448.67 2256.92 1451.07 Q2259.86 1453.48 2259.86 1457.63 Q2259.86 1460.59 2258.17 1462.65 Q2256.5 1464.71 2253.52 1465.45 Q2256.9 1466.24 2258.77 1468.53 Q2260.67 1470.82 2260.67 1474.13 Q2260.67 1479.15 2257.59 1481.84 Q2254.54 1484.52 2248.82 1484.52 Q2243.1 1484.52 2240.02 1481.84 Q2236.97 1479.15 2236.97 1474.13 Q2236.97 1470.82 2238.86 1468.53 Q2240.76 1466.24 2244.14 1465.45 M2242.43 1458.06 Q2242.43 1460.75 2244.1 1462.25 Q2245.79 1463.76 2248.82 1463.76 Q2251.83 1463.76 2253.52 1462.25 Q2255.23 1460.75 2255.23 1458.06 Q2255.23 1455.38 2253.52 1453.88 Q2251.83 1452.37 2248.82 1452.37 Q2245.79 1452.37 2244.1 1453.88 Q2242.43 1455.38 2242.43 1458.06 Z\" fill=\"#000000\" fill-rule=\"evenodd\" fill-opacity=\"1\" /><path clip-path=\"url(#clip840)\" d=\"M 0 0 M2278.98 1452.37 Q2275.37 1452.37 2273.54 1455.94 Q2271.73 1459.48 2271.73 1466.61 Q2271.73 1473.71 2273.54 1477.28 Q2275.37 1480.82 2278.98 1480.82 Q2282.61 1480.82 2284.42 1477.28 Q2286.25 1473.71 2286.25 1466.61 Q2286.25 1459.48 2284.42 1455.94 Q2282.61 1452.37 2278.98 1452.37 M2278.98 1448.67 Q2284.79 1448.67 2287.85 1453.27 Q2290.92 1457.86 2290.92 1466.61 Q2290.92 1475.33 2287.85 1479.94 Q2284.79 1484.52 2278.98 1484.52 Q2273.17 1484.52 2270.09 1479.94 Q2267.04 1475.33 2267.04 1466.61 Q2267.04 1457.86 2270.09 1453.27 Q2273.17 1448.67 2278.98 1448.67 Z\" fill=\"#000000\" fill-rule=\"evenodd\" fill-opacity=\"1\" /><path clip-path=\"url(#clip840)\" d=\"M 0 0 M980.898 1568.04 L962.755 1520.52 L969.471 1520.52 L984.526 1560.53 L999.613 1520.52 L1006.3 1520.52 L988.186 1568.04 L980.898 1568.04 Z\" fill=\"#000000\" fill-rule=\"evenodd\" fill-opacity=\"1\" /><path clip-path=\"url(#clip840)\" d=\"M 0 0 M1024.12 1550.12 Q1017.02 1550.12 1014.29 1551.75 Q1011.55 1553.37 1011.55 1557.29 Q1011.55 1560.4 1013.59 1562.25 Q1015.65 1564.07 1019.19 1564.07 Q1024.06 1564.07 1026.99 1560.63 Q1029.95 1557.16 1029.95 1551.43 L1029.95 1550.12 L1024.12 1550.12 M1035.8 1547.71 L1035.8 1568.04 L1029.95 1568.04 L1029.95 1562.63 Q1027.94 1565.88 1024.95 1567.44 Q1021.96 1568.97 1017.63 1568.97 Q1012.15 1568.97 1008.91 1565.91 Q1005.69 1562.82 1005.69 1557.67 Q1005.69 1551.65 1009.7 1548.6 Q1013.74 1545.54 1021.73 1545.54 L1029.95 1545.54 L1029.95 1544.97 Q1029.95 1540.93 1027.27 1538.73 Q1024.63 1536.5 1019.82 1536.5 Q1016.77 1536.5 1013.87 1537.23 Q1010.98 1537.97 1008.3 1539.43 L1008.3 1534.02 Q1011.52 1532.78 1014.54 1532.17 Q1017.56 1531.54 1020.43 1531.54 Q1028.16 1531.54 1031.98 1535.55 Q1035.8 1539.56 1035.8 1547.71 Z\" fill=\"#000000\" fill-rule=\"evenodd\" fill-opacity=\"1\" /><path clip-path=\"url(#clip840)\" d=\"M 0 0 M1073.52 1533.76 L1073.52 1539.24 Q1071.04 1537.87 1068.52 1537.2 Q1066.04 1536.5 1063.49 1536.5 Q1057.8 1536.5 1054.64 1540.13 Q1051.49 1543.73 1051.49 1550.25 Q1051.49 1556.78 1054.64 1560.4 Q1057.8 1564 1063.49 1564 Q1066.04 1564 1068.52 1563.33 Q1071.04 1562.63 1073.52 1561.26 L1073.52 1566.68 Q1071.07 1567.82 1068.43 1568.39 Q1065.82 1568.97 1062.86 1568.97 Q1054.8 1568.97 1050.06 1563.91 Q1045.32 1558.85 1045.32 1550.25 Q1045.32 1541.53 1050.09 1536.53 Q1054.9 1531.54 1063.24 1531.54 Q1065.94 1531.54 1068.52 1532.11 Q1071.1 1532.65 1073.52 1533.76 Z\" fill=\"#000000\" fill-rule=\"evenodd\" fill-opacity=\"1\" /><path clip-path=\"url(#clip840)\" d=\"M 0 0 M1109.36 1533.76 L1109.36 1539.24 Q1106.87 1537.87 1104.36 1537.2 Q1101.88 1536.5 1099.33 1536.5 Q1093.63 1536.5 1090.48 1540.13 Q1087.33 1543.73 1087.33 1550.25 Q1087.33 1556.78 1090.48 1560.4 Q1093.63 1564 1099.33 1564 Q1101.88 1564 1104.36 1563.33 Q1106.87 1562.63 1109.36 1561.26 L1109.36 1566.68 Q1106.91 1567.82 1104.26 1568.39 Q1101.65 1568.97 1098.69 1568.97 Q1090.64 1568.97 1085.9 1563.91 Q1081.16 1558.85 1081.16 1550.25 Q1081.16 1541.53 1085.93 1536.53 Q1090.74 1531.54 1099.08 1531.54 Q1101.78 1531.54 1104.36 1532.11 Q1106.94 1532.65 1109.36 1533.76 Z\" fill=\"#000000\" fill-rule=\"evenodd\" fill-opacity=\"1\" /><path clip-path=\"url(#clip840)\" d=\"M 0 0 M1119.54 1532.4 L1125.4 1532.4 L1125.4 1568.04 L1119.54 1568.04 L1119.54 1532.4 M1119.54 1518.52 L1125.4 1518.52 L1125.4 1525.93 L1119.54 1525.93 L1119.54 1518.52 Z\" fill=\"#000000\" fill-rule=\"evenodd\" fill-opacity=\"1\" /><path clip-path=\"url(#clip840)\" d=\"M 0 0 M1167.29 1546.53 L1167.29 1568.04 L1161.43 1568.04 L1161.43 1546.72 Q1161.43 1541.66 1159.46 1539.14 Q1157.48 1536.63 1153.54 1536.63 Q1148.79 1536.63 1146.06 1539.65 Q1143.32 1542.68 1143.32 1547.9 L1143.32 1568.04 L1137.43 1568.04 L1137.43 1532.4 L1143.32 1532.4 L1143.32 1537.93 Q1145.42 1534.72 1148.25 1533.13 Q1151.12 1531.54 1154.84 1531.54 Q1160.98 1531.54 1164.13 1535.36 Q1167.29 1539.14 1167.29 1546.53 Z\" fill=\"#000000\" fill-rule=\"evenodd\" fill-opacity=\"1\" /><path clip-path=\"url(#clip840)\" d=\"M 0 0 M1209.46 1548.76 L1209.46 1551.62 L1182.53 1551.62 Q1182.91 1557.67 1186.16 1560.85 Q1189.44 1564 1195.26 1564 Q1198.64 1564 1201.79 1563.17 Q1204.97 1562.35 1208.09 1560.69 L1208.09 1566.23 Q1204.94 1567.57 1201.63 1568.27 Q1198.32 1568.97 1194.91 1568.97 Q1186.38 1568.97 1181.39 1564 Q1176.42 1559.04 1176.42 1550.57 Q1176.42 1541.82 1181.13 1536.69 Q1185.87 1531.54 1193.89 1531.54 Q1201.09 1531.54 1205.26 1536.18 Q1209.46 1540.8 1209.46 1548.76 M1203.6 1547.04 Q1203.54 1542.23 1200.9 1539.37 Q1198.29 1536.5 1193.96 1536.5 Q1189.06 1536.5 1186.1 1539.27 Q1183.17 1542.04 1182.72 1547.07 L1203.6 1547.04 Z\" fill=\"#000000\" fill-rule=\"evenodd\" fill-opacity=\"1\" /><path clip-path=\"url(#clip840)\" d=\"M 0 0 M1255.93 1526.86 L1247.21 1550.51 L1264.68 1550.51 L1255.93 1526.86 M1252.3 1520.52 L1259.59 1520.52 L1277.7 1568.04 L1271.01 1568.04 L1266.69 1555.85 L1245.27 1555.85 L1240.94 1568.04 L1234.16 1568.04 L1252.3 1520.52 Z\" fill=\"#000000\" fill-rule=\"evenodd\" fill-opacity=\"1\" /><path clip-path=\"url(#clip840)\" d=\"M 0 0 M1308.89 1533.76 L1308.89 1539.24 Q1306.41 1537.87 1303.89 1537.2 Q1301.41 1536.5 1298.86 1536.5 Q1293.17 1536.5 1290.02 1540.13 Q1286.87 1543.73 1286.87 1550.25 Q1286.87 1556.78 1290.02 1560.4 Q1293.17 1564 1298.86 1564 Q1301.41 1564 1303.89 1563.33 Q1306.41 1562.63 1308.89 1561.26 L1308.89 1566.68 Q1306.44 1567.82 1303.8 1568.39 Q1301.19 1568.97 1298.23 1568.97 Q1290.18 1568.97 1285.43 1563.91 Q1280.69 1558.85 1280.69 1550.25 Q1280.69 1541.53 1285.46 1536.53 Q1290.27 1531.54 1298.61 1531.54 Q1301.32 1531.54 1303.89 1532.11 Q1306.47 1532.65 1308.89 1533.76 Z\" fill=\"#000000\" fill-rule=\"evenodd\" fill-opacity=\"1\" /><path clip-path=\"url(#clip840)\" d=\"M 0 0 M1344.73 1533.76 L1344.73 1539.24 Q1342.25 1537.87 1339.73 1537.2 Q1337.25 1536.5 1334.7 1536.5 Q1329.01 1536.5 1325.86 1540.13 Q1322.7 1543.73 1322.7 1550.25 Q1322.7 1556.78 1325.86 1560.4 Q1329.01 1564 1334.7 1564 Q1337.25 1564 1339.73 1563.33 Q1342.25 1562.63 1344.73 1561.26 L1344.73 1566.68 Q1342.28 1567.82 1339.64 1568.39 Q1337.03 1568.97 1334.07 1568.97 Q1326.01 1568.97 1321.27 1563.91 Q1316.53 1558.85 1316.53 1550.25 Q1316.53 1541.53 1321.3 1536.53 Q1326.11 1531.54 1334.45 1531.54 Q1337.15 1531.54 1339.73 1532.11 Q1342.31 1532.65 1344.73 1533.76 Z\" fill=\"#000000\" fill-rule=\"evenodd\" fill-opacity=\"1\" /><path clip-path=\"url(#clip840)\" d=\"M 0 0 M1385.41 1548.76 L1385.41 1551.62 L1358.48 1551.62 Q1358.86 1557.67 1362.11 1560.85 Q1365.39 1564 1371.21 1564 Q1374.58 1564 1377.74 1563.17 Q1380.92 1562.35 1384.04 1560.69 L1384.04 1566.23 Q1380.89 1567.57 1377.58 1568.27 Q1374.27 1568.97 1370.86 1568.97 Q1362.33 1568.97 1357.33 1564 Q1352.37 1559.04 1352.37 1550.57 Q1352.37 1541.82 1357.08 1536.69 Q1361.82 1531.54 1369.84 1531.54 Q1377.04 1531.54 1381.2 1536.18 Q1385.41 1540.8 1385.41 1548.76 M1379.55 1547.04 Q1379.49 1542.23 1376.84 1539.37 Q1374.23 1536.5 1369.91 1536.5 Q1365 1536.5 1362.04 1539.27 Q1359.12 1542.04 1358.67 1547.07 L1379.55 1547.04 Z\" fill=\"#000000\" fill-rule=\"evenodd\" fill-opacity=\"1\" /><path clip-path=\"url(#clip840)\" d=\"M 0 0 M1400.68 1562.7 L1400.68 1581.6 L1394.8 1581.6 L1394.8 1532.4 L1400.68 1532.4 L1400.68 1537.81 Q1402.53 1534.62 1405.33 1533.1 Q1408.16 1531.54 1412.08 1531.54 Q1418.57 1531.54 1422.61 1536.69 Q1426.69 1541.85 1426.69 1550.25 Q1426.69 1558.65 1422.61 1563.81 Q1418.57 1568.97 1412.08 1568.97 Q1408.16 1568.97 1405.33 1567.44 Q1402.53 1565.88 1400.68 1562.7 M1420.61 1550.25 Q1420.61 1543.79 1417.94 1540.13 Q1415.29 1536.44 1410.65 1536.44 Q1406 1536.44 1403.33 1540.13 Q1400.68 1543.79 1400.68 1550.25 Q1400.68 1556.71 1403.33 1560.4 Q1406 1564.07 1410.65 1564.07 Q1415.29 1564.07 1417.94 1560.4 Q1420.61 1556.71 1420.61 1550.25 Z\" fill=\"#000000\" fill-rule=\"evenodd\" fill-opacity=\"1\" /><path clip-path=\"url(#clip840)\" d=\"M 0 0 M1442.19 1522.27 L1442.19 1532.4 L1454.25 1532.4 L1454.25 1536.95 L1442.19 1536.95 L1442.19 1556.3 Q1442.19 1560.66 1443.37 1561.9 Q1444.58 1563.14 1448.24 1563.14 L1454.25 1563.14 L1454.25 1568.04 L1448.24 1568.04 Q1441.46 1568.04 1438.88 1565.53 Q1436.3 1562.98 1436.3 1556.3 L1436.3 1536.95 L1432 1536.95 L1432 1532.4 L1436.3 1532.4 L1436.3 1522.27 L1442.19 1522.27 Z\" fill=\"#000000\" fill-rule=\"evenodd\" fill-opacity=\"1\" /><path clip-path=\"url(#clip840)\" d=\"M 0 0 M1478.15 1550.12 Q1471.06 1550.12 1468.32 1551.75 Q1465.58 1553.37 1465.58 1557.29 Q1465.58 1560.4 1467.62 1562.25 Q1469.69 1564.07 1473.22 1564.07 Q1478.09 1564.07 1481.02 1560.63 Q1483.98 1557.16 1483.98 1551.43 L1483.98 1550.12 L1478.15 1550.12 M1489.84 1547.71 L1489.84 1568.04 L1483.98 1568.04 L1483.98 1562.63 Q1481.97 1565.88 1478.98 1567.44 Q1475.99 1568.97 1471.66 1568.97 Q1466.19 1568.97 1462.94 1565.91 Q1459.73 1562.82 1459.73 1557.67 Q1459.73 1551.65 1463.74 1548.6 Q1467.78 1545.54 1475.77 1545.54 L1483.98 1545.54 L1483.98 1544.97 Q1483.98 1540.93 1481.31 1538.73 Q1478.66 1536.5 1473.86 1536.5 Q1470.8 1536.5 1467.91 1537.23 Q1465.01 1537.97 1462.34 1539.43 L1462.34 1534.02 Q1465.55 1532.78 1468.57 1532.17 Q1471.6 1531.54 1474.46 1531.54 Q1482.2 1531.54 1486.02 1535.55 Q1489.84 1539.56 1489.84 1547.71 Z\" fill=\"#000000\" fill-rule=\"evenodd\" fill-opacity=\"1\" /><path clip-path=\"url(#clip840)\" d=\"M 0 0 M1531.53 1546.53 L1531.53 1568.04 L1525.67 1568.04 L1525.67 1546.72 Q1525.67 1541.66 1523.7 1539.14 Q1521.73 1536.63 1517.78 1536.63 Q1513.04 1536.63 1510.3 1539.65 Q1507.56 1542.68 1507.56 1547.9 L1507.56 1568.04 L1501.68 1568.04 L1501.68 1532.4 L1507.56 1532.4 L1507.56 1537.93 Q1509.66 1534.72 1512.5 1533.13 Q1515.36 1531.54 1519.09 1531.54 Q1525.23 1531.54 1528.38 1535.36 Q1531.53 1539.14 1531.53 1546.53 Z\" fill=\"#000000\" fill-rule=\"evenodd\" fill-opacity=\"1\" /><path clip-path=\"url(#clip840)\" d=\"M 0 0 M1568.87 1533.76 L1568.87 1539.24 Q1566.38 1537.87 1563.87 1537.2 Q1561.39 1536.5 1558.84 1536.5 Q1553.14 1536.5 1549.99 1540.13 Q1546.84 1543.73 1546.84 1550.25 Q1546.84 1556.78 1549.99 1560.4 Q1553.14 1564 1558.84 1564 Q1561.39 1564 1563.87 1563.33 Q1566.38 1562.63 1568.87 1561.26 L1568.87 1566.68 Q1566.42 1567.82 1563.77 1568.39 Q1561.16 1568.97 1558.2 1568.97 Q1550.15 1568.97 1545.41 1563.91 Q1540.67 1558.85 1540.67 1550.25 Q1540.67 1541.53 1545.44 1536.53 Q1550.25 1531.54 1558.59 1531.54 Q1561.29 1531.54 1563.87 1532.11 Q1566.45 1532.65 1568.87 1533.76 Z\" fill=\"#000000\" fill-rule=\"evenodd\" fill-opacity=\"1\" /><path clip-path=\"url(#clip840)\" d=\"M 0 0 M1609.54 1548.76 L1609.54 1551.62 L1582.62 1551.62 Q1583 1557.67 1586.24 1560.85 Q1589.52 1564 1595.35 1564 Q1598.72 1564 1601.87 1563.17 Q1605.06 1562.35 1608.17 1560.69 L1608.17 1566.23 Q1605.02 1567.57 1601.71 1568.27 Q1598.4 1568.97 1595 1568.97 Q1586.47 1568.97 1581.47 1564 Q1576.5 1559.04 1576.5 1550.57 Q1576.5 1541.82 1581.22 1536.69 Q1585.96 1531.54 1593.98 1531.54 Q1601.17 1531.54 1605.34 1536.18 Q1609.54 1540.8 1609.54 1548.76 M1603.69 1547.04 Q1603.62 1542.23 1600.98 1539.37 Q1598.37 1536.5 1594.04 1536.5 Q1589.14 1536.5 1586.18 1539.27 Q1583.25 1542.04 1582.81 1547.07 L1603.69 1547.04 Z\" fill=\"#000000\" fill-rule=\"evenodd\" fill-opacity=\"1\" /><polyline clip-path=\"url(#clip842)\" style=\"stroke:#000000; stroke-width:2; stroke-opacity:0.1; fill:none\" points=\"\n",
       "  219.542,1340.16 2352.76,1340.16 \n",
       "  \"/>\n",
       "<polyline clip-path=\"url(#clip842)\" style=\"stroke:#000000; stroke-width:2; stroke-opacity:0.1; fill:none\" points=\"\n",
       "  219.542,994.438 2352.76,994.438 \n",
       "  \"/>\n",
       "<polyline clip-path=\"url(#clip842)\" style=\"stroke:#000000; stroke-width:2; stroke-opacity:0.1; fill:none\" points=\"\n",
       "  219.542,648.713 2352.76,648.713 \n",
       "  \"/>\n",
       "<polyline clip-path=\"url(#clip842)\" style=\"stroke:#000000; stroke-width:2; stroke-opacity:0.1; fill:none\" points=\"\n",
       "  219.542,302.988 2352.76,302.988 \n",
       "  \"/>\n",
       "<polyline clip-path=\"url(#clip840)\" style=\"stroke:#000000; stroke-width:4; stroke-opacity:1; fill:none\" points=\"\n",
       "  219.542,1423.18 219.542,123.472 \n",
       "  \"/>\n",
       "<polyline clip-path=\"url(#clip840)\" style=\"stroke:#000000; stroke-width:4; stroke-opacity:1; fill:none\" points=\"\n",
       "  219.542,1340.16 245.141,1340.16 \n",
       "  \"/>\n",
       "<polyline clip-path=\"url(#clip840)\" style=\"stroke:#000000; stroke-width:4; stroke-opacity:1; fill:none\" points=\"\n",
       "  219.542,994.438 245.141,994.438 \n",
       "  \"/>\n",
       "<polyline clip-path=\"url(#clip840)\" style=\"stroke:#000000; stroke-width:4; stroke-opacity:1; fill:none\" points=\"\n",
       "  219.542,648.713 245.141,648.713 \n",
       "  \"/>\n",
       "<polyline clip-path=\"url(#clip840)\" style=\"stroke:#000000; stroke-width:4; stroke-opacity:1; fill:none\" points=\"\n",
       "  219.542,302.988 245.141,302.988 \n",
       "  \"/>\n",
       "<path clip-path=\"url(#clip840)\" d=\"M 0 0 M127.362 1325.96 Q123.751 1325.96 121.922 1329.53 Q120.117 1333.07 120.117 1340.2 Q120.117 1347.3 121.922 1350.87 Q123.751 1354.41 127.362 1354.41 Q130.996 1354.41 132.802 1350.87 Q134.63 1347.3 134.63 1340.2 Q134.63 1333.07 132.802 1329.53 Q130.996 1325.96 127.362 1325.96 M127.362 1322.26 Q133.172 1322.26 136.228 1326.86 Q139.306 1331.45 139.306 1340.2 Q139.306 1348.92 136.228 1353.53 Q133.172 1358.11 127.362 1358.11 Q121.552 1358.11 118.473 1353.53 Q115.418 1348.92 115.418 1340.2 Q115.418 1331.45 118.473 1326.86 Q121.552 1322.26 127.362 1322.26 Z\" fill=\"#000000\" fill-rule=\"evenodd\" fill-opacity=\"1\" /><path clip-path=\"url(#clip840)\" d=\"M 0 0 M147.524 1351.56 L152.408 1351.56 L152.408 1357.44 L147.524 1357.44 L147.524 1351.56 Z\" fill=\"#000000\" fill-rule=\"evenodd\" fill-opacity=\"1\" /><path clip-path=\"url(#clip840)\" d=\"M 0 0 M162.64 1322.88 L180.996 1322.88 L180.996 1326.82 L166.922 1326.82 L166.922 1335.29 Q167.94 1334.94 168.959 1334.78 Q169.977 1334.6 170.996 1334.6 Q176.783 1334.6 180.163 1337.77 Q183.542 1340.94 183.542 1346.36 Q183.542 1351.93 180.07 1355.04 Q176.598 1358.11 170.278 1358.11 Q168.102 1358.11 165.834 1357.74 Q163.589 1357.37 161.181 1356.63 L161.181 1351.93 Q163.265 1353.07 165.487 1353.62 Q167.709 1354.18 170.186 1354.18 Q174.19 1354.18 176.528 1352.07 Q178.866 1349.97 178.866 1346.36 Q178.866 1342.74 176.528 1340.64 Q174.19 1338.53 170.186 1338.53 Q168.311 1338.53 166.436 1338.95 Q164.584 1339.36 162.64 1340.24 L162.64 1322.88 Z\" fill=\"#000000\" fill-rule=\"evenodd\" fill-opacity=\"1\" /><path clip-path=\"url(#clip840)\" d=\"M 0 0 M126.205 980.237 Q122.593 980.237 120.765 983.801 Q118.959 987.343 118.959 994.473 Q118.959 1001.58 120.765 1005.14 Q122.593 1008.69 126.205 1008.69 Q129.839 1008.69 131.644 1005.14 Q133.473 1001.58 133.473 994.473 Q133.473 987.343 131.644 983.801 Q129.839 980.237 126.205 980.237 M126.205 976.533 Q132.015 976.533 135.07 981.139 Q138.149 985.723 138.149 994.473 Q138.149 1003.2 135.07 1007.81 Q132.015 1012.39 126.205 1012.39 Q120.394 1012.39 117.316 1007.81 Q114.26 1003.2 114.26 994.473 Q114.26 985.723 117.316 981.139 Q120.394 976.533 126.205 976.533 Z\" fill=\"#000000\" fill-rule=\"evenodd\" fill-opacity=\"1\" /><path clip-path=\"url(#clip840)\" d=\"M 0 0 M146.366 1005.84 L151.251 1005.84 L151.251 1011.72 L146.366 1011.72 L146.366 1005.84 Z\" fill=\"#000000\" fill-rule=\"evenodd\" fill-opacity=\"1\" /><path clip-path=\"url(#clip840)\" d=\"M 0 0 M172.014 992.575 Q168.866 992.575 167.015 994.727 Q165.186 996.88 165.186 1000.63 Q165.186 1004.36 167.015 1006.53 Q168.866 1008.69 172.014 1008.69 Q175.163 1008.69 176.991 1006.53 Q178.843 1004.36 178.843 1000.63 Q178.843 996.88 176.991 994.727 Q175.163 992.575 172.014 992.575 M181.297 977.922 L181.297 982.181 Q179.538 981.348 177.732 980.908 Q175.95 980.468 174.19 980.468 Q169.561 980.468 167.107 983.593 Q164.677 986.718 164.329 993.038 Q165.695 991.024 167.755 989.959 Q169.815 988.871 172.292 988.871 Q177.501 988.871 180.51 992.042 Q183.542 995.19 183.542 1000.63 Q183.542 1005.95 180.394 1009.17 Q177.246 1012.39 172.014 1012.39 Q166.019 1012.39 162.848 1007.81 Q159.677 1003.2 159.677 994.473 Q159.677 986.278 163.565 981.417 Q167.454 976.533 174.005 976.533 Q175.764 976.533 177.547 976.88 Q179.352 977.227 181.297 977.922 Z\" fill=\"#000000\" fill-rule=\"evenodd\" fill-opacity=\"1\" /><path clip-path=\"url(#clip840)\" d=\"M 0 0 M127.269 634.512 Q123.658 634.512 121.83 638.076 Q120.024 641.618 120.024 648.748 Q120.024 655.854 121.83 659.419 Q123.658 662.96 127.269 662.96 Q130.904 662.96 132.709 659.419 Q134.538 655.854 134.538 648.748 Q134.538 641.618 132.709 638.076 Q130.904 634.512 127.269 634.512 M127.269 630.808 Q133.08 630.808 136.135 635.414 Q139.214 639.998 139.214 648.748 Q139.214 657.474 136.135 662.081 Q133.08 666.664 127.269 666.664 Q121.459 666.664 118.381 662.081 Q115.325 657.474 115.325 648.748 Q115.325 639.998 118.381 635.414 Q121.459 630.808 127.269 630.808 Z\" fill=\"#000000\" fill-rule=\"evenodd\" fill-opacity=\"1\" /><path clip-path=\"url(#clip840)\" d=\"M 0 0 M147.431 660.113 L152.316 660.113 L152.316 665.993 L147.431 665.993 L147.431 660.113 Z\" fill=\"#000000\" fill-rule=\"evenodd\" fill-opacity=\"1\" /><path clip-path=\"url(#clip840)\" d=\"M 0 0 M161.32 631.433 L183.542 631.433 L183.542 633.424 L170.996 665.993 L166.112 665.993 L177.917 635.368 L161.32 635.368 L161.32 631.433 Z\" fill=\"#000000\" fill-rule=\"evenodd\" fill-opacity=\"1\" /><path clip-path=\"url(#clip840)\" d=\"M 0 0 M126.459 288.787 Q122.848 288.787 121.019 292.351 Q119.214 295.893 119.214 303.023 Q119.214 310.129 121.019 313.694 Q122.848 317.235 126.459 317.235 Q130.093 317.235 131.899 313.694 Q133.728 310.129 133.728 303.023 Q133.728 295.893 131.899 292.351 Q130.093 288.787 126.459 288.787 M126.459 285.083 Q132.269 285.083 135.325 289.689 Q138.404 294.273 138.404 303.023 Q138.404 311.749 135.325 316.356 Q132.269 320.939 126.459 320.939 Q120.649 320.939 117.57 316.356 Q114.515 311.749 114.515 303.023 Q114.515 294.273 117.57 289.689 Q120.649 285.083 126.459 285.083 Z\" fill=\"#000000\" fill-rule=\"evenodd\" fill-opacity=\"1\" /><path clip-path=\"url(#clip840)\" d=\"M 0 0 M146.621 314.388 L151.505 314.388 L151.505 320.268 L146.621 320.268 L146.621 314.388 Z\" fill=\"#000000\" fill-rule=\"evenodd\" fill-opacity=\"1\" /><path clip-path=\"url(#clip840)\" d=\"M 0 0 M171.69 303.856 Q168.357 303.856 166.436 305.638 Q164.538 307.421 164.538 310.546 Q164.538 313.671 166.436 315.453 Q168.357 317.235 171.69 317.235 Q175.024 317.235 176.945 315.453 Q178.866 313.647 178.866 310.546 Q178.866 307.421 176.945 305.638 Q175.047 303.856 171.69 303.856 M167.015 301.865 Q164.005 301.124 162.315 299.064 Q160.649 297.004 160.649 294.041 Q160.649 289.898 163.589 287.49 Q166.552 285.083 171.69 285.083 Q176.852 285.083 179.792 287.49 Q182.732 289.898 182.732 294.041 Q182.732 297.004 181.042 299.064 Q179.376 301.124 176.389 301.865 Q179.769 302.652 181.644 304.944 Q183.542 307.235 183.542 310.546 Q183.542 315.569 180.464 318.254 Q177.408 320.939 171.69 320.939 Q165.973 320.939 162.894 318.254 Q159.839 315.569 159.839 310.546 Q159.839 307.235 161.737 304.944 Q163.635 302.652 167.015 301.865 M165.302 294.481 Q165.302 297.166 166.968 298.671 Q168.658 300.175 171.69 300.175 Q174.7 300.175 176.389 298.671 Q178.102 297.166 178.102 294.481 Q178.102 291.796 176.389 290.291 Q174.7 288.787 171.69 288.787 Q168.658 288.787 166.968 290.291 Q165.302 291.796 165.302 294.481 Z\" fill=\"#000000\" fill-rule=\"evenodd\" fill-opacity=\"1\" /><path clip-path=\"url(#clip840)\" d=\"M 0 0 M64.0042 1049.79 L16.4842 1067.93 L16.4842 1061.22 L56.4926 1046.16 L16.4842 1031.07 L16.4842 1024.39 L64.0042 1042.5 L64.0042 1049.79 Z\" fill=\"#000000\" fill-rule=\"evenodd\" fill-opacity=\"1\" /><path clip-path=\"url(#clip840)\" d=\"M 0 0 M32.4621 1008.95 Q32.4621 1013.66 36.1542 1016.4 Q39.8145 1019.14 46.212 1019.14 Q52.6095 1019.14 56.3017 1016.43 Q59.9619 1013.7 59.9619 1008.95 Q59.9619 1004.27 56.2698 1001.54 Q52.5777 998.799 46.212 998.799 Q39.8781 998.799 36.186 1001.54 Q32.4621 1004.27 32.4621 1008.95 M27.4968 1008.95 Q27.4968 1001.31 32.4621 996.953 Q37.4273 992.593 46.212 992.593 Q54.9649 992.593 59.9619 996.953 Q64.9272 1001.31 64.9272 1008.95 Q64.9272 1016.62 59.9619 1020.98 Q54.9649 1025.31 46.212 1025.31 Q37.4273 1025.31 32.4621 1020.98 Q27.4968 1016.62 27.4968 1008.95 Z\" fill=\"#000000\" fill-rule=\"evenodd\" fill-opacity=\"1\" /><path clip-path=\"url(#clip840)\" d=\"M 0 0 M18.2347 977.092 L28.3562 977.092 L28.3562 965.029 L32.9077 965.029 L32.9077 977.092 L52.2594 977.092 Q56.6199 977.092 57.8613 975.915 Q59.1026 974.705 59.1026 971.045 L59.1026 965.029 L64.0042 965.029 L64.0042 971.045 Q64.0042 977.824 61.4897 980.402 Q58.9434 982.981 52.2594 982.981 L32.9077 982.981 L32.9077 987.277 L28.3562 987.277 L28.3562 982.981 L18.2347 982.981 L18.2347 977.092 Z\" fill=\"#000000\" fill-rule=\"evenodd\" fill-opacity=\"1\" /><path clip-path=\"url(#clip840)\" d=\"M 0 0 M28.3562 957.327 L28.3562 951.47 L64.0042 951.47 L64.0042 957.327 L28.3562 957.327 M14.479 957.327 L14.479 951.47 L21.895 951.47 L21.895 957.327 L14.479 957.327 Z\" fill=\"#000000\" fill-rule=\"evenodd\" fill-opacity=\"1\" /><path clip-path=\"url(#clip840)\" d=\"M 0 0 M42.4881 909.584 L64.0042 909.584 L64.0042 915.44 L42.679 915.44 Q37.6183 915.44 35.1038 917.414 Q32.5894 919.387 32.5894 923.334 Q32.5894 928.076 35.6131 930.814 Q38.6368 933.551 43.8567 933.551 L64.0042 933.551 L64.0042 939.439 L28.3562 939.439 L28.3562 933.551 L33.8944 933.551 Q30.6797 931.45 29.0883 928.617 Q27.4968 925.753 27.4968 922.029 Q27.4968 915.886 31.3163 912.735 Q35.1038 909.584 42.4881 909.584 Z\" fill=\"#000000\" fill-rule=\"evenodd\" fill-opacity=\"1\" /><path clip-path=\"url(#clip840)\" d=\"M 0 0 M45.7664 874.445 Q39.4007 874.445 35.8996 877.087 Q32.3984 879.697 32.3984 884.439 Q32.3984 889.15 35.8996 891.792 Q39.4007 894.402 45.7664 894.402 Q52.1003 894.402 55.6014 891.792 Q59.1026 889.15 59.1026 884.439 Q59.1026 879.697 55.6014 877.087 Q52.1003 874.445 45.7664 874.445 M59.58 868.589 Q68.683 868.589 73.1071 872.631 Q77.5631 876.673 77.5631 885.012 Q77.5631 888.1 77.0857 890.837 Q76.6401 893.574 75.6852 896.152 L69.9879 896.152 Q71.3884 893.574 72.0568 891.06 Q72.7252 888.545 72.7252 885.935 Q72.7252 880.174 69.7015 877.31 Q66.7096 874.445 60.6303 874.445 L57.7339 874.445 Q60.885 876.259 62.4446 879.092 Q64.0042 881.925 64.0042 885.872 Q64.0042 892.428 59.0071 896.439 Q54.01 900.449 45.7664 900.449 Q37.491 900.449 32.4939 896.439 Q27.4968 892.428 27.4968 885.872 Q27.4968 881.925 29.0564 879.092 Q30.616 876.259 33.7671 874.445 L28.3562 874.445 L28.3562 868.589 L59.58 868.589 Z\" fill=\"#000000\" fill-rule=\"evenodd\" fill-opacity=\"1\" /><path clip-path=\"url(#clip840)\" d=\"M 0 0 M21.7677 829.121 L39.6235 829.121 L39.6235 821.037 Q39.6235 816.549 37.3 814.098 Q34.9765 811.648 30.6797 811.648 Q26.4147 811.648 24.0912 814.098 Q21.7677 816.549 21.7677 821.037 L21.7677 829.121 M16.4842 835.551 L16.4842 821.037 Q16.4842 813.048 20.1126 808.974 Q23.7092 804.868 30.6797 804.868 Q37.7138 804.868 41.3104 808.974 Q44.907 813.048 44.907 821.037 L44.907 829.121 L64.0042 829.121 L64.0042 835.551 L16.4842 835.551 Z\" fill=\"#000000\" fill-rule=\"evenodd\" fill-opacity=\"1\" /><path clip-path=\"url(#clip840)\" d=\"M 0 0 M44.7161 768.329 L47.5806 768.329 L47.5806 795.256 Q53.6281 794.874 56.8109 791.627 Q59.9619 788.349 59.9619 782.524 Q59.9619 779.151 59.1344 776 Q58.3069 772.817 56.6518 769.698 L62.1899 769.698 Q63.5267 772.849 64.227 776.159 Q64.9272 779.469 64.9272 782.875 Q64.9272 791.405 59.9619 796.402 Q54.9967 801.367 46.5303 801.367 Q37.7774 801.367 32.6531 796.656 Q27.4968 791.914 27.4968 783.893 Q27.4968 776.7 32.1438 772.53 Q36.7589 768.329 44.7161 768.329 M42.9973 774.185 Q38.1912 774.249 35.3266 776.891 Q32.4621 779.501 32.4621 783.829 Q32.4621 788.731 35.2312 791.691 Q38.0002 794.619 43.0292 795.065 L42.9973 774.185 Z\" fill=\"#000000\" fill-rule=\"evenodd\" fill-opacity=\"1\" /><path clip-path=\"url(#clip840)\" d=\"M 0 0 M33.8307 738.06 Q33.2578 739.047 33.0032 740.224 Q32.7167 741.37 32.7167 742.771 Q32.7167 747.736 35.9632 750.409 Q39.1779 753.051 45.2253 753.051 L64.0042 753.051 L64.0042 758.939 L28.3562 758.939 L28.3562 753.051 L33.8944 753.051 Q30.6479 751.205 29.0883 748.245 Q27.4968 745.285 27.4968 741.052 Q27.4968 740.447 27.5923 739.715 Q27.656 738.983 27.8151 738.092 L33.8307 738.06 Z\" fill=\"#000000\" fill-rule=\"evenodd\" fill-opacity=\"1\" /><path clip-path=\"url(#clip840)\" d=\"M 0 0 M29.7248 707.696 L35.1993 707.696 Q33.8307 710.178 33.1623 712.693 Q32.4621 715.175 32.4621 717.722 Q32.4621 723.419 36.0905 726.57 Q39.6872 729.721 46.212 729.721 Q52.7369 729.721 56.3653 726.57 Q59.9619 723.419 59.9619 717.722 Q59.9619 715.175 59.2935 712.693 Q58.5933 710.178 57.2247 707.696 L62.6355 707.696 Q63.7814 710.146 64.3543 712.788 Q64.9272 715.398 64.9272 718.358 Q64.9272 726.411 59.8664 731.153 Q54.8057 735.896 46.212 735.896 Q37.491 735.896 32.4939 731.121 Q27.4968 726.315 27.4968 717.976 Q27.4968 715.271 28.0697 712.693 Q28.6108 710.115 29.7248 707.696 Z\" fill=\"#000000\" fill-rule=\"evenodd\" fill-opacity=\"1\" /><path clip-path=\"url(#clip840)\" d=\"M 0 0 M44.7161 667.019 L47.5806 667.019 L47.5806 693.946 Q53.6281 693.564 56.8109 690.317 Q59.9619 687.039 59.9619 681.214 Q59.9619 677.84 59.1344 674.689 Q58.3069 671.507 56.6518 668.387 L62.1899 668.387 Q63.5267 671.538 64.227 674.849 Q64.9272 678.159 64.9272 681.564 Q64.9272 690.094 59.9619 695.091 Q54.9967 700.057 46.5303 700.057 Q37.7774 700.057 32.6531 695.346 Q27.4968 690.604 27.4968 682.583 Q27.4968 675.39 32.1438 671.22 Q36.7589 667.019 44.7161 667.019 M42.9973 672.875 Q38.1912 672.939 35.3266 675.581 Q32.4621 678.19 32.4621 682.519 Q32.4621 687.421 35.2312 690.381 Q38.0002 693.309 43.0292 693.755 L42.9973 672.875 Z\" fill=\"#000000\" fill-rule=\"evenodd\" fill-opacity=\"1\" /><path clip-path=\"url(#clip840)\" d=\"M 0 0 M42.4881 627.774 L64.0042 627.774 L64.0042 633.631 L42.679 633.631 Q37.6183 633.631 35.1038 635.604 Q32.5894 637.577 32.5894 641.524 Q32.5894 646.266 35.6131 649.004 Q38.6368 651.741 43.8567 651.741 L64.0042 651.741 L64.0042 657.629 L28.3562 657.629 L28.3562 651.741 L33.8944 651.741 Q30.6797 649.64 29.0883 646.808 Q27.4968 643.943 27.4968 640.219 Q27.4968 634.076 31.3163 630.925 Q35.1038 627.774 42.4881 627.774 Z\" fill=\"#000000\" fill-rule=\"evenodd\" fill-opacity=\"1\" /><path clip-path=\"url(#clip840)\" d=\"M 0 0 M18.2347 610.3 L28.3562 610.3 L28.3562 598.237 L32.9077 598.237 L32.9077 610.3 L52.2594 610.3 Q56.6199 610.3 57.8613 609.123 Q59.1026 607.913 59.1026 604.253 L59.1026 598.237 L64.0042 598.237 L64.0042 604.253 Q64.0042 611.032 61.4897 613.61 Q58.9434 616.189 52.2594 616.189 L32.9077 616.189 L32.9077 620.485 L28.3562 620.485 L28.3562 616.189 L18.2347 616.189 L18.2347 610.3 Z\" fill=\"#000000\" fill-rule=\"evenodd\" fill-opacity=\"1\" /><path clip-path=\"url(#clip840)\" d=\"M 0 0 M46.0847 574.334 Q46.0847 581.432 47.7079 584.169 Q49.3312 586.906 53.2461 586.906 Q56.3653 586.906 58.2114 584.869 Q60.0256 582.8 60.0256 579.267 Q60.0256 574.398 56.5881 571.469 Q53.1188 568.509 47.3897 568.509 L46.0847 568.509 L46.0847 574.334 M43.6657 562.653 L64.0042 562.653 L64.0042 568.509 L58.5933 568.509 Q61.8398 570.515 63.3994 573.506 Q64.9272 576.498 64.9272 580.827 Q64.9272 586.302 61.8716 589.548 Q58.7843 592.763 53.6281 592.763 Q47.6125 592.763 44.5569 588.752 Q41.5014 584.71 41.5014 576.721 L41.5014 568.509 L40.9285 568.509 Q36.8862 568.509 34.6901 571.183 Q32.4621 573.825 32.4621 578.631 Q32.4621 581.686 33.1941 584.583 Q33.9262 587.479 35.3903 590.153 L29.9795 590.153 Q28.7381 586.938 28.1334 583.914 Q27.4968 580.891 27.4968 578.026 Q27.4968 570.292 31.5072 566.472 Q35.5176 562.653 43.6657 562.653 Z\" fill=\"#000000\" fill-rule=\"evenodd\" fill-opacity=\"1\" /><path clip-path=\"url(#clip840)\" d=\"M 0 0 M45.7664 527.132 Q39.4007 527.132 35.8996 529.774 Q32.3984 532.384 32.3984 537.126 Q32.3984 541.837 35.8996 544.479 Q39.4007 547.089 45.7664 547.089 Q52.1003 547.089 55.6014 544.479 Q59.1026 541.837 59.1026 537.126 Q59.1026 532.384 55.6014 529.774 Q52.1003 527.132 45.7664 527.132 M59.58 521.276 Q68.683 521.276 73.1071 525.318 Q77.5631 529.36 77.5631 537.699 Q77.5631 540.787 77.0857 543.524 Q76.6401 546.261 75.6852 548.839 L69.9879 548.839 Q71.3884 546.261 72.0568 543.747 Q72.7252 541.232 72.7252 538.622 Q72.7252 532.861 69.7015 529.997 Q66.7096 527.132 60.6303 527.132 L57.7339 527.132 Q60.885 528.947 62.4446 531.779 Q64.0042 534.612 64.0042 538.559 Q64.0042 545.115 59.0071 549.126 Q54.01 553.136 45.7664 553.136 Q37.491 553.136 32.4939 549.126 Q27.4968 545.115 27.4968 538.559 Q27.4968 534.612 29.0564 531.779 Q30.616 528.947 33.7671 527.132 L28.3562 527.132 L28.3562 521.276 L59.58 521.276 Z\" fill=\"#000000\" fill-rule=\"evenodd\" fill-opacity=\"1\" /><path clip-path=\"url(#clip840)\" d=\"M 0 0 M44.7161 478.721 L47.5806 478.721 L47.5806 505.648 Q53.6281 505.266 56.8109 502.02 Q59.9619 498.741 59.9619 492.917 Q59.9619 489.543 59.1344 486.392 Q58.3069 483.209 56.6518 480.09 L62.1899 480.09 Q63.5267 483.241 64.227 486.551 Q64.9272 489.861 64.9272 493.267 Q64.9272 501.797 59.9619 506.794 Q54.9967 511.759 46.5303 511.759 Q37.7774 511.759 32.6531 507.048 Q27.4968 502.306 27.4968 494.285 Q27.4968 487.092 32.1438 482.922 Q36.7589 478.721 44.7161 478.721 M42.9973 484.578 Q38.1912 484.641 35.3266 487.283 Q32.4621 489.893 32.4621 494.222 Q32.4621 499.123 35.2312 502.083 Q38.0002 505.011 43.0292 505.457 L42.9973 484.578 Z\" fill=\"#000000\" fill-rule=\"evenodd\" fill-opacity=\"1\" /><path clip-path=\"url(#clip840)\" d=\"M 0 0 M653.276 44.2197 Q655.909 45.1109 658.38 48.0275 Q660.892 50.9442 663.404 56.0483 L671.708 72.576 L662.917 72.576 L655.18 57.061 Q652.183 50.9847 649.347 48.9997 Q646.552 47.0148 641.691 47.0148 L632.779 47.0148 L632.779 72.576 L624.596 72.576 L624.596 12.096 L643.068 12.096 Q653.438 12.096 658.542 16.4305 Q663.647 20.7649 663.647 29.5149 Q663.647 35.2267 660.973 38.994 Q658.34 42.7613 653.276 44.2197 M632.779 18.8205 L632.779 40.2903 L643.068 40.2903 Q648.982 40.2903 651.98 37.5762 Q655.018 34.8216 655.018 29.5149 Q655.018 24.2082 651.98 21.5346 Q648.982 18.8205 643.068 18.8205 L632.779 18.8205 Z\" fill=\"#000000\" fill-rule=\"evenodd\" fill-opacity=\"1\" /><path clip-path=\"url(#clip840)\" d=\"M 0 0 M716.997 48.0275 L716.997 51.6733 L682.726 51.6733 Q683.212 59.3701 687.344 63.421 Q691.517 67.4314 698.93 67.4314 Q703.224 67.4314 707.234 66.3781 Q711.285 65.3249 715.255 63.2184 L715.255 70.267 Q711.245 71.9684 707.032 72.8596 Q702.819 73.7508 698.484 73.7508 Q687.628 73.7508 681.268 67.4314 Q674.949 61.1119 674.949 50.3365 Q674.949 39.1965 680.944 32.6746 Q686.98 26.1121 697.188 26.1121 Q706.343 26.1121 711.65 32.0264 Q716.997 37.9003 716.997 48.0275 M709.543 45.84 Q709.462 39.7232 706.1 36.0774 Q702.778 32.4315 697.269 32.4315 Q691.031 32.4315 687.263 35.9558 Q683.537 39.4801 682.969 45.8805 L709.543 45.84 Z\" fill=\"#000000\" fill-rule=\"evenodd\" fill-opacity=\"1\" /><path clip-path=\"url(#clip840)\" d=\"M 0 0 M736.441 65.7705 L736.441 89.8329 L728.947 89.8329 L728.947 27.2059 L736.441 27.2059 L736.441 34.0924 Q738.791 30.0415 742.356 28.0971 Q745.961 26.1121 750.944 26.1121 Q759.207 26.1121 764.352 32.6746 Q769.537 39.2371 769.537 49.9314 Q769.537 60.6258 764.352 67.1883 Q759.207 73.7508 750.944 73.7508 Q745.961 73.7508 742.356 71.8063 Q738.791 69.8214 736.441 65.7705 M761.8 49.9314 Q761.8 41.7081 758.397 37.0496 Q755.035 32.3505 749.121 32.3505 Q743.206 32.3505 739.804 37.0496 Q736.441 41.7081 736.441 49.9314 Q736.441 58.1548 739.804 62.8538 Q743.206 67.5124 749.121 67.5124 Q755.035 67.5124 758.397 62.8538 Q761.8 58.1548 761.8 49.9314 Z\" fill=\"#000000\" fill-rule=\"evenodd\" fill-opacity=\"1\" /><path clip-path=\"url(#clip840)\" d=\"M 0 0 M781.892 9.54393 L789.346 9.54393 L789.346 72.576 L781.892 72.576 L781.892 9.54393 Z\" fill=\"#000000\" fill-rule=\"evenodd\" fill-opacity=\"1\" /><path clip-path=\"url(#clip840)\" d=\"M 0 0 M804.172 54.671 L804.172 27.2059 L811.626 27.2059 L811.626 54.3874 Q811.626 60.8284 814.138 64.0691 Q816.649 67.2693 821.672 67.2693 Q827.708 67.2693 831.192 63.421 Q834.716 59.5726 834.716 52.9291 L834.716 27.2059 L842.17 27.2059 L842.17 72.576 L834.716 72.576 L834.716 65.6084 Q832.002 69.7404 828.397 71.7658 Q824.832 73.7508 820.093 73.7508 Q812.274 73.7508 808.223 68.8897 Q804.172 64.0286 804.172 54.671 M822.928 26.1121 L822.928 26.1121 Z\" fill=\"#000000\" fill-rule=\"evenodd\" fill-opacity=\"1\" /><path clip-path=\"url(#clip840)\" d=\"M 0 0 M890.092 49.9314 Q890.092 41.7081 886.689 37.0496 Q883.327 32.3505 877.413 32.3505 Q871.498 32.3505 868.096 37.0496 Q864.733 41.7081 864.733 49.9314 Q864.733 58.1548 868.096 62.8538 Q871.498 67.5124 877.413 67.5124 Q883.327 67.5124 886.689 62.8538 Q890.092 58.1548 890.092 49.9314 M864.733 34.0924 Q867.083 30.0415 870.648 28.0971 Q874.253 26.1121 879.236 26.1121 Q887.5 26.1121 892.644 32.6746 Q897.829 39.2371 897.829 49.9314 Q897.829 60.6258 892.644 67.1883 Q887.5 73.7508 879.236 73.7508 Q874.253 73.7508 870.648 71.8063 Q867.083 69.8214 864.733 65.7705 L864.733 72.576 L857.239 72.576 L857.239 9.54393 L864.733 9.54393 L864.733 34.0924 Z\" fill=\"#000000\" fill-rule=\"evenodd\" fill-opacity=\"1\" /><path clip-path=\"url(#clip840)\" d=\"M 0 0 M910.185 9.54393 L917.638 9.54393 L917.638 72.576 L910.185 72.576 L910.185 9.54393 Z\" fill=\"#000000\" fill-rule=\"evenodd\" fill-opacity=\"1\" /><path clip-path=\"url(#clip840)\" d=\"M 0 0 M933.234 27.2059 L940.688 27.2059 L940.688 72.576 L933.234 72.576 L933.234 27.2059 M933.234 9.54393 L940.688 9.54393 L940.688 18.9825 L933.234 18.9825 L933.234 9.54393 Z\" fill=\"#000000\" fill-rule=\"evenodd\" fill-opacity=\"1\" /><path clip-path=\"url(#clip840)\" d=\"M 0 0 M988.934 28.9478 L988.934 35.9153 Q985.775 34.1734 982.574 33.3227 Q979.415 32.4315 976.174 32.4315 Q968.923 32.4315 964.912 37.0496 Q960.902 41.6271 960.902 49.9314 Q960.902 58.2358 964.912 62.8538 Q968.923 67.4314 976.174 67.4314 Q979.415 67.4314 982.574 66.5807 Q985.775 65.6895 988.934 63.9476 L988.934 70.8341 Q985.815 72.2924 982.453 73.0216 Q979.131 73.7508 975.364 73.7508 Q965.115 73.7508 959.079 67.3098 Q953.043 60.8689 953.043 49.9314 Q953.043 38.832 959.12 32.472 Q965.236 26.1121 975.85 26.1121 Q979.293 26.1121 982.574 26.8413 Q985.856 27.5299 988.934 28.9478 Z\" fill=\"#000000\" fill-rule=\"evenodd\" fill-opacity=\"1\" /><path clip-path=\"url(#clip840)\" d=\"M 0 0 M1022.52 49.7694 Q1013.48 49.7694 1010 51.8354 Q1006.52 53.9013 1006.52 58.8839 Q1006.52 62.8538 1009.11 65.2034 Q1011.74 67.5124 1016.24 67.5124 Q1022.44 67.5124 1026.16 63.1374 Q1029.93 58.7219 1029.93 51.4303 L1029.93 49.7694 L1022.52 49.7694 M1037.38 46.6907 L1037.38 72.576 L1029.93 72.576 L1029.93 65.6895 Q1027.38 69.8214 1023.57 71.8063 Q1019.76 73.7508 1014.25 73.7508 Q1007.28 73.7508 1003.15 69.8619 Q999.061 65.9325 999.061 59.3701 Q999.061 51.7138 1004.17 47.825 Q1009.31 43.9361 1019.48 43.9361 L1029.93 43.9361 L1029.93 43.2069 Q1029.93 38.0623 1026.53 35.2672 Q1023.16 32.4315 1017.05 32.4315 Q1013.16 32.4315 1009.47 33.3632 Q1005.79 34.295 1002.38 36.1584 L1002.38 29.2718 Q1006.47 27.692 1010.32 26.9223 Q1014.17 26.1121 1017.82 26.1121 Q1027.66 26.1121 1032.52 31.2163 Q1037.38 36.3204 1037.38 46.6907 Z\" fill=\"#000000\" fill-rule=\"evenodd\" fill-opacity=\"1\" /><path clip-path=\"url(#clip840)\" d=\"M 0 0 M1090.45 45.1919 L1090.45 72.576 L1083 72.576 L1083 45.4349 Q1083 38.994 1080.48 35.7938 Q1077.97 32.5936 1072.95 32.5936 Q1066.91 32.5936 1063.43 36.4419 Q1059.95 40.2903 1059.95 46.9338 L1059.95 72.576 L1052.45 72.576 L1052.45 27.2059 L1059.95 27.2059 L1059.95 34.2544 Q1062.62 30.163 1066.23 28.1376 Q1069.87 26.1121 1074.61 26.1121 Q1082.43 26.1121 1086.44 30.9732 Q1090.45 35.7938 1090.45 45.1919 Z\" fill=\"#000000\" fill-rule=\"evenodd\" fill-opacity=\"1\" /><path clip-path=\"url(#clip840)\" d=\"M 0 0 M1147.61 72.576 L1124.52 12.096 L1133.07 12.096 L1152.23 63.0159 L1171.43 12.096 L1179.93 12.096 L1156.88 72.576 L1147.61 72.576 Z\" fill=\"#000000\" fill-rule=\"evenodd\" fill-opacity=\"1\" /><path clip-path=\"url(#clip840)\" d=\"M 0 0 M1202.62 49.7694 Q1193.59 49.7694 1190.1 51.8354 Q1186.62 53.9013 1186.62 58.8839 Q1186.62 62.8538 1189.21 65.2034 Q1191.84 67.5124 1196.34 67.5124 Q1202.54 67.5124 1206.27 63.1374 Q1210.03 58.7219 1210.03 51.4303 L1210.03 49.7694 L1202.62 49.7694 M1217.49 46.6907 L1217.49 72.576 L1210.03 72.576 L1210.03 65.6895 Q1207.48 69.8214 1203.67 71.8063 Q1199.86 73.7508 1194.36 73.7508 Q1187.39 73.7508 1183.26 69.8619 Q1179.16 65.9325 1179.16 59.3701 Q1179.16 51.7138 1184.27 47.825 Q1189.41 43.9361 1199.58 43.9361 L1210.03 43.9361 L1210.03 43.2069 Q1210.03 38.0623 1206.63 35.2672 Q1203.27 32.4315 1197.15 32.4315 Q1193.26 32.4315 1189.58 33.3632 Q1185.89 34.295 1182.49 36.1584 L1182.49 29.2718 Q1186.58 27.692 1190.43 26.9223 Q1194.27 26.1121 1197.92 26.1121 Q1207.76 26.1121 1212.63 31.2163 Q1217.49 36.3204 1217.49 46.6907 Z\" fill=\"#000000\" fill-rule=\"evenodd\" fill-opacity=\"1\" /><path clip-path=\"url(#clip840)\" d=\"M 0 0 M1265.49 28.9478 L1265.49 35.9153 Q1262.33 34.1734 1259.13 33.3227 Q1255.97 32.4315 1252.73 32.4315 Q1245.48 32.4315 1241.47 37.0496 Q1237.46 41.6271 1237.46 49.9314 Q1237.46 58.2358 1241.47 62.8538 Q1245.48 67.4314 1252.73 67.4314 Q1255.97 67.4314 1259.13 66.5807 Q1262.33 65.6895 1265.49 63.9476 L1265.49 70.8341 Q1262.37 72.2924 1259.01 73.0216 Q1255.69 73.7508 1251.92 73.7508 Q1241.67 73.7508 1235.63 67.3098 Q1229.6 60.8689 1229.6 49.9314 Q1229.6 38.832 1235.67 32.472 Q1241.79 26.1121 1252.41 26.1121 Q1255.85 26.1121 1259.13 26.8413 Q1262.41 27.5299 1265.49 28.9478 Z\" fill=\"#000000\" fill-rule=\"evenodd\" fill-opacity=\"1\" /><path clip-path=\"url(#clip840)\" d=\"M 0 0 M1311.1 28.9478 L1311.1 35.9153 Q1307.94 34.1734 1304.74 33.3227 Q1301.58 32.4315 1298.34 32.4315 Q1291.09 32.4315 1287.08 37.0496 Q1283.07 41.6271 1283.07 49.9314 Q1283.07 58.2358 1287.08 62.8538 Q1291.09 67.4314 1298.34 67.4314 Q1301.58 67.4314 1304.74 66.5807 Q1307.94 65.6895 1311.1 63.9476 L1311.1 70.8341 Q1307.98 72.2924 1304.62 73.0216 Q1301.3 73.7508 1297.53 73.7508 Q1287.28 73.7508 1281.25 67.3098 Q1275.21 60.8689 1275.21 49.9314 Q1275.21 38.832 1281.29 32.472 Q1287.4 26.1121 1298.02 26.1121 Q1301.46 26.1121 1304.74 26.8413 Q1308.02 27.5299 1311.1 28.9478 Z\" fill=\"#000000\" fill-rule=\"evenodd\" fill-opacity=\"1\" /><path clip-path=\"url(#clip840)\" d=\"M 0 0 M1324.07 27.2059 L1331.52 27.2059 L1331.52 72.576 L1324.07 72.576 L1324.07 27.2059 M1324.07 9.54393 L1331.52 9.54393 L1331.52 18.9825 L1324.07 18.9825 L1324.07 9.54393 Z\" fill=\"#000000\" fill-rule=\"evenodd\" fill-opacity=\"1\" /><path clip-path=\"url(#clip840)\" d=\"M 0 0 M1384.83 45.1919 L1384.83 72.576 L1377.38 72.576 L1377.38 45.4349 Q1377.38 38.994 1374.86 35.7938 Q1372.35 32.5936 1367.33 32.5936 Q1361.29 32.5936 1357.81 36.4419 Q1354.33 40.2903 1354.33 46.9338 L1354.33 72.576 L1346.83 72.576 L1346.83 27.2059 L1354.33 27.2059 L1354.33 34.2544 Q1357 30.163 1360.6 28.1376 Q1364.25 26.1121 1368.99 26.1121 Q1376.81 26.1121 1380.82 30.9732 Q1384.83 35.7938 1384.83 45.1919 Z\" fill=\"#000000\" fill-rule=\"evenodd\" fill-opacity=\"1\" /><path clip-path=\"url(#clip840)\" d=\"M 0 0 M1438.5 48.0275 L1438.5 51.6733 L1404.23 51.6733 Q1404.72 59.3701 1408.85 63.421 Q1413.02 67.4314 1420.44 67.4314 Q1424.73 67.4314 1428.74 66.3781 Q1432.79 65.3249 1436.76 63.2184 L1436.76 70.267 Q1432.75 71.9684 1428.54 72.8596 Q1424.33 73.7508 1419.99 73.7508 Q1409.13 73.7508 1402.77 67.4314 Q1396.46 61.1119 1396.46 50.3365 Q1396.46 39.1965 1402.45 32.6746 Q1408.49 26.1121 1418.69 26.1121 Q1427.85 26.1121 1433.16 32.0264 Q1438.5 37.9003 1438.5 48.0275 M1431.05 45.84 Q1430.97 39.7232 1427.61 36.0774 Q1424.28 32.4315 1418.78 32.4315 Q1412.54 32.4315 1408.77 35.9558 Q1405.04 39.4801 1404.48 45.8805 L1431.05 45.84 Z\" fill=\"#000000\" fill-rule=\"evenodd\" fill-opacity=\"1\" /><path clip-path=\"url(#clip840)\" d=\"M 0 0 M1497.65 20.1573 L1486.55 50.2555 L1508.79 50.2555 L1497.65 20.1573 M1493.03 12.096 L1502.31 12.096 L1525.35 72.576 L1516.85 72.576 L1511.34 57.061 L1484.08 57.061 L1478.57 72.576 L1469.94 72.576 L1493.03 12.096 Z\" fill=\"#000000\" fill-rule=\"evenodd\" fill-opacity=\"1\" /><path clip-path=\"url(#clip840)\" d=\"M 0 0 M1565.05 28.9478 L1565.05 35.9153 Q1561.89 34.1734 1558.69 33.3227 Q1555.53 32.4315 1552.29 32.4315 Q1545.04 32.4315 1541.03 37.0496 Q1537.02 41.6271 1537.02 49.9314 Q1537.02 58.2358 1541.03 62.8538 Q1545.04 67.4314 1552.29 67.4314 Q1555.53 67.4314 1558.69 66.5807 Q1561.89 65.6895 1565.05 63.9476 L1565.05 70.8341 Q1561.93 72.2924 1558.57 73.0216 Q1555.25 73.7508 1551.48 73.7508 Q1541.23 73.7508 1535.2 67.3098 Q1529.16 60.8689 1529.16 49.9314 Q1529.16 38.832 1535.24 32.472 Q1541.36 26.1121 1551.97 26.1121 Q1555.41 26.1121 1558.69 26.8413 Q1561.98 27.5299 1565.05 28.9478 Z\" fill=\"#000000\" fill-rule=\"evenodd\" fill-opacity=\"1\" /><path clip-path=\"url(#clip840)\" d=\"M 0 0 M1610.67 28.9478 L1610.67 35.9153 Q1607.51 34.1734 1604.31 33.3227 Q1601.15 32.4315 1597.91 32.4315 Q1590.66 32.4315 1586.65 37.0496 Q1582.63 41.6271 1582.63 49.9314 Q1582.63 58.2358 1586.65 62.8538 Q1590.66 67.4314 1597.91 67.4314 Q1601.15 67.4314 1604.31 66.5807 Q1607.51 65.6895 1610.67 63.9476 L1610.67 70.8341 Q1607.55 72.2924 1604.19 73.0216 Q1600.86 73.7508 1597.1 73.7508 Q1586.85 73.7508 1580.81 67.3098 Q1574.78 60.8689 1574.78 49.9314 Q1574.78 38.832 1580.85 32.472 Q1586.97 26.1121 1597.58 26.1121 Q1601.03 26.1121 1604.31 26.8413 Q1607.59 27.5299 1610.67 28.9478 Z\" fill=\"#000000\" fill-rule=\"evenodd\" fill-opacity=\"1\" /><path clip-path=\"url(#clip840)\" d=\"M 0 0 M1662.44 48.0275 L1662.44 51.6733 L1628.17 51.6733 Q1628.65 59.3701 1632.78 63.421 Q1636.96 67.4314 1644.37 67.4314 Q1648.66 67.4314 1652.67 66.3781 Q1656.73 65.3249 1660.7 63.2184 L1660.7 70.267 Q1656.69 71.9684 1652.47 72.8596 Q1648.26 73.7508 1643.92 73.7508 Q1633.07 73.7508 1626.71 67.4314 Q1620.39 61.1119 1620.39 50.3365 Q1620.39 39.1965 1626.38 32.6746 Q1632.42 26.1121 1642.63 26.1121 Q1651.78 26.1121 1657.09 32.0264 Q1662.44 37.9003 1662.44 48.0275 M1654.98 45.84 Q1654.9 39.7232 1651.54 36.0774 Q1648.22 32.4315 1642.71 32.4315 Q1636.47 32.4315 1632.7 35.9558 Q1628.98 39.4801 1628.41 45.8805 L1654.98 45.84 Z\" fill=\"#000000\" fill-rule=\"evenodd\" fill-opacity=\"1\" /><path clip-path=\"url(#clip840)\" d=\"M 0 0 M1681.88 65.7705 L1681.88 89.8329 L1674.39 89.8329 L1674.39 27.2059 L1681.88 27.2059 L1681.88 34.0924 Q1684.23 30.0415 1687.8 28.0971 Q1691.4 26.1121 1696.38 26.1121 Q1704.65 26.1121 1709.79 32.6746 Q1714.98 39.2371 1714.98 49.9314 Q1714.98 60.6258 1709.79 67.1883 Q1704.65 73.7508 1696.38 73.7508 Q1691.4 73.7508 1687.8 71.8063 Q1684.23 69.8214 1681.88 65.7705 M1707.24 49.9314 Q1707.24 41.7081 1703.84 37.0496 Q1700.48 32.3505 1694.56 32.3505 Q1688.65 32.3505 1685.24 37.0496 Q1681.88 41.7081 1681.88 49.9314 Q1681.88 58.1548 1685.24 62.8538 Q1688.65 67.5124 1694.56 67.5124 Q1700.48 67.5124 1703.84 62.8538 Q1707.24 58.1548 1707.24 49.9314 Z\" fill=\"#000000\" fill-rule=\"evenodd\" fill-opacity=\"1\" /><path clip-path=\"url(#clip840)\" d=\"M 0 0 M1734.71 14.324 L1734.71 27.2059 L1750.06 27.2059 L1750.06 32.9987 L1734.71 32.9987 L1734.71 57.6282 Q1734.71 63.1779 1736.2 64.7578 Q1737.74 66.3376 1742.4 66.3376 L1750.06 66.3376 L1750.06 72.576 L1742.4 72.576 Q1733.77 72.576 1730.49 69.3758 Q1727.21 66.1351 1727.21 57.6282 L1727.21 32.9987 L1721.74 32.9987 L1721.74 27.2059 L1727.21 27.2059 L1727.21 14.324 L1734.71 14.324 Z\" fill=\"#000000\" fill-rule=\"evenodd\" fill-opacity=\"1\" /><path clip-path=\"url(#clip840)\" d=\"M 0 0 M1780.48 49.7694 Q1771.45 49.7694 1767.96 51.8354 Q1764.48 53.9013 1764.48 58.8839 Q1764.48 62.8538 1767.07 65.2034 Q1769.71 67.5124 1774.2 67.5124 Q1780.4 67.5124 1784.13 63.1374 Q1787.89 58.7219 1787.89 51.4303 L1787.89 49.7694 L1780.48 49.7694 M1795.35 46.6907 L1795.35 72.576 L1787.89 72.576 L1787.89 65.6895 Q1785.34 69.8214 1781.53 71.8063 Q1777.73 73.7508 1772.22 73.7508 Q1765.25 73.7508 1761.12 69.8619 Q1757.03 65.9325 1757.03 59.3701 Q1757.03 51.7138 1762.13 47.825 Q1767.27 43.9361 1777.44 43.9361 L1787.89 43.9361 L1787.89 43.2069 Q1787.89 38.0623 1784.49 35.2672 Q1781.13 32.4315 1775.01 32.4315 Q1771.12 32.4315 1767.44 33.3632 Q1763.75 34.295 1760.35 36.1584 L1760.35 29.2718 Q1764.44 27.692 1768.29 26.9223 Q1772.14 26.1121 1775.78 26.1121 Q1785.63 26.1121 1790.49 31.2163 Q1795.35 36.3204 1795.35 46.6907 Z\" fill=\"#000000\" fill-rule=\"evenodd\" fill-opacity=\"1\" /><path clip-path=\"url(#clip840)\" d=\"M 0 0 M1848.41 45.1919 L1848.41 72.576 L1840.96 72.576 L1840.96 45.4349 Q1840.96 38.994 1838.45 35.7938 Q1835.94 32.5936 1830.91 32.5936 Q1824.88 32.5936 1821.4 36.4419 Q1817.91 40.2903 1817.91 46.9338 L1817.91 72.576 L1810.42 72.576 L1810.42 27.2059 L1817.91 27.2059 L1817.91 34.2544 Q1820.58 30.163 1824.19 28.1376 Q1827.84 26.1121 1832.58 26.1121 Q1840.39 26.1121 1844.4 30.9732 Q1848.41 35.7938 1848.41 45.1919 Z\" fill=\"#000000\" fill-rule=\"evenodd\" fill-opacity=\"1\" /><path clip-path=\"url(#clip840)\" d=\"M 0 0 M1895.93 28.9478 L1895.93 35.9153 Q1892.77 34.1734 1889.57 33.3227 Q1886.41 32.4315 1883.17 32.4315 Q1875.92 32.4315 1871.91 37.0496 Q1867.9 41.6271 1867.9 49.9314 Q1867.9 58.2358 1871.91 62.8538 Q1875.92 67.4314 1883.17 67.4314 Q1886.41 67.4314 1889.57 66.5807 Q1892.77 65.6895 1895.93 63.9476 L1895.93 70.8341 Q1892.81 72.2924 1889.45 73.0216 Q1886.13 73.7508 1882.36 73.7508 Q1872.11 73.7508 1866.08 67.3098 Q1860.04 60.8689 1860.04 49.9314 Q1860.04 38.832 1866.12 32.472 Q1872.23 26.1121 1882.85 26.1121 Q1886.29 26.1121 1889.57 26.8413 Q1892.85 27.5299 1895.93 28.9478 Z\" fill=\"#000000\" fill-rule=\"evenodd\" fill-opacity=\"1\" /><path clip-path=\"url(#clip840)\" d=\"M 0 0 M1947.7 48.0275 L1947.7 51.6733 L1913.43 51.6733 Q1913.92 59.3701 1918.05 63.421 Q1922.22 67.4314 1929.64 67.4314 Q1933.93 67.4314 1937.94 66.3781 Q1941.99 65.3249 1945.96 63.2184 L1945.96 70.267 Q1941.95 71.9684 1937.74 72.8596 Q1933.52 73.7508 1929.19 73.7508 Q1918.33 73.7508 1911.97 67.4314 Q1905.65 61.1119 1905.65 50.3365 Q1905.65 39.1965 1911.65 32.6746 Q1917.69 26.1121 1927.89 26.1121 Q1937.05 26.1121 1942.36 32.0264 Q1947.7 37.9003 1947.7 48.0275 M1940.25 45.84 Q1940.17 39.7232 1936.81 36.0774 Q1933.48 32.4315 1927.97 32.4315 Q1921.74 32.4315 1917.97 35.9558 Q1914.24 39.4801 1913.67 45.8805 L1940.25 45.84 Z\" fill=\"#000000\" fill-rule=\"evenodd\" fill-opacity=\"1\" /><circle clip-path=\"url(#clip842)\" cx=\"1645.88\" cy=\"1178.18\" r=\"14\" fill=\"#ff0000\" fill-rule=\"evenodd\" fill-opacity=\"1\" stroke=\"#000000\" stroke-opacity=\"1\" stroke-width=\"3.2\"/>\n",
       "<circle clip-path=\"url(#clip842)\" cx=\"1636.84\" cy=\"651.448\" r=\"14\" fill=\"#ff0000\" fill-rule=\"evenodd\" fill-opacity=\"1\" stroke=\"#000000\" stroke-opacity=\"1\" stroke-width=\"3.2\"/>\n",
       "<circle clip-path=\"url(#clip842)\" cx=\"1264.24\" cy=\"879.527\" r=\"14\" fill=\"#ff0000\" fill-rule=\"evenodd\" fill-opacity=\"1\" stroke=\"#000000\" stroke-opacity=\"1\" stroke-width=\"3.2\"/>\n",
       "<circle clip-path=\"url(#clip842)\" cx=\"2104.04\" cy=\"1251.35\" r=\"14\" fill=\"#ff0000\" fill-rule=\"evenodd\" fill-opacity=\"1\" stroke=\"#000000\" stroke-opacity=\"1\" stroke-width=\"3.2\"/>\n",
       "<circle clip-path=\"url(#clip842)\" cx=\"1378.28\" cy=\"924.378\" r=\"14\" fill=\"#ff0000\" fill-rule=\"evenodd\" fill-opacity=\"1\" stroke=\"#000000\" stroke-opacity=\"1\" stroke-width=\"3.2\"/>\n",
       "<circle clip-path=\"url(#clip842)\" cx=\"1704.83\" cy=\"1043.38\" r=\"14\" fill=\"#ff0000\" fill-rule=\"evenodd\" fill-opacity=\"1\" stroke=\"#000000\" stroke-opacity=\"1\" stroke-width=\"3.2\"/>\n",
       "<circle clip-path=\"url(#clip842)\" cx=\"1381.14\" cy=\"491.295\" r=\"14\" fill=\"#ff0000\" fill-rule=\"evenodd\" fill-opacity=\"1\" stroke=\"#000000\" stroke-opacity=\"1\" stroke-width=\"3.2\"/>\n",
       "<circle clip-path=\"url(#clip842)\" cx=\"1915.08\" cy=\"1069.51\" r=\"14\" fill=\"#ff0000\" fill-rule=\"evenodd\" fill-opacity=\"1\" stroke=\"#000000\" stroke-opacity=\"1\" stroke-width=\"3.2\"/>\n",
       "<circle clip-path=\"url(#clip842)\" cx=\"1593.79\" cy=\"1216.62\" r=\"14\" fill=\"#ff0000\" fill-rule=\"evenodd\" fill-opacity=\"1\" stroke=\"#000000\" stroke-opacity=\"1\" stroke-width=\"3.2\"/>\n",
       "<circle clip-path=\"url(#clip842)\" cx=\"1678.11\" cy=\"637.255\" r=\"14\" fill=\"#ff0000\" fill-rule=\"evenodd\" fill-opacity=\"1\" stroke=\"#000000\" stroke-opacity=\"1\" stroke-width=\"3.2\"/>\n",
       "<circle clip-path=\"url(#clip842)\" cx=\"749.098\" cy=\"385.925\" r=\"14\" fill=\"#ff0000\" fill-rule=\"evenodd\" fill-opacity=\"1\" stroke=\"#000000\" stroke-opacity=\"1\" stroke-width=\"3.2\"/>\n",
       "<circle clip-path=\"url(#clip842)\" cx=\"1117.67\" cy=\"445.878\" r=\"14\" fill=\"#ff0000\" fill-rule=\"evenodd\" fill-opacity=\"1\" stroke=\"#000000\" stroke-opacity=\"1\" stroke-width=\"3.2\"/>\n",
       "<circle clip-path=\"url(#clip842)\" cx=\"2020.33\" cy=\"997.001\" r=\"14\" fill=\"#ff0000\" fill-rule=\"evenodd\" fill-opacity=\"1\" stroke=\"#000000\" stroke-opacity=\"1\" stroke-width=\"3.2\"/>\n",
       "<circle clip-path=\"url(#clip842)\" cx=\"2283.09\" cy=\"1118.38\" r=\"14\" fill=\"#ff0000\" fill-rule=\"evenodd\" fill-opacity=\"1\" stroke=\"#000000\" stroke-opacity=\"1\" stroke-width=\"3.2\"/>\n",
       "<circle clip-path=\"url(#clip842)\" cx=\"1567.74\" cy=\"980.905\" r=\"14\" fill=\"#ff0000\" fill-rule=\"evenodd\" fill-opacity=\"1\" stroke=\"#000000\" stroke-opacity=\"1\" stroke-width=\"3.2\"/>\n",
       "<circle clip-path=\"url(#clip842)\" cx=\"1349.34\" cy=\"566.737\" r=\"14\" fill=\"#ff0000\" fill-rule=\"evenodd\" fill-opacity=\"1\" stroke=\"#000000\" stroke-opacity=\"1\" stroke-width=\"3.2\"/>\n",
       "<circle clip-path=\"url(#clip842)\" cx=\"958.911\" cy=\"651.698\" r=\"14\" fill=\"#ff0000\" fill-rule=\"evenodd\" fill-opacity=\"1\" stroke=\"#000000\" stroke-opacity=\"1\" stroke-width=\"3.2\"/>\n",
       "<circle clip-path=\"url(#clip842)\" cx=\"1180.94\" cy=\"627.883\" r=\"14\" fill=\"#ff0000\" fill-rule=\"evenodd\" fill-opacity=\"1\" stroke=\"#000000\" stroke-opacity=\"1\" stroke-width=\"3.2\"/>\n",
       "<circle clip-path=\"url(#clip842)\" cx=\"1750.73\" cy=\"609.504\" r=\"14\" fill=\"#ff0000\" fill-rule=\"evenodd\" fill-opacity=\"1\" stroke=\"#000000\" stroke-opacity=\"1\" stroke-width=\"3.2\"/>\n",
       "<circle clip-path=\"url(#clip842)\" cx=\"1437.73\" cy=\"1352.43\" r=\"14\" fill=\"#ff0000\" fill-rule=\"evenodd\" fill-opacity=\"1\" stroke=\"#000000\" stroke-opacity=\"1\" stroke-width=\"3.2\"/>\n",
       "<circle clip-path=\"url(#clip842)\" cx=\"1427.66\" cy=\"1158.03\" r=\"14\" fill=\"#ff0000\" fill-rule=\"evenodd\" fill-opacity=\"1\" stroke=\"#000000\" stroke-opacity=\"1\" stroke-width=\"3.2\"/>\n",
       "<circle clip-path=\"url(#clip842)\" cx=\"1706.68\" cy=\"577.286\" r=\"14\" fill=\"#ff0000\" fill-rule=\"evenodd\" fill-opacity=\"1\" stroke=\"#000000\" stroke-opacity=\"1\" stroke-width=\"3.2\"/>\n",
       "<circle clip-path=\"url(#clip842)\" cx=\"1549.65\" cy=\"1042.72\" r=\"14\" fill=\"#ff0000\" fill-rule=\"evenodd\" fill-opacity=\"1\" stroke=\"#000000\" stroke-opacity=\"1\" stroke-width=\"3.2\"/>\n",
       "<circle clip-path=\"url(#clip842)\" cx=\"2173.01\" cy=\"1037.88\" r=\"14\" fill=\"#ff0000\" fill-rule=\"evenodd\" fill-opacity=\"1\" stroke=\"#000000\" stroke-opacity=\"1\" stroke-width=\"3.2\"/>\n",
       "<circle clip-path=\"url(#clip842)\" cx=\"1213.42\" cy=\"727.63\" r=\"14\" fill=\"#ff0000\" fill-rule=\"evenodd\" fill-opacity=\"1\" stroke=\"#000000\" stroke-opacity=\"1\" stroke-width=\"3.2\"/>\n",
       "<circle clip-path=\"url(#clip842)\" cx=\"1703.22\" cy=\"1144.24\" r=\"14\" fill=\"#ff0000\" fill-rule=\"evenodd\" fill-opacity=\"1\" stroke=\"#000000\" stroke-opacity=\"1\" stroke-width=\"3.2\"/>\n",
       "<circle clip-path=\"url(#clip842)\" cx=\"759.101\" cy=\"727.568\" r=\"14\" fill=\"#ff0000\" fill-rule=\"evenodd\" fill-opacity=\"1\" stroke=\"#000000\" stroke-opacity=\"1\" stroke-width=\"3.2\"/>\n",
       "<circle clip-path=\"url(#clip842)\" cx=\"955.89\" cy=\"1157.81\" r=\"14\" fill=\"#ff0000\" fill-rule=\"evenodd\" fill-opacity=\"1\" stroke=\"#000000\" stroke-opacity=\"1\" stroke-width=\"3.2\"/>\n",
       "<circle clip-path=\"url(#clip842)\" cx=\"1675.55\" cy=\"936.262\" r=\"14\" fill=\"#ff0000\" fill-rule=\"evenodd\" fill-opacity=\"1\" stroke=\"#000000\" stroke-opacity=\"1\" stroke-width=\"3.2\"/>\n",
       "<circle clip-path=\"url(#clip842)\" cx=\"1595.93\" cy=\"667.851\" r=\"14\" fill=\"#ff0000\" fill-rule=\"evenodd\" fill-opacity=\"1\" stroke=\"#000000\" stroke-opacity=\"1\" stroke-width=\"3.2\"/>\n",
       "<circle clip-path=\"url(#clip842)\" cx=\"1397.36\" cy=\"1078\" r=\"14\" fill=\"#ff0000\" fill-rule=\"evenodd\" fill-opacity=\"1\" stroke=\"#000000\" stroke-opacity=\"1\" stroke-width=\"3.2\"/>\n",
       "<circle clip-path=\"url(#clip842)\" cx=\"2113.4\" cy=\"1340.77\" r=\"14\" fill=\"#ff0000\" fill-rule=\"evenodd\" fill-opacity=\"1\" stroke=\"#000000\" stroke-opacity=\"1\" stroke-width=\"3.2\"/>\n",
       "<circle clip-path=\"url(#clip842)\" cx=\"901.459\" cy=\"765.739\" r=\"14\" fill=\"#ff0000\" fill-rule=\"evenodd\" fill-opacity=\"1\" stroke=\"#000000\" stroke-opacity=\"1\" stroke-width=\"3.2\"/>\n",
       "<circle clip-path=\"url(#clip842)\" cx=\"697.591\" cy=\"956.679\" r=\"14\" fill=\"#ff0000\" fill-rule=\"evenodd\" fill-opacity=\"1\" stroke=\"#000000\" stroke-opacity=\"1\" stroke-width=\"3.2\"/>\n",
       "<circle clip-path=\"url(#clip842)\" cx=\"792.211\" cy=\"816.598\" r=\"14\" fill=\"#ff0000\" fill-rule=\"evenodd\" fill-opacity=\"1\" stroke=\"#000000\" stroke-opacity=\"1\" stroke-width=\"3.2\"/>\n",
       "<circle clip-path=\"url(#clip842)\" cx=\"1724.38\" cy=\"1242.67\" r=\"14\" fill=\"#ff0000\" fill-rule=\"evenodd\" fill-opacity=\"1\" stroke=\"#000000\" stroke-opacity=\"1\" stroke-width=\"3.2\"/>\n",
       "<circle clip-path=\"url(#clip842)\" cx=\"1670.8\" cy=\"786.057\" r=\"14\" fill=\"#ff0000\" fill-rule=\"evenodd\" fill-opacity=\"1\" stroke=\"#000000\" stroke-opacity=\"1\" stroke-width=\"3.2\"/>\n",
       "<circle clip-path=\"url(#clip842)\" cx=\"1751.76\" cy=\"1045.82\" r=\"14\" fill=\"#ff0000\" fill-rule=\"evenodd\" fill-opacity=\"1\" stroke=\"#000000\" stroke-opacity=\"1\" stroke-width=\"3.2\"/>\n",
       "<circle clip-path=\"url(#clip842)\" cx=\"1680.5\" cy=\"1106.57\" r=\"14\" fill=\"#ff0000\" fill-rule=\"evenodd\" fill-opacity=\"1\" stroke=\"#000000\" stroke-opacity=\"1\" stroke-width=\"3.2\"/>\n",
       "<circle clip-path=\"url(#clip842)\" cx=\"1758.77\" cy=\"1174.29\" r=\"14\" fill=\"#ff0000\" fill-rule=\"evenodd\" fill-opacity=\"1\" stroke=\"#000000\" stroke-opacity=\"1\" stroke-width=\"3.2\"/>\n",
       "<circle clip-path=\"url(#clip842)\" cx=\"1567.38\" cy=\"781.409\" r=\"14\" fill=\"#ff0000\" fill-rule=\"evenodd\" fill-opacity=\"1\" stroke=\"#000000\" stroke-opacity=\"1\" stroke-width=\"3.2\"/>\n",
       "<circle clip-path=\"url(#clip842)\" cx=\"1307.55\" cy=\"961.247\" r=\"14\" fill=\"#ff0000\" fill-rule=\"evenodd\" fill-opacity=\"1\" stroke=\"#000000\" stroke-opacity=\"1\" stroke-width=\"3.2\"/>\n",
       "<circle clip-path=\"url(#clip842)\" cx=\"2223.33\" cy=\"918.352\" r=\"14\" fill=\"#ff0000\" fill-rule=\"evenodd\" fill-opacity=\"1\" stroke=\"#000000\" stroke-opacity=\"1\" stroke-width=\"3.2\"/>\n",
       "<circle clip-path=\"url(#clip842)\" cx=\"506.348\" cy=\"533.14\" r=\"14\" fill=\"#ff0000\" fill-rule=\"evenodd\" fill-opacity=\"1\" stroke=\"#000000\" stroke-opacity=\"1\" stroke-width=\"3.2\"/>\n",
       "<circle clip-path=\"url(#clip842)\" cx=\"1490.11\" cy=\"725.568\" r=\"14\" fill=\"#ff0000\" fill-rule=\"evenodd\" fill-opacity=\"1\" stroke=\"#000000\" stroke-opacity=\"1\" stroke-width=\"3.2\"/>\n",
       "<circle clip-path=\"url(#clip842)\" cx=\"1878.19\" cy=\"671.721\" r=\"14\" fill=\"#ff0000\" fill-rule=\"evenodd\" fill-opacity=\"1\" stroke=\"#000000\" stroke-opacity=\"1\" stroke-width=\"3.2\"/>\n",
       "<circle clip-path=\"url(#clip842)\" cx=\"1457.38\" cy=\"967.133\" r=\"14\" fill=\"#ff0000\" fill-rule=\"evenodd\" fill-opacity=\"1\" stroke=\"#000000\" stroke-opacity=\"1\" stroke-width=\"3.2\"/>\n",
       "<circle clip-path=\"url(#clip842)\" cx=\"1843.24\" cy=\"1180.65\" r=\"14\" fill=\"#ff0000\" fill-rule=\"evenodd\" fill-opacity=\"1\" stroke=\"#000000\" stroke-opacity=\"1\" stroke-width=\"3.2\"/>\n",
       "<circle clip-path=\"url(#clip842)\" cx=\"1244.17\" cy=\"846.233\" r=\"14\" fill=\"#ff0000\" fill-rule=\"evenodd\" fill-opacity=\"1\" stroke=\"#000000\" stroke-opacity=\"1\" stroke-width=\"3.2\"/>\n",
       "<circle clip-path=\"url(#clip842)\" cx=\"1049.13\" cy=\"543.324\" r=\"14\" fill=\"#ff0000\" fill-rule=\"evenodd\" fill-opacity=\"1\" stroke=\"#000000\" stroke-opacity=\"1\" stroke-width=\"3.2\"/>\n",
       "<circle clip-path=\"url(#clip842)\" cx=\"2092.24\" cy=\"1127.62\" r=\"14\" fill=\"#ff0000\" fill-rule=\"evenodd\" fill-opacity=\"1\" stroke=\"#000000\" stroke-opacity=\"1\" stroke-width=\"3.2\"/>\n",
       "<circle clip-path=\"url(#clip842)\" cx=\"1613.49\" cy=\"1183.54\" r=\"14\" fill=\"#ff0000\" fill-rule=\"evenodd\" fill-opacity=\"1\" stroke=\"#000000\" stroke-opacity=\"1\" stroke-width=\"3.2\"/>\n",
       "<circle clip-path=\"url(#clip842)\" cx=\"1669.01\" cy=\"544.115\" r=\"14\" fill=\"#ff0000\" fill-rule=\"evenodd\" fill-opacity=\"1\" stroke=\"#000000\" stroke-opacity=\"1\" stroke-width=\"3.2\"/>\n",
       "<circle clip-path=\"url(#clip842)\" cx=\"1922.21\" cy=\"1224.6\" r=\"14\" fill=\"#ff0000\" fill-rule=\"evenodd\" fill-opacity=\"1\" stroke=\"#000000\" stroke-opacity=\"1\" stroke-width=\"3.2\"/>\n",
       "<circle clip-path=\"url(#clip842)\" cx=\"1754.31\" cy=\"1141.5\" r=\"14\" fill=\"#ff0000\" fill-rule=\"evenodd\" fill-opacity=\"1\" stroke=\"#000000\" stroke-opacity=\"1\" stroke-width=\"3.2\"/>\n",
       "<circle clip-path=\"url(#clip842)\" cx=\"1845.57\" cy=\"701.078\" r=\"14\" fill=\"#ff0000\" fill-rule=\"evenodd\" fill-opacity=\"1\" stroke=\"#000000\" stroke-opacity=\"1\" stroke-width=\"3.2\"/>\n",
       "<circle clip-path=\"url(#clip842)\" cx=\"1483.59\" cy=\"353.408\" r=\"14\" fill=\"#ff0000\" fill-rule=\"evenodd\" fill-opacity=\"1\" stroke=\"#000000\" stroke-opacity=\"1\" stroke-width=\"3.2\"/>\n",
       "<circle clip-path=\"url(#clip842)\" cx=\"1585.17\" cy=\"587.951\" r=\"14\" fill=\"#ff0000\" fill-rule=\"evenodd\" fill-opacity=\"1\" stroke=\"#000000\" stroke-opacity=\"1\" stroke-width=\"3.2\"/>\n",
       "<circle clip-path=\"url(#clip842)\" cx=\"1389.76\" cy=\"836.25\" r=\"14\" fill=\"#ff0000\" fill-rule=\"evenodd\" fill-opacity=\"1\" stroke=\"#000000\" stroke-opacity=\"1\" stroke-width=\"3.2\"/>\n",
       "<circle clip-path=\"url(#clip842)\" cx=\"1120.43\" cy=\"1171.23\" r=\"14\" fill=\"#ff0000\" fill-rule=\"evenodd\" fill-opacity=\"1\" stroke=\"#000000\" stroke-opacity=\"1\" stroke-width=\"3.2\"/>\n",
       "<circle clip-path=\"url(#clip842)\" cx=\"1475.83\" cy=\"993.792\" r=\"14\" fill=\"#ff0000\" fill-rule=\"evenodd\" fill-opacity=\"1\" stroke=\"#000000\" stroke-opacity=\"1\" stroke-width=\"3.2\"/>\n",
       "<circle clip-path=\"url(#clip842)\" cx=\"1565.55\" cy=\"906.467\" r=\"14\" fill=\"#ff0000\" fill-rule=\"evenodd\" fill-opacity=\"1\" stroke=\"#000000\" stroke-opacity=\"1\" stroke-width=\"3.2\"/>\n",
       "<circle clip-path=\"url(#clip842)\" cx=\"1834.28\" cy=\"1057.37\" r=\"14\" fill=\"#ff0000\" fill-rule=\"evenodd\" fill-opacity=\"1\" stroke=\"#000000\" stroke-opacity=\"1\" stroke-width=\"3.2\"/>\n",
       "<circle clip-path=\"url(#clip842)\" cx=\"835.445\" cy=\"660.384\" r=\"14\" fill=\"#ff0000\" fill-rule=\"evenodd\" fill-opacity=\"1\" stroke=\"#000000\" stroke-opacity=\"1\" stroke-width=\"3.2\"/>\n",
       "<circle clip-path=\"url(#clip842)\" cx=\"1708.3\" cy=\"993.687\" r=\"14\" fill=\"#ff0000\" fill-rule=\"evenodd\" fill-opacity=\"1\" stroke=\"#000000\" stroke-opacity=\"1\" stroke-width=\"3.2\"/>\n",
       "<circle clip-path=\"url(#clip842)\" cx=\"1849.59\" cy=\"1304.09\" r=\"14\" fill=\"#ff0000\" fill-rule=\"evenodd\" fill-opacity=\"1\" stroke=\"#000000\" stroke-opacity=\"1\" stroke-width=\"3.2\"/>\n",
       "<circle clip-path=\"url(#clip842)\" cx=\"1548.29\" cy=\"870.154\" r=\"14\" fill=\"#ff0000\" fill-rule=\"evenodd\" fill-opacity=\"1\" stroke=\"#000000\" stroke-opacity=\"1\" stroke-width=\"3.2\"/>\n",
       "<circle clip-path=\"url(#clip842)\" cx=\"1767.73\" cy=\"1322.56\" r=\"14\" fill=\"#ff0000\" fill-rule=\"evenodd\" fill-opacity=\"1\" stroke=\"#000000\" stroke-opacity=\"1\" stroke-width=\"3.2\"/>\n",
       "<circle clip-path=\"url(#clip842)\" cx=\"1603.81\" cy=\"991.266\" r=\"14\" fill=\"#ff0000\" fill-rule=\"evenodd\" fill-opacity=\"1\" stroke=\"#000000\" stroke-opacity=\"1\" stroke-width=\"3.2\"/>\n",
       "<circle clip-path=\"url(#clip842)\" cx=\"963.889\" cy=\"1057.4\" r=\"14\" fill=\"#ff0000\" fill-rule=\"evenodd\" fill-opacity=\"1\" stroke=\"#000000\" stroke-opacity=\"1\" stroke-width=\"3.2\"/>\n",
       "<circle clip-path=\"url(#clip842)\" cx=\"1959.36\" cy=\"799.888\" r=\"14\" fill=\"#ff0000\" fill-rule=\"evenodd\" fill-opacity=\"1\" stroke=\"#000000\" stroke-opacity=\"1\" stroke-width=\"3.2\"/>\n",
       "<circle clip-path=\"url(#clip842)\" cx=\"2003.68\" cy=\"1189.04\" r=\"14\" fill=\"#ff0000\" fill-rule=\"evenodd\" fill-opacity=\"1\" stroke=\"#000000\" stroke-opacity=\"1\" stroke-width=\"3.2\"/>\n",
       "<circle clip-path=\"url(#clip842)\" cx=\"1588.15\" cy=\"815.403\" r=\"14\" fill=\"#ff0000\" fill-rule=\"evenodd\" fill-opacity=\"1\" stroke=\"#000000\" stroke-opacity=\"1\" stroke-width=\"3.2\"/>\n",
       "<circle clip-path=\"url(#clip842)\" cx=\"2121.36\" cy=\"1330.09\" r=\"14\" fill=\"#ff0000\" fill-rule=\"evenodd\" fill-opacity=\"1\" stroke=\"#000000\" stroke-opacity=\"1\" stroke-width=\"3.2\"/>\n",
       "<circle clip-path=\"url(#clip842)\" cx=\"1877.83\" cy=\"1266.91\" r=\"14\" fill=\"#ff0000\" fill-rule=\"evenodd\" fill-opacity=\"1\" stroke=\"#000000\" stroke-opacity=\"1\" stroke-width=\"3.2\"/>\n",
       "<circle clip-path=\"url(#clip842)\" cx=\"1866.18\" cy=\"1270.09\" r=\"14\" fill=\"#ff0000\" fill-rule=\"evenodd\" fill-opacity=\"1\" stroke=\"#000000\" stroke-opacity=\"1\" stroke-width=\"3.2\"/>\n",
       "<circle clip-path=\"url(#clip842)\" cx=\"1271.19\" cy=\"1025.79\" r=\"14\" fill=\"#ff0000\" fill-rule=\"evenodd\" fill-opacity=\"1\" stroke=\"#000000\" stroke-opacity=\"1\" stroke-width=\"3.2\"/>\n",
       "<circle clip-path=\"url(#clip842)\" cx=\"1274.36\" cy=\"962.1\" r=\"14\" fill=\"#ff0000\" fill-rule=\"evenodd\" fill-opacity=\"1\" stroke=\"#000000\" stroke-opacity=\"1\" stroke-width=\"3.2\"/>\n",
       "<circle clip-path=\"url(#clip842)\" cx=\"1301.55\" cy=\"1036.96\" r=\"14\" fill=\"#ff0000\" fill-rule=\"evenodd\" fill-opacity=\"1\" stroke=\"#000000\" stroke-opacity=\"1\" stroke-width=\"3.2\"/>\n",
       "<circle clip-path=\"url(#clip842)\" cx=\"749.085\" cy=\"476.072\" r=\"14\" fill=\"#ff0000\" fill-rule=\"evenodd\" fill-opacity=\"1\" stroke=\"#000000\" stroke-opacity=\"1\" stroke-width=\"3.2\"/>\n",
       "<circle clip-path=\"url(#clip842)\" cx=\"1029.79\" cy=\"882.661\" r=\"14\" fill=\"#ff0000\" fill-rule=\"evenodd\" fill-opacity=\"1\" stroke=\"#000000\" stroke-opacity=\"1\" stroke-width=\"3.2\"/>\n",
       "<circle clip-path=\"url(#clip842)\" cx=\"1244.25\" cy=\"805.742\" r=\"14\" fill=\"#ff0000\" fill-rule=\"evenodd\" fill-opacity=\"1\" stroke=\"#000000\" stroke-opacity=\"1\" stroke-width=\"3.2\"/>\n",
       "<circle clip-path=\"url(#clip842)\" cx=\"1663.85\" cy=\"1108.62\" r=\"14\" fill=\"#ff0000\" fill-rule=\"evenodd\" fill-opacity=\"1\" stroke=\"#000000\" stroke-opacity=\"1\" stroke-width=\"3.2\"/>\n",
       "<circle clip-path=\"url(#clip842)\" cx=\"1200.67\" cy=\"1193.69\" r=\"14\" fill=\"#ff0000\" fill-rule=\"evenodd\" fill-opacity=\"1\" stroke=\"#000000\" stroke-opacity=\"1\" stroke-width=\"3.2\"/>\n",
       "<circle clip-path=\"url(#clip842)\" cx=\"1358.66\" cy=\"1168.65\" r=\"14\" fill=\"#ff0000\" fill-rule=\"evenodd\" fill-opacity=\"1\" stroke=\"#000000\" stroke-opacity=\"1\" stroke-width=\"3.2\"/>\n",
       "<circle clip-path=\"url(#clip842)\" cx=\"1108.04\" cy=\"1226.02\" r=\"14\" fill=\"#ff0000\" fill-rule=\"evenodd\" fill-opacity=\"1\" stroke=\"#000000\" stroke-opacity=\"1\" stroke-width=\"3.2\"/>\n",
       "<circle clip-path=\"url(#clip842)\" cx=\"2217.7\" cy=\"1296.54\" r=\"14\" fill=\"#ff0000\" fill-rule=\"evenodd\" fill-opacity=\"1\" stroke=\"#000000\" stroke-opacity=\"1\" stroke-width=\"3.2\"/>\n",
       "<circle clip-path=\"url(#clip842)\" cx=\"1591.36\" cy=\"775.21\" r=\"14\" fill=\"#ff0000\" fill-rule=\"evenodd\" fill-opacity=\"1\" stroke=\"#000000\" stroke-opacity=\"1\" stroke-width=\"3.2\"/>\n",
       "<circle clip-path=\"url(#clip842)\" cx=\"1517.55\" cy=\"1058.7\" r=\"14\" fill=\"#ff0000\" fill-rule=\"evenodd\" fill-opacity=\"1\" stroke=\"#000000\" stroke-opacity=\"1\" stroke-width=\"3.2\"/>\n",
       "<circle clip-path=\"url(#clip842)\" cx=\"1278.93\" cy=\"516.233\" r=\"14\" fill=\"#ff0000\" fill-rule=\"evenodd\" fill-opacity=\"1\" stroke=\"#000000\" stroke-opacity=\"1\" stroke-width=\"3.2\"/>\n",
       "<circle clip-path=\"url(#clip842)\" cx=\"1051.08\" cy=\"698.121\" r=\"14\" fill=\"#ff0000\" fill-rule=\"evenodd\" fill-opacity=\"1\" stroke=\"#000000\" stroke-opacity=\"1\" stroke-width=\"3.2\"/>\n",
       "<circle clip-path=\"url(#clip842)\" cx=\"1795.15\" cy=\"722.673\" r=\"14\" fill=\"#ff0000\" fill-rule=\"evenodd\" fill-opacity=\"1\" stroke=\"#000000\" stroke-opacity=\"1\" stroke-width=\"3.2\"/>\n",
       "<circle clip-path=\"url(#clip842)\" cx=\"1946.34\" cy=\"691.339\" r=\"14\" fill=\"#ff0000\" fill-rule=\"evenodd\" fill-opacity=\"1\" stroke=\"#000000\" stroke-opacity=\"1\" stroke-width=\"3.2\"/>\n",
       "<circle clip-path=\"url(#clip842)\" cx=\"1216.44\" cy=\"707.874\" r=\"14\" fill=\"#ff0000\" fill-rule=\"evenodd\" fill-opacity=\"1\" stroke=\"#000000\" stroke-opacity=\"1\" stroke-width=\"3.2\"/>\n",
       "<circle clip-path=\"url(#clip842)\" cx=\"1904.66\" cy=\"1185.95\" r=\"14\" fill=\"#ff0000\" fill-rule=\"evenodd\" fill-opacity=\"1\" stroke=\"#000000\" stroke-opacity=\"1\" stroke-width=\"3.2\"/>\n",
       "<circle clip-path=\"url(#clip842)\" cx=\"2017.73\" cy=\"1168.18\" r=\"14\" fill=\"#ff0000\" fill-rule=\"evenodd\" fill-opacity=\"1\" stroke=\"#000000\" stroke-opacity=\"1\" stroke-width=\"3.2\"/>\n",
       "<circle clip-path=\"url(#clip842)\" cx=\"1180.49\" cy=\"1359.81\" r=\"14\" fill=\"#ff0000\" fill-rule=\"evenodd\" fill-opacity=\"1\" stroke=\"#000000\" stroke-opacity=\"1\" stroke-width=\"3.2\"/>\n",
       "<circle clip-path=\"url(#clip842)\" cx=\"1691.61\" cy=\"578.423\" r=\"14\" fill=\"#ff0000\" fill-rule=\"evenodd\" fill-opacity=\"1\" stroke=\"#000000\" stroke-opacity=\"1\" stroke-width=\"3.2\"/>\n",
       "<circle clip-path=\"url(#clip842)\" cx=\"1647.46\" cy=\"1044.53\" r=\"14\" fill=\"#ff0000\" fill-rule=\"evenodd\" fill-opacity=\"1\" stroke=\"#000000\" stroke-opacity=\"1\" stroke-width=\"3.2\"/>\n",
       "<circle clip-path=\"url(#clip842)\" cx=\"1486.03\" cy=\"735.269\" r=\"14\" fill=\"#ff0000\" fill-rule=\"evenodd\" fill-opacity=\"1\" stroke=\"#000000\" stroke-opacity=\"1\" stroke-width=\"3.2\"/>\n",
       "<circle clip-path=\"url(#clip842)\" cx=\"1286.34\" cy=\"591.577\" r=\"14\" fill=\"#ff0000\" fill-rule=\"evenodd\" fill-opacity=\"1\" stroke=\"#000000\" stroke-opacity=\"1\" stroke-width=\"3.2\"/>\n",
       "<circle clip-path=\"url(#clip842)\" cx=\"710.176\" cy=\"884.786\" r=\"14\" fill=\"#ff0000\" fill-rule=\"evenodd\" fill-opacity=\"1\" stroke=\"#000000\" stroke-opacity=\"1\" stroke-width=\"3.2\"/>\n",
       "<circle clip-path=\"url(#clip842)\" cx=\"1654.45\" cy=\"1240\" r=\"14\" fill=\"#ff0000\" fill-rule=\"evenodd\" fill-opacity=\"1\" stroke=\"#000000\" stroke-opacity=\"1\" stroke-width=\"3.2\"/>\n",
       "<circle clip-path=\"url(#clip842)\" cx=\"1550.88\" cy=\"1332.37\" r=\"14\" fill=\"#ff0000\" fill-rule=\"evenodd\" fill-opacity=\"1\" stroke=\"#000000\" stroke-opacity=\"1\" stroke-width=\"3.2\"/>\n",
       "<circle clip-path=\"url(#clip842)\" cx=\"987.467\" cy=\"618.888\" r=\"14\" fill=\"#ff0000\" fill-rule=\"evenodd\" fill-opacity=\"1\" stroke=\"#000000\" stroke-opacity=\"1\" stroke-width=\"3.2\"/>\n",
       "<circle clip-path=\"url(#clip842)\" cx=\"1334.22\" cy=\"675.699\" r=\"14\" fill=\"#ff0000\" fill-rule=\"evenodd\" fill-opacity=\"1\" stroke=\"#000000\" stroke-opacity=\"1\" stroke-width=\"3.2\"/>\n",
       "<circle clip-path=\"url(#clip842)\" cx=\"1330.04\" cy=\"385.975\" r=\"14\" fill=\"#ff0000\" fill-rule=\"evenodd\" fill-opacity=\"1\" stroke=\"#000000\" stroke-opacity=\"1\" stroke-width=\"3.2\"/>\n",
       "<circle clip-path=\"url(#clip842)\" cx=\"1386.65\" cy=\"435.353\" r=\"14\" fill=\"#ff0000\" fill-rule=\"evenodd\" fill-opacity=\"1\" stroke=\"#000000\" stroke-opacity=\"1\" stroke-width=\"3.2\"/>\n",
       "<circle clip-path=\"url(#clip842)\" cx=\"1126.65\" cy=\"1068.15\" r=\"14\" fill=\"#ff0000\" fill-rule=\"evenodd\" fill-opacity=\"1\" stroke=\"#000000\" stroke-opacity=\"1\" stroke-width=\"3.2\"/>\n",
       "<circle clip-path=\"url(#clip842)\" cx=\"1050.26\" cy=\"721.065\" r=\"14\" fill=\"#ff0000\" fill-rule=\"evenodd\" fill-opacity=\"1\" stroke=\"#000000\" stroke-opacity=\"1\" stroke-width=\"3.2\"/>\n",
       "<circle clip-path=\"url(#clip842)\" cx=\"1264.66\" cy=\"922.869\" r=\"14\" fill=\"#ff0000\" fill-rule=\"evenodd\" fill-opacity=\"1\" stroke=\"#000000\" stroke-opacity=\"1\" stroke-width=\"3.2\"/>\n",
       "<circle clip-path=\"url(#clip842)\" cx=\"1677.68\" cy=\"940.244\" r=\"14\" fill=\"#ff0000\" fill-rule=\"evenodd\" fill-opacity=\"1\" stroke=\"#000000\" stroke-opacity=\"1\" stroke-width=\"3.2\"/>\n",
       "<circle clip-path=\"url(#clip842)\" cx=\"1585.62\" cy=\"890.102\" r=\"14\" fill=\"#ff0000\" fill-rule=\"evenodd\" fill-opacity=\"1\" stroke=\"#000000\" stroke-opacity=\"1\" stroke-width=\"3.2\"/>\n",
       "<circle clip-path=\"url(#clip842)\" cx=\"2184.59\" cy=\"950.934\" r=\"14\" fill=\"#ff0000\" fill-rule=\"evenodd\" fill-opacity=\"1\" stroke=\"#000000\" stroke-opacity=\"1\" stroke-width=\"3.2\"/>\n",
       "<circle clip-path=\"url(#clip842)\" cx=\"2078.28\" cy=\"1249.09\" r=\"14\" fill=\"#ff0000\" fill-rule=\"evenodd\" fill-opacity=\"1\" stroke=\"#000000\" stroke-opacity=\"1\" stroke-width=\"3.2\"/>\n",
       "<circle clip-path=\"url(#clip842)\" cx=\"1883.91\" cy=\"1100.3\" r=\"14\" fill=\"#ff0000\" fill-rule=\"evenodd\" fill-opacity=\"1\" stroke=\"#000000\" stroke-opacity=\"1\" stroke-width=\"3.2\"/>\n",
       "<circle clip-path=\"url(#clip842)\" cx=\"1680.1\" cy=\"597.783\" r=\"14\" fill=\"#ff0000\" fill-rule=\"evenodd\" fill-opacity=\"1\" stroke=\"#000000\" stroke-opacity=\"1\" stroke-width=\"3.2\"/>\n",
       "<circle clip-path=\"url(#clip842)\" cx=\"1468.13\" cy=\"925.127\" r=\"14\" fill=\"#ff0000\" fill-rule=\"evenodd\" fill-opacity=\"1\" stroke=\"#000000\" stroke-opacity=\"1\" stroke-width=\"3.2\"/>\n",
       "<circle clip-path=\"url(#clip842)\" cx=\"1264.44\" cy=\"1035.99\" r=\"14\" fill=\"#ff0000\" fill-rule=\"evenodd\" fill-opacity=\"1\" stroke=\"#000000\" stroke-opacity=\"1\" stroke-width=\"3.2\"/>\n",
       "<circle clip-path=\"url(#clip842)\" cx=\"1751.76\" cy=\"892.242\" r=\"14\" fill=\"#ff0000\" fill-rule=\"evenodd\" fill-opacity=\"1\" stroke=\"#000000\" stroke-opacity=\"1\" stroke-width=\"3.2\"/>\n",
       "<circle clip-path=\"url(#clip842)\" cx=\"1489.43\" cy=\"1157.9\" r=\"14\" fill=\"#ff0000\" fill-rule=\"evenodd\" fill-opacity=\"1\" stroke=\"#000000\" stroke-opacity=\"1\" stroke-width=\"3.2\"/>\n",
       "<circle clip-path=\"url(#clip842)\" cx=\"1840.47\" cy=\"1145.68\" r=\"14\" fill=\"#ff0000\" fill-rule=\"evenodd\" fill-opacity=\"1\" stroke=\"#000000\" stroke-opacity=\"1\" stroke-width=\"3.2\"/>\n",
       "<circle clip-path=\"url(#clip842)\" cx=\"1093.93\" cy=\"1047.02\" r=\"14\" fill=\"#ff0000\" fill-rule=\"evenodd\" fill-opacity=\"1\" stroke=\"#000000\" stroke-opacity=\"1\" stroke-width=\"3.2\"/>\n",
       "<circle clip-path=\"url(#clip842)\" cx=\"1438.62\" cy=\"820.454\" r=\"14\" fill=\"#ff0000\" fill-rule=\"evenodd\" fill-opacity=\"1\" stroke=\"#000000\" stroke-opacity=\"1\" stroke-width=\"3.2\"/>\n",
       "<circle clip-path=\"url(#clip842)\" cx=\"738.057\" cy=\"491.02\" r=\"14\" fill=\"#ff0000\" fill-rule=\"evenodd\" fill-opacity=\"1\" stroke=\"#000000\" stroke-opacity=\"1\" stroke-width=\"3.2\"/>\n",
       "<circle clip-path=\"url(#clip842)\" cx=\"1298.26\" cy=\"388.796\" r=\"14\" fill=\"#ff0000\" fill-rule=\"evenodd\" fill-opacity=\"1\" stroke=\"#000000\" stroke-opacity=\"1\" stroke-width=\"3.2\"/>\n",
       "<circle clip-path=\"url(#clip842)\" cx=\"951.139\" cy=\"1009.26\" r=\"14\" fill=\"#ff0000\" fill-rule=\"evenodd\" fill-opacity=\"1\" stroke=\"#000000\" stroke-opacity=\"1\" stroke-width=\"3.2\"/>\n",
       "<circle clip-path=\"url(#clip842)\" cx=\"1294.76\" cy=\"475.644\" r=\"14\" fill=\"#ff0000\" fill-rule=\"evenodd\" fill-opacity=\"1\" stroke=\"#000000\" stroke-opacity=\"1\" stroke-width=\"3.2\"/>\n",
       "<circle clip-path=\"url(#clip842)\" cx=\"1755.87\" cy=\"1217.85\" r=\"14\" fill=\"#ff0000\" fill-rule=\"evenodd\" fill-opacity=\"1\" stroke=\"#000000\" stroke-opacity=\"1\" stroke-width=\"3.2\"/>\n",
       "<circle clip-path=\"url(#clip842)\" cx=\"2257.15\" cy=\"1281.37\" r=\"14\" fill=\"#ff0000\" fill-rule=\"evenodd\" fill-opacity=\"1\" stroke=\"#000000\" stroke-opacity=\"1\" stroke-width=\"3.2\"/>\n",
       "<circle clip-path=\"url(#clip842)\" cx=\"1074.93\" cy=\"612.284\" r=\"14\" fill=\"#ff0000\" fill-rule=\"evenodd\" fill-opacity=\"1\" stroke=\"#000000\" stroke-opacity=\"1\" stroke-width=\"3.2\"/>\n",
       "<circle clip-path=\"url(#clip842)\" cx=\"1789.12\" cy=\"1173\" r=\"14\" fill=\"#ff0000\" fill-rule=\"evenodd\" fill-opacity=\"1\" stroke=\"#000000\" stroke-opacity=\"1\" stroke-width=\"3.2\"/>\n",
       "<circle clip-path=\"url(#clip842)\" cx=\"1344.13\" cy=\"648.169\" r=\"14\" fill=\"#ff0000\" fill-rule=\"evenodd\" fill-opacity=\"1\" stroke=\"#000000\" stroke-opacity=\"1\" stroke-width=\"3.2\"/>\n",
       "<circle clip-path=\"url(#clip842)\" cx=\"1939.27\" cy=\"1017.05\" r=\"14\" fill=\"#ff0000\" fill-rule=\"evenodd\" fill-opacity=\"1\" stroke=\"#000000\" stroke-opacity=\"1\" stroke-width=\"3.2\"/>\n",
       "<circle clip-path=\"url(#clip842)\" cx=\"1650.9\" cy=\"1047.83\" r=\"14\" fill=\"#ff0000\" fill-rule=\"evenodd\" fill-opacity=\"1\" stroke=\"#000000\" stroke-opacity=\"1\" stroke-width=\"3.2\"/>\n",
       "<circle clip-path=\"url(#clip842)\" cx=\"1855.39\" cy=\"1116.73\" r=\"14\" fill=\"#ff0000\" fill-rule=\"evenodd\" fill-opacity=\"1\" stroke=\"#000000\" stroke-opacity=\"1\" stroke-width=\"3.2\"/>\n",
       "<circle clip-path=\"url(#clip842)\" cx=\"1443.71\" cy=\"1369.77\" r=\"14\" fill=\"#ff0000\" fill-rule=\"evenodd\" fill-opacity=\"1\" stroke=\"#000000\" stroke-opacity=\"1\" stroke-width=\"3.2\"/>\n",
       "<circle clip-path=\"url(#clip842)\" cx=\"1634.13\" cy=\"471.561\" r=\"14\" fill=\"#ff0000\" fill-rule=\"evenodd\" fill-opacity=\"1\" stroke=\"#000000\" stroke-opacity=\"1\" stroke-width=\"3.2\"/>\n",
       "<circle clip-path=\"url(#clip842)\" cx=\"1633.46\" cy=\"1136.96\" r=\"14\" fill=\"#ff0000\" fill-rule=\"evenodd\" fill-opacity=\"1\" stroke=\"#000000\" stroke-opacity=\"1\" stroke-width=\"3.2\"/>\n",
       "<circle clip-path=\"url(#clip842)\" cx=\"1379.72\" cy=\"1259.72\" r=\"14\" fill=\"#ff0000\" fill-rule=\"evenodd\" fill-opacity=\"1\" stroke=\"#000000\" stroke-opacity=\"1\" stroke-width=\"3.2\"/>\n",
       "<circle clip-path=\"url(#clip842)\" cx=\"1497.09\" cy=\"1058.75\" r=\"14\" fill=\"#ff0000\" fill-rule=\"evenodd\" fill-opacity=\"1\" stroke=\"#000000\" stroke-opacity=\"1\" stroke-width=\"3.2\"/>\n",
       "<circle clip-path=\"url(#clip842)\" cx=\"2292.38\" cy=\"1247.44\" r=\"14\" fill=\"#ff0000\" fill-rule=\"evenodd\" fill-opacity=\"1\" stroke=\"#000000\" stroke-opacity=\"1\" stroke-width=\"3.2\"/>\n",
       "<circle clip-path=\"url(#clip842)\" cx=\"843.898\" cy=\"626.482\" r=\"14\" fill=\"#ff0000\" fill-rule=\"evenodd\" fill-opacity=\"1\" stroke=\"#000000\" stroke-opacity=\"1\" stroke-width=\"3.2\"/>\n",
       "<circle clip-path=\"url(#clip842)\" cx=\"1071.79\" cy=\"636.389\" r=\"14\" fill=\"#ff0000\" fill-rule=\"evenodd\" fill-opacity=\"1\" stroke=\"#000000\" stroke-opacity=\"1\" stroke-width=\"3.2\"/>\n",
       "<circle clip-path=\"url(#clip842)\" cx=\"1336.01\" cy=\"1108.93\" r=\"14\" fill=\"#ff0000\" fill-rule=\"evenodd\" fill-opacity=\"1\" stroke=\"#000000\" stroke-opacity=\"1\" stroke-width=\"3.2\"/>\n",
       "<circle clip-path=\"url(#clip842)\" cx=\"2113.3\" cy=\"1326.77\" r=\"14\" fill=\"#ff0000\" fill-rule=\"evenodd\" fill-opacity=\"1\" stroke=\"#000000\" stroke-opacity=\"1\" stroke-width=\"3.2\"/>\n",
       "<circle clip-path=\"url(#clip842)\" cx=\"1505.59\" cy=\"1223.1\" r=\"14\" fill=\"#ff0000\" fill-rule=\"evenodd\" fill-opacity=\"1\" stroke=\"#000000\" stroke-opacity=\"1\" stroke-width=\"3.2\"/>\n",
       "<circle clip-path=\"url(#clip842)\" cx=\"1949.65\" cy=\"1316.29\" r=\"14\" fill=\"#ff0000\" fill-rule=\"evenodd\" fill-opacity=\"1\" stroke=\"#000000\" stroke-opacity=\"1\" stroke-width=\"3.2\"/>\n",
       "<circle clip-path=\"url(#clip842)\" cx=\"1488.98\" cy=\"872.463\" r=\"14\" fill=\"#ff0000\" fill-rule=\"evenodd\" fill-opacity=\"1\" stroke=\"#000000\" stroke-opacity=\"1\" stroke-width=\"3.2\"/>\n",
       "<circle clip-path=\"url(#clip842)\" cx=\"1473.76\" cy=\"637.996\" r=\"14\" fill=\"#ff0000\" fill-rule=\"evenodd\" fill-opacity=\"1\" stroke=\"#000000\" stroke-opacity=\"1\" stroke-width=\"3.2\"/>\n",
       "<circle clip-path=\"url(#clip842)\" cx=\"1275.93\" cy=\"783.349\" r=\"14\" fill=\"#ff0000\" fill-rule=\"evenodd\" fill-opacity=\"1\" stroke=\"#000000\" stroke-opacity=\"1\" stroke-width=\"3.2\"/>\n",
       "<circle clip-path=\"url(#clip842)\" cx=\"1334.5\" cy=\"949.979\" r=\"14\" fill=\"#ff0000\" fill-rule=\"evenodd\" fill-opacity=\"1\" stroke=\"#000000\" stroke-opacity=\"1\" stroke-width=\"3.2\"/>\n",
       "<circle clip-path=\"url(#clip842)\" cx=\"1209.22\" cy=\"721.626\" r=\"14\" fill=\"#ff0000\" fill-rule=\"evenodd\" fill-opacity=\"1\" stroke=\"#000000\" stroke-opacity=\"1\" stroke-width=\"3.2\"/>\n",
       "<circle clip-path=\"url(#clip842)\" cx=\"1309.81\" cy=\"1129.47\" r=\"14\" fill=\"#ff0000\" fill-rule=\"evenodd\" fill-opacity=\"1\" stroke=\"#000000\" stroke-opacity=\"1\" stroke-width=\"3.2\"/>\n",
       "<circle clip-path=\"url(#clip842)\" cx=\"1788.38\" cy=\"1029.79\" r=\"14\" fill=\"#ff0000\" fill-rule=\"evenodd\" fill-opacity=\"1\" stroke=\"#000000\" stroke-opacity=\"1\" stroke-width=\"3.2\"/>\n",
       "<circle clip-path=\"url(#clip842)\" cx=\"1194.82\" cy=\"1048.04\" r=\"14\" fill=\"#ff0000\" fill-rule=\"evenodd\" fill-opacity=\"1\" stroke=\"#000000\" stroke-opacity=\"1\" stroke-width=\"3.2\"/>\n",
       "<circle clip-path=\"url(#clip842)\" cx=\"1554.21\" cy=\"1179.51\" r=\"14\" fill=\"#ff0000\" fill-rule=\"evenodd\" fill-opacity=\"1\" stroke=\"#000000\" stroke-opacity=\"1\" stroke-width=\"3.2\"/>\n",
       "<circle clip-path=\"url(#clip842)\" cx=\"1915.12\" cy=\"874.668\" r=\"14\" fill=\"#ff0000\" fill-rule=\"evenodd\" fill-opacity=\"1\" stroke=\"#000000\" stroke-opacity=\"1\" stroke-width=\"3.2\"/>\n",
       "<circle clip-path=\"url(#clip842)\" cx=\"1461.9\" cy=\"1083.31\" r=\"14\" fill=\"#ff0000\" fill-rule=\"evenodd\" fill-opacity=\"1\" stroke=\"#000000\" stroke-opacity=\"1\" stroke-width=\"3.2\"/>\n",
       "<circle clip-path=\"url(#clip842)\" cx=\"1427.98\" cy=\"610.164\" r=\"14\" fill=\"#ff0000\" fill-rule=\"evenodd\" fill-opacity=\"1\" stroke=\"#000000\" stroke-opacity=\"1\" stroke-width=\"3.2\"/>\n",
       "<circle clip-path=\"url(#clip842)\" cx=\"2004.49\" cy=\"1116.6\" r=\"14\" fill=\"#ff0000\" fill-rule=\"evenodd\" fill-opacity=\"1\" stroke=\"#000000\" stroke-opacity=\"1\" stroke-width=\"3.2\"/>\n",
       "<circle clip-path=\"url(#clip842)\" cx=\"714.929\" cy=\"660.129\" r=\"14\" fill=\"#ff0000\" fill-rule=\"evenodd\" fill-opacity=\"1\" stroke=\"#000000\" stroke-opacity=\"1\" stroke-width=\"3.2\"/>\n",
       "<circle clip-path=\"url(#clip842)\" cx=\"1326.44\" cy=\"642.594\" r=\"14\" fill=\"#ff0000\" fill-rule=\"evenodd\" fill-opacity=\"1\" stroke=\"#000000\" stroke-opacity=\"1\" stroke-width=\"3.2\"/>\n",
       "<circle clip-path=\"url(#clip842)\" cx=\"1339.51\" cy=\"780.725\" r=\"14\" fill=\"#ff0000\" fill-rule=\"evenodd\" fill-opacity=\"1\" stroke=\"#000000\" stroke-opacity=\"1\" stroke-width=\"3.2\"/>\n",
       "<circle clip-path=\"url(#clip842)\" cx=\"2055.29\" cy=\"1258.5\" r=\"14\" fill=\"#ff0000\" fill-rule=\"evenodd\" fill-opacity=\"1\" stroke=\"#000000\" stroke-opacity=\"1\" stroke-width=\"3.2\"/>\n",
       "<circle clip-path=\"url(#clip842)\" cx=\"1796.91\" cy=\"1303.54\" r=\"14\" fill=\"#ff0000\" fill-rule=\"evenodd\" fill-opacity=\"1\" stroke=\"#000000\" stroke-opacity=\"1\" stroke-width=\"3.2\"/>\n",
       "<circle clip-path=\"url(#clip842)\" cx=\"1612.2\" cy=\"1361.33\" r=\"14\" fill=\"#ff0000\" fill-rule=\"evenodd\" fill-opacity=\"1\" stroke=\"#000000\" stroke-opacity=\"1\" stroke-width=\"3.2\"/>\n",
       "<circle clip-path=\"url(#clip842)\" cx=\"985.52\" cy=\"982.505\" r=\"14\" fill=\"#ff0000\" fill-rule=\"evenodd\" fill-opacity=\"1\" stroke=\"#000000\" stroke-opacity=\"1\" stroke-width=\"3.2\"/>\n",
       "<circle clip-path=\"url(#clip842)\" cx=\"1336.13\" cy=\"912.675\" r=\"14\" fill=\"#ff0000\" fill-rule=\"evenodd\" fill-opacity=\"1\" stroke=\"#000000\" stroke-opacity=\"1\" stroke-width=\"3.2\"/>\n",
       "<circle clip-path=\"url(#clip842)\" cx=\"1539.23\" cy=\"1169.12\" r=\"14\" fill=\"#ff0000\" fill-rule=\"evenodd\" fill-opacity=\"1\" stroke=\"#000000\" stroke-opacity=\"1\" stroke-width=\"3.2\"/>\n",
       "<circle clip-path=\"url(#clip842)\" cx=\"1097.99\" cy=\"1320.87\" r=\"14\" fill=\"#ff0000\" fill-rule=\"evenodd\" fill-opacity=\"1\" stroke=\"#000000\" stroke-opacity=\"1\" stroke-width=\"3.2\"/>\n",
       "<circle clip-path=\"url(#clip842)\" cx=\"1544.7\" cy=\"1051.49\" r=\"14\" fill=\"#ff0000\" fill-rule=\"evenodd\" fill-opacity=\"1\" stroke=\"#000000\" stroke-opacity=\"1\" stroke-width=\"3.2\"/>\n",
       "<circle clip-path=\"url(#clip842)\" cx=\"1289.22\" cy=\"497.364\" r=\"14\" fill=\"#ff0000\" fill-rule=\"evenodd\" fill-opacity=\"1\" stroke=\"#000000\" stroke-opacity=\"1\" stroke-width=\"3.2\"/>\n",
       "<circle clip-path=\"url(#clip842)\" cx=\"2024.4\" cy=\"1043.25\" r=\"14\" fill=\"#ff0000\" fill-rule=\"evenodd\" fill-opacity=\"1\" stroke=\"#000000\" stroke-opacity=\"1\" stroke-width=\"3.2\"/>\n",
       "<circle clip-path=\"url(#clip842)\" cx=\"2088.77\" cy=\"1359.31\" r=\"14\" fill=\"#ff0000\" fill-rule=\"evenodd\" fill-opacity=\"1\" stroke=\"#000000\" stroke-opacity=\"1\" stroke-width=\"3.2\"/>\n",
       "<circle clip-path=\"url(#clip842)\" cx=\"1542.58\" cy=\"1299.45\" r=\"14\" fill=\"#ff0000\" fill-rule=\"evenodd\" fill-opacity=\"1\" stroke=\"#000000\" stroke-opacity=\"1\" stroke-width=\"3.2\"/>\n",
       "<circle clip-path=\"url(#clip842)\" cx=\"1602.57\" cy=\"860.303\" r=\"14\" fill=\"#ff0000\" fill-rule=\"evenodd\" fill-opacity=\"1\" stroke=\"#000000\" stroke-opacity=\"1\" stroke-width=\"3.2\"/>\n",
       "<circle clip-path=\"url(#clip842)\" cx=\"1717.41\" cy=\"1262.49\" r=\"14\" fill=\"#ff0000\" fill-rule=\"evenodd\" fill-opacity=\"1\" stroke=\"#000000\" stroke-opacity=\"1\" stroke-width=\"3.2\"/>\n",
       "<circle clip-path=\"url(#clip842)\" cx=\"1655.78\" cy=\"795.008\" r=\"14\" fill=\"#ff0000\" fill-rule=\"evenodd\" fill-opacity=\"1\" stroke=\"#000000\" stroke-opacity=\"1\" stroke-width=\"3.2\"/>\n",
       "<circle clip-path=\"url(#clip842)\" cx=\"1333.85\" cy=\"1021.58\" r=\"14\" fill=\"#ff0000\" fill-rule=\"evenodd\" fill-opacity=\"1\" stroke=\"#000000\" stroke-opacity=\"1\" stroke-width=\"3.2\"/>\n",
       "<circle clip-path=\"url(#clip842)\" cx=\"1266.09\" cy=\"1149.79\" r=\"14\" fill=\"#ff0000\" fill-rule=\"evenodd\" fill-opacity=\"1\" stroke=\"#000000\" stroke-opacity=\"1\" stroke-width=\"3.2\"/>\n",
       "<circle clip-path=\"url(#clip842)\" cx=\"1565.5\" cy=\"892.531\" r=\"14\" fill=\"#ff0000\" fill-rule=\"evenodd\" fill-opacity=\"1\" stroke=\"#000000\" stroke-opacity=\"1\" stroke-width=\"3.2\"/>\n",
       "<circle clip-path=\"url(#clip842)\" cx=\"1564.2\" cy=\"1044.48\" r=\"14\" fill=\"#ff0000\" fill-rule=\"evenodd\" fill-opacity=\"1\" stroke=\"#000000\" stroke-opacity=\"1\" stroke-width=\"3.2\"/>\n",
       "<circle clip-path=\"url(#clip842)\" cx=\"1895.29\" cy=\"1119.65\" r=\"14\" fill=\"#ff0000\" fill-rule=\"evenodd\" fill-opacity=\"1\" stroke=\"#000000\" stroke-opacity=\"1\" stroke-width=\"3.2\"/>\n",
       "<circle clip-path=\"url(#clip842)\" cx=\"2119.97\" cy=\"1351.04\" r=\"14\" fill=\"#ff0000\" fill-rule=\"evenodd\" fill-opacity=\"1\" stroke=\"#000000\" stroke-opacity=\"1\" stroke-width=\"3.2\"/>\n",
       "<circle clip-path=\"url(#clip842)\" cx=\"1641.73\" cy=\"862.131\" r=\"14\" fill=\"#ff0000\" fill-rule=\"evenodd\" fill-opacity=\"1\" stroke=\"#000000\" stroke-opacity=\"1\" stroke-width=\"3.2\"/>\n",
       "<circle clip-path=\"url(#clip842)\" cx=\"2081.12\" cy=\"927.536\" r=\"14\" fill=\"#ff0000\" fill-rule=\"evenodd\" fill-opacity=\"1\" stroke=\"#000000\" stroke-opacity=\"1\" stroke-width=\"3.2\"/>\n",
       "<circle clip-path=\"url(#clip842)\" cx=\"1293.46\" cy=\"946.664\" r=\"14\" fill=\"#ff0000\" fill-rule=\"evenodd\" fill-opacity=\"1\" stroke=\"#000000\" stroke-opacity=\"1\" stroke-width=\"3.2\"/>\n",
       "<circle clip-path=\"url(#clip842)\" cx=\"2256.94\" cy=\"1356.53\" r=\"14\" fill=\"#ff0000\" fill-rule=\"evenodd\" fill-opacity=\"1\" stroke=\"#000000\" stroke-opacity=\"1\" stroke-width=\"3.2\"/>\n",
       "<circle clip-path=\"url(#clip842)\" cx=\"1919.71\" cy=\"1222.99\" r=\"14\" fill=\"#ff0000\" fill-rule=\"evenodd\" fill-opacity=\"1\" stroke=\"#000000\" stroke-opacity=\"1\" stroke-width=\"3.2\"/>\n",
       "<circle clip-path=\"url(#clip842)\" cx=\"1738.78\" cy=\"1228.51\" r=\"14\" fill=\"#ff0000\" fill-rule=\"evenodd\" fill-opacity=\"1\" stroke=\"#000000\" stroke-opacity=\"1\" stroke-width=\"3.2\"/>\n",
       "<circle clip-path=\"url(#clip842)\" cx=\"2101.43\" cy=\"1264.62\" r=\"14\" fill=\"#ff0000\" fill-rule=\"evenodd\" fill-opacity=\"1\" stroke=\"#000000\" stroke-opacity=\"1\" stroke-width=\"3.2\"/>\n",
       "<circle clip-path=\"url(#clip842)\" cx=\"694.887\" cy=\"586.879\" r=\"14\" fill=\"#ff0000\" fill-rule=\"evenodd\" fill-opacity=\"1\" stroke=\"#000000\" stroke-opacity=\"1\" stroke-width=\"3.2\"/>\n",
       "<circle clip-path=\"url(#clip842)\" cx=\"1951.58\" cy=\"1227.97\" r=\"14\" fill=\"#ff0000\" fill-rule=\"evenodd\" fill-opacity=\"1\" stroke=\"#000000\" stroke-opacity=\"1\" stroke-width=\"3.2\"/>\n",
       "<circle clip-path=\"url(#clip842)\" cx=\"1348.22\" cy=\"898.269\" r=\"14\" fill=\"#ff0000\" fill-rule=\"evenodd\" fill-opacity=\"1\" stroke=\"#000000\" stroke-opacity=\"1\" stroke-width=\"3.2\"/>\n",
       "<circle clip-path=\"url(#clip842)\" cx=\"1403.99\" cy=\"1012.31\" r=\"14\" fill=\"#ff0000\" fill-rule=\"evenodd\" fill-opacity=\"1\" stroke=\"#000000\" stroke-opacity=\"1\" stroke-width=\"3.2\"/>\n",
       "<circle clip-path=\"url(#clip842)\" cx=\"1718.11\" cy=\"1114.12\" r=\"14\" fill=\"#ff0000\" fill-rule=\"evenodd\" fill-opacity=\"1\" stroke=\"#000000\" stroke-opacity=\"1\" stroke-width=\"3.2\"/>\n",
       "<circle clip-path=\"url(#clip842)\" cx=\"1574.12\" cy=\"756.283\" r=\"14\" fill=\"#ff0000\" fill-rule=\"evenodd\" fill-opacity=\"1\" stroke=\"#000000\" stroke-opacity=\"1\" stroke-width=\"3.2\"/>\n",
       "<circle clip-path=\"url(#clip842)\" cx=\"1281.23\" cy=\"1345.2\" r=\"14\" fill=\"#ff0000\" fill-rule=\"evenodd\" fill-opacity=\"1\" stroke=\"#000000\" stroke-opacity=\"1\" stroke-width=\"3.2\"/>\n",
       "<circle clip-path=\"url(#clip842)\" cx=\"1528.1\" cy=\"1179.48\" r=\"14\" fill=\"#ff0000\" fill-rule=\"evenodd\" fill-opacity=\"1\" stroke=\"#000000\" stroke-opacity=\"1\" stroke-width=\"3.2\"/>\n",
       "<circle clip-path=\"url(#clip842)\" cx=\"1726.24\" cy=\"992.074\" r=\"14\" fill=\"#ff0000\" fill-rule=\"evenodd\" fill-opacity=\"1\" stroke=\"#000000\" stroke-opacity=\"1\" stroke-width=\"3.2\"/>\n",
       "<circle clip-path=\"url(#clip842)\" cx=\"2130.29\" cy=\"1360.41\" r=\"14\" fill=\"#ff0000\" fill-rule=\"evenodd\" fill-opacity=\"1\" stroke=\"#000000\" stroke-opacity=\"1\" stroke-width=\"3.2\"/>\n",
       "<circle clip-path=\"url(#clip842)\" cx=\"1329.66\" cy=\"676.401\" r=\"14\" fill=\"#ff0000\" fill-rule=\"evenodd\" fill-opacity=\"1\" stroke=\"#000000\" stroke-opacity=\"1\" stroke-width=\"3.2\"/>\n",
       "<circle clip-path=\"url(#clip842)\" cx=\"1836.96\" cy=\"1033.23\" r=\"14\" fill=\"#ff0000\" fill-rule=\"evenodd\" fill-opacity=\"1\" stroke=\"#000000\" stroke-opacity=\"1\" stroke-width=\"3.2\"/>\n",
       "<circle clip-path=\"url(#clip842)\" cx=\"1481.46\" cy=\"999.102\" r=\"14\" fill=\"#ff0000\" fill-rule=\"evenodd\" fill-opacity=\"1\" stroke=\"#000000\" stroke-opacity=\"1\" stroke-width=\"3.2\"/>\n",
       "<circle clip-path=\"url(#clip842)\" cx=\"1249.94\" cy=\"637.923\" r=\"14\" fill=\"#ff0000\" fill-rule=\"evenodd\" fill-opacity=\"1\" stroke=\"#000000\" stroke-opacity=\"1\" stroke-width=\"3.2\"/>\n",
       "<circle clip-path=\"url(#clip842)\" cx=\"1055.53\" cy=\"415.152\" r=\"14\" fill=\"#ff0000\" fill-rule=\"evenodd\" fill-opacity=\"1\" stroke=\"#000000\" stroke-opacity=\"1\" stroke-width=\"3.2\"/>\n",
       "<circle clip-path=\"url(#clip842)\" cx=\"2068.39\" cy=\"1303.67\" r=\"14\" fill=\"#ff0000\" fill-rule=\"evenodd\" fill-opacity=\"1\" stroke=\"#000000\" stroke-opacity=\"1\" stroke-width=\"3.2\"/>\n",
       "<circle clip-path=\"url(#clip842)\" cx=\"1452.3\" cy=\"1076.62\" r=\"14\" fill=\"#ff0000\" fill-rule=\"evenodd\" fill-opacity=\"1\" stroke=\"#000000\" stroke-opacity=\"1\" stroke-width=\"3.2\"/>\n",
       "<circle clip-path=\"url(#clip842)\" cx=\"606.229\" cy=\"833.869\" r=\"14\" fill=\"#ff0000\" fill-rule=\"evenodd\" fill-opacity=\"1\" stroke=\"#000000\" stroke-opacity=\"1\" stroke-width=\"3.2\"/>\n",
       "<circle clip-path=\"url(#clip842)\" cx=\"678.652\" cy=\"160.256\" r=\"14\" fill=\"#ff0000\" fill-rule=\"evenodd\" fill-opacity=\"1\" stroke=\"#000000\" stroke-opacity=\"1\" stroke-width=\"3.2\"/>\n",
       "<circle clip-path=\"url(#clip842)\" cx=\"1586.09\" cy=\"974.665\" r=\"14\" fill=\"#ff0000\" fill-rule=\"evenodd\" fill-opacity=\"1\" stroke=\"#000000\" stroke-opacity=\"1\" stroke-width=\"3.2\"/>\n",
       "<circle clip-path=\"url(#clip842)\" cx=\"1870.79\" cy=\"1029.75\" r=\"14\" fill=\"#ff0000\" fill-rule=\"evenodd\" fill-opacity=\"1\" stroke=\"#000000\" stroke-opacity=\"1\" stroke-width=\"3.2\"/>\n",
       "<circle clip-path=\"url(#clip842)\" cx=\"1719.92\" cy=\"958.403\" r=\"14\" fill=\"#ff0000\" fill-rule=\"evenodd\" fill-opacity=\"1\" stroke=\"#000000\" stroke-opacity=\"1\" stroke-width=\"3.2\"/>\n",
       "<circle clip-path=\"url(#clip842)\" cx=\"1433.42\" cy=\"742.536\" r=\"14\" fill=\"#ff0000\" fill-rule=\"evenodd\" fill-opacity=\"1\" stroke=\"#000000\" stroke-opacity=\"1\" stroke-width=\"3.2\"/>\n",
       "<circle clip-path=\"url(#clip842)\" cx=\"1297.32\" cy=\"701.541\" r=\"14\" fill=\"#ff0000\" fill-rule=\"evenodd\" fill-opacity=\"1\" stroke=\"#000000\" stroke-opacity=\"1\" stroke-width=\"3.2\"/>\n",
       "<circle clip-path=\"url(#clip842)\" cx=\"1435.93\" cy=\"849.13\" r=\"14\" fill=\"#ff0000\" fill-rule=\"evenodd\" fill-opacity=\"1\" stroke=\"#000000\" stroke-opacity=\"1\" stroke-width=\"3.2\"/>\n",
       "<circle clip-path=\"url(#clip842)\" cx=\"1548.25\" cy=\"627.863\" r=\"14\" fill=\"#ff0000\" fill-rule=\"evenodd\" fill-opacity=\"1\" stroke=\"#000000\" stroke-opacity=\"1\" stroke-width=\"3.2\"/>\n",
       "<circle clip-path=\"url(#clip842)\" cx=\"1668\" cy=\"605.839\" r=\"14\" fill=\"#ff0000\" fill-rule=\"evenodd\" fill-opacity=\"1\" stroke=\"#000000\" stroke-opacity=\"1\" stroke-width=\"3.2\"/>\n",
       "<circle clip-path=\"url(#clip842)\" cx=\"2169.42\" cy=\"949.71\" r=\"14\" fill=\"#ff0000\" fill-rule=\"evenodd\" fill-opacity=\"1\" stroke=\"#000000\" stroke-opacity=\"1\" stroke-width=\"3.2\"/>\n",
       "<circle clip-path=\"url(#clip842)\" cx=\"1683.86\" cy=\"899.586\" r=\"14\" fill=\"#ff0000\" fill-rule=\"evenodd\" fill-opacity=\"1\" stroke=\"#000000\" stroke-opacity=\"1\" stroke-width=\"3.2\"/>\n",
       "<circle clip-path=\"url(#clip842)\" cx=\"1997.97\" cy=\"909.779\" r=\"14\" fill=\"#ff0000\" fill-rule=\"evenodd\" fill-opacity=\"1\" stroke=\"#000000\" stroke-opacity=\"1\" stroke-width=\"3.2\"/>\n",
       "<circle clip-path=\"url(#clip842)\" cx=\"1661.19\" cy=\"897.099\" r=\"14\" fill=\"#ff0000\" fill-rule=\"evenodd\" fill-opacity=\"1\" stroke=\"#000000\" stroke-opacity=\"1\" stroke-width=\"3.2\"/>\n",
       "<circle clip-path=\"url(#clip842)\" cx=\"1681.96\" cy=\"1000.89\" r=\"14\" fill=\"#ff0000\" fill-rule=\"evenodd\" fill-opacity=\"1\" stroke=\"#000000\" stroke-opacity=\"1\" stroke-width=\"3.2\"/>\n",
       "<circle clip-path=\"url(#clip842)\" cx=\"947.823\" cy=\"771.571\" r=\"14\" fill=\"#ff0000\" fill-rule=\"evenodd\" fill-opacity=\"1\" stroke=\"#000000\" stroke-opacity=\"1\" stroke-width=\"3.2\"/>\n",
       "<circle clip-path=\"url(#clip842)\" cx=\"279.916\" cy=\"683.872\" r=\"14\" fill=\"#ff0000\" fill-rule=\"evenodd\" fill-opacity=\"1\" stroke=\"#000000\" stroke-opacity=\"1\" stroke-width=\"3.2\"/>\n",
       "<circle clip-path=\"url(#clip842)\" cx=\"1399.8\" cy=\"700.48\" r=\"14\" fill=\"#ff0000\" fill-rule=\"evenodd\" fill-opacity=\"1\" stroke=\"#000000\" stroke-opacity=\"1\" stroke-width=\"3.2\"/>\n",
       "<circle clip-path=\"url(#clip842)\" cx=\"1637.66\" cy=\"811.274\" r=\"14\" fill=\"#ff0000\" fill-rule=\"evenodd\" fill-opacity=\"1\" stroke=\"#000000\" stroke-opacity=\"1\" stroke-width=\"3.2\"/>\n",
       "<circle clip-path=\"url(#clip842)\" cx=\"1371.88\" cy=\"1314.09\" r=\"14\" fill=\"#ff0000\" fill-rule=\"evenodd\" fill-opacity=\"1\" stroke=\"#000000\" stroke-opacity=\"1\" stroke-width=\"3.2\"/>\n",
       "<circle clip-path=\"url(#clip842)\" cx=\"946.287\" cy=\"1108.93\" r=\"14\" fill=\"#ff0000\" fill-rule=\"evenodd\" fill-opacity=\"1\" stroke=\"#000000\" stroke-opacity=\"1\" stroke-width=\"3.2\"/>\n",
       "<circle clip-path=\"url(#clip842)\" cx=\"1217.75\" cy=\"774.368\" r=\"14\" fill=\"#ff0000\" fill-rule=\"evenodd\" fill-opacity=\"1\" stroke=\"#000000\" stroke-opacity=\"1\" stroke-width=\"3.2\"/>\n",
       "<circle clip-path=\"url(#clip842)\" cx=\"2079.84\" cy=\"1326.56\" r=\"14\" fill=\"#ff0000\" fill-rule=\"evenodd\" fill-opacity=\"1\" stroke=\"#000000\" stroke-opacity=\"1\" stroke-width=\"3.2\"/>\n",
       "<circle clip-path=\"url(#clip842)\" cx=\"1906.37\" cy=\"1164.99\" r=\"14\" fill=\"#ff0000\" fill-rule=\"evenodd\" fill-opacity=\"1\" stroke=\"#000000\" stroke-opacity=\"1\" stroke-width=\"3.2\"/>\n",
       "<circle clip-path=\"url(#clip842)\" cx=\"1307.49\" cy=\"1107.04\" r=\"14\" fill=\"#ff0000\" fill-rule=\"evenodd\" fill-opacity=\"1\" stroke=\"#000000\" stroke-opacity=\"1\" stroke-width=\"3.2\"/>\n",
       "<circle clip-path=\"url(#clip842)\" cx=\"1775.48\" cy=\"787.398\" r=\"14\" fill=\"#ff0000\" fill-rule=\"evenodd\" fill-opacity=\"1\" stroke=\"#000000\" stroke-opacity=\"1\" stroke-width=\"3.2\"/>\n",
       "<circle clip-path=\"url(#clip842)\" cx=\"1350.76\" cy=\"1206.03\" r=\"14\" fill=\"#ff0000\" fill-rule=\"evenodd\" fill-opacity=\"1\" stroke=\"#000000\" stroke-opacity=\"1\" stroke-width=\"3.2\"/>\n",
       "<circle clip-path=\"url(#clip842)\" cx=\"1352.48\" cy=\"1122.23\" r=\"14\" fill=\"#ff0000\" fill-rule=\"evenodd\" fill-opacity=\"1\" stroke=\"#000000\" stroke-opacity=\"1\" stroke-width=\"3.2\"/>\n",
       "<circle clip-path=\"url(#clip842)\" cx=\"1724.75\" cy=\"1107.33\" r=\"14\" fill=\"#ff0000\" fill-rule=\"evenodd\" fill-opacity=\"1\" stroke=\"#000000\" stroke-opacity=\"1\" stroke-width=\"3.2\"/>\n",
       "<circle clip-path=\"url(#clip842)\" cx=\"1542.88\" cy=\"935.059\" r=\"14\" fill=\"#ff0000\" fill-rule=\"evenodd\" fill-opacity=\"1\" stroke=\"#000000\" stroke-opacity=\"1\" stroke-width=\"3.2\"/>\n",
       "<circle clip-path=\"url(#clip842)\" cx=\"1562.15\" cy=\"1100.05\" r=\"14\" fill=\"#ff0000\" fill-rule=\"evenodd\" fill-opacity=\"1\" stroke=\"#000000\" stroke-opacity=\"1\" stroke-width=\"3.2\"/>\n",
       "<circle clip-path=\"url(#clip842)\" cx=\"2181.4\" cy=\"1386.4\" r=\"14\" fill=\"#ff0000\" fill-rule=\"evenodd\" fill-opacity=\"1\" stroke=\"#000000\" stroke-opacity=\"1\" stroke-width=\"3.2\"/>\n",
       "<circle clip-path=\"url(#clip842)\" cx=\"1795.82\" cy=\"1096.35\" r=\"14\" fill=\"#ff0000\" fill-rule=\"evenodd\" fill-opacity=\"1\" stroke=\"#000000\" stroke-opacity=\"1\" stroke-width=\"3.2\"/>\n",
       "<circle clip-path=\"url(#clip842)\" cx=\"1519.86\" cy=\"723.701\" r=\"14\" fill=\"#ff0000\" fill-rule=\"evenodd\" fill-opacity=\"1\" stroke=\"#000000\" stroke-opacity=\"1\" stroke-width=\"3.2\"/>\n",
       "<circle clip-path=\"url(#clip842)\" cx=\"1136.78\" cy=\"1045.97\" r=\"14\" fill=\"#ff0000\" fill-rule=\"evenodd\" fill-opacity=\"1\" stroke=\"#000000\" stroke-opacity=\"1\" stroke-width=\"3.2\"/>\n",
       "<circle clip-path=\"url(#clip842)\" cx=\"1156.79\" cy=\"508.967\" r=\"14\" fill=\"#ff0000\" fill-rule=\"evenodd\" fill-opacity=\"1\" stroke=\"#000000\" stroke-opacity=\"1\" stroke-width=\"3.2\"/>\n",
       "<circle clip-path=\"url(#clip842)\" cx=\"1471.11\" cy=\"975.038\" r=\"14\" fill=\"#ff0000\" fill-rule=\"evenodd\" fill-opacity=\"1\" stroke=\"#000000\" stroke-opacity=\"1\" stroke-width=\"3.2\"/>\n",
       "<circle clip-path=\"url(#clip842)\" cx=\"1820.49\" cy=\"974.929\" r=\"14\" fill=\"#ff0000\" fill-rule=\"evenodd\" fill-opacity=\"1\" stroke=\"#000000\" stroke-opacity=\"1\" stroke-width=\"3.2\"/>\n",
       "<circle clip-path=\"url(#clip842)\" cx=\"1353.69\" cy=\"1025.81\" r=\"14\" fill=\"#ff0000\" fill-rule=\"evenodd\" fill-opacity=\"1\" stroke=\"#000000\" stroke-opacity=\"1\" stroke-width=\"3.2\"/>\n",
       "<circle clip-path=\"url(#clip842)\" cx=\"1687.2\" cy=\"1242.14\" r=\"14\" fill=\"#ff0000\" fill-rule=\"evenodd\" fill-opacity=\"1\" stroke=\"#000000\" stroke-opacity=\"1\" stroke-width=\"3.2\"/>\n",
       "<circle clip-path=\"url(#clip842)\" cx=\"1147.53\" cy=\"644.766\" r=\"14\" fill=\"#ff0000\" fill-rule=\"evenodd\" fill-opacity=\"1\" stroke=\"#000000\" stroke-opacity=\"1\" stroke-width=\"3.2\"/>\n",
       "<circle clip-path=\"url(#clip842)\" cx=\"1819.66\" cy=\"1164.07\" r=\"14\" fill=\"#ff0000\" fill-rule=\"evenodd\" fill-opacity=\"1\" stroke=\"#000000\" stroke-opacity=\"1\" stroke-width=\"3.2\"/>\n",
       "<circle clip-path=\"url(#clip842)\" cx=\"1889.75\" cy=\"1054.19\" r=\"14\" fill=\"#ff0000\" fill-rule=\"evenodd\" fill-opacity=\"1\" stroke=\"#000000\" stroke-opacity=\"1\" stroke-width=\"3.2\"/>\n",
       "<circle clip-path=\"url(#clip842)\" cx=\"1729.56\" cy=\"935.922\" r=\"14\" fill=\"#ff0000\" fill-rule=\"evenodd\" fill-opacity=\"1\" stroke=\"#000000\" stroke-opacity=\"1\" stroke-width=\"3.2\"/>\n",
       "<circle clip-path=\"url(#clip842)\" cx=\"1401.66\" cy=\"977.729\" r=\"14\" fill=\"#ff0000\" fill-rule=\"evenodd\" fill-opacity=\"1\" stroke=\"#000000\" stroke-opacity=\"1\" stroke-width=\"3.2\"/>\n",
       "<circle clip-path=\"url(#clip842)\" cx=\"1954.74\" cy=\"895.429\" r=\"14\" fill=\"#ff0000\" fill-rule=\"evenodd\" fill-opacity=\"1\" stroke=\"#000000\" stroke-opacity=\"1\" stroke-width=\"3.2\"/>\n",
       "<circle clip-path=\"url(#clip842)\" cx=\"1940.17\" cy=\"960.808\" r=\"14\" fill=\"#ff0000\" fill-rule=\"evenodd\" fill-opacity=\"1\" stroke=\"#000000\" stroke-opacity=\"1\" stroke-width=\"3.2\"/>\n",
       "<circle clip-path=\"url(#clip842)\" cx=\"1364.98\" cy=\"1327.96\" r=\"14\" fill=\"#ff0000\" fill-rule=\"evenodd\" fill-opacity=\"1\" stroke=\"#000000\" stroke-opacity=\"1\" stroke-width=\"3.2\"/>\n",
       "<circle clip-path=\"url(#clip842)\" cx=\"1232.49\" cy=\"605.793\" r=\"14\" fill=\"#ff0000\" fill-rule=\"evenodd\" fill-opacity=\"1\" stroke=\"#000000\" stroke-opacity=\"1\" stroke-width=\"3.2\"/>\n",
       "<circle clip-path=\"url(#clip842)\" cx=\"1655.67\" cy=\"965.456\" r=\"14\" fill=\"#ff0000\" fill-rule=\"evenodd\" fill-opacity=\"1\" stroke=\"#000000\" stroke-opacity=\"1\" stroke-width=\"3.2\"/>\n",
       "<circle clip-path=\"url(#clip842)\" cx=\"1629.38\" cy=\"1207.79\" r=\"14\" fill=\"#ff0000\" fill-rule=\"evenodd\" fill-opacity=\"1\" stroke=\"#000000\" stroke-opacity=\"1\" stroke-width=\"3.2\"/>\n",
       "<circle clip-path=\"url(#clip842)\" cx=\"1533.01\" cy=\"1110.9\" r=\"14\" fill=\"#ff0000\" fill-rule=\"evenodd\" fill-opacity=\"1\" stroke=\"#000000\" stroke-opacity=\"1\" stroke-width=\"3.2\"/>\n",
       "<circle clip-path=\"url(#clip842)\" cx=\"1653.18\" cy=\"682.309\" r=\"14\" fill=\"#ff0000\" fill-rule=\"evenodd\" fill-opacity=\"1\" stroke=\"#000000\" stroke-opacity=\"1\" stroke-width=\"3.2\"/>\n",
       "<circle clip-path=\"url(#clip842)\" cx=\"1502.04\" cy=\"1200.17\" r=\"14\" fill=\"#ff0000\" fill-rule=\"evenodd\" fill-opacity=\"1\" stroke=\"#000000\" stroke-opacity=\"1\" stroke-width=\"3.2\"/>\n",
       "<circle clip-path=\"url(#clip842)\" cx=\"1644.65\" cy=\"1311.48\" r=\"14\" fill=\"#ff0000\" fill-rule=\"evenodd\" fill-opacity=\"1\" stroke=\"#000000\" stroke-opacity=\"1\" stroke-width=\"3.2\"/>\n",
       "<circle clip-path=\"url(#clip842)\" cx=\"1206.23\" cy=\"1144.2\" r=\"14\" fill=\"#ff0000\" fill-rule=\"evenodd\" fill-opacity=\"1\" stroke=\"#000000\" stroke-opacity=\"1\" stroke-width=\"3.2\"/>\n",
       "<circle clip-path=\"url(#clip842)\" cx=\"684.087\" cy=\"885.692\" r=\"14\" fill=\"#ff0000\" fill-rule=\"evenodd\" fill-opacity=\"1\" stroke=\"#000000\" stroke-opacity=\"1\" stroke-width=\"3.2\"/>\n",
       "<circle clip-path=\"url(#clip842)\" cx=\"1658.04\" cy=\"1249.1\" r=\"14\" fill=\"#ff0000\" fill-rule=\"evenodd\" fill-opacity=\"1\" stroke=\"#000000\" stroke-opacity=\"1\" stroke-width=\"3.2\"/>\n",
       "<circle clip-path=\"url(#clip842)\" cx=\"1409.26\" cy=\"961.42\" r=\"14\" fill=\"#ff0000\" fill-rule=\"evenodd\" fill-opacity=\"1\" stroke=\"#000000\" stroke-opacity=\"1\" stroke-width=\"3.2\"/>\n",
       "<circle clip-path=\"url(#clip842)\" cx=\"1422.55\" cy=\"947.587\" r=\"14\" fill=\"#ff0000\" fill-rule=\"evenodd\" fill-opacity=\"1\" stroke=\"#000000\" stroke-opacity=\"1\" stroke-width=\"3.2\"/>\n",
       "<circle clip-path=\"url(#clip842)\" cx=\"1125.66\" cy=\"601.564\" r=\"14\" fill=\"#ff0000\" fill-rule=\"evenodd\" fill-opacity=\"1\" stroke=\"#000000\" stroke-opacity=\"1\" stroke-width=\"3.2\"/>\n",
       "<circle clip-path=\"url(#clip842)\" cx=\"933.266\" cy=\"790.788\" r=\"14\" fill=\"#ff0000\" fill-rule=\"evenodd\" fill-opacity=\"1\" stroke=\"#000000\" stroke-opacity=\"1\" stroke-width=\"3.2\"/>\n",
       "<circle clip-path=\"url(#clip842)\" cx=\"1715.49\" cy=\"1367.38\" r=\"14\" fill=\"#ff0000\" fill-rule=\"evenodd\" fill-opacity=\"1\" stroke=\"#000000\" stroke-opacity=\"1\" stroke-width=\"3.2\"/>\n",
       "<circle clip-path=\"url(#clip842)\" cx=\"969.066\" cy=\"892.875\" r=\"14\" fill=\"#ff0000\" fill-rule=\"evenodd\" fill-opacity=\"1\" stroke=\"#000000\" stroke-opacity=\"1\" stroke-width=\"3.2\"/>\n",
       "<circle clip-path=\"url(#clip842)\" cx=\"1190.04\" cy=\"806.541\" r=\"14\" fill=\"#ff0000\" fill-rule=\"evenodd\" fill-opacity=\"1\" stroke=\"#000000\" stroke-opacity=\"1\" stroke-width=\"3.2\"/>\n",
       "<circle clip-path=\"url(#clip842)\" cx=\"2289.8\" cy=\"1258.41\" r=\"14\" fill=\"#ff0000\" fill-rule=\"evenodd\" fill-opacity=\"1\" stroke=\"#000000\" stroke-opacity=\"1\" stroke-width=\"3.2\"/>\n",
       "<circle clip-path=\"url(#clip842)\" cx=\"1463.88\" cy=\"1219.27\" r=\"14\" fill=\"#ff0000\" fill-rule=\"evenodd\" fill-opacity=\"1\" stroke=\"#000000\" stroke-opacity=\"1\" stroke-width=\"3.2\"/>\n",
       "<circle clip-path=\"url(#clip842)\" cx=\"996.179\" cy=\"428.03\" r=\"14\" fill=\"#ff0000\" fill-rule=\"evenodd\" fill-opacity=\"1\" stroke=\"#000000\" stroke-opacity=\"1\" stroke-width=\"3.2\"/>\n",
       "<circle clip-path=\"url(#clip842)\" cx=\"1144.59\" cy=\"943.129\" r=\"14\" fill=\"#ff0000\" fill-rule=\"evenodd\" fill-opacity=\"1\" stroke=\"#000000\" stroke-opacity=\"1\" stroke-width=\"3.2\"/>\n",
       "<circle clip-path=\"url(#clip842)\" cx=\"1352.5\" cy=\"848.017\" r=\"14\" fill=\"#ff0000\" fill-rule=\"evenodd\" fill-opacity=\"1\" stroke=\"#000000\" stroke-opacity=\"1\" stroke-width=\"3.2\"/>\n",
       "<circle clip-path=\"url(#clip842)\" cx=\"1621.35\" cy=\"1205.7\" r=\"14\" fill=\"#ff0000\" fill-rule=\"evenodd\" fill-opacity=\"1\" stroke=\"#000000\" stroke-opacity=\"1\" stroke-width=\"3.2\"/>\n",
       "<circle clip-path=\"url(#clip842)\" cx=\"963.067\" cy=\"1325.17\" r=\"14\" fill=\"#ff0000\" fill-rule=\"evenodd\" fill-opacity=\"1\" stroke=\"#000000\" stroke-opacity=\"1\" stroke-width=\"3.2\"/>\n",
       "<circle clip-path=\"url(#clip842)\" cx=\"1674.79\" cy=\"1324.07\" r=\"14\" fill=\"#ff0000\" fill-rule=\"evenodd\" fill-opacity=\"1\" stroke=\"#000000\" stroke-opacity=\"1\" stroke-width=\"3.2\"/>\n",
       "<circle clip-path=\"url(#clip842)\" cx=\"2197.11\" cy=\"1326.61\" r=\"14\" fill=\"#ff0000\" fill-rule=\"evenodd\" fill-opacity=\"1\" stroke=\"#000000\" stroke-opacity=\"1\" stroke-width=\"3.2\"/>\n",
       "<circle clip-path=\"url(#clip842)\" cx=\"681.842\" cy=\"1031.57\" r=\"14\" fill=\"#ff0000\" fill-rule=\"evenodd\" fill-opacity=\"1\" stroke=\"#000000\" stroke-opacity=\"1\" stroke-width=\"3.2\"/>\n",
       "<circle clip-path=\"url(#clip842)\" cx=\"1303.09\" cy=\"967.259\" r=\"14\" fill=\"#ff0000\" fill-rule=\"evenodd\" fill-opacity=\"1\" stroke=\"#000000\" stroke-opacity=\"1\" stroke-width=\"3.2\"/>\n",
       "<circle clip-path=\"url(#clip842)\" cx=\"1452.74\" cy=\"1150.18\" r=\"14\" fill=\"#ff0000\" fill-rule=\"evenodd\" fill-opacity=\"1\" stroke=\"#000000\" stroke-opacity=\"1\" stroke-width=\"3.2\"/>\n",
       "<circle clip-path=\"url(#clip842)\" cx=\"1097.1\" cy=\"1059.68\" r=\"14\" fill=\"#ff0000\" fill-rule=\"evenodd\" fill-opacity=\"1\" stroke=\"#000000\" stroke-opacity=\"1\" stroke-width=\"3.2\"/>\n",
       "<circle clip-path=\"url(#clip842)\" cx=\"1622.3\" cy=\"746.229\" r=\"14\" fill=\"#ff0000\" fill-rule=\"evenodd\" fill-opacity=\"1\" stroke=\"#000000\" stroke-opacity=\"1\" stroke-width=\"3.2\"/>\n",
       "<circle clip-path=\"url(#clip842)\" cx=\"1284.67\" cy=\"963.306\" r=\"14\" fill=\"#ff0000\" fill-rule=\"evenodd\" fill-opacity=\"1\" stroke=\"#000000\" stroke-opacity=\"1\" stroke-width=\"3.2\"/>\n",
       "<circle clip-path=\"url(#clip842)\" cx=\"748.878\" cy=\"527.123\" r=\"14\" fill=\"#ff0000\" fill-rule=\"evenodd\" fill-opacity=\"1\" stroke=\"#000000\" stroke-opacity=\"1\" stroke-width=\"3.2\"/>\n",
       "<circle clip-path=\"url(#clip842)\" cx=\"1762.67\" cy=\"882.376\" r=\"14\" fill=\"#ff0000\" fill-rule=\"evenodd\" fill-opacity=\"1\" stroke=\"#000000\" stroke-opacity=\"1\" stroke-width=\"3.2\"/>\n",
       "<circle clip-path=\"url(#clip842)\" cx=\"1162.35\" cy=\"1067.47\" r=\"14\" fill=\"#ff0000\" fill-rule=\"evenodd\" fill-opacity=\"1\" stroke=\"#000000\" stroke-opacity=\"1\" stroke-width=\"3.2\"/>\n",
       "<circle clip-path=\"url(#clip842)\" cx=\"1896.64\" cy=\"1085.09\" r=\"14\" fill=\"#ff0000\" fill-rule=\"evenodd\" fill-opacity=\"1\" stroke=\"#000000\" stroke-opacity=\"1\" stroke-width=\"3.2\"/>\n",
       "<circle clip-path=\"url(#clip842)\" cx=\"1702.18\" cy=\"976.396\" r=\"14\" fill=\"#ff0000\" fill-rule=\"evenodd\" fill-opacity=\"1\" stroke=\"#000000\" stroke-opacity=\"1\" stroke-width=\"3.2\"/>\n",
       "<circle clip-path=\"url(#clip842)\" cx=\"1156.43\" cy=\"1203.81\" r=\"14\" fill=\"#ff0000\" fill-rule=\"evenodd\" fill-opacity=\"1\" stroke=\"#000000\" stroke-opacity=\"1\" stroke-width=\"3.2\"/>\n",
       "<circle clip-path=\"url(#clip842)\" cx=\"557.614\" cy=\"863.442\" r=\"14\" fill=\"#ff0000\" fill-rule=\"evenodd\" fill-opacity=\"1\" stroke=\"#000000\" stroke-opacity=\"1\" stroke-width=\"3.2\"/>\n",
       "<circle clip-path=\"url(#clip842)\" cx=\"1943.69\" cy=\"833.692\" r=\"14\" fill=\"#ff0000\" fill-rule=\"evenodd\" fill-opacity=\"1\" stroke=\"#000000\" stroke-opacity=\"1\" stroke-width=\"3.2\"/>\n",
       "<circle clip-path=\"url(#clip842)\" cx=\"1227.21\" cy=\"1040.39\" r=\"14\" fill=\"#ff0000\" fill-rule=\"evenodd\" fill-opacity=\"1\" stroke=\"#000000\" stroke-opacity=\"1\" stroke-width=\"3.2\"/>\n",
       "<circle clip-path=\"url(#clip842)\" cx=\"1638.16\" cy=\"1332.85\" r=\"14\" fill=\"#ff0000\" fill-rule=\"evenodd\" fill-opacity=\"1\" stroke=\"#000000\" stroke-opacity=\"1\" stroke-width=\"3.2\"/>\n",
       "<circle clip-path=\"url(#clip842)\" cx=\"2157.45\" cy=\"1244.37\" r=\"14\" fill=\"#ff0000\" fill-rule=\"evenodd\" fill-opacity=\"1\" stroke=\"#000000\" stroke-opacity=\"1\" stroke-width=\"3.2\"/>\n",
       "<circle clip-path=\"url(#clip842)\" cx=\"2199.39\" cy=\"923.582\" r=\"14\" fill=\"#ff0000\" fill-rule=\"evenodd\" fill-opacity=\"1\" stroke=\"#000000\" stroke-opacity=\"1\" stroke-width=\"3.2\"/>\n",
       "<circle clip-path=\"url(#clip842)\" cx=\"1171.99\" cy=\"1009.64\" r=\"14\" fill=\"#ff0000\" fill-rule=\"evenodd\" fill-opacity=\"1\" stroke=\"#000000\" stroke-opacity=\"1\" stroke-width=\"3.2\"/>\n",
       "<circle clip-path=\"url(#clip842)\" cx=\"1850.99\" cy=\"1077.11\" r=\"14\" fill=\"#ff0000\" fill-rule=\"evenodd\" fill-opacity=\"1\" stroke=\"#000000\" stroke-opacity=\"1\" stroke-width=\"3.2\"/>\n",
       "<circle clip-path=\"url(#clip842)\" cx=\"1370.52\" cy=\"792.945\" r=\"14\" fill=\"#ff0000\" fill-rule=\"evenodd\" fill-opacity=\"1\" stroke=\"#000000\" stroke-opacity=\"1\" stroke-width=\"3.2\"/>\n",
       "<circle clip-path=\"url(#clip842)\" cx=\"1815.69\" cy=\"1178.08\" r=\"14\" fill=\"#ff0000\" fill-rule=\"evenodd\" fill-opacity=\"1\" stroke=\"#000000\" stroke-opacity=\"1\" stroke-width=\"3.2\"/>\n",
       "<circle clip-path=\"url(#clip842)\" cx=\"2195.22\" cy=\"1200.62\" r=\"14\" fill=\"#ff0000\" fill-rule=\"evenodd\" fill-opacity=\"1\" stroke=\"#000000\" stroke-opacity=\"1\" stroke-width=\"3.2\"/>\n",
       "<circle clip-path=\"url(#clip842)\" cx=\"1585.47\" cy=\"1206.36\" r=\"14\" fill=\"#ff0000\" fill-rule=\"evenodd\" fill-opacity=\"1\" stroke=\"#000000\" stroke-opacity=\"1\" stroke-width=\"3.2\"/>\n",
       "<circle clip-path=\"url(#clip842)\" cx=\"1288.44\" cy=\"713.22\" r=\"14\" fill=\"#ff0000\" fill-rule=\"evenodd\" fill-opacity=\"1\" stroke=\"#000000\" stroke-opacity=\"1\" stroke-width=\"3.2\"/>\n",
       "<circle clip-path=\"url(#clip842)\" cx=\"994.683\" cy=\"649.635\" r=\"14\" fill=\"#ff0000\" fill-rule=\"evenodd\" fill-opacity=\"1\" stroke=\"#000000\" stroke-opacity=\"1\" stroke-width=\"3.2\"/>\n",
       "<circle clip-path=\"url(#clip842)\" cx=\"1617.36\" cy=\"941.516\" r=\"14\" fill=\"#ff0000\" fill-rule=\"evenodd\" fill-opacity=\"1\" stroke=\"#000000\" stroke-opacity=\"1\" stroke-width=\"3.2\"/>\n",
       "<circle clip-path=\"url(#clip842)\" cx=\"2279.86\" cy=\"1022.86\" r=\"14\" fill=\"#ff0000\" fill-rule=\"evenodd\" fill-opacity=\"1\" stroke=\"#000000\" stroke-opacity=\"1\" stroke-width=\"3.2\"/>\n",
       "<circle clip-path=\"url(#clip842)\" cx=\"931.872\" cy=\"1251.8\" r=\"14\" fill=\"#ff0000\" fill-rule=\"evenodd\" fill-opacity=\"1\" stroke=\"#000000\" stroke-opacity=\"1\" stroke-width=\"3.2\"/>\n",
       "</svg>\n"
      ]
     },
     "execution_count": 15,
     "metadata": {},
     "output_type": "execute_result"
    }
   ],
   "source": [
    "gop = df[df.per_dem.<df.per_gop,:]\n",
    "scatter(gop.val_acc_vacc,gop.per_gop, color= \"red\", title= \"Replublican Vaccine Acceptance\", xlabel= \"Vaccine Acceptance\", ylabel=\"Voting Percentage\", legend=false)"
   ]
  },
  {
   "cell_type": "markdown",
   "metadata": {},
   "source": [
    "<font size=\"3\"> Creating new dataframe with only numerical data for PCA."
   ]
  },
  {
   "cell_type": "code",
   "execution_count": 221,
   "metadata": {
    "scrolled": true
   },
   "outputs": [
    {
     "data": {
      "text/plain": [
       "12-element Vector{String}:\n",
       " \"state_name\"\n",
       " \"county_fips\"\n",
       " \"county_name\"\n",
       " \"val_acc_vacc\"\n",
       " \"val_wearing_mask\"\n",
       " \"votes_gop\"\n",
       " \"votes_dem\"\n",
       " \"total_votes\"\n",
       " \"per_gop\"\n",
       " \"per_dem\"\n",
       " \"population\"\n",
       " \"income\""
      ]
     },
     "execution_count": 221,
     "metadata": {},
     "output_type": "execute_result"
    }
   ],
   "source": [
    "names(df)"
   ]
  },
  {
   "cell_type": "code",
   "execution_count": 224,
   "metadata": {
    "scrolled": false
   },
   "outputs": [
    {
     "data": {
      "text/plain": [
       "9-element Vector{String}:\n",
       " \"val_acc_vacc\"\n",
       " \"val_wearing_mask\"\n",
       " \"votes_gop\"\n",
       " \"votes_dem\"\n",
       " \"total_votes\"\n",
       " \"per_gop\"\n",
       " \"per_dem\"\n",
       " \"population\"\n",
       " \"income\""
      ]
     },
     "execution_count": 224,
     "metadata": {},
     "output_type": "execute_result"
    }
   ],
   "source": [
    "num_df = select(df, Not([:state_name, :county_fips, :county_name]))\n",
    "names(num_df)"
   ]
  },
  {
   "cell_type": "markdown",
   "metadata": {},
   "source": [
    "<h3/> PCA"
   ]
  },
  {
   "cell_type": "code",
   "execution_count": 225,
   "metadata": {
    "scrolled": true
   },
   "outputs": [
    {
     "data": {
      "text/plain": [
       "PCA(indim = 9, outdim = 1, principalratio = 0.9909325926101895)"
      ]
     },
     "execution_count": 225,
     "metadata": {},
     "output_type": "execute_result"
    }
   ],
   "source": [
    "mtx_df = Matrix(num_df)\n",
    "tp_mtx = transpose(mtx_df)\n",
    "pca = fit(PCA, tp_mtx, maxoutdim = 1)"
   ]
  },
  {
   "cell_type": "markdown",
   "metadata": {},
   "source": [
    "<font size=\"3\"/> When the data is projected to 1 dimension it is representative 99% of the variation in the data.\n",
    "<br/>"
   ]
  },
  {
   "cell_type": "markdown",
   "metadata": {},
   "source": [
    "<br/>\n",
    "<font size=\"3\"/> Taking a look at the top loadings in the PCA. These are some of the most populated states, so the counties from these states would be significant."
   ]
  },
  {
   "cell_type": "code",
   "execution_count": 227,
   "metadata": {
    "scrolled": false
   },
   "outputs": [
    {
     "data": {
      "text/html": [
       "<table class=\"data-frame\"><thead><tr><th></th><th>state_name</th><th>county_fips</th><th>county_name</th><th>val_acc_vacc</th><th>val_wearing_mask</th><th>votes_gop</th></tr><tr><th></th><th>String</th><th>Int64</th><th>String</th><th>Float64</th><th>Float64</th><th>Int64</th></tr></thead><tbody><p>9 rows × 12 columns (omitted printing of 6 columns)</p><tr><th>1</th><td>Georgia</td><td>13115</td><td>Floyd County</td><td>68.669</td><td>88.2842</td><td>28906</td></tr><tr><th>2</th><td>Colorado</td><td>8069</td><td>Larimer County</td><td>80.5756</td><td>95.4249</td><td>91489</td></tr><tr><th>3</th><td>California</td><td>6065</td><td>Riverside County</td><td>74.8758</td><td>96.1688</td><td>448702</td></tr><tr><th>4</th><td>California</td><td>6041</td><td>Marin County</td><td>84.4113</td><td>96.869</td><td>24612</td></tr><tr><th>5</th><td>Illinois</td><td>17143</td><td>Peoria County</td><td>61.6361</td><td>92.3582</td><td>38252</td></tr><tr><th>6</th><td>Arizona</td><td>4013</td><td>Maricopa County</td><td>70.3126</td><td>92.1158</td><td>995665</td></tr><tr><th>7</th><td>California</td><td>6039</td><td>Madera County</td><td>68.8322</td><td>92.9932</td><td>29378</td></tr><tr><th>8</th><td>Florida</td><td>12117</td><td>Seminole County</td><td>71.2766</td><td>90.5598</td><td>125241</td></tr><tr><th>9</th><td>Delaware</td><td>10001</td><td>Kent County</td><td>65.6222</td><td>96.5662</td><td>41009</td></tr></tbody></table>"
      ],
      "text/latex": [
       "\\begin{tabular}{r|ccccccc}\n",
       "\t& state\\_name & county\\_fips & county\\_name & val\\_acc\\_vacc & val\\_wearing\\_mask & votes\\_gop & \\\\\n",
       "\t\\hline\n",
       "\t& String & Int64 & String & Float64 & Float64 & Int64 & \\\\\n",
       "\t\\hline\n",
       "\t1 & Georgia & 13115 & Floyd County & 68.669 & 88.2842 & 28906 & $\\dots$ \\\\\n",
       "\t2 & Colorado & 8069 & Larimer County & 80.5756 & 95.4249 & 91489 & $\\dots$ \\\\\n",
       "\t3 & California & 6065 & Riverside County & 74.8758 & 96.1688 & 448702 & $\\dots$ \\\\\n",
       "\t4 & California & 6041 & Marin County & 84.4113 & 96.869 & 24612 & $\\dots$ \\\\\n",
       "\t5 & Illinois & 17143 & Peoria County & 61.6361 & 92.3582 & 38252 & $\\dots$ \\\\\n",
       "\t6 & Arizona & 4013 & Maricopa County & 70.3126 & 92.1158 & 995665 & $\\dots$ \\\\\n",
       "\t7 & California & 6039 & Madera County & 68.8322 & 92.9932 & 29378 & $\\dots$ \\\\\n",
       "\t8 & Florida & 12117 & Seminole County & 71.2766 & 90.5598 & 125241 & $\\dots$ \\\\\n",
       "\t9 & Delaware & 10001 & Kent County & 65.6222 & 96.5662 & 41009 & $\\dots$ \\\\\n",
       "\\end{tabular}\n"
      ],
      "text/plain": [
       "\u001b[1m9×12 DataFrame\u001b[0m\n",
       "\u001b[1m Row \u001b[0m│\u001b[1m state_name \u001b[0m\u001b[1m county_fips \u001b[0m\u001b[1m county_name      \u001b[0m\u001b[1m val_acc_vacc \u001b[0m\u001b[1m val_wearing_ma\u001b[0m ⋯\n",
       "\u001b[1m     \u001b[0m│\u001b[90m String     \u001b[0m\u001b[90m Int64       \u001b[0m\u001b[90m String           \u001b[0m\u001b[90m Float64      \u001b[0m\u001b[90m Float64       \u001b[0m ⋯\n",
       "─────┼──────────────────────────────────────────────────────────────────────────\n",
       "   1 │ Georgia           13115  Floyd County           68.669            88.28 ⋯\n",
       "   2 │ Colorado           8069  Larimer County         80.5756           95.42\n",
       "   3 │ California         6065  Riverside County       74.8758           96.16\n",
       "   4 │ California         6041  Marin County           84.4113           96.86\n",
       "   5 │ Illinois          17143  Peoria County          61.6361           92.35 ⋯\n",
       "   6 │ Arizona            4013  Maricopa County        70.3126           92.11\n",
       "   7 │ California         6039  Madera County          68.8322           92.99\n",
       "   8 │ Florida           12117  Seminole County        71.2766           90.55\n",
       "   9 │ Delaware          10001  Kent County            65.6222           96.56 ⋯\n",
       "\u001b[36m                                                               8 columns omitted\u001b[0m"
      ]
     },
     "execution_count": 227,
     "metadata": {},
     "output_type": "execute_result"
    }
   ],
   "source": [
    "proj = abs.(projection(pca)[:,1])\n",
    "sorted_proj = sortperm(proj, rev = true)\n",
    "pca_loadings = df[sorted_proj,:]"
   ]
  },
  {
   "cell_type": "markdown",
   "metadata": {},
   "source": [
    "<h3/> KMeans Clustering"
   ]
  },
  {
   "cell_type": "code",
   "execution_count": 210,
   "metadata": {
    "scrolled": true
   },
   "outputs": [
    {
     "data": {
      "text/plain": [
       "Clustering.KmeansResult{Matrix{Float64}, Float64, Int64}([70.65745580017517 75.9726345304348; 91.19960543555167 95.63957296086956; … ; 335178.00350262696 2.890012434782609e6; 67226.71278458844 75704.34782608696], [2, 1, 1, 2, 1, 1, 1, 1, 1, 1  …  1, 1, 1, 1, 1, 1, 1, 1, 1, 1], [3.6213596229850273e12, 5.104629508446277e10, 1.1966828408251678e10, 3.147452784448242e11, 5.399537838705872e9, 3.352334183123297e10, 3.181732232746765e10, 8.0306904070904e10, 3.482289354649176e10, 5.117109327059152e10  …  3.010319277508499e10, 4.533762856591608e10, 2.2217971583720764e10, 1.0731862746749878e9, 5.704179727440933e10, 6.7478046112139755e10, 2.3233849149206177e10, 1.123837210548294e10, 1.5042704411050415e10, 3.953026323374579e10], [571, 23], [571, 23], 1.64975166727693e14, 13, true)"
      ]
     },
     "execution_count": 210,
     "metadata": {},
     "output_type": "execute_result"
    }
   ],
   "source": [
    "nclusters = 2\n",
    "\n",
    "k2 = Clustering.kmeans(tp_mtx, nclusters)"
   ]
  },
  {
   "cell_type": "code",
   "execution_count": 211,
   "metadata": {},
   "outputs": [
    {
     "data": {
      "text/plain": [
       "2-element Vector{Int64}:\n",
       " 571\n",
       "  23"
      ]
     },
     "execution_count": 211,
     "metadata": {},
     "output_type": "execute_result"
    }
   ],
   "source": [
    "k2.counts"
   ]
  },
  {
   "cell_type": "markdown",
   "metadata": {},
   "source": [
    "<font size=\"3\"> The first cluster has about 96% of the counties and the second cluster has about 4% of the counties."
   ]
  },
  {
   "cell_type": "markdown",
   "metadata": {},
   "source": [
    "<br/>\n",
    "<font size=\"3\"/> Looking into the centroids of the 2 clusters."
   ]
  },
  {
   "cell_type": "code",
   "execution_count": 212,
   "metadata": {},
   "outputs": [
    {
     "data": {
      "text/plain": [
       "2-element Vector{Int64}:\n",
       " 299\n",
       " 268"
      ]
     },
     "execution_count": 212,
     "metadata": {},
     "output_type": "execute_result"
    }
   ],
   "source": [
    "\"\"\"\n",
    "    Find the indices of the data points that are closest to the centroids defined by the kmeans clustering.\n",
    "\"\"\"\n",
    "function close_centroids(knn_model)\n",
    "    groups = knn_model.assignments\n",
    "    k = length(unique(groups))\n",
    "    n = length(groups)\n",
    "    result = fill(0, k)\n",
    "    for ki in 1:k\n",
    "        cost_i = fill(Inf, n)\n",
    "        group_i = ki .== groups\n",
    "        cost_i[group_i] = knn_model.costs[group_i]\n",
    "        result[ki] = argmin(cost_i)\n",
    "    end\n",
    "    result\n",
    "end\n",
    "cc = close_centroids(k2)"
   ]
  },
  {
   "cell_type": "markdown",
   "metadata": {},
   "source": [
    "<font size=\"4\"/> Centroid 1"
   ]
  },
  {
   "cell_type": "code",
   "execution_count": 254,
   "metadata": {
    "scrolled": false
   },
   "outputs": [
    {
     "data": {
      "text/html": [
       "<p>DataFrameRow (6 columns)</p><table class=\"data-frame\"><thead><tr><th></th><th>state_name</th><th>county_fips</th><th>county_name</th><th>val_acc_vacc</th><th>val_wearing_mask</th><th>votes_gop</th></tr><tr><th></th><th>String</th><th>Int64</th><th>String</th><th>Float64</th><th>Float64</th><th>Int64</th></tr></thead><tbody><tr><th>299</th><td>Oregon</td><td>41047</td><td>Marion County</td><td>63.4975</td><td>89.981</td><td>79002</td></tr></tbody></table>"
      ],
      "text/latex": [
       "\\begin{tabular}{r|cccccc}\n",
       "\t& state\\_name & county\\_fips & county\\_name & val\\_acc\\_vacc & val\\_wearing\\_mask & votes\\_gop\\\\\n",
       "\t\\hline\n",
       "\t& String & Int64 & String & Float64 & Float64 & Int64\\\\\n",
       "\t\\hline\n",
       "\t299 & Oregon & 41047 & Marion County & 63.4975 & 89.981 & 79002 \\\\\n",
       "\\end{tabular}\n"
      ],
      "text/plain": [
       "\u001b[1mDataFrameRow\u001b[0m\n",
       "\u001b[1m Row \u001b[0m│\u001b[1m state_name \u001b[0m\u001b[1m county_fips \u001b[0m\u001b[1m county_name   \u001b[0m\u001b[1m val_acc_vacc \u001b[0m\u001b[1m val_wearing_mask \u001b[0m\u001b[1m\u001b[0m ⋯\n",
       "\u001b[1m     \u001b[0m│\u001b[90m String     \u001b[0m\u001b[90m Int64       \u001b[0m\u001b[90m String        \u001b[0m\u001b[90m Float64      \u001b[0m\u001b[90m Float64          \u001b[0m\u001b[90m\u001b[0m ⋯\n",
       "─────┼──────────────────────────────────────────────────────────────────────────\n",
       " 299 │ Oregon            41047  Marion County       63.4975            89.981  ⋯\n",
       "\u001b[36m                                                                1 column omitted\u001b[0m"
      ]
     },
     "execution_count": 254,
     "metadata": {},
     "output_type": "execute_result"
    }
   ],
   "source": [
    "df[cc[1],1:6]"
   ]
  },
  {
   "cell_type": "code",
   "execution_count": 255,
   "metadata": {},
   "outputs": [
    {
     "data": {
      "text/html": [
       "<p>DataFrameRow (6 columns)</p><table class=\"data-frame\"><thead><tr><th></th><th>votes_dem</th><th>total_votes</th><th>per_gop</th><th>per_dem</th><th>population</th><th>income</th></tr><tr><th></th><th>Int64</th><th>Int64</th><th>Float64</th><th>Float64</th><th>Int64</th><th>Int64</th></tr></thead><tbody><tr><th>299</th><td>80872</td><td>165534</td><td>0.477255</td><td>0.488552</td><td>347818</td><td>64058</td></tr></tbody></table>"
      ],
      "text/latex": [
       "\\begin{tabular}{r|cccccc}\n",
       "\t& votes\\_dem & total\\_votes & per\\_gop & per\\_dem & population & income\\\\\n",
       "\t\\hline\n",
       "\t& Int64 & Int64 & Float64 & Float64 & Int64 & Int64\\\\\n",
       "\t\\hline\n",
       "\t299 & 80872 & 165534 & 0.477255 & 0.488552 & 347818 & 64058 \\\\\n",
       "\\end{tabular}\n"
      ],
      "text/plain": [
       "\u001b[1mDataFrameRow\u001b[0m\n",
       "\u001b[1m Row \u001b[0m│\u001b[1m votes_dem \u001b[0m\u001b[1m total_votes \u001b[0m\u001b[1m per_gop  \u001b[0m\u001b[1m per_dem  \u001b[0m\u001b[1m population \u001b[0m\u001b[1m income \u001b[0m\n",
       "\u001b[1m     \u001b[0m│\u001b[90m Int64     \u001b[0m\u001b[90m Int64       \u001b[0m\u001b[90m Float64  \u001b[0m\u001b[90m Float64  \u001b[0m\u001b[90m Int64      \u001b[0m\u001b[90m Int64  \u001b[0m\n",
       "─────┼────────────────────────────────────────────────────────────────\n",
       " 299 │     80872       165534  0.477255  0.488552      347818   64058"
      ]
     },
     "execution_count": 255,
     "metadata": {},
     "output_type": "execute_result"
    }
   ],
   "source": [
    "df[cc[1],7:end]"
   ]
  },
  {
   "cell_type": "markdown",
   "metadata": {},
   "source": [
    "<font size=\"4\"/> Centroid 2"
   ]
  },
  {
   "cell_type": "code",
   "execution_count": 252,
   "metadata": {
    "scrolled": false
   },
   "outputs": [
    {
     "data": {
      "text/html": [
       "<p>DataFrameRow (6 columns)</p><table class=\"data-frame\"><thead><tr><th></th><th>state_name</th><th>county_fips</th><th>county_name</th><th>val_acc_vacc</th><th>val_wearing_mask</th><th>votes_gop</th></tr><tr><th></th><th>String</th><th>Int64</th><th>String</th><th>Float64</th><th>Float64</th><th>Int64</th></tr></thead><tbody><tr><th>268</th><td>Florida</td><td>12086</td><td>Miami-Dade County</td><td>73.7255</td><td>95.869</td><td>532833</td></tr></tbody></table>"
      ],
      "text/latex": [
       "\\begin{tabular}{r|cccccc}\n",
       "\t& state\\_name & county\\_fips & county\\_name & val\\_acc\\_vacc & val\\_wearing\\_mask & votes\\_gop\\\\\n",
       "\t\\hline\n",
       "\t& String & Int64 & String & Float64 & Float64 & Int64\\\\\n",
       "\t\\hline\n",
       "\t268 & Florida & 12086 & Miami-Dade County & 73.7255 & 95.869 & 532833 \\\\\n",
       "\\end{tabular}\n"
      ],
      "text/plain": [
       "\u001b[1mDataFrameRow\u001b[0m\n",
       "\u001b[1m Row \u001b[0m│\u001b[1m state_name \u001b[0m\u001b[1m county_fips \u001b[0m\u001b[1m county_name       \u001b[0m\u001b[1m val_acc_vacc \u001b[0m\u001b[1m val_wearing_m\u001b[0m ⋯\n",
       "\u001b[1m     \u001b[0m│\u001b[90m String     \u001b[0m\u001b[90m Int64       \u001b[0m\u001b[90m String            \u001b[0m\u001b[90m Float64      \u001b[0m\u001b[90m Float64      \u001b[0m ⋯\n",
       "─────┼──────────────────────────────────────────────────────────────────────────\n",
       " 268 │ Florida           12086  Miami-Dade County       73.7255            95. ⋯\n",
       "\u001b[36m                                                               2 columns omitted\u001b[0m"
      ]
     },
     "execution_count": 252,
     "metadata": {},
     "output_type": "execute_result"
    }
   ],
   "source": [
    "df[cc[2],1:6]"
   ]
  },
  {
   "cell_type": "code",
   "execution_count": 253,
   "metadata": {},
   "outputs": [
    {
     "data": {
      "text/html": [
       "<p>DataFrameRow (6 columns)</p><table class=\"data-frame\"><thead><tr><th></th><th>votes_dem</th><th>total_votes</th><th>per_gop</th><th>per_dem</th><th>population</th><th>income</th></tr><tr><th></th><th>Int64</th><th>Int64</th><th>Float64</th><th>Float64</th><th>Int64</th><th>Int64</th></tr></thead><tbody><tr><th>268</th><td>617864</td><td>1156816</td><td>0.460603</td><td>0.534107</td><td>2716940</td><td>54991</td></tr></tbody></table>"
      ],
      "text/latex": [
       "\\begin{tabular}{r|cccccc}\n",
       "\t& votes\\_dem & total\\_votes & per\\_gop & per\\_dem & population & income\\\\\n",
       "\t\\hline\n",
       "\t& Int64 & Int64 & Float64 & Float64 & Int64 & Int64\\\\\n",
       "\t\\hline\n",
       "\t268 & 617864 & 1156816 & 0.460603 & 0.534107 & 2716940 & 54991 \\\\\n",
       "\\end{tabular}\n"
      ],
      "text/plain": [
       "\u001b[1mDataFrameRow\u001b[0m\n",
       "\u001b[1m Row \u001b[0m│\u001b[1m votes_dem \u001b[0m\u001b[1m total_votes \u001b[0m\u001b[1m per_gop  \u001b[0m\u001b[1m per_dem  \u001b[0m\u001b[1m population \u001b[0m\u001b[1m income \u001b[0m\n",
       "\u001b[1m     \u001b[0m│\u001b[90m Int64     \u001b[0m\u001b[90m Int64       \u001b[0m\u001b[90m Float64  \u001b[0m\u001b[90m Float64  \u001b[0m\u001b[90m Int64      \u001b[0m\u001b[90m Int64  \u001b[0m\n",
       "─────┼────────────────────────────────────────────────────────────────\n",
       " 268 │    617864      1156816  0.460603  0.534107     2716940   54991"
      ]
     },
     "execution_count": 253,
     "metadata": {},
     "output_type": "execute_result"
    }
   ],
   "source": [
    "df[cc[2],7:end]"
   ]
  },
  {
   "cell_type": "markdown",
   "metadata": {},
   "source": [
    "<br/>\n",
    "<font size=\"3\"/> Splitting the dataframe into their respective clusters."
   ]
  },
  {
   "cell_type": "code",
   "execution_count": 256,
   "metadata": {
    "scrolled": true
   },
   "outputs": [
    {
     "data": {
      "text/plain": [
       "(571, 12)"
      ]
     },
     "execution_count": 256,
     "metadata": {},
     "output_type": "execute_result"
    }
   ],
   "source": [
    "sorted_cls = sortperm(k2.assignments)\n",
    "c1_idc = sorted_cls[1:k2.counts[1]]\n",
    "c2_idc = sorted_cls[(k2.counts[1]+1):end]\n",
    "\n",
    "c1 = df[c1_idc, :]\n",
    "c2 = df[c2_idc, :]\n",
    "size(c1)"
   ]
  },
  {
   "cell_type": "code",
   "execution_count": 257,
   "metadata": {},
   "outputs": [
    {
     "data": {
      "text/plain": [
       "(23, 12)"
      ]
     },
     "execution_count": 257,
     "metadata": {},
     "output_type": "execute_result"
    }
   ],
   "source": [
    "size(c2)"
   ]
  },
  {
   "cell_type": "markdown",
   "metadata": {},
   "source": [
    "<font size=\"3\"/> Examples of counties in cluster 1."
   ]
  },
  {
   "cell_type": "markdown",
   "metadata": {},
   "source": [
    "<font size=\"2\"/> Example 1"
   ]
  },
  {
   "cell_type": "code",
   "execution_count": 263,
   "metadata": {
    "scrolled": true
   },
   "outputs": [
    {
     "data": {
      "text/html": [
       "<p>DataFrameRow (6 columns)</p><table class=\"data-frame\"><thead><tr><th></th><th>state_name</th><th>county_fips</th><th>county_name</th><th>val_acc_vacc</th><th>val_wearing_mask</th><th>votes_gop</th></tr><tr><th></th><th>String</th><th>Int64</th><th>String</th><th>Float64</th><th>Float64</th><th>Int64</th></tr></thead><tbody><tr><th>420</th><td>New York</td><td>36109</td><td>Tompkins County</td><td>86.0796</td><td>97.6017</td><td>11096</td></tr></tbody></table>"
      ],
      "text/latex": [
       "\\begin{tabular}{r|cccccc}\n",
       "\t& state\\_name & county\\_fips & county\\_name & val\\_acc\\_vacc & val\\_wearing\\_mask & votes\\_gop\\\\\n",
       "\t\\hline\n",
       "\t& String & Int64 & String & Float64 & Float64 & Int64\\\\\n",
       "\t\\hline\n",
       "\t420 & New York & 36109 & Tompkins County & 86.0796 & 97.6017 & 11096 \\\\\n",
       "\\end{tabular}\n"
      ],
      "text/plain": [
       "\u001b[1mDataFrameRow\u001b[0m\n",
       "\u001b[1m Row \u001b[0m│\u001b[1m state_name \u001b[0m\u001b[1m county_fips \u001b[0m\u001b[1m county_name     \u001b[0m\u001b[1m val_acc_vacc \u001b[0m\u001b[1m val_wearing_mas\u001b[0m ⋯\n",
       "\u001b[1m     \u001b[0m│\u001b[90m String     \u001b[0m\u001b[90m Int64       \u001b[0m\u001b[90m String          \u001b[0m\u001b[90m Float64      \u001b[0m\u001b[90m Float64        \u001b[0m ⋯\n",
       "─────┼──────────────────────────────────────────────────────────────────────────\n",
       " 420 │ New York          36109  Tompkins County       86.0796           97.601 ⋯\n",
       "\u001b[36m                                                               2 columns omitted\u001b[0m"
      ]
     },
     "execution_count": 263,
     "metadata": {},
     "output_type": "execute_result"
    }
   ],
   "source": [
    "c1[420, 1:6]"
   ]
  },
  {
   "cell_type": "code",
   "execution_count": 262,
   "metadata": {
    "scrolled": true
   },
   "outputs": [
    {
     "data": {
      "text/html": [
       "<p>DataFrameRow (6 columns)</p><table class=\"data-frame\"><thead><tr><th></th><th>votes_dem</th><th>total_votes</th><th>per_gop</th><th>per_dem</th><th>population</th><th>income</th></tr><tr><th></th><th>Int64</th><th>Int64</th><th>Float64</th><th>Float64</th><th>Int64</th><th>Int64</th></tr></thead><tbody><tr><th>420</th><td>33619</td><td>45735</td><td>0.242615</td><td>0.735083</td><td>102180</td><td>59176</td></tr></tbody></table>"
      ],
      "text/latex": [
       "\\begin{tabular}{r|cccccc}\n",
       "\t& votes\\_dem & total\\_votes & per\\_gop & per\\_dem & population & income\\\\\n",
       "\t\\hline\n",
       "\t& Int64 & Int64 & Float64 & Float64 & Int64 & Int64\\\\\n",
       "\t\\hline\n",
       "\t420 & 33619 & 45735 & 0.242615 & 0.735083 & 102180 & 59176 \\\\\n",
       "\\end{tabular}\n"
      ],
      "text/plain": [
       "\u001b[1mDataFrameRow\u001b[0m\n",
       "\u001b[1m Row \u001b[0m│\u001b[1m votes_dem \u001b[0m\u001b[1m total_votes \u001b[0m\u001b[1m per_gop  \u001b[0m\u001b[1m per_dem  \u001b[0m\u001b[1m population \u001b[0m\u001b[1m income \u001b[0m\n",
       "\u001b[1m     \u001b[0m│\u001b[90m Int64     \u001b[0m\u001b[90m Int64       \u001b[0m\u001b[90m Float64  \u001b[0m\u001b[90m Float64  \u001b[0m\u001b[90m Int64      \u001b[0m\u001b[90m Int64  \u001b[0m\n",
       "─────┼────────────────────────────────────────────────────────────────\n",
       " 420 │     33619        45735  0.242615  0.735083      102180   59176"
      ]
     },
     "execution_count": 262,
     "metadata": {},
     "output_type": "execute_result"
    }
   ],
   "source": [
    "c1[420, 7:end]"
   ]
  },
  {
   "cell_type": "markdown",
   "metadata": {},
   "source": [
    "<font size=\"2\"/> Example 2"
   ]
  },
  {
   "cell_type": "code",
   "execution_count": 267,
   "metadata": {},
   "outputs": [
    {
     "data": {
      "text/html": [
       "<p>DataFrameRow (6 columns)</p><table class=\"data-frame\"><thead><tr><th></th><th>state_name</th><th>county_fips</th><th>county_name</th><th>val_acc_vacc</th><th>val_wearing_mask</th><th>votes_gop</th></tr><tr><th></th><th>String</th><th>Int64</th><th>String</th><th>Float64</th><th>Float64</th><th>Int64</th></tr></thead><tbody><tr><th>87</th><td>Virginia</td><td>51700</td><td>Newport News city</td><td>60.7605</td><td>95.7545</td><td>26377</td></tr></tbody></table>"
      ],
      "text/latex": [
       "\\begin{tabular}{r|cccccc}\n",
       "\t& state\\_name & county\\_fips & county\\_name & val\\_acc\\_vacc & val\\_wearing\\_mask & votes\\_gop\\\\\n",
       "\t\\hline\n",
       "\t& String & Int64 & String & Float64 & Float64 & Int64\\\\\n",
       "\t\\hline\n",
       "\t87 & Virginia & 51700 & Newport News city & 60.7605 & 95.7545 & 26377 \\\\\n",
       "\\end{tabular}\n"
      ],
      "text/plain": [
       "\u001b[1mDataFrameRow\u001b[0m\n",
       "\u001b[1m Row \u001b[0m│\u001b[1m state_name \u001b[0m\u001b[1m county_fips \u001b[0m\u001b[1m county_name       \u001b[0m\u001b[1m val_acc_vacc \u001b[0m\u001b[1m val_wearing_m\u001b[0m ⋯\n",
       "\u001b[1m     \u001b[0m│\u001b[90m String     \u001b[0m\u001b[90m Int64       \u001b[0m\u001b[90m String            \u001b[0m\u001b[90m Float64      \u001b[0m\u001b[90m Float64      \u001b[0m ⋯\n",
       "─────┼──────────────────────────────────────────────────────────────────────────\n",
       "  87 │ Virginia          51700  Newport News city       60.7605           95.7 ⋯\n",
       "\u001b[36m                                                               2 columns omitted\u001b[0m"
      ]
     },
     "execution_count": 267,
     "metadata": {},
     "output_type": "execute_result"
    }
   ],
   "source": [
    "c1[87, 1:6]"
   ]
  },
  {
   "cell_type": "code",
   "execution_count": 268,
   "metadata": {},
   "outputs": [
    {
     "data": {
      "text/html": [
       "<p>DataFrameRow (6 columns)</p><table class=\"data-frame\"><thead><tr><th></th><th>votes_dem</th><th>total_votes</th><th>per_gop</th><th>per_dem</th><th>population</th><th>income</th></tr><tr><th></th><th>Int64</th><th>Int64</th><th>Float64</th><th>Float64</th><th>Int64</th><th>Int64</th></tr></thead><tbody><tr><th>87</th><td>53099</td><td>81203</td><td>0.324828</td><td>0.653904</td><td>179225</td><td>53022</td></tr></tbody></table>"
      ],
      "text/latex": [
       "\\begin{tabular}{r|cccccc}\n",
       "\t& votes\\_dem & total\\_votes & per\\_gop & per\\_dem & population & income\\\\\n",
       "\t\\hline\n",
       "\t& Int64 & Int64 & Float64 & Float64 & Int64 & Int64\\\\\n",
       "\t\\hline\n",
       "\t87 & 53099 & 81203 & 0.324828 & 0.653904 & 179225 & 53022 \\\\\n",
       "\\end{tabular}\n"
      ],
      "text/plain": [
       "\u001b[1mDataFrameRow\u001b[0m\n",
       "\u001b[1m Row \u001b[0m│\u001b[1m votes_dem \u001b[0m\u001b[1m total_votes \u001b[0m\u001b[1m per_gop  \u001b[0m\u001b[1m per_dem  \u001b[0m\u001b[1m population \u001b[0m\u001b[1m income \u001b[0m\n",
       "\u001b[1m     \u001b[0m│\u001b[90m Int64     \u001b[0m\u001b[90m Int64       \u001b[0m\u001b[90m Float64  \u001b[0m\u001b[90m Float64  \u001b[0m\u001b[90m Int64      \u001b[0m\u001b[90m Int64  \u001b[0m\n",
       "─────┼────────────────────────────────────────────────────────────────\n",
       "  87 │     53099        81203  0.324828  0.653904      179225   53022"
      ]
     },
     "execution_count": 268,
     "metadata": {},
     "output_type": "execute_result"
    }
   ],
   "source": [
    "c1[87, 7:end]"
   ]
  },
  {
   "cell_type": "markdown",
   "metadata": {},
   "source": [
    "<br/>\n",
    "<font size=\"3\"/> Examples of counties in cluster 2."
   ]
  },
  {
   "cell_type": "markdown",
   "metadata": {},
   "source": [
    "<font size=\"2\"/> Example 1"
   ]
  },
  {
   "cell_type": "code",
   "execution_count": 270,
   "metadata": {},
   "outputs": [
    {
     "data": {
      "text/html": [
       "<p>DataFrameRow (6 columns)</p><table class=\"data-frame\"><thead><tr><th></th><th>state_name</th><th>county_fips</th><th>county_name</th><th>val_acc_vacc</th><th>val_wearing_mask</th><th>votes_gop</th></tr><tr><th></th><th>String</th><th>Int64</th><th>String</th><th>Float64</th><th>Float64</th><th>Int64</th></tr></thead><tbody><tr><th>17</th><td>New Jersey</td><td>34035</td><td>Somerset County</td><td>80.1823</td><td>94.8784</td><td>71996</td></tr></tbody></table>"
      ],
      "text/latex": [
       "\\begin{tabular}{r|cccccc}\n",
       "\t& state\\_name & county\\_fips & county\\_name & val\\_acc\\_vacc & val\\_wearing\\_mask & votes\\_gop\\\\\n",
       "\t\\hline\n",
       "\t& String & Int64 & String & Float64 & Float64 & Int64\\\\\n",
       "\t\\hline\n",
       "\t17 & New Jersey & 34035 & Somerset County & 80.1823 & 94.8784 & 71996 \\\\\n",
       "\\end{tabular}\n"
      ],
      "text/plain": [
       "\u001b[1mDataFrameRow\u001b[0m\n",
       "\u001b[1m Row \u001b[0m│\u001b[1m state_name \u001b[0m\u001b[1m county_fips \u001b[0m\u001b[1m county_name     \u001b[0m\u001b[1m val_acc_vacc \u001b[0m\u001b[1m val_wearing_mas\u001b[0m ⋯\n",
       "\u001b[1m     \u001b[0m│\u001b[90m String     \u001b[0m\u001b[90m Int64       \u001b[0m\u001b[90m String          \u001b[0m\u001b[90m Float64      \u001b[0m\u001b[90m Float64        \u001b[0m ⋯\n",
       "─────┼──────────────────────────────────────────────────────────────────────────\n",
       "  17 │ New Jersey        34035  Somerset County       80.1823           94.878 ⋯\n",
       "\u001b[36m                                                               2 columns omitted\u001b[0m"
      ]
     },
     "execution_count": 270,
     "metadata": {},
     "output_type": "execute_result"
    }
   ],
   "source": [
    "c1[17, 1:6]"
   ]
  },
  {
   "cell_type": "code",
   "execution_count": 271,
   "metadata": {},
   "outputs": [
    {
     "data": {
      "text/html": [
       "<p>DataFrameRow (6 columns)</p><table class=\"data-frame\"><thead><tr><th></th><th>votes_dem</th><th>total_votes</th><th>per_gop</th><th>per_dem</th><th>population</th><th>income</th></tr><tr><th></th><th>Int64</th><th>Int64</th><th>Float64</th><th>Float64</th><th>Int64</th><th>Int64</th></tr></thead><tbody><tr><th>17</th><td>111173</td><td>186891</td><td>0.38523</td><td>0.594855</td><td>328934</td><td>112722</td></tr></tbody></table>"
      ],
      "text/latex": [
       "\\begin{tabular}{r|cccccc}\n",
       "\t& votes\\_dem & total\\_votes & per\\_gop & per\\_dem & population & income\\\\\n",
       "\t\\hline\n",
       "\t& Int64 & Int64 & Float64 & Float64 & Int64 & Int64\\\\\n",
       "\t\\hline\n",
       "\t17 & 111173 & 186891 & 0.38523 & 0.594855 & 328934 & 112722 \\\\\n",
       "\\end{tabular}\n"
      ],
      "text/plain": [
       "\u001b[1mDataFrameRow\u001b[0m\n",
       "\u001b[1m Row \u001b[0m│\u001b[1m votes_dem \u001b[0m\u001b[1m total_votes \u001b[0m\u001b[1m per_gop \u001b[0m\u001b[1m per_dem  \u001b[0m\u001b[1m population \u001b[0m\u001b[1m income \u001b[0m\n",
       "\u001b[1m     \u001b[0m│\u001b[90m Int64     \u001b[0m\u001b[90m Int64       \u001b[0m\u001b[90m Float64 \u001b[0m\u001b[90m Float64  \u001b[0m\u001b[90m Int64      \u001b[0m\u001b[90m Int64  \u001b[0m\n",
       "─────┼───────────────────────────────────────────────────────────────\n",
       "  17 │    111173       186891  0.38523  0.594855      328934  112722"
      ]
     },
     "execution_count": 271,
     "metadata": {},
     "output_type": "execute_result"
    }
   ],
   "source": [
    "c1[17, 7:end]"
   ]
  },
  {
   "cell_type": "markdown",
   "metadata": {},
   "source": [
    "<font size=\"2\"/> Example 2"
   ]
  },
  {
   "cell_type": "code",
   "execution_count": 272,
   "metadata": {},
   "outputs": [
    {
     "data": {
      "text/html": [
       "<p>DataFrameRow (6 columns)</p><table class=\"data-frame\"><thead><tr><th></th><th>state_name</th><th>county_fips</th><th>county_name</th><th>val_acc_vacc</th><th>val_wearing_mask</th><th>votes_gop</th></tr><tr><th></th><th>String</th><th>Int64</th><th>String</th><th>Float64</th><th>Float64</th><th>Int64</th></tr></thead><tbody><tr><th>3</th><td>Colorado</td><td>8069</td><td>Larimer County</td><td>80.5756</td><td>95.4249</td><td>91489</td></tr></tbody></table>"
      ],
      "text/latex": [
       "\\begin{tabular}{r|cccccc}\n",
       "\t& state\\_name & county\\_fips & county\\_name & val\\_acc\\_vacc & val\\_wearing\\_mask & votes\\_gop\\\\\n",
       "\t\\hline\n",
       "\t& String & Int64 & String & Float64 & Float64 & Int64\\\\\n",
       "\t\\hline\n",
       "\t3 & Colorado & 8069 & Larimer County & 80.5756 & 95.4249 & 91489 \\\\\n",
       "\\end{tabular}\n"
      ],
      "text/plain": [
       "\u001b[1mDataFrameRow\u001b[0m\n",
       "\u001b[1m Row \u001b[0m│\u001b[1m state_name \u001b[0m\u001b[1m county_fips \u001b[0m\u001b[1m county_name    \u001b[0m\u001b[1m val_acc_vacc \u001b[0m\u001b[1m val_wearing_mask\u001b[0m ⋯\n",
       "\u001b[1m     \u001b[0m│\u001b[90m String     \u001b[0m\u001b[90m Int64       \u001b[0m\u001b[90m String         \u001b[0m\u001b[90m Float64      \u001b[0m\u001b[90m Float64         \u001b[0m ⋯\n",
       "─────┼──────────────────────────────────────────────────────────────────────────\n",
       "   3 │ Colorado           8069  Larimer County       80.5756           95.4249 ⋯\n",
       "\u001b[36m                                                                1 column omitted\u001b[0m"
      ]
     },
     "execution_count": 272,
     "metadata": {},
     "output_type": "execute_result"
    }
   ],
   "source": [
    "c1[3, 1:6]"
   ]
  },
  {
   "cell_type": "code",
   "execution_count": 273,
   "metadata": {},
   "outputs": [
    {
     "data": {
      "text/html": [
       "<p>DataFrameRow (6 columns)</p><table class=\"data-frame\"><thead><tr><th></th><th>votes_dem</th><th>total_votes</th><th>per_gop</th><th>per_dem</th><th>population</th><th>income</th></tr><tr><th></th><th>Int64</th><th>Int64</th><th>Float64</th><th>Float64</th><th>Int64</th><th>Int64</th></tr></thead><tbody><tr><th>3</th><td>126120</td><td>224338</td><td>0.407818</td><td>0.562187</td><td>356899</td><td>75332</td></tr></tbody></table>"
      ],
      "text/latex": [
       "\\begin{tabular}{r|cccccc}\n",
       "\t& votes\\_dem & total\\_votes & per\\_gop & per\\_dem & population & income\\\\\n",
       "\t\\hline\n",
       "\t& Int64 & Int64 & Float64 & Float64 & Int64 & Int64\\\\\n",
       "\t\\hline\n",
       "\t3 & 126120 & 224338 & 0.407818 & 0.562187 & 356899 & 75332 \\\\\n",
       "\\end{tabular}\n"
      ],
      "text/plain": [
       "\u001b[1mDataFrameRow\u001b[0m\n",
       "\u001b[1m Row \u001b[0m│\u001b[1m votes_dem \u001b[0m\u001b[1m total_votes \u001b[0m\u001b[1m per_gop  \u001b[0m\u001b[1m per_dem  \u001b[0m\u001b[1m population \u001b[0m\u001b[1m income \u001b[0m\n",
       "\u001b[1m     \u001b[0m│\u001b[90m Int64     \u001b[0m\u001b[90m Int64       \u001b[0m\u001b[90m Float64  \u001b[0m\u001b[90m Float64  \u001b[0m\u001b[90m Int64      \u001b[0m\u001b[90m Int64  \u001b[0m\n",
       "─────┼────────────────────────────────────────────────────────────────\n",
       "   3 │    126120       224338  0.407818  0.562187      356899   75332"
      ]
     },
     "execution_count": 273,
     "metadata": {},
     "output_type": "execute_result"
    }
   ],
   "source": [
    "c1[3, 7:end]"
   ]
  },
  {
   "cell_type": "markdown",
   "metadata": {},
   "source": [
    "<br/>\n",
    "<h3/> Conclusion"
   ]
  },
  {
   "cell_type": "markdown",
   "metadata": {},
   "source": [
    "<font size='3'/> I originally hypothesized counties with higher democratic votes would have higher acceptance of the vaccine and are more willing to wear masks. By the looks of the centroids and examples, the clustering could support this hypothesis. In general, most counties who voted for the democratic candidate had high acceptance of the vaccine and were willing to wear masks. Although, some counties had less acceptance of the vaccine also voted for the democratic candidate and 96% of the counties were in one cluster. There are a few reasons that I could think of that would cause this. One could be the estimates and erros from the Facebook surveys. The surveys tried to estimate the us population through their users and there could be errors on the representation of the population. Another is the amount of data to cluster because there are only 594 counties with data on the date pf 1/1/2021. If I were to expand on the data size, I would look into applying time series into the clustering to increase the pool. Also with this clustering, I would do more statiscal analysis to see relations within the data to draw a better conclusion. Applying some feature selection to determine which feature have the better deciding factors. Adding features such as unemployment or education would be also interesting to look at. Regardless, there is so much data from covid that are interesting to analyze and would like keep exploring it more."
   ]
  }
 ],
 "metadata": {
  "kernelspec": {
   "display_name": "Julia 1.6.0",
   "language": "julia",
   "name": "julia-1.6"
  },
  "language_info": {
   "file_extension": ".jl",
   "mimetype": "application/julia",
   "name": "julia",
   "version": "1.6.0"
  }
 },
 "nbformat": 4,
 "nbformat_minor": 2
}
